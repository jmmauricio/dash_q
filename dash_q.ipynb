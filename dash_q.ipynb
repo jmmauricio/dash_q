{
 "cells": [
  {
   "cell_type": "code",
   "execution_count": 1,
   "metadata": {},
   "outputs": [],
   "source": [
    "import numpy as np\n",
    "from pydgrid.pydgrid import grid\n",
    "import ipywidgets as widgets\n",
    "from lxml import etree as et"
   ]
  },
  {
   "cell_type": "markdown",
   "metadata": {},
   "source": [
    "## Compensación de reactiva en BT"
   ]
  },
  {
   "cell_type": "code",
   "execution_count": 9,
   "metadata": {},
   "outputs": [
    {
     "data": {
      "application/vnd.jupyter.widget-view+json": {
       "model_id": "3f1412c744354b698720d7060ffe043d",
       "version_major": 2,
       "version_minor": 0
      },
      "text/plain": [
       "VBox(children=(HTMLMath(value='<!-- Created with Inkscape (http://www.inkscape.org/) --><svg xmlns:ns0=\"http:/…"
      ]
     },
     "metadata": {},
     "output_type": "display_data"
    }
   ],
   "source": [
    "data = {\n",
    "        \"buses\":[\n",
    "                 {\"bus\": \"B1\",  \"pos_x\":   0, \"pos_y\":  0, \"units\": \"m\", \"U_kV\":20.0},\n",
    "                 {\"bus\": \"B2\",  \"pos_x\":  10, \"pos_y\":  0, \"units\": \"m\", \"U_kV\":0.4},\n",
    "                 {\"bus\": \"B3\",  \"pos_x\": 100, \"pos_y\":  0, \"units\": \"m\", \"U_kV\":0.4},\n",
    "                 {\"bus\": \"B4\",  \"pos_x\": 110, \"pos_y\":  0, \"units\": \"m\", \"U_kV\":0.4},\n",
    "                 {\"bus\": \"BC\",  \"pos_x\": 100, \"pos_y\":-10, \"units\": \"m\", \"U_kV\":0.4},\n",
    "                ],\n",
    "        \"grid_formers\":[\n",
    "                        {\"bus\": \"B1\",\n",
    "                        \"bus_nodes\": [1, 2, 3], \"deg\": [0, -120, -240],\n",
    "                        \"kV\": [11.547, 11.547, 11.547]}\n",
    "                       ],\n",
    "        \"transformers\":[\n",
    "                        {\"bus_j\": \"B1\",  \"bus_k\": \"B2\",  \"S_n_kVA\": 1000.0, \"U_j_kV\":20, \"U_k_kV\":0.4,\n",
    "                         \"R_cc_pu\": 0.01, \"X_cc_pu\":0.04, \"connection\": \"Dyn11\",   \"conductors_j\": 3, \"conductors_k\": 4},\n",
    "                       ],\n",
    "        \"lines\":[\n",
    "                 {\"bus_j\": \"B2\",  \"bus_k\": \"B3\",  \"code\": \"lv_cu_150\", \"m\": 100.0},\n",
    "                 {\"bus_j\": \"B3\",  \"bus_k\": \"B4\",  \"code\": \"lv_cu_150\", \"m\":  10.0},\n",
    "                 {\"bus_j\": \"BC\",  \"bus_k\": \"B3\",  \"code\": \"lv_cu_150\", \"m\":  10.0},\n",
    "                ],\n",
    "        \"loads\":[{\"bus\": \"B4\" , \"kVA\": 100.0, \"pf\": 0.85,\"type\":\"3P+N\"}\n",
    "                ],\n",
    "        \"shunts\":[\n",
    "                 {\"bus\": \"B2\" , \"R\": 0.001, \"X\": 0.0, \"bus_nodes\": [4,0]},\n",
    "                 {\"bus\": \"BC\" , \"R\": 0.0, \"X\": -0.0032, \"bus_nodes\": [1,2]},\n",
    "                 {\"bus\": \"BC\" , \"R\": 0.0, \"X\": -0.0032, \"bus_nodes\": [2,3]},\n",
    "                 {\"bus\": \"BC\" , \"R\": 0.0, \"X\": -0.0032, \"bus_nodes\": [3,1]},\n",
    "                 ],\n",
    "        \"line_codes\":\n",
    "            {\"lv_cu_150\":  {\"Rph\":0.167,\"Xph\":0.08, \"Rn\":0.167, \"Xn\": 0.08}\n",
    "            }\n",
    "       }\n",
    "\n",
    "sld = widgets.FloatSlider(\n",
    "    value=7.5,\n",
    "    min=-150,\n",
    "    max= 150,\n",
    "    step=1,\n",
    "    description='Q cap. (kvar):',\n",
    "    disabled=False,\n",
    "    continuous_update=True,\n",
    "    orientation='horizontal',\n",
    "    readout=True,\n",
    "    readout_format='.1f',\n",
    ")\n",
    "\n",
    "txt_pper =widgets.FloatText(value=7.5,description=r'$ P_{perd}$ (kW): ')\n",
    "txt_pred =widgets.FloatText(value=7.5,description=r'\\(\\sf P_{red}\\) (kW): ')\n",
    "txt_qred =widgets.FloatText(value=7.5,description=r'\\(\\sf Q_{red}\\) (kvar): ')\n",
    "txt_ilinea =widgets.FloatText(value=7.5,description=r'\\(\\sf I_{linea}\\) (A): ')\n",
    "txt_ucarga =widgets.FloatText(value=7.5,description=r'\\(\\sf U_{c}\\) (V): ')\n",
    "\n",
    "svg_xml = et.parse('system.svg')\n",
    "root = svg_xml.getroot()\n",
    "text_list = root.findall('.//{http://www.w3.org/2000/svg}text')\n",
    "id2text = {}\n",
    "for item in text_list:\n",
    "    tspan = item.findall('.//{http://www.w3.org/2000/svg}tspan')\n",
    "    id2text.update({item.get('id'):tspan[0]})\n",
    "    \n",
    "svg = widgets.HTMLMath(\n",
    "    value=et.tostring(svg_xml),\n",
    ")\n",
    "    \n",
    "def update(change):\n",
    "    \n",
    "    Q_r = change['new']*1000\n",
    "    X_c = 1000.0\n",
    "    if abs(Q_r)>0.1:\n",
    "        X_c = 400**2/Q_r*3\n",
    "\n",
    "    data['shunts'][1]['X'] = X_c \n",
    "    data['shunts'][2]['X'] = X_c        \n",
    "    data['shunts'][3]['X'] = X_c        \n",
    "    grid_1 = grid()\n",
    "    grid_1.read(data)  # Load data\n",
    "    grid_1.pf()  # solve power flow\n",
    "    mon_1 = grid_1.monitor('B2','B3')\n",
    "    mon_2 = grid_1.monitor('B4','B3')\n",
    "    mon_c = grid_1.monitor('BC','B3')\n",
    "    perdidas = mon_1.P/1e3-85\n",
    "    txt_pper.value = f'{perdidas:0.2f}' \n",
    "    txt_pred.value = f'{mon_1.P/1e3:0.2f}'\n",
    "    txt_qred.value = f'{mon_1.Q/1e3:0.2f}'\n",
    "    txt_ilinea.value = f'{mon_1.I:0.0f}'\n",
    "    txt_ucarga.value = f'{mon_2.U:0.0f}'   \n",
    "    id2text['Q_red'].text = f'{mon_1.Q/1e3:3.0f} kvar'\n",
    "    id2text['P_perd'].text = f'{perdidas:0.2f} kW'\n",
    "    id2text['I_L'].text = f'{mon_1.I:0.0f} A'\n",
    "    id2text['I_cap'].text = f'{mon_c.I:3.0f} A'\n",
    "    id2text['Q_cap'].text = f'{mon_c.Q/1e3:4.0f} kvar'\n",
    "    id2text['U_carga'].text = f'{mon_2.U:0.0f} V'\n",
    "    svg.value = et.tostring(svg_xml)\n",
    "\n",
    "sld.observe(update, names='value')\n",
    "\n",
    "\n",
    "dashboard = widgets.VBox([svg,sld])\n",
    "dashboard"
   ]
  },
  {
   "cell_type": "code",
   "execution_count": null,
   "metadata": {},
   "outputs": [],
   "source": []
  }
 ],
 "metadata": {
  "anaconda-cloud": {},
  "kernelspec": {
   "display_name": "Python 3",
   "language": "python",
   "name": "python3"
  },
  "language_info": {
   "codemirror_mode": {
    "name": "ipython",
    "version": 3
   },
   "file_extension": ".py",
   "mimetype": "text/x-python",
   "name": "python",
   "nbconvert_exporter": "python",
   "pygments_lexer": "ipython3",
   "version": "3.7.5"
  },
  "widgets": {
   "application/vnd.jupyter.widget-state+json": {
    "state": {
     "01702ae0ee354b36aa67a93e0ab92e6f": {
      "model_module": "@jupyter-widgets/controls",
      "model_module_version": "1.4.0",
      "model_name": "DescriptionStyleModel",
      "state": {
       "description_width": ""
      }
     },
     "03dc72ef10de4cc8b7f42d0051a42f31": {
      "model_module": "@jupyter-widgets/base",
      "model_module_version": "1.1.0",
      "model_name": "LayoutModel",
      "state": {}
     },
     "0424a66bb3c54271bf9aa4e877cb4002": {
      "model_module": "@jupyter-widgets/controls",
      "model_module_version": "1.4.0",
      "model_name": "FloatTextModel",
      "state": {
       "description": "Uc (V): ",
       "layout": "IPY_MODEL_2192cccf13694fbe9a9a964e40d314fb",
       "step": null,
       "style": "IPY_MODEL_c550836b4c0d476f86857e663fcc1e2a",
       "value": 7.5
      }
     },
     "06772e9fa56e4776a11b43b2b3d28bbb": {
      "model_module": "@jupyter-widgets/base",
      "model_module_version": "1.1.0",
      "model_name": "LayoutModel",
      "state": {}
     },
     "07a98e0c092c46098efdd68ac64cc957": {
      "model_module": "@jupyter-widgets/base",
      "model_module_version": "1.1.0",
      "model_name": "LayoutModel",
      "state": {}
     },
     "094495f778c745be9d86601b78ae1380": {
      "model_module": "@jupyter-widgets/controls",
      "model_module_version": "1.4.0",
      "model_name": "VBoxModel",
      "state": {
       "children": [
        "IPY_MODEL_1d38f2d079f4452e99d5d3eb6fd32fd8",
        "IPY_MODEL_4368d439891b45a2a4f64655fe9e89a5",
        "IPY_MODEL_38a5fe002943473d8a6a6e203313ad00",
        "IPY_MODEL_dc88aa6755474ea0b207c47f8ec0e134"
       ],
       "layout": "IPY_MODEL_71e59bd8ab8f45c2b19eba45a9b63ca0"
      }
     },
     "0988c54a0fea438085966a7acd9587d2": {
      "model_module": "@jupyter-widgets/base",
      "model_module_version": "1.1.0",
      "model_name": "LayoutModel",
      "state": {}
     },
     "0a3ff99915704cd0ac90c8acbdcb1c37": {
      "model_module": "@jupyter-widgets/base",
      "model_module_version": "1.1.0",
      "model_name": "LayoutModel",
      "state": {}
     },
     "0ad797c287e140adbdf296fde691ba10": {
      "model_module": "@jupyter-widgets/base",
      "model_module_version": "1.1.0",
      "model_name": "LayoutModel",
      "state": {}
     },
     "0b61c6b8162c456bb0f69980e24c70f1": {
      "model_module": "@jupyter-widgets/controls",
      "model_module_version": "1.4.0",
      "model_name": "FloatTextModel",
      "state": {
       "description": "Qred (kvar): ",
       "layout": "IPY_MODEL_e2cbefd0799945ec8b7ab77619ecbf89",
       "step": null,
       "style": "IPY_MODEL_f2dfe3aadda246f49ee6152379681c9e",
       "value": 57.15
      }
     },
     "0c04a84fd24e4593aba7f7a49bc8bf22": {
      "model_module": "@jupyter-widgets/controls",
      "model_module_version": "1.4.0",
      "model_name": "DescriptionStyleModel",
      "state": {
       "description_width": ""
      }
     },
     "0da54d74bf484e4093ba6664990260bf": {
      "model_module": "@jupyter-widgets/controls",
      "model_module_version": "1.4.0",
      "model_name": "SliderStyleModel",
      "state": {
       "description_width": ""
      }
     },
     "0e436a6e98e640e384a0573f29a38a08": {
      "model_module": "@jupyter-widgets/controls",
      "model_module_version": "1.4.0",
      "model_name": "FloatSliderModel",
      "state": {
       "description": "$\\sf Q_{cap}$ (kvar):",
       "layout": "IPY_MODEL_d241d02cf1aa40379835f89b4e7ab9e1",
       "max": 150,
       "min": -150,
       "readout_format": ".1f",
       "style": "IPY_MODEL_df0a85b0cc3f4fff88a12183753c4203",
       "value": 7.5
      }
     },
     "1044c916725743d181b99653a966edf5": {
      "model_module": "@jupyter-widgets/controls",
      "model_module_version": "1.4.0",
      "model_name": "FloatTextModel",
      "state": {
       "description": "Pperd (kW): ",
       "layout": "IPY_MODEL_2967fea20447427c85b570eed62da147",
       "step": null,
       "style": "IPY_MODEL_4fd74e2415f04c6d808c20fce4c82932",
       "value": 7.5
      }
     },
     "107976c4419c4527824110bc895b438c": {
      "model_module": "@jupyter-widgets/controls",
      "model_module_version": "1.4.0",
      "model_name": "FloatTextModel",
      "state": {
       "description": "Pperd (kW): ",
       "layout": "IPY_MODEL_c8a9bd1a40da43458c48294fce6d72a6",
       "step": null,
       "style": "IPY_MODEL_0c04a84fd24e4593aba7f7a49bc8bf22",
       "value": 1.23
      }
     },
     "13387d80c6db433aa1944212191f3617": {
      "model_module": "@jupyter-widgets/base",
      "model_module_version": "1.1.0",
      "model_name": "LayoutModel",
      "state": {}
     },
     "14d180e8ddc142809680818c74639dd8": {
      "model_module": "@jupyter-widgets/controls",
      "model_module_version": "1.4.0",
      "model_name": "FloatTextModel",
      "state": {
       "description": "Pred (kW): ",
       "layout": "IPY_MODEL_773b11ad93634f5cb4421682fdc35017",
       "step": null,
       "style": "IPY_MODEL_816685179bac4165b86e9fce0b3f2464",
       "value": 7.5
      }
     },
     "157ae4dca10947c39c2ae49228b43b03": {
      "model_module": "@jupyter-widgets/controls",
      "model_module_version": "1.4.0",
      "model_name": "FloatTextModel",
      "state": {
       "description": "Pred (kW): ",
       "layout": "IPY_MODEL_7feb578b049e4c6c855c755fc7dd089c",
       "step": null,
       "style": "IPY_MODEL_3883731bb16d468db0689ee03bb576f0",
       "value": 7.5
      }
     },
     "19fe0a59c8b044ba895ce72e6d520f59": {
      "model_module": "@jupyter-widgets/controls",
      "model_module_version": "1.4.0",
      "model_name": "DescriptionStyleModel",
      "state": {
       "description_width": ""
      }
     },
     "1a3ba4b0f41a4dc7b8c406da061d992c": {
      "model_module": "@jupyter-widgets/controls",
      "model_module_version": "1.4.0",
      "model_name": "FloatTextModel",
      "state": {
       "description": "Iₗᵢₙₑ (A): ",
       "layout": "IPY_MODEL_1fc2f90109b94d1ea59e7a68d10afc7b",
       "step": null,
       "style": "IPY_MODEL_42a75428ecc84be082a61d1d8e615c3d",
       "value": 7.5
      }
     },
     "1a652f70552541b6a3a4f2d34ae88a31": {
      "model_module": "@jupyter-widgets/base",
      "model_module_version": "1.1.0",
      "model_name": "LayoutModel",
      "state": {}
     },
     "1d38f2d079f4452e99d5d3eb6fd32fd8": {
      "model_module": "@jupyter-widgets/controls",
      "model_module_version": "1.4.0",
      "model_name": "HBoxModel",
      "state": {
       "children": [
        "IPY_MODEL_3af9247956094c98ab37ae4076b659aa",
        "IPY_MODEL_e4b151923ede4ab39275235dd87efb7f"
       ],
       "layout": "IPY_MODEL_9e1fc83ad27c4059879c850b76e24ec2"
      }
     },
     "1f152b57a2424ca8a3926908b35a4e8c": {
      "model_module": "@jupyter-widgets/controls",
      "model_module_version": "1.4.0",
      "model_name": "DescriptionStyleModel",
      "state": {
       "description_width": ""
      }
     },
     "1fc2f90109b94d1ea59e7a68d10afc7b": {
      "model_module": "@jupyter-widgets/base",
      "model_module_version": "1.1.0",
      "model_name": "LayoutModel",
      "state": {}
     },
     "2192cccf13694fbe9a9a964e40d314fb": {
      "model_module": "@jupyter-widgets/base",
      "model_module_version": "1.1.0",
      "model_name": "LayoutModel",
      "state": {}
     },
     "2467914305414e9f8656241a0ee2e2ad": {
      "model_module": "@jupyter-widgets/base",
      "model_module_version": "1.1.0",
      "model_name": "LayoutModel",
      "state": {}
     },
     "26055399dd7c469382e43a2c068200bd": {
      "model_module": "@jupyter-widgets/base",
      "model_module_version": "1.1.0",
      "model_name": "LayoutModel",
      "state": {}
     },
     "26400f9f450b4e6f8945caf12f72623a": {
      "model_module": "@jupyter-widgets/controls",
      "model_module_version": "1.4.0",
      "model_name": "SliderStyleModel",
      "state": {
       "description_width": ""
      }
     },
     "2649d2ad2b7f4ea685b6948bc62237d3": {
      "model_module": "@jupyter-widgets/controls",
      "model_module_version": "1.4.0",
      "model_name": "DescriptionStyleModel",
      "state": {
       "description_width": ""
      }
     },
     "281dff61adca468590f3f314a71f8f75": {
      "model_module": "@jupyter-widgets/controls",
      "model_module_version": "1.4.0",
      "model_name": "DescriptionStyleModel",
      "state": {
       "description_width": ""
      }
     },
     "28db54d22b084fe3977bec2dd471825b": {
      "model_module": "@jupyter-widgets/controls",
      "model_module_version": "1.4.0",
      "model_name": "VBoxModel",
      "state": {
       "children": [
        "IPY_MODEL_82268ecf00f74f998b65272783c7c7f8",
        "IPY_MODEL_c5b443ee135848f6bb21d70bb573e923",
        "IPY_MODEL_3c46cec29e864c13974d3fdf5e8946bc",
        "IPY_MODEL_97f0093c8ddf4d3cb0f689f2e57ee013"
       ],
       "layout": "IPY_MODEL_47d5b71bed4f4a47b76a0cccf4359b88"
      }
     },
     "2967fea20447427c85b570eed62da147": {
      "model_module": "@jupyter-widgets/base",
      "model_module_version": "1.1.0",
      "model_name": "LayoutModel",
      "state": {}
     },
     "2985a253d96740539c0b3e8427ae6a3c": {
      "model_module": "@jupyter-widgets/controls",
      "model_module_version": "1.4.0",
      "model_name": "HBoxModel",
      "state": {
       "children": [
        "IPY_MODEL_a76fc466aef84e619d4880d23eaa017f",
        "IPY_MODEL_c0fd2c0063564025930d55c15f056eef"
       ],
       "layout": "IPY_MODEL_6a0e700c5ec64552983afe6e50c04d6d"
      }
     },
     "29f9c2f686a44d10847f751e9639ffa4": {
      "model_module": "@jupyter-widgets/controls",
      "model_module_version": "1.4.0",
      "model_name": "FloatTextModel",
      "state": {
       "description": "Ilinea} (A): ",
       "layout": "IPY_MODEL_0988c54a0fea438085966a7acd9587d2",
       "step": null,
       "style": "IPY_MODEL_3c5ea9bdc08040f39bfd001d0f159a3c",
       "value": 7.5
      }
     },
     "2f99b77a108f4e348d68c8fb368a6b23": {
      "model_module": "@jupyter-widgets/controls",
      "model_module_version": "1.4.0",
      "model_name": "FloatTextModel",
      "state": {
       "description": "Pperd (kW): ",
       "layout": "IPY_MODEL_d8750b27249a4cb6821c6f549cc18dae",
       "step": null,
       "style": "IPY_MODEL_58480e1ef56d4e08a2546130bf9b3d6c",
       "value": 7.5
      }
     },
     "311204f314044f2e91408b3b454a11ff": {
      "model_module": "@jupyter-widgets/base",
      "model_module_version": "1.1.0",
      "model_name": "LayoutModel",
      "state": {}
     },
     "3113d708e04e4e439b03c187537baf13": {
      "model_module": "@jupyter-widgets/base",
      "model_module_version": "1.1.0",
      "model_name": "LayoutModel",
      "state": {}
     },
     "326a309f36ed46d48f383af79fea5728": {
      "model_module": "@jupyter-widgets/controls",
      "model_module_version": "1.4.0",
      "model_name": "DescriptionStyleModel",
      "state": {
       "description_width": ""
      }
     },
     "32aece7b6f4c4ddc94d5793099640ea0": {
      "model_module": "@jupyter-widgets/base",
      "model_module_version": "1.1.0",
      "model_name": "LayoutModel",
      "state": {}
     },
     "32d02a1c42ea47aba5ddc12c93114bf2": {
      "model_module": "@jupyter-widgets/controls",
      "model_module_version": "1.4.0",
      "model_name": "DescriptionStyleModel",
      "state": {
       "description_width": ""
      }
     },
     "342b8f70db7447a58c3432a288c6ba43": {
      "model_module": "@jupyter-widgets/controls",
      "model_module_version": "1.4.0",
      "model_name": "DescriptionStyleModel",
      "state": {
       "description_width": ""
      }
     },
     "3883731bb16d468db0689ee03bb576f0": {
      "model_module": "@jupyter-widgets/controls",
      "model_module_version": "1.4.0",
      "model_name": "DescriptionStyleModel",
      "state": {
       "description_width": ""
      }
     },
     "3890b1a0c07d4258af0472f5dabed673": {
      "model_module": "@jupyter-widgets/base",
      "model_module_version": "1.1.0",
      "model_name": "LayoutModel",
      "state": {}
     },
     "38a5fe002943473d8a6a6e203313ad00": {
      "model_module": "@jupyter-widgets/controls",
      "model_module_version": "1.4.0",
      "model_name": "HBoxModel",
      "state": {
       "children": [
        "IPY_MODEL_1a3ba4b0f41a4dc7b8c406da061d992c",
        "IPY_MODEL_0424a66bb3c54271bf9aa4e877cb4002"
       ],
       "layout": "IPY_MODEL_2467914305414e9f8656241a0ee2e2ad"
      }
     },
     "39124d62018a45a0ae88fb3f75be39a7": {
      "model_module": "@jupyter-widgets/controls",
      "model_module_version": "1.4.0",
      "model_name": "FloatTextModel",
      "state": {
       "description": "Pred (kW): ",
       "layout": "IPY_MODEL_9878a4edc1ca473d9372241f084b3ce2",
       "step": null,
       "style": "IPY_MODEL_32d02a1c42ea47aba5ddc12c93114bf2",
       "value": 7.5
      }
     },
     "3923c21ef59b413c9a3e109156a9d3b9": {
      "model_module": "@jupyter-widgets/controls",
      "model_module_version": "1.4.0",
      "model_name": "DescriptionStyleModel",
      "state": {
       "description_width": ""
      }
     },
     "3af9247956094c98ab37ae4076b659aa": {
      "model_module": "@jupyter-widgets/controls",
      "model_module_version": "1.4.0",
      "model_name": "FloatSliderModel",
      "state": {
       "description": "Qᴄᴀᴘ (kvar):",
       "layout": "IPY_MODEL_c9b9d9cce3834763a92c740d2f68a8e1",
       "max": 150,
       "min": -150,
       "readout_format": ".1f",
       "style": "IPY_MODEL_bdf871461ed24ff1a32a4f3a02c14c15",
       "value": 7.5
      }
     },
     "3c1343fa0dd84cfba45d16225d88e409": {
      "model_module": "@jupyter-widgets/controls",
      "model_module_version": "1.4.0",
      "model_name": "FloatTextModel",
      "state": {
       "description": "Uc (V): ",
       "layout": "IPY_MODEL_d1611bf1ec574953b515f89719af482b",
       "step": null,
       "style": "IPY_MODEL_6cfd1943006649ec9ceb593360b45a65",
       "value": 7.5
      }
     },
     "3c46cec29e864c13974d3fdf5e8946bc": {
      "model_module": "@jupyter-widgets/controls",
      "model_module_version": "1.4.0",
      "model_name": "HBoxModel",
      "state": {
       "children": [
        "IPY_MODEL_29f9c2f686a44d10847f751e9639ffa4",
        "IPY_MODEL_3c1343fa0dd84cfba45d16225d88e409"
       ],
       "layout": "IPY_MODEL_e1727a0b1f234f94976252342081de2d"
      }
     },
     "3c5ea9bdc08040f39bfd001d0f159a3c": {
      "model_module": "@jupyter-widgets/controls",
      "model_module_version": "1.4.0",
      "model_name": "DescriptionStyleModel",
      "state": {
       "description_width": ""
      }
     },
     "3ce609ba132b4392bfd40a830c99bdfe": {
      "model_module": "@jupyter-widgets/base",
      "model_module_version": "1.1.0",
      "model_name": "LayoutModel",
      "state": {}
     },
     "3d9fd83add444599b693364cb959f947": {
      "model_module": "@jupyter-widgets/controls",
      "model_module_version": "1.4.0",
      "model_name": "FloatTextModel",
      "state": {
       "description": "Qred (kvar): ",
       "layout": "IPY_MODEL_f084d2fce12e4a9db46b667876562b80",
       "step": null,
       "style": "IPY_MODEL_19fe0a59c8b044ba895ce72e6d520f59",
       "value": 7.5
      }
     },
     "3f3222d82e7a4ffba6b13925d14ed51f": {
      "model_module": "@jupyter-widgets/base",
      "model_module_version": "1.1.0",
      "model_name": "LayoutModel",
      "state": {}
     },
     "40fcad9609714ff782a0fe08aaf624d8": {
      "model_module": "@jupyter-widgets/base",
      "model_module_version": "1.1.0",
      "model_name": "LayoutModel",
      "state": {}
     },
     "414fde9cb557475db3364e7e876fa255": {
      "model_module": "@jupyter-widgets/controls",
      "model_module_version": "1.4.0",
      "model_name": "FloatSliderModel",
      "state": {
       "description": "Qcap (kvar):",
       "layout": "IPY_MODEL_3f3222d82e7a4ffba6b13925d14ed51f",
       "max": 150,
       "min": -150,
       "readout_format": ".1f",
       "style": "IPY_MODEL_8cebd50b190d4fc4a54b1b935bb3cf3b",
       "value": 7.5
      }
     },
     "419d31ea6ff9484cabc32f0ec92dde41": {
      "model_module": "@jupyter-widgets/controls",
      "model_module_version": "1.4.0",
      "model_name": "HTMLMathModel",
      "state": {
       "layout": "IPY_MODEL_90da2d7928a64cf49ff49e5a94349352",
       "style": "IPY_MODEL_49aa082c12604b9db3e259dda47d6635",
       "value": "<!-- Created with Inkscape (http://www.inkscape.org/) --><svg xmlns:ns0=\"http://www.iki.fi/pav/software/textext/\" xmlns:dc=\"http://purl.org/dc/elements/1.1/\" xmlns:cc=\"http://creativecommons.org/ns#\" xmlns:rdf=\"http://www.w3.org/1999/02/22-rdf-syntax-ns#\" xmlns:svg=\"http://www.w3.org/2000/svg\" xmlns=\"http://www.w3.org/2000/svg\" xmlns:sodipodi=\"http://sodipodi.sourceforge.net/DTD/sodipodi-0.dtd\" xmlns:inkscape=\"http://www.inkscape.org/namespaces/inkscape\" width=\"129.8232mm\" height=\"44.582893mm\" viewBox=\"0 0 129.8232 44.582894\" version=\"1.1\" id=\"svg19629\" inkscape:version=\"0.92.4 (5da689c313, 2019-01-14)\" sodipodi:docname=\"prueba.svg\">\n  <defs id=\"defs19623\">\n    <marker style=\"overflow:visible\" id=\"Arrow2Mend\" refX=\"0\" refY=\"0\" orient=\"auto\" inkscape:stockid=\"Arrow2Mend\">\n      <path d=\"M -5.5798962,-2.5815905 1.4126653,-0.01024849 -5.5798966,2.561093 c 1.117119,-1.518119 1.1106821,-3.5951692 4e-7,-5.1426835 z\" style=\"font-size:12px;fill-rule:evenodd;stroke-width:0.40000001;stroke-linejoin:round\" id=\"path8281\" inkscape:connector-curvature=\"0\"/>\n    </marker>\n    <marker style=\"overflow:visible\" id=\"marker7868\" refX=\"0\" refY=\"0\" orient=\"auto\" inkscape:stockid=\"Arrow2Mend\">\n      <path d=\"M -5.5798962,-2.5815905 1.4126653,-0.01024849 -5.5798966,2.561093 c 1.117119,-1.518119 1.1106821,-3.5951692 4e-7,-5.1426835 z\" style=\"font-size:12px;fill-rule:evenodd;stroke-width:0.40000001;stroke-linejoin:round\" id=\"path7870\" inkscape:connector-curvature=\"0\"/>\n    </marker>\n    <marker style=\"overflow:visible\" id=\"marker28173\" refX=\"0\" refY=\"0\" orient=\"auto\" inkscape:stockid=\"Arrow2Mend\">\n      <path d=\"M -5.5798962,-2.5815905 1.4126653,-0.01024849 -5.5798966,2.561093 c 1.117119,-1.518119 1.1106821,-3.5951692 4e-7,-5.1426835 z\" style=\"font-size:12px;fill-rule:evenodd;stroke-width:0.40000001;stroke-linejoin:round\" id=\"path28171\" inkscape:connector-curvature=\"0\"/>\n    </marker>\n    <marker style=\"overflow:visible\" id=\"marker28177\" refX=\"0\" refY=\"0\" orient=\"auto\" inkscape:stockid=\"Arrow2Mend\">\n      <path d=\"M -5.5798962,-2.5815905 1.4126653,-0.01024849 -5.5798966,2.561093 c 1.117119,-1.518119 1.1106821,-3.5951692 4e-7,-5.1426835 z\" style=\"font-size:12px;fill-rule:evenodd;stroke-width:0.40000001;stroke-linejoin:round\" id=\"path28175\" inkscape:connector-curvature=\"0\"/>\n    </marker>\n    <marker style=\"overflow:visible\" id=\"marker28181\" refX=\"0\" refY=\"0\" orient=\"auto\" inkscape:stockid=\"Arrow2Mend\">\n      <path d=\"M -5.5798962,-2.5815905 1.4126653,-0.01024849 -5.5798966,2.561093 c 1.117119,-1.518119 1.1106821,-3.5951692 4e-7,-5.1426835 z\" style=\"font-size:12px;fill-rule:evenodd;stroke-width:0.40000001;stroke-linejoin:round\" id=\"path28179\" inkscape:connector-curvature=\"0\"/>\n    </marker>\n    <marker style=\"overflow:visible\" id=\"marker7868-6\" refX=\"0\" refY=\"0\" orient=\"auto\" inkscape:stockid=\"Arrow2Mend\">\n      <path d=\"M -5.5798962,-2.5815905 1.4126653,-0.01024849 -5.5798966,2.561093 c 1.117119,-1.518119 1.1106821,-3.5951692 4e-7,-5.1426835 z\" style=\"font-size:12px;fill-rule:evenodd;stroke-width:0.40000001;stroke-linejoin:round\" id=\"path7870-8\" inkscape:connector-curvature=\"0\"/>\n    </marker>\n  </defs>\n  <sodipodi:namedview id=\"base\" pagecolor=\"#ffffff\" bordercolor=\"#666666\" borderopacity=\"1.0\" inkscape:pageopacity=\"0.0\" inkscape:pageshadow=\"2\" inkscape:zoom=\"2.8\" inkscape:cx=\"371.29664\" inkscape:cy=\"145.45547\" inkscape:document-units=\"mm\" inkscape:current-layer=\"layer1\" showgrid=\"false\" fit-margin-top=\"0\" fit-margin-left=\"0\" fit-margin-right=\"0\" fit-margin-bottom=\"0\" inkscape:window-width=\"3200\" inkscape:window-height=\"1668\" inkscape:window-x=\"-16\" inkscape:window-y=\"-16\" inkscape:window-maximized=\"1\" scale-x=\"2\" inkscape:snap-midpoints=\"true\"/>\n  <metadata id=\"metadata19626\">\n    <rdf:RDF>\n      <cc:Work rdf:about=\"\">\n        <dc:format>image/svg+xml</dc:format>\n        <dc:type rdf:resource=\"http://purl.org/dc/dcmitype/StillImage\"/>\n        <dc:title/>\n      </cc:Work>\n    </rdf:RDF>\n  </metadata>\n  <g inkscape:label=\"Layer 1\" inkscape:groupmode=\"layer\" id=\"layer1\" transform=\"translate(16.361311,19.624458)\">\n    <rect style=\"opacity:1;vector-effect:none;fill:#b3deb3;fill-opacity:0.99493671;fill-rule:evenodd;stroke:none;stroke-width:0.28229246;stroke-linecap:butt;stroke-linejoin:round;stroke-miterlimit:4;stroke-dasharray:none;stroke-dashoffset:0;stroke-opacity:1;marker:none\" id=\"rect31476\" width=\"49.373142\" height=\"16.536459\" x=\"34.429241\" y=\"8.5164728\"/>\n    <text xml:space=\"preserve\" style=\"font-style:normal;font-variant:normal;font-weight:normal;font-stretch:normal;font-size:4.61350441px;line-height:1.25;font-family:'Latin Modern Sans';-inkscape-font-specification:'Latin Modern Sans';text-align:center;letter-spacing:0px;word-spacing:0px;text-anchor:middle;fill:#000000;fill-opacity:1;stroke:none;stroke-width:0.70397568\" x=\"56.659267\" y=\"-2.2677231\" id=\"I_L\" inkscape:label=\"#text20176\"><tspan sodipodi:role=\"line\" x=\"56.659267\" y=\"-2.2677231\" style=\"font-style:normal;font-variant:normal;font-weight:normal;font-stretch:normal;font-family:Arial;-inkscape-font-specification:Arial;stroke-width:0.70397568\" id=\"tspan28562\">0.0</tspan></text>\n    <g transform=\"matrix(0.70397576,0,0,0.70397576,-400.1733,-140.79031)\" id=\"g16785-1\" inkscape:export-filename=\"C:\\Users\\Patricia\\Desktop\\bitmap.png\" inkscape:export-xdpi=\"300\" inkscape:export-ydpi=\"300\">\n      <g transform=\"translate(480,21.333327)\" id=\"g40949-7-7\">\n        <path inkscape:connector-curvature=\"0\" id=\"path4610-1-40\" d=\"m 69.333333,178.51966 h 5.333334\" style=\"fill:none;stroke:#000000;stroke-width:1.06666672px;stroke-linecap:butt;stroke-linejoin:miter;stroke-opacity:1\"/>\n        <path inkscape:connector-curvature=\"0\" id=\"path4612-5-9\" d=\"m 69.333333,167.85299 v 21.33334\" style=\"fill:none;stroke:#000000;stroke-width:2.13333344;stroke-linecap:butt;stroke-linejoin:miter;stroke-opacity:1\"/>\n      </g>\n    </g>\n    <g transform=\"matrix(0.70397576,0,0,0.70397576,-411.4369,-140.79031)\" id=\"g16779-4\" inkscape:export-filename=\"C:\\Users\\Patricia\\Desktop\\bitmap.png\" inkscape:export-xdpi=\"300\" inkscape:export-ydpi=\"300\">\n      <path inkscape:connector-curvature=\"0\" id=\"path70904-5-5-8-3-8\" style=\"display:inline;fill:none;stroke:#000000;stroke-width:1.06666672;stroke-linecap:round;stroke-linejoin:miter;stroke-miterlimit:6;stroke-dasharray:none;stroke-opacity:1\" d=\"m 584.53505,192.38633 c -4.12206,0 -7.46838,3.34297 -7.46838,7.46622 0,4.12326 3.34632,7.46711 7.46838,7.46711 4.12206,0 7.46495,-3.34385 7.46495,-7.46711 0,-4.12325 -3.34289,-7.46622 -7.46495,-7.46622\"/>\n      <path inkscape:connector-curvature=\"0\" id=\"path70904-5-5-8-6-9-82\" style=\"display:inline;fill:none;stroke:#000000;stroke-width:1.06666672;stroke-linecap:round;stroke-linejoin:miter;stroke-miterlimit:6;stroke-dasharray:none;stroke-opacity:1\" d=\"m 594.13505,192.38676 c -4.12206,0 -7.46838,3.34298 -7.46838,7.46623 0,4.12326 3.34632,7.46711 7.46838,7.46711 4.12206,0 7.46495,-3.34385 7.46495,-7.46711 0,-4.12325 -3.34289,-7.46623 -7.46495,-7.46623\"/>\n      <path style=\"fill:none;stroke:#000000;stroke-width:1.0666666px;stroke-linecap:butt;stroke-linejoin:miter;stroke-opacity:1\" d=\"m 570.66667,199.85299 h 6.4\" id=\"path4610-8-6-45\" inkscape:connector-curvature=\"0\"/>\n      <path style=\"fill:none;stroke:#000000;stroke-width:1.0666666px;stroke-linecap:butt;stroke-linejoin:miter;stroke-opacity:1\" d=\"M 601.6,199.85299 H 608\" id=\"path4610-8-4-4-51\" inkscape:connector-curvature=\"0\"/>\n    </g>\n    <g id=\"g16785-0-71\" transform=\"matrix(0.70397576,0,0,0.70397576,-366.38245,-140.79031)\" inkscape:export-filename=\"C:\\Users\\Patricia\\Desktop\\bitmap.png\" inkscape:export-xdpi=\"300\" inkscape:export-ydpi=\"300\">\n      <g transform=\"translate(480,21.333327)\" id=\"g40949-7-4-1\">\n        <path inkscape:connector-curvature=\"0\" id=\"path4610-1-1-5\" d=\"M 64,178.51966 H 74.666667\" style=\"fill:none;stroke:#000000;stroke-width:1.06666672px;stroke-linecap:butt;stroke-linejoin:miter;stroke-opacity:1\"/>\n        <path inkscape:connector-curvature=\"0\" id=\"path4612-5-5-2\" d=\"m 69.333333,167.85299 v 21.33334\" style=\"fill:none;stroke:#000000;stroke-width:2.13333344;stroke-linecap:butt;stroke-linejoin:miter;stroke-opacity:1\"/>\n      </g>\n    </g>\n    <text id=\"text20936-6-4\" y=\"-9.8604555\" x=\"-16.311684\" style=\"font-style:normal;font-weight:normal;font-size:7.69207573px;line-height:0%;font-family:arial;-inkscape-font-specification:arial;letter-spacing:0px;word-spacing:0px;fill:#000000;fill-opacity:1;stroke:none;stroke-width:0.64100635\" xml:space=\"preserve\" inkscape:export-filename=\"C:\\Users\\Patricia\\Desktop\\bitmap.png\" inkscape:export-xdpi=\"300\" inkscape:export-ydpi=\"300\"><tspan y=\"-9.8604555\" x=\"-16.311684\" id=\"tspan20938-6-23\" sodipodi:role=\"line\" style=\"font-size:5.1280508px;line-height:1.25;stroke-width:0.64100635\">B1</tspan></text>\n    <text id=\"text20936-9-22\" y=\"-8.5171785\" x=\"-6.0547891\" style=\"font-style:normal;font-variant:normal;font-weight:normal;font-stretch:normal;font-size:9.01089001px;line-height:0%;font-family:Arial;-inkscape-font-specification:Arial;letter-spacing:0px;word-spacing:0px;fill:#000000;fill-opacity:1;stroke:none;stroke-width:0.75090754\" xml:space=\"preserve\" inkscape:export-filename=\"C:\\Users\\Patricia\\Desktop\\bitmap.png\" inkscape:export-xdpi=\"300\" inkscape:export-ydpi=\"300\"><tspan style=\"font-size:4.505445px;line-height:1.25;stroke-width:0.75090754\" y=\"-8.5171785\" x=\"-6.0547891\" id=\"tspan20938-7-1\" sodipodi:role=\"line\">20/0,4 kV</tspan></text>\n    <path inkscape:connector-curvature=\"0\" id=\"path4612-2-8-3-9\" d=\"M 83.43224,-7.6077307 V 7.4104152\" style=\"fill:none;stroke:#000000;stroke-width:1.50181508;stroke-linecap:butt;stroke-linejoin:miter;stroke-opacity:1\" inkscape:export-filename=\"C:\\Users\\Patricia\\Desktop\\bitmap.png\" inkscape:export-xdpi=\"300\" inkscape:export-ydpi=\"300\"/>\n    <path inkscape:connector-curvature=\"0\" id=\"path16931-7-8-9-5\" d=\"M 33.475798,-0.09865347 H 27.843991\" style=\"fill:none;stroke:#000000;stroke-width:0.75090754px;stroke-linecap:butt;stroke-linejoin:miter;stroke-opacity:1\" inkscape:export-filename=\"C:\\Users\\Patricia\\Desktop\\bitmap.png\" inkscape:export-xdpi=\"300\" inkscape:export-ydpi=\"300\"/>\n    <path style=\"fill:none;stroke:#000000;stroke-width:0.75090742px;stroke-linecap:butt;stroke-linejoin:miter;stroke-opacity:1\" d=\"M 31.598507,-0.09865347 H 87.165634\" id=\"path20686-1-3-1\" inkscape:connector-curvature=\"0\" inkscape:export-filename=\"C:\\Users\\Patricia\\Desktop\\bitmap.png\" inkscape:export-xdpi=\"300\" inkscape:export-ydpi=\"300\"/>\n    <path inkscape:connector-curvature=\"0\" id=\"path20739-6-2\" d=\"M 27.843991,-0.09865347 H 24.089408\" style=\"fill:none;stroke:#000000;stroke-width:0.75090754px;stroke-linecap:butt;stroke-linejoin:miter;stroke-opacity:1\" inkscape:export-filename=\"C:\\Users\\Patricia\\Desktop\\bitmap.png\" inkscape:export-xdpi=\"300\" inkscape:export-ydpi=\"300\"/>\n    <g id=\"g8672\" transform=\"matrix(0.47063851,0,0,0.70397576,-36.535902,-80.431255)\" style=\"stroke-width:1.22306651;stroke-miterlimit:4;stroke-dasharray:none;stroke-linecap:round\">\n      <path style=\"fill:none;stroke:#000000;stroke-width:1.22306651;stroke-linecap:round;stroke-linejoin:miter;stroke-opacity:1;stroke-miterlimit:4;stroke-dasharray:none\" d=\"m 224,132.65299 h 21.33333\" id=\"path46037-1-7-3-6\" inkscape:connector-curvature=\"0\"/>\n      <path style=\"fill:none;stroke:#000000;stroke-width:1.22306651;stroke-linecap:round;stroke-linejoin:miter;stroke-opacity:1;stroke-miterlimit:4;stroke-dasharray:none\" d=\"m 224,136.90642 h 21.33333\" id=\"path46037-1-9-4-7-4\" inkscape:connector-curvature=\"0\"/>\n    </g>\n    <text id=\"text20936-6-4-4\" y=\"-9.8604555\" x=\"17.143641\" style=\"font-style:normal;font-variant:normal;font-weight:normal;font-stretch:normal;font-size:5.1280508px;line-height:1.25;font-family:arial;-inkscape-font-specification:arial;font-variant-ligatures:normal;font-variant-position:normal;font-variant-caps:normal;font-variant-numeric:normal;font-variant-alternates:normal;font-feature-settings:normal;text-indent:0;text-align:start;text-decoration:none;text-decoration-line:none;text-decoration-style:solid;text-decoration-color:#000000;letter-spacing:0px;word-spacing:0px;text-transform:none;writing-mode:lr-tb;direction:ltr;text-orientation:mixed;dominant-baseline:auto;baseline-shift:baseline;text-anchor:start;white-space:normal;shape-padding:0;opacity:1;vector-effect:none;fill:#000000;fill-opacity:1;stroke:none;stroke-width:0.64100635;stroke-linecap:butt;stroke-linejoin:miter;stroke-miterlimit:4;stroke-dasharray:none;stroke-dashoffset:0;stroke-opacity:1\" xml:space=\"preserve\" inkscape:export-filename=\"C:\\Users\\Patricia\\Desktop\\bitmap.png\" inkscape:export-xdpi=\"300\" inkscape:export-ydpi=\"300\"><tspan y=\"-9.8604555\" x=\"17.143641\" id=\"tspan20938-6-23-7\" sodipodi:role=\"line\" style=\"font-style:normal;font-variant:normal;font-weight:normal;font-stretch:normal;font-size:5.1280508px;line-height:1.25;font-family:arial;-inkscape-font-specification:arial;font-variant-ligatures:normal;font-variant-position:normal;font-variant-caps:normal;font-variant-numeric:normal;font-variant-alternates:normal;font-feature-settings:normal;text-indent:0;text-align:start;text-decoration:none;text-decoration-line:none;text-decoration-style:solid;text-decoration-color:#000000;letter-spacing:0px;word-spacing:0px;text-transform:none;writing-mode:lr-tb;direction:ltr;text-orientation:mixed;dominant-baseline:auto;baseline-shift:baseline;text-anchor:start;white-space:normal;shape-padding:0;vector-effect:none;fill:#000000;fill-opacity:1;stroke:none;stroke-width:0.64100635;stroke-linecap:butt;stroke-linejoin:miter;stroke-miterlimit:4;stroke-dasharray:none;stroke-dashoffset:0;stroke-opacity:1\">B2</tspan></text>\n    <text id=\"text20936-6-4-4-4\" y=\"-9.8604555\" x=\"80.222198\" style=\"font-style:normal;font-variant:normal;font-weight:normal;font-stretch:normal;font-size:5.1280508px;line-height:1.25;font-family:arial;-inkscape-font-specification:arial;font-variant-ligatures:normal;font-variant-position:normal;font-variant-caps:normal;font-variant-numeric:normal;font-variant-alternates:normal;font-feature-settings:normal;text-indent:0;text-align:start;text-decoration:none;text-decoration-line:none;text-decoration-style:solid;text-decoration-color:#000000;letter-spacing:0px;word-spacing:0px;text-transform:none;writing-mode:lr-tb;direction:ltr;text-orientation:mixed;dominant-baseline:auto;baseline-shift:baseline;text-anchor:start;white-space:normal;shape-padding:0;opacity:1;vector-effect:none;fill:#000000;fill-opacity:1;stroke:none;stroke-width:0.64100635;stroke-linecap:butt;stroke-linejoin:miter;stroke-miterlimit:4;stroke-dasharray:none;stroke-dashoffset:0;stroke-opacity:1\" xml:space=\"preserve\" inkscape:export-filename=\"C:\\Users\\Patricia\\Desktop\\bitmap.png\" inkscape:export-xdpi=\"300\" inkscape:export-ydpi=\"300\"><tspan y=\"-9.8604555\" x=\"80.222198\" id=\"tspan20938-6-23-7-2\" sodipodi:role=\"line\" style=\"font-style:normal;font-variant:normal;font-weight:normal;font-stretch:normal;font-size:5.1280508px;line-height:1.25;font-family:arial;-inkscape-font-specification:arial;font-variant-ligatures:normal;font-variant-position:normal;font-variant-caps:normal;font-variant-numeric:normal;font-variant-alternates:normal;font-feature-settings:normal;text-indent:0;text-align:start;text-decoration:none;text-decoration-line:none;text-decoration-style:solid;text-decoration-color:#000000;letter-spacing:0px;word-spacing:0px;text-transform:none;writing-mode:lr-tb;direction:ltr;text-orientation:mixed;dominant-baseline:auto;baseline-shift:baseline;text-anchor:start;white-space:normal;shape-padding:0;vector-effect:none;fill:#000000;fill-opacity:1;stroke:none;stroke-width:0.64100635;stroke-linecap:butt;stroke-linejoin:miter;stroke-miterlimit:4;stroke-dasharray:none;stroke-dashoffset:0;stroke-opacity:1\">B3</tspan></text>\n    <path inkscape:connector-curvature=\"0\" id=\"path4612-2-8-3-9-7\" d=\"M 99.180177,-7.6077307 V 7.4104154\" style=\"fill:none;stroke:#000000;stroke-width:1.50181508;stroke-linecap:butt;stroke-linejoin:miter;stroke-opacity:1\" inkscape:export-filename=\"C:\\Users\\Patricia\\Desktop\\bitmap.png\" inkscape:export-xdpi=\"300\" inkscape:export-ydpi=\"300\"/>\n    <path inkscape:connector-curvature=\"0\" id=\"path4704-5-8-2-7-8\" d=\"M 99.180177,-0.09865347 H 111.19472 V 11.164958\" style=\"fill:none;stroke:#000000;stroke-width:0.75090754px;stroke-linecap:butt;stroke-linejoin:round;stroke-opacity:1;marker-mid:none;marker-end:url(#marker7868-6)\" inkscape:export-filename=\"C:\\Users\\Patricia\\Desktop\\bitmap.png\" inkscape:export-xdpi=\"300\" inkscape:export-ydpi=\"300\"/>\n    <text id=\"text20936-6-4-4-4-1\" y=\"-9.8604555\" x=\"95.977646\" style=\"font-style:normal;font-variant:normal;font-weight:normal;font-stretch:normal;font-size:5.1280508px;line-height:1.25;font-family:arial;-inkscape-font-specification:arial;font-variant-ligatures:normal;font-variant-position:normal;font-variant-caps:normal;font-variant-numeric:normal;font-variant-alternates:normal;font-feature-settings:normal;text-indent:0;text-align:start;text-decoration:none;text-decoration-line:none;text-decoration-style:solid;text-decoration-color:#000000;letter-spacing:0px;word-spacing:0px;text-transform:none;writing-mode:lr-tb;direction:ltr;text-orientation:mixed;dominant-baseline:auto;baseline-shift:baseline;text-anchor:start;white-space:normal;shape-padding:0;opacity:1;vector-effect:none;fill:#000000;fill-opacity:1;stroke:none;stroke-width:0.64100635;stroke-linecap:butt;stroke-linejoin:miter;stroke-miterlimit:4;stroke-dasharray:none;stroke-dashoffset:0;stroke-opacity:1\" xml:space=\"preserve\" inkscape:export-filename=\"C:\\Users\\Patricia\\Desktop\\bitmap.png\" inkscape:export-xdpi=\"300\" inkscape:export-ydpi=\"300\"><tspan y=\"-9.8604555\" x=\"95.977646\" id=\"tspan20938-6-23-7-2-9\" sodipodi:role=\"line\" style=\"font-style:normal;font-variant:normal;font-weight:normal;font-stretch:normal;font-size:5.1280508px;line-height:1.25;font-family:arial;-inkscape-font-specification:arial;font-variant-ligatures:normal;font-variant-position:normal;font-variant-caps:normal;font-variant-numeric:normal;font-variant-alternates:normal;font-feature-settings:normal;text-indent:0;text-align:start;text-decoration:none;text-decoration-line:none;text-decoration-style:solid;text-decoration-color:#000000;letter-spacing:0px;word-spacing:0px;text-transform:none;writing-mode:lr-tb;direction:ltr;text-orientation:mixed;dominant-baseline:auto;baseline-shift:baseline;text-anchor:start;white-space:normal;shape-padding:0;vector-effect:none;fill:#000000;fill-opacity:1;stroke:none;stroke-width:0.64100635;stroke-linecap:butt;stroke-linejoin:miter;stroke-miterlimit:4;stroke-dasharray:none;stroke-dashoffset:0;stroke-opacity:1\">B4</tspan></text>\n    <path style=\"fill:none;stroke:#000000;stroke-width:0.75090742px;stroke-linecap:butt;stroke-linejoin:miter;stroke-opacity:1\" d=\"M 87.165634,-0.09865347 H 107.70996\" id=\"path20686-1-3-1-0\" inkscape:connector-curvature=\"0\" inkscape:export-filename=\"C:\\Users\\Patricia\\Desktop\\bitmap.png\" inkscape:export-xdpi=\"300\" inkscape:export-ydpi=\"300\"/>\n    <path style=\"fill:none;stroke:#000000;stroke-width:0.704;stroke-linecap:round;stroke-linejoin:round;stroke-miterlimit:4;stroke-dasharray:none;stroke-opacity:1\" d=\"M 73.90727,12.811049 V 3.9423447 h 9.25525\" id=\"path20686-1-3-1-0-3\" inkscape:connector-curvature=\"0\" inkscape:export-filename=\"C:\\Users\\Patricia\\Desktop\\bitmap.png\" inkscape:export-xdpi=\"300\" inkscape:export-ydpi=\"300\" sodipodi:nodetypes=\"ccc\"/>\n    <g id=\"g29464\" ns0:jacobian_sqrt=\"0.479209\" inkscapeversion=\"0.92.4\" ns0:alignment=\"middle center\" ns0:scale=\"1.35838708846\" ns0:preamble=\"C:\\\\Users\\\\jmmau\\\\AppData\\\\Roaming\\\\inkscape\\\\extensions\\\\textext\\\\default_packages.tex\" ns0:text=\"$\\\\sf I_{L} =$\" ns0:pdfconverter=\"pdf2svg\" ns0:texconverter=\"pdflatex\" ns0:version=\"0.9.1\" transform=\"matrix(0.479209,0,0,0.479209,-31.313663,-67.220139)\">\n      <g id=\"g29462\">\n        <g id=\"g29452\" style=\"fill:#000000;fill-opacity:1\">\n          <path id=\"path29450\" transform=\"translate(148.712,134.765)\" d=\"M 1.828125,-6.921875 H 0.9375 V 0 h 0.890625 z m 0,0\" style=\"stroke:none;stroke-width:0\" inkscape:connector-curvature=\"0\"/>\n        </g>\n        <g id=\"g29456\" style=\"fill:#000000;fill-opacity:1\">\n          <path id=\"path29454\" transform=\"translate(151.48,136.259)\" d=\"M 1.375,-4.84375 H 0.671875 V 0 H 3.71875 v -0.5 c -0.671875,0 -1.328125,0.015625 -1.984375,0.015625 H 1.375 Z m 0,0\" style=\"stroke:none;stroke-width:0\" inkscape:connector-curvature=\"0\"/>\n        </g>\n        <g id=\"g29460\" style=\"fill:#000000;fill-opacity:1\">\n          <path id=\"path29458\" transform=\"translate(158.777,134.765)\" d=\"m 6.84375,-3.265625 c 0.15625,0 0.34375,0 0.34375,-0.1875 C 7.1875,-3.65625 7,-3.65625 6.859375,-3.65625 h -5.96875 c -0.140625,0 -0.328125,0 -0.328125,0.203125 0,0.1875 0.1875,0.1875 0.328125,0.1875 z m 0.015625,1.9375 c 0.140625,0 0.328125,0 0.328125,-0.203125 0,-0.1875 -0.1875,-0.1875 -0.34375,-0.1875 H 0.890625 c -0.140625,0 -0.328125,0 -0.328125,0.1875 0,0.203125 0.1875,0.203125 0.328125,0.203125 z m 0,0\" style=\"stroke:none;stroke-width:0\" inkscape:connector-curvature=\"0\"/>\n        </g>\n      </g>\n    </g>\n    <text xml:space=\"preserve\" style=\"font-style:normal;font-variant:normal;font-weight:normal;font-stretch:normal;font-size:3.70974803px;line-height:1.25;font-family:'Latin Modern Sans';-inkscape-font-specification:'Latin Modern Sans';text-align:center;letter-spacing:0px;word-spacing:0px;text-anchor:middle;fill:#000000;fill-opacity:1;stroke:none;stroke-width:0.56607127\" x=\"56.370071\" y=\"21.179079\" id=\"I_cap\" inkscape:label=\"#text20176\"><tspan sodipodi:role=\"line\" x=\"56.370071\" y=\"21.179079\" style=\"font-style:normal;font-variant:normal;font-weight:normal;font-stretch:normal;font-family:'Lucida Console';-inkscape-font-specification:'Lucida Console';stroke-width:0.56607127\" id=\"tspan28562-6\">000 A</tspan></text>\n    <text xml:space=\"preserve\" style=\"font-style:normal;font-variant:normal;font-weight:normal;font-stretch:normal;font-size:3.84299755px;line-height:1.25;font-family:'Latin Modern Sans';-inkscape-font-specification:'Latin Modern Sans';text-align:center;letter-spacing:0px;word-spacing:0px;text-anchor:middle;fill:#000000;fill-opacity:1;stroke:none;stroke-width:0.58640391\" x=\"45.325497\" y=\"5.750638\" id=\"Q_red\" inkscape:label=\"#text20176\"><tspan sodipodi:role=\"line\" x=\"45.325497\" y=\"5.750638\" style=\"font-style:normal;font-variant:normal;font-weight:normal;font-stretch:normal;font-family:'Lucida Console';-inkscape-font-specification:'Lucida Console';stroke-width:0.58640391\" id=\"tspan28562-0\">-000 kvar</tspan></text>\n    <g id=\"g30065\" ns0:jacobian_sqrt=\"0.479209\" inkscapeversion=\"0.92.4\" ns0:alignment=\"middle center\" ns0:scale=\"1.35838706011\" ns0:preamble=\"C:\\\\Users\\\\jmmau\\\\AppData\\\\Roaming\\\\inkscape\\\\extensions\\\\textext\\\\default_packages.tex\" ns0:text=\"$\\\\sf I_{cap}$=\" ns0:pdfconverter=\"pdf2svg\" ns0:texconverter=\"pdflatex\" ns0:version=\"0.9.1\" transform=\"matrix(0.44411589,0,0,0.44411589,-26.581474,-39.050629)\">\n      <g id=\"g30063\">\n        <g id=\"g30049\" style=\"fill:#000000;fill-opacity:1\">\n          <path id=\"path30047\" transform=\"translate(148.712,134.765)\" d=\"M 1.828125,-6.921875 H 0.9375 V 0 h 0.890625 z m 0,0\" style=\"stroke:none;stroke-width:0\" inkscape:connector-curvature=\"0\"/>\n        </g>\n        <g id=\"g30057\" style=\"fill:#000000;fill-opacity:1\">\n          <path id=\"path30051\" transform=\"translate(151.48,136.259)\" d=\"M 3.03125,-0.765625 C 2.6875,-0.53125 2.3125,-0.40625 1.875,-0.40625 c -0.640625,0 -1.015625,-0.515625 -1.015625,-1.140625 0,-0.546875 0.28125,-1.171875 1.03125,-1.171875 0.484375,0 0.703125,0.09375 1.0625,0.328125 L 3.03125,-2.90625 C 2.625,-3.109375 2.4375,-3.203125 1.890625,-3.203125 c -1.046875,0 -1.640625,0.84375 -1.640625,1.65625 0,0.84375 0.671875,1.609375 1.625,1.609375 0.484375,0 0.90625,-0.140625 1.203125,-0.3125 z m 0,0\" style=\"stroke:none;stroke-width:0\" inkscape:connector-curvature=\"0\"/>\n          <path id=\"path30053\" transform=\"translate(154.77303,136.259)\" d=\"m 2.96875,-2 c 0,-0.71875 -0.546875,-1.203125 -1.234375,-1.203125 -0.4375,0 -0.765625,0.09375 -1.15625,0.296875 l 0.03125,0.515625 C 0.84375,-2.546875 1.1875,-2.75 1.734375,-2.75 c 0.3125,0 0.625,0.234375 0.625,0.75 v 0.28125 C 1.328125,-1.6875 0.3125,-1.46875 0.3125,-0.828125 0.3125,-0.46875 0.546875,0.0625 1.15625,0.0625 1.46875,0.0625 2.015625,0 2.390625,-0.265625 V 0 H 2.96875 Z m -0.609375,1.015625 c 0,0.140625 0,0.3125 -0.234375,0.46875 -0.234375,0.125 -0.5,0.125 -0.578125,0.125 -0.390625,0 -0.671875,-0.171875 -0.671875,-0.4375 0,-0.453125 1.171875,-0.484375 1.484375,-0.5 z m 0,0\" style=\"stroke:none;stroke-width:0\" inkscape:connector-curvature=\"0\"/>\n          <path id=\"path30055\" transform=\"translate(158.33246,136.259)\" d=\"M 1.203125,-0.328125 C 1.5625,0 1.96875,0.0625 2.203125,0.0625 2.9375,0.0625 3.5625,-0.640625 3.5625,-1.546875 c 0,-0.84375 -0.453125,-1.609375 -1.140625,-1.609375 -0.3125,0 -0.84375,0.078125 -1.25,0.390625 V -3.09375 H 0.59375 v 4.453125 h 0.609375 z m 0,-1.984375 c 0.15625,-0.203125 0.421875,-0.375 0.765625,-0.375 0.546875,0 1,0.515625 1,1.140625 0,0.6875 -0.53125,1.15625 -1.078125,1.15625 -0.09375,0 -0.28125,-0.015625 -0.453125,-0.15625 C 1.21875,-0.703125 1.203125,-0.8125 1.203125,-0.953125 Z m 0,0\" style=\"stroke:none;stroke-width:0\" inkscape:connector-curvature=\"0\"/>\n        </g>\n        <g id=\"g30061\" style=\"fill:#000000;fill-opacity:1\">\n          <path id=\"path30059\" transform=\"translate(162.657,134.765)\" d=\"m 6.84375,-3.265625 c 0.15625,0 0.34375,0 0.34375,-0.1875 C 7.1875,-3.65625 7,-3.65625 6.859375,-3.65625 h -5.96875 c -0.140625,0 -0.328125,0 -0.328125,0.203125 0,0.1875 0.1875,0.1875 0.328125,0.1875 z m 0.015625,1.9375 c 0.140625,0 0.328125,0 0.328125,-0.203125 0,-0.1875 -0.1875,-0.1875 -0.34375,-0.1875 H 0.890625 c -0.140625,0 -0.328125,0 -0.328125,0.1875 0,0.203125 0.1875,0.203125 0.328125,0.203125 z m 0,0\" style=\"stroke:none;stroke-width:0\" inkscape:connector-curvature=\"0\"/>\n        </g>\n      </g>\n    </g>\n    <g id=\"g30176\" ns0:jacobian_sqrt=\"0.479209\" inkscapeversion=\"0.92.4\" ns0:alignment=\"middle center\" ns0:scale=\"1.35838708846\" ns0:preamble=\"C:\\\\Users\\\\jmmau\\\\AppData\\\\Roaming\\\\inkscape\\\\extensions\\\\textext\\\\default_packages.tex\" ns0:text=\"$\\\\sf Q_{red}$=\" ns0:pdfconverter=\"pdf2svg\" ns0:texconverter=\"pdflatex\" ns0:version=\"0.9.1\" transform=\"matrix(0.479209,0,0,0.479209,-48.464874,-58.75823)\">\n      <g id=\"surface1\">\n        <g id=\"g30161\" style=\"fill:#000000;fill-opacity:1\">\n          <path id=\"path30159\" transform=\"translate(148.712,134.765)\" d=\"m 5.3125,-0.328125 c 1.09375,-0.84375 1.453125,-2.0625 1.453125,-3.109375 0,-2.09375 -1.4375,-3.703125 -3.09375,-3.703125 -1.703125,0 -3.109375,1.625 -3.109375,3.703125 0,2.109375 1.46875,3.65625 3.09375,3.65625 0.15625,0 0.53125,-0.015625 0.953125,-0.171875 L 5.46875,1.25 H 6.5 Z m -1.078125,-0.1875 c -0.015625,0 -0.28125,0.09375 -0.5625,0.09375 -1.171875,0 -2.25,-1.15625 -2.25,-3.015625 C 1.421875,-5.296875 2.5,-6.5 3.65625,-6.5 c 1.203125,0 2.25,1.21875 2.25,3.0625 0,0.640625 -0.109375,1.734375 -1.015625,2.546875 L 4.109375,-1.9375 H 3.21875 Z m 0,0\" style=\"stroke:none;stroke-width:0\" inkscape:connector-curvature=\"0\"/>\n        </g>\n        <g id=\"g30169\" style=\"fill:#000000;fill-opacity:1\">\n          <path id=\"path30163\" transform=\"translate(156.046,136.259)\" d=\"m 1.171875,-1.484375 c 0,-0.75 0.640625,-1.15625 1.25,-1.15625 V -3.15625 C 1.828125,-3.15625 1.40625,-2.875 1.125,-2.5 V -3.140625 H 0.59375 V 0 h 0.578125 z m 0,0\" style=\"stroke:none;stroke-width:0\" inkscape:connector-curvature=\"0\"/>\n          <path id=\"path30165\" transform=\"translate(158.57679,136.259)\" d=\"m 3,-0.765625 c -0.390625,0.28125 -0.828125,0.375 -1.125,0.375 -0.609375,0 -1.078125,-0.5 -1.09375,-1.140625 H 3.0625 c 0,-0.3125 -0.03125,-0.78125 -0.296875,-1.171875 -0.25,-0.359375 -0.671875,-0.5 -1.015625,-0.5 -0.84375,0 -1.5,0.75 -1.5,1.640625 0,0.890625 0.6875,1.625 1.609375,1.625 0.40625,0 0.828125,-0.109375 1.171875,-0.328125 z M 0.828125,-1.9375 C 0.984375,-2.5 1.40625,-2.734375 1.75,-2.734375 c 0.3125,0 0.765625,0.140625 0.890625,0.796875 z m 0,0\" style=\"stroke:none;stroke-width:0\" inkscape:connector-curvature=\"0\"/>\n          <path id=\"path30167\" transform=\"translate(161.86982,136.259)\" d=\"M 3.21875,-4.84375 H 2.640625 v 2.046875 C 2.1875,-3.125 1.734375,-3.15625 1.546875,-3.15625 0.8125,-3.15625 0.25,-2.4375 0.25,-1.546875 0.25,-0.65625 0.796875,0.0625 1.515625,0.0625 c 0.4375,0 0.84375,-0.1875 1.109375,-0.421875 V 0 H 3.21875 Z M 2.625,-0.859375 c -0.171875,0.28125 -0.4375,0.46875 -0.78125,0.46875 -0.484375,0 -0.984375,-0.34375 -0.984375,-1.15625 0,-0.859375 0.59375,-1.15625 1.0625,-1.15625 0.28125,0 0.515625,0.125 0.703125,0.359375 z m 0,0\" style=\"stroke:none;stroke-width:0\" inkscape:connector-curvature=\"0\"/>\n        </g>\n        <g id=\"g30173\" style=\"fill:#000000;fill-opacity:1\">\n          <path id=\"path30171\" transform=\"translate(166.194,134.765)\" d=\"m 6.84375,-3.265625 c 0.15625,0 0.34375,0 0.34375,-0.1875 C 7.1875,-3.65625 7,-3.65625 6.859375,-3.65625 h -5.96875 c -0.140625,0 -0.328125,0 -0.328125,0.203125 0,0.1875 0.1875,0.1875 0.328125,0.1875 z m 0.015625,1.9375 c 0.140625,0 0.328125,0 0.328125,-0.203125 0,-0.1875 -0.1875,-0.1875 -0.34375,-0.1875 H 0.890625 c -0.140625,0 -0.328125,0 -0.328125,0.1875 0,0.203125 0.1875,0.203125 0.328125,0.203125 z m 0,0\" style=\"stroke:none;stroke-width:0\" inkscape:connector-curvature=\"0\"/>\n        </g>\n      </g>\n    </g>\n    <g id=\"g30332\" ns0:jacobian_sqrt=\"0.479209\" inkscapeversion=\"0.92.4\" ns0:alignment=\"middle center\" ns0:scale=\"1.35838703176\" ns0:preamble=\"C:\\\\Users\\\\jmmau\\\\AppData\\\\Roaming\\\\inkscape\\\\extensions\\\\textext\\\\default_packages.tex\" ns0:text=\"$\\\\sf U$=\" ns0:pdfconverter=\"pdf2svg\" ns0:texconverter=\"pdflatex\" ns0:version=\"0.9.1\" transform=\"matrix(0.479209,0,0,0.479209,18.767893,-80.846008)\">\n      <g id=\"g30330\">\n        <g id=\"g30324\" style=\"fill:#000000;fill-opacity:1\">\n          <path id=\"path30322\" transform=\"translate(148.712,134.765)\" d=\"M 5.90625,-6.921875 H 5.140625 V -2.3125 c 0,1.3125 -0.84375,1.96875 -1.6875,1.96875 -0.8125,0 -1.625,-0.625 -1.625,-1.96875 V -6.921875 H 0.9375 v 4.59375 c 0,1.453125 1.171875,2.546875 2.515625,2.546875 1.328125,0 2.453125,-1.09375 2.453125,-2.546875 z m 0,0\" style=\"stroke:none;stroke-width:0\" inkscape:connector-curvature=\"0\"/>\n        </g>\n        <g id=\"g30328\" style=\"fill:#000000;fill-opacity:1\">\n          <path id=\"path30326\" transform=\"translate(155.562,134.765)\" d=\"m 6.84375,-3.265625 c 0.15625,0 0.34375,0 0.34375,-0.1875 C 7.1875,-3.65625 7,-3.65625 6.859375,-3.65625 h -5.96875 c -0.140625,0 -0.328125,0 -0.328125,0.203125 0,0.1875 0.1875,0.1875 0.328125,0.1875 z m 0.015625,1.9375 c 0.140625,0 0.328125,0 0.328125,-0.203125 0,-0.1875 -0.1875,-0.1875 -0.34375,-0.1875 H 0.890625 c -0.140625,0 -0.328125,0 -0.328125,0.1875 0,0.203125 0.1875,0.203125 0.328125,0.203125 z m 0,0\" style=\"stroke:none;stroke-width:0\" inkscape:connector-curvature=\"0\"/>\n        </g>\n      </g>\n    </g>\n    <text xml:space=\"preserve\" style=\"font-style:normal;font-variant:normal;font-weight:normal;font-stretch:normal;font-size:4.61350441px;line-height:1.25;font-family:'Latin Modern Sans';-inkscape-font-specification:'Latin Modern Sans';text-align:center;letter-spacing:0px;word-spacing:0px;text-anchor:middle;fill:#000000;fill-opacity:1;stroke:none;stroke-width:0.70397568\" x=\"105.43847\" y=\"-16.308502\" id=\"U_carga\" inkscape:label=\"#text20176\"><tspan sodipodi:role=\"line\" x=\"105.43847\" y=\"-16.308502\" style=\"font-style:normal;font-variant:normal;font-weight:normal;font-stretch:normal;font-family:'Lucida Console';-inkscape-font-specification:'Lucida Console';stroke-width:0.70397568\" id=\"tspan28562-6-6\">000 V</tspan></text>\n    <text xml:space=\"preserve\" style=\"font-style:normal;font-variant:normal;font-weight:normal;font-stretch:normal;font-size:4.03235197px;line-height:1.25;font-family:'Latin Modern Sans';-inkscape-font-specification:'Latin Modern Sans';text-align:center;letter-spacing:0px;word-spacing:0px;text-anchor:middle;fill:#000000;fill-opacity:1;stroke:none;stroke-width:0.6152975\" x=\"11.44358\" y=\"20.908615\" id=\"P_perd\" inkscape:label=\"#text20176\"><tspan sodipodi:role=\"line\" x=\"11.443579\" y=\"20.908615\" style=\"font-style:normal;font-variant:normal;font-weight:normal;font-stretch:normal;font-family:'Lucida Console';-inkscape-font-specification:'Lucida Console';stroke-width:0.6152975\" id=\"tspan28562-6-2\">00.0 kW</tspan></text>\n    <g id=\"g31458\" ns0:jacobian_sqrt=\"0.479209\" inkscapeversion=\"0.92.4\" ns0:alignment=\"middle center\" ns0:scale=\"1.35838703176\" ns0:preamble=\"C:\\\\Users\\\\jmmau\\\\AppData\\\\Roaming\\\\inkscape\\\\extensions\\\\textext\\\\default_packages.tex\" ns0:text=\"$\\\\sf P_{perd}$=\" ns0:pdfconverter=\"pdf2svg\" ns0:texconverter=\"pdflatex\" ns0:version=\"0.9.1\" transform=\"matrix(0.479209,0.000000,0.000000,0.479209,-81.953302,-43.750013)\">\n      <g id=\"g31456\">\n        <g id=\"g31438\" style=\"fill:rgb(0%,0%,0%);fill-opacity:1;\">\n          <path id=\"path31436\" transform=\"translate(148.712,134.765)\" d=\"M 3.515625 -2.875 C 4.75 -2.875 5.796875 -3.78125 5.796875 -4.90625 C 5.796875 -5.96875 4.8125 -6.921875 3.4375 -6.921875 L 0.953125 -6.921875 L 0.953125 0 L 1.84375 0 L 1.84375 -2.875 Z M 3.21875 -6.359375 C 4.3125 -6.359375 5 -5.75 5 -4.90625 C 5 -4.109375 4.359375 -3.453125 3.21875 -3.453125 L 1.8125 -3.453125 L 1.8125 -6.359375 Z M 3.21875 -6.359375 \" style=\"stroke:none;stroke-width:0\"/>\n        </g>\n        <g id=\"g31442\" style=\"fill:rgb(0%,0%,0%);fill-opacity:1;\">\n          <path id=\"path31440\" transform=\"translate(155.077,136.259)\" d=\"M 1.203125 -0.328125 C 1.5625 0 1.96875 0.0625 2.203125 0.0625 C 2.9375 0.0625 3.5625 -0.640625 3.5625 -1.546875 C 3.5625 -2.390625 3.109375 -3.15625 2.421875 -3.15625 C 2.109375 -3.15625 1.578125 -3.078125 1.171875 -2.765625 L 1.171875 -3.09375 L 0.59375 -3.09375 L 0.59375 1.359375 L 1.203125 1.359375 Z M 1.203125 -2.3125 C 1.359375 -2.515625 1.625 -2.6875 1.96875 -2.6875 C 2.515625 -2.6875 2.96875 -2.171875 2.96875 -1.546875 C 2.96875 -0.859375 2.4375 -0.390625 1.890625 -0.390625 C 1.796875 -0.390625 1.609375 -0.40625 1.4375 -0.546875 C 1.21875 -0.703125 1.203125 -0.8125 1.203125 -0.953125 Z M 1.203125 -2.3125 \" style=\"stroke:none;stroke-width:0\"/>\n        </g>\n        <g id=\"g31450\" style=\"fill:rgb(0%,0%,0%);fill-opacity:1;\">\n          <path id=\"path31444\" transform=\"translate(159.112041,136.259)\" d=\"M 3 -0.765625 C 2.609375 -0.484375 2.171875 -0.390625 1.875 -0.390625 C 1.265625 -0.390625 0.796875 -0.890625 0.78125 -1.53125 L 3.0625 -1.53125 C 3.0625 -1.84375 3.03125 -2.3125 2.765625 -2.703125 C 2.515625 -3.0625 2.09375 -3.203125 1.75 -3.203125 C 0.90625 -3.203125 0.25 -2.453125 0.25 -1.5625 C 0.25 -0.671875 0.9375 0.0625 1.859375 0.0625 C 2.265625 0.0625 2.6875 -0.046875 3.03125 -0.265625 Z M 0.828125 -1.9375 C 0.984375 -2.5 1.40625 -2.734375 1.75 -2.734375 C 2.0625 -2.734375 2.515625 -2.59375 2.640625 -1.9375 Z M 0.828125 -1.9375 \" style=\"stroke:none;stroke-width:0\"/>\n          <path id=\"path31446\" transform=\"translate(162.405069,136.259)\" d=\"M 1.171875 -1.484375 C 1.171875 -2.234375 1.8125 -2.640625 2.421875 -2.640625 L 2.421875 -3.15625 C 1.828125 -3.15625 1.40625 -2.875 1.125 -2.5 L 1.125 -3.140625 L 0.59375 -3.140625 L 0.59375 0 L 1.171875 0 Z M 1.171875 -1.484375 \" style=\"stroke:none;stroke-width:0\"/>\n          <path id=\"path31448\" transform=\"translate(164.935861,136.259)\" d=\"M 3.21875 -4.84375 L 2.640625 -4.84375 L 2.640625 -2.796875 C 2.1875 -3.125 1.734375 -3.15625 1.546875 -3.15625 C 0.8125 -3.15625 0.25 -2.4375 0.25 -1.546875 C 0.25 -0.65625 0.796875 0.0625 1.515625 0.0625 C 1.953125 0.0625 2.359375 -0.125 2.625 -0.359375 L 2.625 0 L 3.21875 0 Z M 2.625 -0.859375 C 2.453125 -0.578125 2.1875 -0.390625 1.84375 -0.390625 C 1.359375 -0.390625 0.859375 -0.734375 0.859375 -1.546875 C 0.859375 -2.40625 1.453125 -2.703125 1.921875 -2.703125 C 2.203125 -2.703125 2.4375 -2.578125 2.625 -2.34375 Z M 2.625 -0.859375 \" style=\"stroke:none;stroke-width:0\"/>\n        </g>\n        <g id=\"g31454\" style=\"fill:rgb(0%,0%,0%);fill-opacity:1;\">\n          <path id=\"path31452\" transform=\"translate(169.257,134.765)\" d=\"M 6.84375 -3.265625 C 7 -3.265625 7.1875 -3.265625 7.1875 -3.453125 C 7.1875 -3.65625 7 -3.65625 6.859375 -3.65625 L 0.890625 -3.65625 C 0.75 -3.65625 0.5625 -3.65625 0.5625 -3.453125 C 0.5625 -3.265625 0.75 -3.265625 0.890625 -3.265625 Z M 6.859375 -1.328125 C 7 -1.328125 7.1875 -1.328125 7.1875 -1.53125 C 7.1875 -1.71875 7 -1.71875 6.84375 -1.71875 L 0.890625 -1.71875 C 0.75 -1.71875 0.5625 -1.71875 0.5625 -1.53125 C 0.5625 -1.328125 0.75 -1.328125 0.890625 -1.328125 Z M 6.859375 -1.328125 \" style=\"stroke:none;stroke-width:0\"/>\n        </g>\n      </g>\n    </g>\n    <text xml:space=\"preserve\" style=\"font-style:normal;font-variant:normal;font-weight:normal;font-stretch:normal;font-size:3.57188439px;line-height:1.25;font-family:'Latin Modern Sans';-inkscape-font-specification:'Latin Modern Sans';text-align:center;letter-spacing:0px;word-spacing:0px;text-anchor:middle;fill:#000000;fill-opacity:1;stroke:none;stroke-width:0.54503465\" x=\"58.586636\" y=\"15.915075\" id=\"Q_cap\" inkscape:label=\"#text20176\"><tspan sodipodi:role=\"line\" x=\"58.586636\" y=\"15.915075\" style=\"font-style:normal;font-variant:normal;font-weight:normal;font-stretch:normal;font-family:'Lucida Console';-inkscape-font-specification:'Lucida Console';stroke-width:0.54503465\" id=\"tspan28562-6-5\"> -00 kvar</tspan></text>\n    <g id=\"g31659\" ns0:jacobian_sqrt=\"0.479209\" inkscapeversion=\"0.92.4\" ns0:alignment=\"middle center\" ns0:scale=\"1.35838703176\" ns0:preamble=\"C:\\\\Users\\\\jmmau\\\\AppData\\\\Roaming\\\\inkscape\\\\extensions\\\\textext\\\\default_packages.tex\" ns0:text=\"$\\\\sf Q_{cap}$=\" ns0:pdfconverter=\"pdf2svg\" ns0:texconverter=\"pdflatex\" ns0:version=\"0.9.1\" transform=\"matrix(0.39884084,0,0,0.39884084,-21.100465,-37.92913)\">\n      <g id=\"g31657\">\n        <g id=\"g31643\" style=\"fill:#000000;fill-opacity:1\">\n          <path id=\"path31641\" transform=\"translate(148.712,134.765)\" d=\"m 5.3125,-0.328125 c 1.09375,-0.84375 1.453125,-2.0625 1.453125,-3.109375 0,-2.09375 -1.4375,-3.703125 -3.09375,-3.703125 -1.703125,0 -3.109375,1.625 -3.109375,3.703125 0,2.109375 1.46875,3.65625 3.09375,3.65625 0.15625,0 0.53125,-0.015625 0.953125,-0.171875 L 5.46875,1.25 H 6.5 Z m -1.078125,-0.1875 c -0.015625,0 -0.28125,0.09375 -0.5625,0.09375 -1.171875,0 -2.25,-1.15625 -2.25,-3.015625 C 1.421875,-5.296875 2.5,-6.5 3.65625,-6.5 c 1.203125,0 2.25,1.21875 2.25,3.0625 0,0.640625 -0.109375,1.734375 -1.015625,2.546875 L 4.109375,-1.9375 H 3.21875 Z m 0,0\" style=\"stroke:none;stroke-width:0\" inkscape:connector-curvature=\"0\"/>\n        </g>\n        <g id=\"g31651\" style=\"fill:#000000;fill-opacity:1\">\n          <path id=\"path31645\" transform=\"translate(156.046,136.259)\" d=\"M 3.03125,-0.765625 C 2.6875,-0.53125 2.3125,-0.40625 1.875,-0.40625 c -0.640625,0 -1.015625,-0.515625 -1.015625,-1.140625 0,-0.546875 0.28125,-1.171875 1.03125,-1.171875 0.484375,0 0.703125,0.09375 1.0625,0.328125 L 3.03125,-2.90625 C 2.625,-3.109375 2.4375,-3.203125 1.890625,-3.203125 c -1.046875,0 -1.640625,0.84375 -1.640625,1.65625 0,0.84375 0.671875,1.609375 1.625,1.609375 0.484375,0 0.90625,-0.140625 1.203125,-0.3125 z m 0,0\" style=\"stroke:none;stroke-width:0\" inkscape:connector-curvature=\"0\"/>\n          <path id=\"path31647\" transform=\"translate(159.33903,136.259)\" d=\"m 2.96875,-2 c 0,-0.71875 -0.546875,-1.203125 -1.234375,-1.203125 -0.4375,0 -0.765625,0.09375 -1.15625,0.296875 l 0.03125,0.515625 C 0.84375,-2.546875 1.1875,-2.75 1.734375,-2.75 c 0.3125,0 0.625,0.234375 0.625,0.75 v 0.28125 C 1.328125,-1.6875 0.3125,-1.46875 0.3125,-0.828125 0.3125,-0.46875 0.546875,0.0625 1.15625,0.0625 1.46875,0.0625 2.015625,0 2.390625,-0.265625 V 0 H 2.96875 Z m -0.609375,1.015625 c 0,0.140625 0,0.3125 -0.234375,0.46875 -0.234375,0.125 -0.5,0.125 -0.578125,0.125 -0.390625,0 -0.671875,-0.171875 -0.671875,-0.4375 0,-0.453125 1.171875,-0.484375 1.484375,-0.5 z m 0,0\" style=\"stroke:none;stroke-width:0\" inkscape:connector-curvature=\"0\"/>\n          <path id=\"path31649\" transform=\"translate(162.89846,136.259)\" d=\"M 1.203125,-0.328125 C 1.5625,0 1.96875,0.0625 2.203125,0.0625 2.9375,0.0625 3.5625,-0.640625 3.5625,-1.546875 c 0,-0.84375 -0.453125,-1.609375 -1.140625,-1.609375 -0.3125,0 -0.84375,0.078125 -1.25,0.390625 V -3.09375 H 0.59375 v 4.453125 h 0.609375 z m 0,-1.984375 c 0.15625,-0.203125 0.421875,-0.375 0.765625,-0.375 0.546875,0 1,0.515625 1,1.140625 0,0.6875 -0.53125,1.15625 -1.078125,1.15625 -0.09375,0 -0.28125,-0.015625 -0.453125,-0.15625 C 1.21875,-0.703125 1.203125,-0.8125 1.203125,-0.953125 Z m 0,0\" style=\"stroke:none;stroke-width:0\" inkscape:connector-curvature=\"0\"/>\n        </g>\n        <g id=\"g31655\" style=\"fill:#000000;fill-opacity:1\">\n          <path id=\"path31653\" transform=\"translate(167.223,134.765)\" d=\"m 6.84375,-3.265625 c 0.15625,0 0.34375,0 0.34375,-0.1875 C 7.1875,-3.65625 7,-3.65625 6.859375,-3.65625 h -5.96875 c -0.140625,0 -0.328125,0 -0.328125,0.203125 0,0.1875 0.1875,0.1875 0.328125,0.1875 z m 0.015625,1.9375 c 0.140625,0 0.328125,0 0.328125,-0.203125 0,-0.1875 -0.1875,-0.1875 -0.34375,-0.1875 H 0.890625 c -0.140625,0 -0.328125,0 -0.328125,0.1875 0,0.203125 0.1875,0.203125 0.328125,0.203125 z m 0,0\" style=\"stroke:none;stroke-width:0\" inkscape:connector-curvature=\"0\"/>\n        </g>\n      </g>\n    </g>\n    <path style=\"opacity:1;vector-effect:none;fill:none;fill-opacity:1;stroke:#000000;stroke-width:0.68431467;stroke-linecap:round;stroke-linejoin:round;stroke-miterlimit:4;stroke-dasharray:none;stroke-dashoffset:0;stroke-opacity:1\" d=\"m 73.907268,15.947546 v 8.563529\" id=\"path20686-1-3-1-0-8\" inkscape:connector-curvature=\"0\" inkscape:export-filename=\"C:\\Users\\Patricia\\Desktop\\bitmap.png\" inkscape:export-xdpi=\"300\" inkscape:export-ydpi=\"300\"/>\n  </g>\n</svg>"
      }
     },
     "42a75428ecc84be082a61d1d8e615c3d": {
      "model_module": "@jupyter-widgets/controls",
      "model_module_version": "1.4.0",
      "model_name": "DescriptionStyleModel",
      "state": {
       "description_width": ""
      }
     },
     "42edb2eddcac4c338760c7323c62922a": {
      "model_module": "@jupyter-widgets/controls",
      "model_module_version": "1.4.0",
      "model_name": "HBoxModel",
      "state": {
       "children": [
        "IPY_MODEL_a90c82fbefeb44ec87d5acb19ba36a91",
        "IPY_MODEL_0b61c6b8162c456bb0f69980e24c70f1"
       ],
       "layout": "IPY_MODEL_13387d80c6db433aa1944212191f3617"
      }
     },
     "4368d439891b45a2a4f64655fe9e89a5": {
      "model_module": "@jupyter-widgets/controls",
      "model_module_version": "1.4.0",
      "model_name": "HBoxModel",
      "state": {
       "children": [
        "IPY_MODEL_39124d62018a45a0ae88fb3f75be39a7",
        "IPY_MODEL_8a591c79f280487da0ab611d822171ce"
       ],
       "layout": "IPY_MODEL_26055399dd7c469382e43a2c068200bd"
      }
     },
     "47d5b71bed4f4a47b76a0cccf4359b88": {
      "model_module": "@jupyter-widgets/base",
      "model_module_version": "1.1.0",
      "model_name": "LayoutModel",
      "state": {}
     },
     "47f19515e6ba450fbf9c0ff525fde9f3": {
      "model_module": "@jupyter-widgets/controls",
      "model_module_version": "1.4.0",
      "model_name": "HBoxModel",
      "state": {
       "children": [
        "IPY_MODEL_c45231a15e2d457e884da390d9b55ceb",
        "IPY_MODEL_6f347e31438a4002bc52a360188517f6"
       ],
       "layout": "IPY_MODEL_e2d3ccbac2f040dab75c7d32cee501e3"
      }
     },
     "4887bce0b9a74757bb7e79d7a0cd6340": {
      "model_module": "@jupyter-widgets/base",
      "model_module_version": "1.1.0",
      "model_name": "LayoutModel",
      "state": {}
     },
     "48bc8899b2574567887c841aa1b59f3a": {
      "model_module": "@jupyter-widgets/controls",
      "model_module_version": "1.4.0",
      "model_name": "DescriptionStyleModel",
      "state": {
       "description_width": ""
      }
     },
     "49aa082c12604b9db3e259dda47d6635": {
      "model_module": "@jupyter-widgets/controls",
      "model_module_version": "1.4.0",
      "model_name": "DescriptionStyleModel",
      "state": {
       "description_width": ""
      }
     },
     "4bf24e3b1cb9448ab3d748045b9eb8de": {
      "model_module": "@jupyter-widgets/base",
      "model_module_version": "1.1.0",
      "model_name": "LayoutModel",
      "state": {}
     },
     "4c0e42cbe10843cd81663fedc5ff67d6": {
      "model_module": "@jupyter-widgets/base",
      "model_module_version": "1.1.0",
      "model_name": "LayoutModel",
      "state": {}
     },
     "4f8976c9f06341ad85f068cf187c1e31": {
      "model_module": "@jupyter-widgets/controls",
      "model_module_version": "1.4.0",
      "model_name": "SliderStyleModel",
      "state": {
       "description_width": ""
      }
     },
     "4fd74e2415f04c6d808c20fce4c82932": {
      "model_module": "@jupyter-widgets/controls",
      "model_module_version": "1.4.0",
      "model_name": "DescriptionStyleModel",
      "state": {
       "description_width": ""
      }
     },
     "51249f21f4894c799b32bc8d898e5554": {
      "model_module": "@jupyter-widgets/controls",
      "model_module_version": "1.4.0",
      "model_name": "DescriptionStyleModel",
      "state": {
       "description_width": ""
      }
     },
     "526790c793b64519a843362c5625fd32": {
      "model_module": "@jupyter-widgets/controls",
      "model_module_version": "1.4.0",
      "model_name": "FloatTextModel",
      "state": {
       "description": "Iₗᵢₙₑ (A): ",
       "layout": "IPY_MODEL_3ce609ba132b4392bfd40a830c99bdfe",
       "step": null,
       "style": "IPY_MODEL_e9ce6ac678c94d64b9a2a6de459ce62a",
       "value": 7.5
      }
     },
     "55b3f1f1d384488c87c4374334a96b20": {
      "model_module": "@jupyter-widgets/base",
      "model_module_version": "1.1.0",
      "model_name": "LayoutModel",
      "state": {}
     },
     "58480e1ef56d4e08a2546130bf9b3d6c": {
      "model_module": "@jupyter-widgets/controls",
      "model_module_version": "1.4.0",
      "model_name": "DescriptionStyleModel",
      "state": {
       "description_width": ""
      }
     },
     "5a041535f4e34918a5006c89052e8a9e": {
      "model_module": "@jupyter-widgets/base",
      "model_module_version": "1.1.0",
      "model_name": "LayoutModel",
      "state": {}
     },
     "5a11a6a0769d4d33a31c00f3568fb9bd": {
      "model_module": "@jupyter-widgets/controls",
      "model_module_version": "1.4.0",
      "model_name": "FloatTextModel",
      "state": {
       "description": "Uc (V): ",
       "layout": "IPY_MODEL_8567372d0612445b80c88c2c76005e92",
       "step": null,
       "style": "IPY_MODEL_342b8f70db7447a58c3432a288c6ba43",
       "value": 394
      }
     },
     "5a44465b7754434891786dc07c907338": {
      "model_module": "@jupyter-widgets/controls",
      "model_module_version": "1.4.0",
      "model_name": "HBoxModel",
      "state": {
       "children": [
        "IPY_MODEL_c067495841bd429cb3ab660a11122ff5",
        "IPY_MODEL_5e101ad864b740799f3c4eecf744fa8a"
       ],
       "layout": "IPY_MODEL_9baed84b198a4361a7bb4968c639305a"
      }
     },
     "5e101ad864b740799f3c4eecf744fa8a": {
      "model_module": "@jupyter-widgets/controls",
      "model_module_version": "1.4.0",
      "model_name": "FloatTextModel",
      "state": {
       "description": "Qred (kvar): ",
       "layout": "IPY_MODEL_0a3ff99915704cd0ac90c8acbdcb1c37",
       "step": null,
       "style": "IPY_MODEL_51249f21f4894c799b32bc8d898e5554",
       "value": 7.5
      }
     },
     "5f37774b2cd34bb9895f7e524451c034": {
      "model_module": "@jupyter-widgets/base",
      "model_module_version": "1.1.0",
      "model_name": "LayoutModel",
      "state": {}
     },
     "61725d18313c4db19155db152a071d1f": {
      "model_module": "@jupyter-widgets/controls",
      "model_module_version": "1.4.0",
      "model_name": "HBoxModel",
      "state": {
       "children": [
        "IPY_MODEL_0e436a6e98e640e384a0573f29a38a08",
        "IPY_MODEL_c77a73f6c68a4ab09420faa347e769ef"
       ],
       "layout": "IPY_MODEL_f7890aaa495d455db9da0560134b12df"
      }
     },
     "61f4ec8267204f6daea1d18013001e0d": {
      "model_module": "@jupyter-widgets/controls",
      "model_module_version": "1.4.0",
      "model_name": "DescriptionStyleModel",
      "state": {
       "description_width": ""
      }
     },
     "6575d6cfc0334a8abd2c01e4bb38ad1e": {
      "model_module": "@jupyter-widgets/base",
      "model_module_version": "1.1.0",
      "model_name": "LayoutModel",
      "state": {}
     },
     "694ba28ffc81494fa5b98b3a0ef76251": {
      "model_module": "@jupyter-widgets/controls",
      "model_module_version": "1.4.0",
      "model_name": "DescriptionStyleModel",
      "state": {
       "description_width": ""
      }
     },
     "6a0e700c5ec64552983afe6e50c04d6d": {
      "model_module": "@jupyter-widgets/base",
      "model_module_version": "1.1.0",
      "model_name": "LayoutModel",
      "state": {}
     },
     "6cfd1943006649ec9ceb593360b45a65": {
      "model_module": "@jupyter-widgets/controls",
      "model_module_version": "1.4.0",
      "model_name": "DescriptionStyleModel",
      "state": {
       "description_width": ""
      }
     },
     "6f347e31438a4002bc52a360188517f6": {
      "model_module": "@jupyter-widgets/controls",
      "model_module_version": "1.4.0",
      "model_name": "FloatTextModel",
      "state": {
       "description": "Uc (V): ",
       "layout": "IPY_MODEL_03dc72ef10de4cc8b7f42d0051a42f31",
       "step": null,
       "style": "IPY_MODEL_48bc8899b2574567887c841aa1b59f3a",
       "value": 7.5
      }
     },
     "6f91b7f40ed04d149ecd0c1230800ddd": {
      "model_module": "@jupyter-widgets/controls",
      "model_module_version": "1.4.0",
      "model_name": "FloatSliderModel",
      "state": {
       "description": "Qcap (kvar):",
       "layout": "IPY_MODEL_4c0e42cbe10843cd81663fedc5ff67d6",
       "max": 150,
       "min": -150,
       "readout_format": ".1f",
       "style": "IPY_MODEL_0da54d74bf484e4093ba6664990260bf",
       "value": 7.5
      }
     },
     "71e59bd8ab8f45c2b19eba45a9b63ca0": {
      "model_module": "@jupyter-widgets/base",
      "model_module_version": "1.1.0",
      "model_name": "LayoutModel",
      "state": {}
     },
     "75828bd1bff54ff1a20ccd32e4644eb3": {
      "model_module": "@jupyter-widgets/controls",
      "model_module_version": "1.4.0",
      "model_name": "HBoxModel",
      "state": {
       "children": [
        "IPY_MODEL_414fde9cb557475db3364e7e876fa255",
        "IPY_MODEL_1044c916725743d181b99653a966edf5"
       ],
       "layout": "IPY_MODEL_32aece7b6f4c4ddc94d5793099640ea0"
      }
     },
     "768b4e67fe0b41ecab4c803ba4bf9ea2": {
      "model_module": "@jupyter-widgets/controls",
      "model_module_version": "1.4.0",
      "model_name": "DescriptionStyleModel",
      "state": {
       "description_width": ""
      }
     },
     "773b11ad93634f5cb4421682fdc35017": {
      "model_module": "@jupyter-widgets/base",
      "model_module_version": "1.1.0",
      "model_name": "LayoutModel",
      "state": {}
     },
     "774f6521701d4894ade1610d82f03bc2": {
      "model_module": "@jupyter-widgets/controls",
      "model_module_version": "1.4.0",
      "model_name": "HBoxModel",
      "state": {
       "children": [
        "IPY_MODEL_526790c793b64519a843362c5625fd32",
        "IPY_MODEL_d142c16941b7489e97b8a1ce7561a82a"
       ],
       "layout": "IPY_MODEL_3890b1a0c07d4258af0472f5dabed673"
      }
     },
     "795445bae7e644b396007fe9f15244e4": {
      "model_module": "@jupyter-widgets/base",
      "model_module_version": "1.1.0",
      "model_name": "LayoutModel",
      "state": {}
     },
     "7b740fd924c446bfa6da9167a5c69079": {
      "model_module": "@jupyter-widgets/controls",
      "model_module_version": "1.4.0",
      "model_name": "VBoxModel",
      "state": {
       "children": [
        "IPY_MODEL_a83d66e209944f248e9b8294318c2d9c",
        "IPY_MODEL_42edb2eddcac4c338760c7323c62922a",
        "IPY_MODEL_dae511cad9654bf98de0d5301512e9a3",
        "IPY_MODEL_a84a4f13093e456aae328cef412ff054"
       ],
       "layout": "IPY_MODEL_bcdc7d209fd74688a35757cb60d48b88"
      }
     },
     "7d665a0dad2f45b3bafac9721d470f36": {
      "model_module": "@jupyter-widgets/base",
      "model_module_version": "1.1.0",
      "model_name": "LayoutModel",
      "state": {}
     },
     "7f42be0cea25407dadfa899b2b065e25": {
      "model_module": "@jupyter-widgets/controls",
      "model_module_version": "1.4.0",
      "model_name": "HBoxModel",
      "state": {
       "children": [
        "IPY_MODEL_14d180e8ddc142809680818c74639dd8",
        "IPY_MODEL_3d9fd83add444599b693364cb959f947"
       ],
       "layout": "IPY_MODEL_7d665a0dad2f45b3bafac9721d470f36"
      }
     },
     "7feb578b049e4c6c855c755fc7dd089c": {
      "model_module": "@jupyter-widgets/base",
      "model_module_version": "1.1.0",
      "model_name": "LayoutModel",
      "state": {}
     },
     "816685179bac4165b86e9fce0b3f2464": {
      "model_module": "@jupyter-widgets/controls",
      "model_module_version": "1.4.0",
      "model_name": "DescriptionStyleModel",
      "state": {
       "description_width": ""
      }
     },
     "82268ecf00f74f998b65272783c7c7f8": {
      "model_module": "@jupyter-widgets/controls",
      "model_module_version": "1.4.0",
      "model_name": "HBoxModel",
      "state": {
       "children": [
        "IPY_MODEL_6f91b7f40ed04d149ecd0c1230800ddd",
        "IPY_MODEL_e629a1b1bdf64fd4b7677362fc28a247"
       ],
       "layout": "IPY_MODEL_a837064693e84c3e8ab7a76880d79ecf"
      }
     },
     "8567372d0612445b80c88c2c76005e92": {
      "model_module": "@jupyter-widgets/base",
      "model_module_version": "1.1.0",
      "model_name": "LayoutModel",
      "state": {}
     },
     "867dacb6277f49948a365c872ab645ef": {
      "model_module": "@jupyter-widgets/controls",
      "model_module_version": "1.4.0",
      "model_name": "HBoxModel",
      "state": {
       "children": [
        "IPY_MODEL_e080329f22714a4a9a039ee6f46328e2",
        "IPY_MODEL_2f99b77a108f4e348d68c8fb368a6b23"
       ],
       "layout": "IPY_MODEL_b083449d9be643a6b761bccd6459d34b"
      }
     },
     "876b58dad6f848b0ac033fd0bd65611a": {
      "model_module": "@jupyter-widgets/base",
      "model_module_version": "1.1.0",
      "model_name": "LayoutModel",
      "state": {}
     },
     "8a591c79f280487da0ab611d822171ce": {
      "model_module": "@jupyter-widgets/controls",
      "model_module_version": "1.4.0",
      "model_name": "FloatTextModel",
      "state": {
       "description": "Qred (kvar): ",
       "layout": "IPY_MODEL_cee0a2adcd03443c8e21a0bbcd0c292b",
       "step": null,
       "style": "IPY_MODEL_d630b57e0e62404981cfd72528030015",
       "value": 7.5
      }
     },
     "8c314c26c1a34c16817ce8c53b2bbfd9": {
      "model_module": "@jupyter-widgets/base",
      "model_module_version": "1.1.0",
      "model_name": "LayoutModel",
      "state": {}
     },
     "8cebd50b190d4fc4a54b1b935bb3cf3b": {
      "model_module": "@jupyter-widgets/controls",
      "model_module_version": "1.4.0",
      "model_name": "SliderStyleModel",
      "state": {
       "description_width": ""
      }
     },
     "90da2d7928a64cf49ff49e5a94349352": {
      "model_module": "@jupyter-widgets/base",
      "model_module_version": "1.1.0",
      "model_name": "LayoutModel",
      "state": {}
     },
     "90e9f7d5e508429384fcb0c04bd0704f": {
      "model_module": "@jupyter-widgets/controls",
      "model_module_version": "1.4.0",
      "model_name": "FloatTextModel",
      "state": {
       "description": "Iₗᵢₙₑ (A): ",
       "layout": "IPY_MODEL_8c314c26c1a34c16817ce8c53b2bbfd9",
       "step": null,
       "style": "IPY_MODEL_694ba28ffc81494fa5b98b3a0ef76251",
       "value": 150
      }
     },
     "92b7d28439294219afad3095581260cb": {
      "model_module": "@jupyter-widgets/controls",
      "model_module_version": "1.4.0",
      "model_name": "FloatSliderModel",
      "state": {
       "description": "Qcap (kvar):",
       "layout": "IPY_MODEL_c359ce213b2940c8992cf044909a7f97",
       "max": 150,
       "min": -150,
       "readout_format": ".1f",
       "style": "IPY_MODEL_26400f9f450b4e6f8945caf12f72623a",
       "value": 4
      }
     },
     "96a4029b036146bb9d4dbcc9c459481b": {
      "model_module": "@jupyter-widgets/controls",
      "model_module_version": "1.4.0",
      "model_name": "DescriptionStyleModel",
      "state": {
       "description_width": ""
      }
     },
     "97f0093c8ddf4d3cb0f689f2e57ee013": {
      "model_module": "@jupyter-widgets/controls",
      "model_module_version": "1.4.0",
      "model_name": "HTMLMathModel",
      "state": {
       "layout": "IPY_MODEL_311204f314044f2e91408b3b454a11ff",
       "style": "IPY_MODEL_2649d2ad2b7f4ea685b6948bc62237d3",
       "value": "<!-- Created with Inkscape (http://www.inkscape.org/) --><svg xmlns:ns0=\"http://www.iki.fi/pav/software/textext/\" xmlns:dc=\"http://purl.org/dc/elements/1.1/\" xmlns:cc=\"http://creativecommons.org/ns#\" xmlns:rdf=\"http://www.w3.org/1999/02/22-rdf-syntax-ns#\" xmlns:svg=\"http://www.w3.org/2000/svg\" xmlns=\"http://www.w3.org/2000/svg\" xmlns:sodipodi=\"http://sodipodi.sourceforge.net/DTD/sodipodi-0.dtd\" xmlns:inkscape=\"http://www.inkscape.org/namespaces/inkscape\" width=\"129.8232mm\" height=\"44.582893mm\" viewBox=\"0 0 129.8232 44.582894\" version=\"1.1\" id=\"svg19629\" inkscape:version=\"0.92.4 (5da689c313, 2019-01-14)\" sodipodi:docname=\"prueba.svg\">\n  <defs id=\"defs19623\">\n    <marker style=\"overflow:visible\" id=\"Arrow2Mend\" refX=\"0\" refY=\"0\" orient=\"auto\" inkscape:stockid=\"Arrow2Mend\">\n      <path d=\"M -5.5798962,-2.5815905 1.4126653,-0.01024849 -5.5798966,2.561093 c 1.117119,-1.518119 1.1106821,-3.5951692 4e-7,-5.1426835 z\" style=\"font-size:12px;fill-rule:evenodd;stroke-width:0.40000001;stroke-linejoin:round\" id=\"path8281\" inkscape:connector-curvature=\"0\"/>\n    </marker>\n    <marker style=\"overflow:visible\" id=\"marker7868\" refX=\"0\" refY=\"0\" orient=\"auto\" inkscape:stockid=\"Arrow2Mend\">\n      <path d=\"M -5.5798962,-2.5815905 1.4126653,-0.01024849 -5.5798966,2.561093 c 1.117119,-1.518119 1.1106821,-3.5951692 4e-7,-5.1426835 z\" style=\"font-size:12px;fill-rule:evenodd;stroke-width:0.40000001;stroke-linejoin:round\" id=\"path7870\" inkscape:connector-curvature=\"0\"/>\n    </marker>\n    <marker style=\"overflow:visible\" id=\"marker28173\" refX=\"0\" refY=\"0\" orient=\"auto\" inkscape:stockid=\"Arrow2Mend\">\n      <path d=\"M -5.5798962,-2.5815905 1.4126653,-0.01024849 -5.5798966,2.561093 c 1.117119,-1.518119 1.1106821,-3.5951692 4e-7,-5.1426835 z\" style=\"font-size:12px;fill-rule:evenodd;stroke-width:0.40000001;stroke-linejoin:round\" id=\"path28171\" inkscape:connector-curvature=\"0\"/>\n    </marker>\n    <marker style=\"overflow:visible\" id=\"marker28177\" refX=\"0\" refY=\"0\" orient=\"auto\" inkscape:stockid=\"Arrow2Mend\">\n      <path d=\"M -5.5798962,-2.5815905 1.4126653,-0.01024849 -5.5798966,2.561093 c 1.117119,-1.518119 1.1106821,-3.5951692 4e-7,-5.1426835 z\" style=\"font-size:12px;fill-rule:evenodd;stroke-width:0.40000001;stroke-linejoin:round\" id=\"path28175\" inkscape:connector-curvature=\"0\"/>\n    </marker>\n    <marker style=\"overflow:visible\" id=\"marker28181\" refX=\"0\" refY=\"0\" orient=\"auto\" inkscape:stockid=\"Arrow2Mend\">\n      <path d=\"M -5.5798962,-2.5815905 1.4126653,-0.01024849 -5.5798966,2.561093 c 1.117119,-1.518119 1.1106821,-3.5951692 4e-7,-5.1426835 z\" style=\"font-size:12px;fill-rule:evenodd;stroke-width:0.40000001;stroke-linejoin:round\" id=\"path28179\" inkscape:connector-curvature=\"0\"/>\n    </marker>\n    <marker style=\"overflow:visible\" id=\"marker7868-6\" refX=\"0\" refY=\"0\" orient=\"auto\" inkscape:stockid=\"Arrow2Mend\">\n      <path d=\"M -5.5798962,-2.5815905 1.4126653,-0.01024849 -5.5798966,2.561093 c 1.117119,-1.518119 1.1106821,-3.5951692 4e-7,-5.1426835 z\" style=\"font-size:12px;fill-rule:evenodd;stroke-width:0.40000001;stroke-linejoin:round\" id=\"path7870-8\" inkscape:connector-curvature=\"0\"/>\n    </marker>\n  </defs>\n  <sodipodi:namedview id=\"base\" pagecolor=\"#ffffff\" bordercolor=\"#666666\" borderopacity=\"1.0\" inkscape:pageopacity=\"0.0\" inkscape:pageshadow=\"2\" inkscape:zoom=\"2.8\" inkscape:cx=\"371.29664\" inkscape:cy=\"145.45547\" inkscape:document-units=\"mm\" inkscape:current-layer=\"layer1\" showgrid=\"false\" fit-margin-top=\"0\" fit-margin-left=\"0\" fit-margin-right=\"0\" fit-margin-bottom=\"0\" inkscape:window-width=\"3200\" inkscape:window-height=\"1668\" inkscape:window-x=\"-16\" inkscape:window-y=\"-16\" inkscape:window-maximized=\"1\" scale-x=\"2\" inkscape:snap-midpoints=\"true\"/>\n  <metadata id=\"metadata19626\">\n    <rdf:RDF>\n      <cc:Work rdf:about=\"\">\n        <dc:format>image/svg+xml</dc:format>\n        <dc:type rdf:resource=\"http://purl.org/dc/dcmitype/StillImage\"/>\n        <dc:title/>\n      </cc:Work>\n    </rdf:RDF>\n  </metadata>\n  <g inkscape:label=\"Layer 1\" inkscape:groupmode=\"layer\" id=\"layer1\" transform=\"translate(16.361311,19.624458)\">\n    <rect style=\"opacity:1;vector-effect:none;fill:#b3deb3;fill-opacity:0.99493671;fill-rule:evenodd;stroke:none;stroke-width:0.28229246;stroke-linecap:butt;stroke-linejoin:round;stroke-miterlimit:4;stroke-dasharray:none;stroke-dashoffset:0;stroke-opacity:1;marker:none\" id=\"rect31476\" width=\"49.373142\" height=\"16.536459\" x=\"34.429241\" y=\"8.5164728\"/>\n    <text xml:space=\"preserve\" style=\"font-style:normal;font-variant:normal;font-weight:normal;font-stretch:normal;font-size:4.61350441px;line-height:1.25;font-family:'Latin Modern Sans';-inkscape-font-specification:'Latin Modern Sans';text-align:center;letter-spacing:0px;word-spacing:0px;text-anchor:middle;fill:#000000;fill-opacity:1;stroke:none;stroke-width:0.70397568\" x=\"56.659267\" y=\"-2.2677231\" id=\"I_L\" inkscape:label=\"#text20176\"><tspan sodipodi:role=\"line\" x=\"56.659267\" y=\"-2.2677231\" style=\"font-style:normal;font-variant:normal;font-weight:normal;font-stretch:normal;font-family:Arial;-inkscape-font-specification:Arial;stroke-width:0.70397568\" id=\"tspan28562\">0.0</tspan></text>\n    <g transform=\"matrix(0.70397576,0,0,0.70397576,-400.1733,-140.79031)\" id=\"g16785-1\" inkscape:export-filename=\"C:\\Users\\Patricia\\Desktop\\bitmap.png\" inkscape:export-xdpi=\"300\" inkscape:export-ydpi=\"300\">\n      <g transform=\"translate(480,21.333327)\" id=\"g40949-7-7\">\n        <path inkscape:connector-curvature=\"0\" id=\"path4610-1-40\" d=\"m 69.333333,178.51966 h 5.333334\" style=\"fill:none;stroke:#000000;stroke-width:1.06666672px;stroke-linecap:butt;stroke-linejoin:miter;stroke-opacity:1\"/>\n        <path inkscape:connector-curvature=\"0\" id=\"path4612-5-9\" d=\"m 69.333333,167.85299 v 21.33334\" style=\"fill:none;stroke:#000000;stroke-width:2.13333344;stroke-linecap:butt;stroke-linejoin:miter;stroke-opacity:1\"/>\n      </g>\n    </g>\n    <g transform=\"matrix(0.70397576,0,0,0.70397576,-411.4369,-140.79031)\" id=\"g16779-4\" inkscape:export-filename=\"C:\\Users\\Patricia\\Desktop\\bitmap.png\" inkscape:export-xdpi=\"300\" inkscape:export-ydpi=\"300\">\n      <path inkscape:connector-curvature=\"0\" id=\"path70904-5-5-8-3-8\" style=\"display:inline;fill:none;stroke:#000000;stroke-width:1.06666672;stroke-linecap:round;stroke-linejoin:miter;stroke-miterlimit:6;stroke-dasharray:none;stroke-opacity:1\" d=\"m 584.53505,192.38633 c -4.12206,0 -7.46838,3.34297 -7.46838,7.46622 0,4.12326 3.34632,7.46711 7.46838,7.46711 4.12206,0 7.46495,-3.34385 7.46495,-7.46711 0,-4.12325 -3.34289,-7.46622 -7.46495,-7.46622\"/>\n      <path inkscape:connector-curvature=\"0\" id=\"path70904-5-5-8-6-9-82\" style=\"display:inline;fill:none;stroke:#000000;stroke-width:1.06666672;stroke-linecap:round;stroke-linejoin:miter;stroke-miterlimit:6;stroke-dasharray:none;stroke-opacity:1\" d=\"m 594.13505,192.38676 c -4.12206,0 -7.46838,3.34298 -7.46838,7.46623 0,4.12326 3.34632,7.46711 7.46838,7.46711 4.12206,0 7.46495,-3.34385 7.46495,-7.46711 0,-4.12325 -3.34289,-7.46623 -7.46495,-7.46623\"/>\n      <path style=\"fill:none;stroke:#000000;stroke-width:1.0666666px;stroke-linecap:butt;stroke-linejoin:miter;stroke-opacity:1\" d=\"m 570.66667,199.85299 h 6.4\" id=\"path4610-8-6-45\" inkscape:connector-curvature=\"0\"/>\n      <path style=\"fill:none;stroke:#000000;stroke-width:1.0666666px;stroke-linecap:butt;stroke-linejoin:miter;stroke-opacity:1\" d=\"M 601.6,199.85299 H 608\" id=\"path4610-8-4-4-51\" inkscape:connector-curvature=\"0\"/>\n    </g>\n    <g id=\"g16785-0-71\" transform=\"matrix(0.70397576,0,0,0.70397576,-366.38245,-140.79031)\" inkscape:export-filename=\"C:\\Users\\Patricia\\Desktop\\bitmap.png\" inkscape:export-xdpi=\"300\" inkscape:export-ydpi=\"300\">\n      <g transform=\"translate(480,21.333327)\" id=\"g40949-7-4-1\">\n        <path inkscape:connector-curvature=\"0\" id=\"path4610-1-1-5\" d=\"M 64,178.51966 H 74.666667\" style=\"fill:none;stroke:#000000;stroke-width:1.06666672px;stroke-linecap:butt;stroke-linejoin:miter;stroke-opacity:1\"/>\n        <path inkscape:connector-curvature=\"0\" id=\"path4612-5-5-2\" d=\"m 69.333333,167.85299 v 21.33334\" style=\"fill:none;stroke:#000000;stroke-width:2.13333344;stroke-linecap:butt;stroke-linejoin:miter;stroke-opacity:1\"/>\n      </g>\n    </g>\n    <text id=\"text20936-6-4\" y=\"-9.8604555\" x=\"-16.311684\" style=\"font-style:normal;font-weight:normal;font-size:7.69207573px;line-height:0%;font-family:arial;-inkscape-font-specification:arial;letter-spacing:0px;word-spacing:0px;fill:#000000;fill-opacity:1;stroke:none;stroke-width:0.64100635\" xml:space=\"preserve\" inkscape:export-filename=\"C:\\Users\\Patricia\\Desktop\\bitmap.png\" inkscape:export-xdpi=\"300\" inkscape:export-ydpi=\"300\"><tspan y=\"-9.8604555\" x=\"-16.311684\" id=\"tspan20938-6-23\" sodipodi:role=\"line\" style=\"font-size:5.1280508px;line-height:1.25;stroke-width:0.64100635\">B1</tspan></text>\n    <text id=\"text20936-9-22\" y=\"-8.5171785\" x=\"-6.0547891\" style=\"font-style:normal;font-variant:normal;font-weight:normal;font-stretch:normal;font-size:9.01089001px;line-height:0%;font-family:Arial;-inkscape-font-specification:Arial;letter-spacing:0px;word-spacing:0px;fill:#000000;fill-opacity:1;stroke:none;stroke-width:0.75090754\" xml:space=\"preserve\" inkscape:export-filename=\"C:\\Users\\Patricia\\Desktop\\bitmap.png\" inkscape:export-xdpi=\"300\" inkscape:export-ydpi=\"300\"><tspan style=\"font-size:4.505445px;line-height:1.25;stroke-width:0.75090754\" y=\"-8.5171785\" x=\"-6.0547891\" id=\"tspan20938-7-1\" sodipodi:role=\"line\">20/0,4 kV</tspan></text>\n    <path inkscape:connector-curvature=\"0\" id=\"path4612-2-8-3-9\" d=\"M 83.43224,-7.6077307 V 7.4104152\" style=\"fill:none;stroke:#000000;stroke-width:1.50181508;stroke-linecap:butt;stroke-linejoin:miter;stroke-opacity:1\" inkscape:export-filename=\"C:\\Users\\Patricia\\Desktop\\bitmap.png\" inkscape:export-xdpi=\"300\" inkscape:export-ydpi=\"300\"/>\n    <path inkscape:connector-curvature=\"0\" id=\"path16931-7-8-9-5\" d=\"M 33.475798,-0.09865347 H 27.843991\" style=\"fill:none;stroke:#000000;stroke-width:0.75090754px;stroke-linecap:butt;stroke-linejoin:miter;stroke-opacity:1\" inkscape:export-filename=\"C:\\Users\\Patricia\\Desktop\\bitmap.png\" inkscape:export-xdpi=\"300\" inkscape:export-ydpi=\"300\"/>\n    <path style=\"fill:none;stroke:#000000;stroke-width:0.75090742px;stroke-linecap:butt;stroke-linejoin:miter;stroke-opacity:1\" d=\"M 31.598507,-0.09865347 H 87.165634\" id=\"path20686-1-3-1\" inkscape:connector-curvature=\"0\" inkscape:export-filename=\"C:\\Users\\Patricia\\Desktop\\bitmap.png\" inkscape:export-xdpi=\"300\" inkscape:export-ydpi=\"300\"/>\n    <path inkscape:connector-curvature=\"0\" id=\"path20739-6-2\" d=\"M 27.843991,-0.09865347 H 24.089408\" style=\"fill:none;stroke:#000000;stroke-width:0.75090754px;stroke-linecap:butt;stroke-linejoin:miter;stroke-opacity:1\" inkscape:export-filename=\"C:\\Users\\Patricia\\Desktop\\bitmap.png\" inkscape:export-xdpi=\"300\" inkscape:export-ydpi=\"300\"/>\n    <g id=\"g8672\" transform=\"matrix(0.47063851,0,0,0.70397576,-36.535902,-80.431255)\" style=\"stroke-width:1.22306651;stroke-miterlimit:4;stroke-dasharray:none;stroke-linecap:round\">\n      <path style=\"fill:none;stroke:#000000;stroke-width:1.22306651;stroke-linecap:round;stroke-linejoin:miter;stroke-opacity:1;stroke-miterlimit:4;stroke-dasharray:none\" d=\"m 224,132.65299 h 21.33333\" id=\"path46037-1-7-3-6\" inkscape:connector-curvature=\"0\"/>\n      <path style=\"fill:none;stroke:#000000;stroke-width:1.22306651;stroke-linecap:round;stroke-linejoin:miter;stroke-opacity:1;stroke-miterlimit:4;stroke-dasharray:none\" d=\"m 224,136.90642 h 21.33333\" id=\"path46037-1-9-4-7-4\" inkscape:connector-curvature=\"0\"/>\n    </g>\n    <text id=\"text20936-6-4-4\" y=\"-9.8604555\" x=\"17.143641\" style=\"font-style:normal;font-variant:normal;font-weight:normal;font-stretch:normal;font-size:5.1280508px;line-height:1.25;font-family:arial;-inkscape-font-specification:arial;font-variant-ligatures:normal;font-variant-position:normal;font-variant-caps:normal;font-variant-numeric:normal;font-variant-alternates:normal;font-feature-settings:normal;text-indent:0;text-align:start;text-decoration:none;text-decoration-line:none;text-decoration-style:solid;text-decoration-color:#000000;letter-spacing:0px;word-spacing:0px;text-transform:none;writing-mode:lr-tb;direction:ltr;text-orientation:mixed;dominant-baseline:auto;baseline-shift:baseline;text-anchor:start;white-space:normal;shape-padding:0;opacity:1;vector-effect:none;fill:#000000;fill-opacity:1;stroke:none;stroke-width:0.64100635;stroke-linecap:butt;stroke-linejoin:miter;stroke-miterlimit:4;stroke-dasharray:none;stroke-dashoffset:0;stroke-opacity:1\" xml:space=\"preserve\" inkscape:export-filename=\"C:\\Users\\Patricia\\Desktop\\bitmap.png\" inkscape:export-xdpi=\"300\" inkscape:export-ydpi=\"300\"><tspan y=\"-9.8604555\" x=\"17.143641\" id=\"tspan20938-6-23-7\" sodipodi:role=\"line\" style=\"font-style:normal;font-variant:normal;font-weight:normal;font-stretch:normal;font-size:5.1280508px;line-height:1.25;font-family:arial;-inkscape-font-specification:arial;font-variant-ligatures:normal;font-variant-position:normal;font-variant-caps:normal;font-variant-numeric:normal;font-variant-alternates:normal;font-feature-settings:normal;text-indent:0;text-align:start;text-decoration:none;text-decoration-line:none;text-decoration-style:solid;text-decoration-color:#000000;letter-spacing:0px;word-spacing:0px;text-transform:none;writing-mode:lr-tb;direction:ltr;text-orientation:mixed;dominant-baseline:auto;baseline-shift:baseline;text-anchor:start;white-space:normal;shape-padding:0;vector-effect:none;fill:#000000;fill-opacity:1;stroke:none;stroke-width:0.64100635;stroke-linecap:butt;stroke-linejoin:miter;stroke-miterlimit:4;stroke-dasharray:none;stroke-dashoffset:0;stroke-opacity:1\">B2</tspan></text>\n    <text id=\"text20936-6-4-4-4\" y=\"-9.8604555\" x=\"80.222198\" style=\"font-style:normal;font-variant:normal;font-weight:normal;font-stretch:normal;font-size:5.1280508px;line-height:1.25;font-family:arial;-inkscape-font-specification:arial;font-variant-ligatures:normal;font-variant-position:normal;font-variant-caps:normal;font-variant-numeric:normal;font-variant-alternates:normal;font-feature-settings:normal;text-indent:0;text-align:start;text-decoration:none;text-decoration-line:none;text-decoration-style:solid;text-decoration-color:#000000;letter-spacing:0px;word-spacing:0px;text-transform:none;writing-mode:lr-tb;direction:ltr;text-orientation:mixed;dominant-baseline:auto;baseline-shift:baseline;text-anchor:start;white-space:normal;shape-padding:0;opacity:1;vector-effect:none;fill:#000000;fill-opacity:1;stroke:none;stroke-width:0.64100635;stroke-linecap:butt;stroke-linejoin:miter;stroke-miterlimit:4;stroke-dasharray:none;stroke-dashoffset:0;stroke-opacity:1\" xml:space=\"preserve\" inkscape:export-filename=\"C:\\Users\\Patricia\\Desktop\\bitmap.png\" inkscape:export-xdpi=\"300\" inkscape:export-ydpi=\"300\"><tspan y=\"-9.8604555\" x=\"80.222198\" id=\"tspan20938-6-23-7-2\" sodipodi:role=\"line\" style=\"font-style:normal;font-variant:normal;font-weight:normal;font-stretch:normal;font-size:5.1280508px;line-height:1.25;font-family:arial;-inkscape-font-specification:arial;font-variant-ligatures:normal;font-variant-position:normal;font-variant-caps:normal;font-variant-numeric:normal;font-variant-alternates:normal;font-feature-settings:normal;text-indent:0;text-align:start;text-decoration:none;text-decoration-line:none;text-decoration-style:solid;text-decoration-color:#000000;letter-spacing:0px;word-spacing:0px;text-transform:none;writing-mode:lr-tb;direction:ltr;text-orientation:mixed;dominant-baseline:auto;baseline-shift:baseline;text-anchor:start;white-space:normal;shape-padding:0;vector-effect:none;fill:#000000;fill-opacity:1;stroke:none;stroke-width:0.64100635;stroke-linecap:butt;stroke-linejoin:miter;stroke-miterlimit:4;stroke-dasharray:none;stroke-dashoffset:0;stroke-opacity:1\">B3</tspan></text>\n    <path inkscape:connector-curvature=\"0\" id=\"path4612-2-8-3-9-7\" d=\"M 99.180177,-7.6077307 V 7.4104154\" style=\"fill:none;stroke:#000000;stroke-width:1.50181508;stroke-linecap:butt;stroke-linejoin:miter;stroke-opacity:1\" inkscape:export-filename=\"C:\\Users\\Patricia\\Desktop\\bitmap.png\" inkscape:export-xdpi=\"300\" inkscape:export-ydpi=\"300\"/>\n    <path inkscape:connector-curvature=\"0\" id=\"path4704-5-8-2-7-8\" d=\"M 99.180177,-0.09865347 H 111.19472 V 11.164958\" style=\"fill:none;stroke:#000000;stroke-width:0.75090754px;stroke-linecap:butt;stroke-linejoin:round;stroke-opacity:1;marker-mid:none;marker-end:url(#marker7868-6)\" inkscape:export-filename=\"C:\\Users\\Patricia\\Desktop\\bitmap.png\" inkscape:export-xdpi=\"300\" inkscape:export-ydpi=\"300\"/>\n    <text id=\"text20936-6-4-4-4-1\" y=\"-9.8604555\" x=\"95.977646\" style=\"font-style:normal;font-variant:normal;font-weight:normal;font-stretch:normal;font-size:5.1280508px;line-height:1.25;font-family:arial;-inkscape-font-specification:arial;font-variant-ligatures:normal;font-variant-position:normal;font-variant-caps:normal;font-variant-numeric:normal;font-variant-alternates:normal;font-feature-settings:normal;text-indent:0;text-align:start;text-decoration:none;text-decoration-line:none;text-decoration-style:solid;text-decoration-color:#000000;letter-spacing:0px;word-spacing:0px;text-transform:none;writing-mode:lr-tb;direction:ltr;text-orientation:mixed;dominant-baseline:auto;baseline-shift:baseline;text-anchor:start;white-space:normal;shape-padding:0;opacity:1;vector-effect:none;fill:#000000;fill-opacity:1;stroke:none;stroke-width:0.64100635;stroke-linecap:butt;stroke-linejoin:miter;stroke-miterlimit:4;stroke-dasharray:none;stroke-dashoffset:0;stroke-opacity:1\" xml:space=\"preserve\" inkscape:export-filename=\"C:\\Users\\Patricia\\Desktop\\bitmap.png\" inkscape:export-xdpi=\"300\" inkscape:export-ydpi=\"300\"><tspan y=\"-9.8604555\" x=\"95.977646\" id=\"tspan20938-6-23-7-2-9\" sodipodi:role=\"line\" style=\"font-style:normal;font-variant:normal;font-weight:normal;font-stretch:normal;font-size:5.1280508px;line-height:1.25;font-family:arial;-inkscape-font-specification:arial;font-variant-ligatures:normal;font-variant-position:normal;font-variant-caps:normal;font-variant-numeric:normal;font-variant-alternates:normal;font-feature-settings:normal;text-indent:0;text-align:start;text-decoration:none;text-decoration-line:none;text-decoration-style:solid;text-decoration-color:#000000;letter-spacing:0px;word-spacing:0px;text-transform:none;writing-mode:lr-tb;direction:ltr;text-orientation:mixed;dominant-baseline:auto;baseline-shift:baseline;text-anchor:start;white-space:normal;shape-padding:0;vector-effect:none;fill:#000000;fill-opacity:1;stroke:none;stroke-width:0.64100635;stroke-linecap:butt;stroke-linejoin:miter;stroke-miterlimit:4;stroke-dasharray:none;stroke-dashoffset:0;stroke-opacity:1\">B4</tspan></text>\n    <path style=\"fill:none;stroke:#000000;stroke-width:0.75090742px;stroke-linecap:butt;stroke-linejoin:miter;stroke-opacity:1\" d=\"M 87.165634,-0.09865347 H 107.70996\" id=\"path20686-1-3-1-0\" inkscape:connector-curvature=\"0\" inkscape:export-filename=\"C:\\Users\\Patricia\\Desktop\\bitmap.png\" inkscape:export-xdpi=\"300\" inkscape:export-ydpi=\"300\"/>\n    <path style=\"fill:none;stroke:#000000;stroke-width:0.704;stroke-linecap:round;stroke-linejoin:round;stroke-miterlimit:4;stroke-dasharray:none;stroke-opacity:1\" d=\"M 73.90727,12.811049 V 3.9423447 h 9.25525\" id=\"path20686-1-3-1-0-3\" inkscape:connector-curvature=\"0\" inkscape:export-filename=\"C:\\Users\\Patricia\\Desktop\\bitmap.png\" inkscape:export-xdpi=\"300\" inkscape:export-ydpi=\"300\" sodipodi:nodetypes=\"ccc\"/>\n    <g id=\"g29464\" ns0:jacobian_sqrt=\"0.479209\" inkscapeversion=\"0.92.4\" ns0:alignment=\"middle center\" ns0:scale=\"1.35838708846\" ns0:preamble=\"C:\\\\Users\\\\jmmau\\\\AppData\\\\Roaming\\\\inkscape\\\\extensions\\\\textext\\\\default_packages.tex\" ns0:text=\"$\\\\sf I_{L} =$\" ns0:pdfconverter=\"pdf2svg\" ns0:texconverter=\"pdflatex\" ns0:version=\"0.9.1\" transform=\"matrix(0.479209,0,0,0.479209,-31.313663,-67.220139)\">\n      <g id=\"g29462\">\n        <g id=\"g29452\" style=\"fill:#000000;fill-opacity:1\">\n          <path id=\"path29450\" transform=\"translate(148.712,134.765)\" d=\"M 1.828125,-6.921875 H 0.9375 V 0 h 0.890625 z m 0,0\" style=\"stroke:none;stroke-width:0\" inkscape:connector-curvature=\"0\"/>\n        </g>\n        <g id=\"g29456\" style=\"fill:#000000;fill-opacity:1\">\n          <path id=\"path29454\" transform=\"translate(151.48,136.259)\" d=\"M 1.375,-4.84375 H 0.671875 V 0 H 3.71875 v -0.5 c -0.671875,0 -1.328125,0.015625 -1.984375,0.015625 H 1.375 Z m 0,0\" style=\"stroke:none;stroke-width:0\" inkscape:connector-curvature=\"0\"/>\n        </g>\n        <g id=\"g29460\" style=\"fill:#000000;fill-opacity:1\">\n          <path id=\"path29458\" transform=\"translate(158.777,134.765)\" d=\"m 6.84375,-3.265625 c 0.15625,0 0.34375,0 0.34375,-0.1875 C 7.1875,-3.65625 7,-3.65625 6.859375,-3.65625 h -5.96875 c -0.140625,0 -0.328125,0 -0.328125,0.203125 0,0.1875 0.1875,0.1875 0.328125,0.1875 z m 0.015625,1.9375 c 0.140625,0 0.328125,0 0.328125,-0.203125 0,-0.1875 -0.1875,-0.1875 -0.34375,-0.1875 H 0.890625 c -0.140625,0 -0.328125,0 -0.328125,0.1875 0,0.203125 0.1875,0.203125 0.328125,0.203125 z m 0,0\" style=\"stroke:none;stroke-width:0\" inkscape:connector-curvature=\"0\"/>\n        </g>\n      </g>\n    </g>\n    <text xml:space=\"preserve\" style=\"font-style:normal;font-variant:normal;font-weight:normal;font-stretch:normal;font-size:3.70974803px;line-height:1.25;font-family:'Latin Modern Sans';-inkscape-font-specification:'Latin Modern Sans';text-align:center;letter-spacing:0px;word-spacing:0px;text-anchor:middle;fill:#000000;fill-opacity:1;stroke:none;stroke-width:0.56607127\" x=\"56.370071\" y=\"21.179079\" id=\"I_cap\" inkscape:label=\"#text20176\"><tspan sodipodi:role=\"line\" x=\"56.370071\" y=\"21.179079\" style=\"font-style:normal;font-variant:normal;font-weight:normal;font-stretch:normal;font-family:'Lucida Console';-inkscape-font-specification:'Lucida Console';stroke-width:0.56607127\" id=\"tspan28562-6\">000 A</tspan></text>\n    <text xml:space=\"preserve\" style=\"font-style:normal;font-variant:normal;font-weight:normal;font-stretch:normal;font-size:3.84299755px;line-height:1.25;font-family:'Latin Modern Sans';-inkscape-font-specification:'Latin Modern Sans';text-align:center;letter-spacing:0px;word-spacing:0px;text-anchor:middle;fill:#000000;fill-opacity:1;stroke:none;stroke-width:0.58640391\" x=\"45.325497\" y=\"5.750638\" id=\"Q_red\" inkscape:label=\"#text20176\"><tspan sodipodi:role=\"line\" x=\"45.325497\" y=\"5.750638\" style=\"font-style:normal;font-variant:normal;font-weight:normal;font-stretch:normal;font-family:'Lucida Console';-inkscape-font-specification:'Lucida Console';stroke-width:0.58640391\" id=\"tspan28562-0\">-000 kvar</tspan></text>\n    <g id=\"g30065\" ns0:jacobian_sqrt=\"0.479209\" inkscapeversion=\"0.92.4\" ns0:alignment=\"middle center\" ns0:scale=\"1.35838706011\" ns0:preamble=\"C:\\\\Users\\\\jmmau\\\\AppData\\\\Roaming\\\\inkscape\\\\extensions\\\\textext\\\\default_packages.tex\" ns0:text=\"$\\\\sf I_{cap}$=\" ns0:pdfconverter=\"pdf2svg\" ns0:texconverter=\"pdflatex\" ns0:version=\"0.9.1\" transform=\"matrix(0.44411589,0,0,0.44411589,-26.581474,-39.050629)\">\n      <g id=\"g30063\">\n        <g id=\"g30049\" style=\"fill:#000000;fill-opacity:1\">\n          <path id=\"path30047\" transform=\"translate(148.712,134.765)\" d=\"M 1.828125,-6.921875 H 0.9375 V 0 h 0.890625 z m 0,0\" style=\"stroke:none;stroke-width:0\" inkscape:connector-curvature=\"0\"/>\n        </g>\n        <g id=\"g30057\" style=\"fill:#000000;fill-opacity:1\">\n          <path id=\"path30051\" transform=\"translate(151.48,136.259)\" d=\"M 3.03125,-0.765625 C 2.6875,-0.53125 2.3125,-0.40625 1.875,-0.40625 c -0.640625,0 -1.015625,-0.515625 -1.015625,-1.140625 0,-0.546875 0.28125,-1.171875 1.03125,-1.171875 0.484375,0 0.703125,0.09375 1.0625,0.328125 L 3.03125,-2.90625 C 2.625,-3.109375 2.4375,-3.203125 1.890625,-3.203125 c -1.046875,0 -1.640625,0.84375 -1.640625,1.65625 0,0.84375 0.671875,1.609375 1.625,1.609375 0.484375,0 0.90625,-0.140625 1.203125,-0.3125 z m 0,0\" style=\"stroke:none;stroke-width:0\" inkscape:connector-curvature=\"0\"/>\n          <path id=\"path30053\" transform=\"translate(154.77303,136.259)\" d=\"m 2.96875,-2 c 0,-0.71875 -0.546875,-1.203125 -1.234375,-1.203125 -0.4375,0 -0.765625,0.09375 -1.15625,0.296875 l 0.03125,0.515625 C 0.84375,-2.546875 1.1875,-2.75 1.734375,-2.75 c 0.3125,0 0.625,0.234375 0.625,0.75 v 0.28125 C 1.328125,-1.6875 0.3125,-1.46875 0.3125,-0.828125 0.3125,-0.46875 0.546875,0.0625 1.15625,0.0625 1.46875,0.0625 2.015625,0 2.390625,-0.265625 V 0 H 2.96875 Z m -0.609375,1.015625 c 0,0.140625 0,0.3125 -0.234375,0.46875 -0.234375,0.125 -0.5,0.125 -0.578125,0.125 -0.390625,0 -0.671875,-0.171875 -0.671875,-0.4375 0,-0.453125 1.171875,-0.484375 1.484375,-0.5 z m 0,0\" style=\"stroke:none;stroke-width:0\" inkscape:connector-curvature=\"0\"/>\n          <path id=\"path30055\" transform=\"translate(158.33246,136.259)\" d=\"M 1.203125,-0.328125 C 1.5625,0 1.96875,0.0625 2.203125,0.0625 2.9375,0.0625 3.5625,-0.640625 3.5625,-1.546875 c 0,-0.84375 -0.453125,-1.609375 -1.140625,-1.609375 -0.3125,0 -0.84375,0.078125 -1.25,0.390625 V -3.09375 H 0.59375 v 4.453125 h 0.609375 z m 0,-1.984375 c 0.15625,-0.203125 0.421875,-0.375 0.765625,-0.375 0.546875,0 1,0.515625 1,1.140625 0,0.6875 -0.53125,1.15625 -1.078125,1.15625 -0.09375,0 -0.28125,-0.015625 -0.453125,-0.15625 C 1.21875,-0.703125 1.203125,-0.8125 1.203125,-0.953125 Z m 0,0\" style=\"stroke:none;stroke-width:0\" inkscape:connector-curvature=\"0\"/>\n        </g>\n        <g id=\"g30061\" style=\"fill:#000000;fill-opacity:1\">\n          <path id=\"path30059\" transform=\"translate(162.657,134.765)\" d=\"m 6.84375,-3.265625 c 0.15625,0 0.34375,0 0.34375,-0.1875 C 7.1875,-3.65625 7,-3.65625 6.859375,-3.65625 h -5.96875 c -0.140625,0 -0.328125,0 -0.328125,0.203125 0,0.1875 0.1875,0.1875 0.328125,0.1875 z m 0.015625,1.9375 c 0.140625,0 0.328125,0 0.328125,-0.203125 0,-0.1875 -0.1875,-0.1875 -0.34375,-0.1875 H 0.890625 c -0.140625,0 -0.328125,0 -0.328125,0.1875 0,0.203125 0.1875,0.203125 0.328125,0.203125 z m 0,0\" style=\"stroke:none;stroke-width:0\" inkscape:connector-curvature=\"0\"/>\n        </g>\n      </g>\n    </g>\n    <g id=\"g30176\" ns0:jacobian_sqrt=\"0.479209\" inkscapeversion=\"0.92.4\" ns0:alignment=\"middle center\" ns0:scale=\"1.35838708846\" ns0:preamble=\"C:\\\\Users\\\\jmmau\\\\AppData\\\\Roaming\\\\inkscape\\\\extensions\\\\textext\\\\default_packages.tex\" ns0:text=\"$\\\\sf Q_{red}$=\" ns0:pdfconverter=\"pdf2svg\" ns0:texconverter=\"pdflatex\" ns0:version=\"0.9.1\" transform=\"matrix(0.479209,0,0,0.479209,-48.464874,-58.75823)\">\n      <g id=\"surface1\">\n        <g id=\"g30161\" style=\"fill:#000000;fill-opacity:1\">\n          <path id=\"path30159\" transform=\"translate(148.712,134.765)\" d=\"m 5.3125,-0.328125 c 1.09375,-0.84375 1.453125,-2.0625 1.453125,-3.109375 0,-2.09375 -1.4375,-3.703125 -3.09375,-3.703125 -1.703125,0 -3.109375,1.625 -3.109375,3.703125 0,2.109375 1.46875,3.65625 3.09375,3.65625 0.15625,0 0.53125,-0.015625 0.953125,-0.171875 L 5.46875,1.25 H 6.5 Z m -1.078125,-0.1875 c -0.015625,0 -0.28125,0.09375 -0.5625,0.09375 -1.171875,0 -2.25,-1.15625 -2.25,-3.015625 C 1.421875,-5.296875 2.5,-6.5 3.65625,-6.5 c 1.203125,0 2.25,1.21875 2.25,3.0625 0,0.640625 -0.109375,1.734375 -1.015625,2.546875 L 4.109375,-1.9375 H 3.21875 Z m 0,0\" style=\"stroke:none;stroke-width:0\" inkscape:connector-curvature=\"0\"/>\n        </g>\n        <g id=\"g30169\" style=\"fill:#000000;fill-opacity:1\">\n          <path id=\"path30163\" transform=\"translate(156.046,136.259)\" d=\"m 1.171875,-1.484375 c 0,-0.75 0.640625,-1.15625 1.25,-1.15625 V -3.15625 C 1.828125,-3.15625 1.40625,-2.875 1.125,-2.5 V -3.140625 H 0.59375 V 0 h 0.578125 z m 0,0\" style=\"stroke:none;stroke-width:0\" inkscape:connector-curvature=\"0\"/>\n          <path id=\"path30165\" transform=\"translate(158.57679,136.259)\" d=\"m 3,-0.765625 c -0.390625,0.28125 -0.828125,0.375 -1.125,0.375 -0.609375,0 -1.078125,-0.5 -1.09375,-1.140625 H 3.0625 c 0,-0.3125 -0.03125,-0.78125 -0.296875,-1.171875 -0.25,-0.359375 -0.671875,-0.5 -1.015625,-0.5 -0.84375,0 -1.5,0.75 -1.5,1.640625 0,0.890625 0.6875,1.625 1.609375,1.625 0.40625,0 0.828125,-0.109375 1.171875,-0.328125 z M 0.828125,-1.9375 C 0.984375,-2.5 1.40625,-2.734375 1.75,-2.734375 c 0.3125,0 0.765625,0.140625 0.890625,0.796875 z m 0,0\" style=\"stroke:none;stroke-width:0\" inkscape:connector-curvature=\"0\"/>\n          <path id=\"path30167\" transform=\"translate(161.86982,136.259)\" d=\"M 3.21875,-4.84375 H 2.640625 v 2.046875 C 2.1875,-3.125 1.734375,-3.15625 1.546875,-3.15625 0.8125,-3.15625 0.25,-2.4375 0.25,-1.546875 0.25,-0.65625 0.796875,0.0625 1.515625,0.0625 c 0.4375,0 0.84375,-0.1875 1.109375,-0.421875 V 0 H 3.21875 Z M 2.625,-0.859375 c -0.171875,0.28125 -0.4375,0.46875 -0.78125,0.46875 -0.484375,0 -0.984375,-0.34375 -0.984375,-1.15625 0,-0.859375 0.59375,-1.15625 1.0625,-1.15625 0.28125,0 0.515625,0.125 0.703125,0.359375 z m 0,0\" style=\"stroke:none;stroke-width:0\" inkscape:connector-curvature=\"0\"/>\n        </g>\n        <g id=\"g30173\" style=\"fill:#000000;fill-opacity:1\">\n          <path id=\"path30171\" transform=\"translate(166.194,134.765)\" d=\"m 6.84375,-3.265625 c 0.15625,0 0.34375,0 0.34375,-0.1875 C 7.1875,-3.65625 7,-3.65625 6.859375,-3.65625 h -5.96875 c -0.140625,0 -0.328125,0 -0.328125,0.203125 0,0.1875 0.1875,0.1875 0.328125,0.1875 z m 0.015625,1.9375 c 0.140625,0 0.328125,0 0.328125,-0.203125 0,-0.1875 -0.1875,-0.1875 -0.34375,-0.1875 H 0.890625 c -0.140625,0 -0.328125,0 -0.328125,0.1875 0,0.203125 0.1875,0.203125 0.328125,0.203125 z m 0,0\" style=\"stroke:none;stroke-width:0\" inkscape:connector-curvature=\"0\"/>\n        </g>\n      </g>\n    </g>\n    <g id=\"g30332\" ns0:jacobian_sqrt=\"0.479209\" inkscapeversion=\"0.92.4\" ns0:alignment=\"middle center\" ns0:scale=\"1.35838703176\" ns0:preamble=\"C:\\\\Users\\\\jmmau\\\\AppData\\\\Roaming\\\\inkscape\\\\extensions\\\\textext\\\\default_packages.tex\" ns0:text=\"$\\\\sf U$=\" ns0:pdfconverter=\"pdf2svg\" ns0:texconverter=\"pdflatex\" ns0:version=\"0.9.1\" transform=\"matrix(0.479209,0,0,0.479209,18.767893,-80.846008)\">\n      <g id=\"g30330\">\n        <g id=\"g30324\" style=\"fill:#000000;fill-opacity:1\">\n          <path id=\"path30322\" transform=\"translate(148.712,134.765)\" d=\"M 5.90625,-6.921875 H 5.140625 V -2.3125 c 0,1.3125 -0.84375,1.96875 -1.6875,1.96875 -0.8125,0 -1.625,-0.625 -1.625,-1.96875 V -6.921875 H 0.9375 v 4.59375 c 0,1.453125 1.171875,2.546875 2.515625,2.546875 1.328125,0 2.453125,-1.09375 2.453125,-2.546875 z m 0,0\" style=\"stroke:none;stroke-width:0\" inkscape:connector-curvature=\"0\"/>\n        </g>\n        <g id=\"g30328\" style=\"fill:#000000;fill-opacity:1\">\n          <path id=\"path30326\" transform=\"translate(155.562,134.765)\" d=\"m 6.84375,-3.265625 c 0.15625,0 0.34375,0 0.34375,-0.1875 C 7.1875,-3.65625 7,-3.65625 6.859375,-3.65625 h -5.96875 c -0.140625,0 -0.328125,0 -0.328125,0.203125 0,0.1875 0.1875,0.1875 0.328125,0.1875 z m 0.015625,1.9375 c 0.140625,0 0.328125,0 0.328125,-0.203125 0,-0.1875 -0.1875,-0.1875 -0.34375,-0.1875 H 0.890625 c -0.140625,0 -0.328125,0 -0.328125,0.1875 0,0.203125 0.1875,0.203125 0.328125,0.203125 z m 0,0\" style=\"stroke:none;stroke-width:0\" inkscape:connector-curvature=\"0\"/>\n        </g>\n      </g>\n    </g>\n    <text xml:space=\"preserve\" style=\"font-style:normal;font-variant:normal;font-weight:normal;font-stretch:normal;font-size:4.61350441px;line-height:1.25;font-family:'Latin Modern Sans';-inkscape-font-specification:'Latin Modern Sans';text-align:center;letter-spacing:0px;word-spacing:0px;text-anchor:middle;fill:#000000;fill-opacity:1;stroke:none;stroke-width:0.70397568\" x=\"105.43847\" y=\"-16.308502\" id=\"U_carga\" inkscape:label=\"#text20176\"><tspan sodipodi:role=\"line\" x=\"105.43847\" y=\"-16.308502\" style=\"font-style:normal;font-variant:normal;font-weight:normal;font-stretch:normal;font-family:'Lucida Console';-inkscape-font-specification:'Lucida Console';stroke-width:0.70397568\" id=\"tspan28562-6-6\">000 V</tspan></text>\n    <text xml:space=\"preserve\" style=\"font-style:normal;font-variant:normal;font-weight:normal;font-stretch:normal;font-size:4.03235197px;line-height:1.25;font-family:'Latin Modern Sans';-inkscape-font-specification:'Latin Modern Sans';text-align:center;letter-spacing:0px;word-spacing:0px;text-anchor:middle;fill:#000000;fill-opacity:1;stroke:none;stroke-width:0.6152975\" x=\"11.44358\" y=\"20.908615\" id=\"P_perd\" inkscape:label=\"#text20176\"><tspan sodipodi:role=\"line\" x=\"11.443579\" y=\"20.908615\" style=\"font-style:normal;font-variant:normal;font-weight:normal;font-stretch:normal;font-family:'Lucida Console';-inkscape-font-specification:'Lucida Console';stroke-width:0.6152975\" id=\"tspan28562-6-2\">00.0 kW</tspan></text>\n    <g id=\"g31458\" ns0:jacobian_sqrt=\"0.479209\" inkscapeversion=\"0.92.4\" ns0:alignment=\"middle center\" ns0:scale=\"1.35838703176\" ns0:preamble=\"C:\\\\Users\\\\jmmau\\\\AppData\\\\Roaming\\\\inkscape\\\\extensions\\\\textext\\\\default_packages.tex\" ns0:text=\"$\\\\sf P_{perd}$=\" ns0:pdfconverter=\"pdf2svg\" ns0:texconverter=\"pdflatex\" ns0:version=\"0.9.1\" transform=\"matrix(0.479209,0.000000,0.000000,0.479209,-81.953302,-43.750013)\">\n      <g id=\"g31456\">\n        <g id=\"g31438\" style=\"fill:rgb(0%,0%,0%);fill-opacity:1;\">\n          <path id=\"path31436\" transform=\"translate(148.712,134.765)\" d=\"M 3.515625 -2.875 C 4.75 -2.875 5.796875 -3.78125 5.796875 -4.90625 C 5.796875 -5.96875 4.8125 -6.921875 3.4375 -6.921875 L 0.953125 -6.921875 L 0.953125 0 L 1.84375 0 L 1.84375 -2.875 Z M 3.21875 -6.359375 C 4.3125 -6.359375 5 -5.75 5 -4.90625 C 5 -4.109375 4.359375 -3.453125 3.21875 -3.453125 L 1.8125 -3.453125 L 1.8125 -6.359375 Z M 3.21875 -6.359375 \" style=\"stroke:none;stroke-width:0\"/>\n        </g>\n        <g id=\"g31442\" style=\"fill:rgb(0%,0%,0%);fill-opacity:1;\">\n          <path id=\"path31440\" transform=\"translate(155.077,136.259)\" d=\"M 1.203125 -0.328125 C 1.5625 0 1.96875 0.0625 2.203125 0.0625 C 2.9375 0.0625 3.5625 -0.640625 3.5625 -1.546875 C 3.5625 -2.390625 3.109375 -3.15625 2.421875 -3.15625 C 2.109375 -3.15625 1.578125 -3.078125 1.171875 -2.765625 L 1.171875 -3.09375 L 0.59375 -3.09375 L 0.59375 1.359375 L 1.203125 1.359375 Z M 1.203125 -2.3125 C 1.359375 -2.515625 1.625 -2.6875 1.96875 -2.6875 C 2.515625 -2.6875 2.96875 -2.171875 2.96875 -1.546875 C 2.96875 -0.859375 2.4375 -0.390625 1.890625 -0.390625 C 1.796875 -0.390625 1.609375 -0.40625 1.4375 -0.546875 C 1.21875 -0.703125 1.203125 -0.8125 1.203125 -0.953125 Z M 1.203125 -2.3125 \" style=\"stroke:none;stroke-width:0\"/>\n        </g>\n        <g id=\"g31450\" style=\"fill:rgb(0%,0%,0%);fill-opacity:1;\">\n          <path id=\"path31444\" transform=\"translate(159.112041,136.259)\" d=\"M 3 -0.765625 C 2.609375 -0.484375 2.171875 -0.390625 1.875 -0.390625 C 1.265625 -0.390625 0.796875 -0.890625 0.78125 -1.53125 L 3.0625 -1.53125 C 3.0625 -1.84375 3.03125 -2.3125 2.765625 -2.703125 C 2.515625 -3.0625 2.09375 -3.203125 1.75 -3.203125 C 0.90625 -3.203125 0.25 -2.453125 0.25 -1.5625 C 0.25 -0.671875 0.9375 0.0625 1.859375 0.0625 C 2.265625 0.0625 2.6875 -0.046875 3.03125 -0.265625 Z M 0.828125 -1.9375 C 0.984375 -2.5 1.40625 -2.734375 1.75 -2.734375 C 2.0625 -2.734375 2.515625 -2.59375 2.640625 -1.9375 Z M 0.828125 -1.9375 \" style=\"stroke:none;stroke-width:0\"/>\n          <path id=\"path31446\" transform=\"translate(162.405069,136.259)\" d=\"M 1.171875 -1.484375 C 1.171875 -2.234375 1.8125 -2.640625 2.421875 -2.640625 L 2.421875 -3.15625 C 1.828125 -3.15625 1.40625 -2.875 1.125 -2.5 L 1.125 -3.140625 L 0.59375 -3.140625 L 0.59375 0 L 1.171875 0 Z M 1.171875 -1.484375 \" style=\"stroke:none;stroke-width:0\"/>\n          <path id=\"path31448\" transform=\"translate(164.935861,136.259)\" d=\"M 3.21875 -4.84375 L 2.640625 -4.84375 L 2.640625 -2.796875 C 2.1875 -3.125 1.734375 -3.15625 1.546875 -3.15625 C 0.8125 -3.15625 0.25 -2.4375 0.25 -1.546875 C 0.25 -0.65625 0.796875 0.0625 1.515625 0.0625 C 1.953125 0.0625 2.359375 -0.125 2.625 -0.359375 L 2.625 0 L 3.21875 0 Z M 2.625 -0.859375 C 2.453125 -0.578125 2.1875 -0.390625 1.84375 -0.390625 C 1.359375 -0.390625 0.859375 -0.734375 0.859375 -1.546875 C 0.859375 -2.40625 1.453125 -2.703125 1.921875 -2.703125 C 2.203125 -2.703125 2.4375 -2.578125 2.625 -2.34375 Z M 2.625 -0.859375 \" style=\"stroke:none;stroke-width:0\"/>\n        </g>\n        <g id=\"g31454\" style=\"fill:rgb(0%,0%,0%);fill-opacity:1;\">\n          <path id=\"path31452\" transform=\"translate(169.257,134.765)\" d=\"M 6.84375 -3.265625 C 7 -3.265625 7.1875 -3.265625 7.1875 -3.453125 C 7.1875 -3.65625 7 -3.65625 6.859375 -3.65625 L 0.890625 -3.65625 C 0.75 -3.65625 0.5625 -3.65625 0.5625 -3.453125 C 0.5625 -3.265625 0.75 -3.265625 0.890625 -3.265625 Z M 6.859375 -1.328125 C 7 -1.328125 7.1875 -1.328125 7.1875 -1.53125 C 7.1875 -1.71875 7 -1.71875 6.84375 -1.71875 L 0.890625 -1.71875 C 0.75 -1.71875 0.5625 -1.71875 0.5625 -1.53125 C 0.5625 -1.328125 0.75 -1.328125 0.890625 -1.328125 Z M 6.859375 -1.328125 \" style=\"stroke:none;stroke-width:0\"/>\n        </g>\n      </g>\n    </g>\n    <text xml:space=\"preserve\" style=\"font-style:normal;font-variant:normal;font-weight:normal;font-stretch:normal;font-size:3.57188439px;line-height:1.25;font-family:'Latin Modern Sans';-inkscape-font-specification:'Latin Modern Sans';text-align:center;letter-spacing:0px;word-spacing:0px;text-anchor:middle;fill:#000000;fill-opacity:1;stroke:none;stroke-width:0.54503465\" x=\"58.586636\" y=\"15.915075\" id=\"Q_cap\" inkscape:label=\"#text20176\"><tspan sodipodi:role=\"line\" x=\"58.586636\" y=\"15.915075\" style=\"font-style:normal;font-variant:normal;font-weight:normal;font-stretch:normal;font-family:'Lucida Console';-inkscape-font-specification:'Lucida Console';stroke-width:0.54503465\" id=\"tspan28562-6-5\"> -00 kvar</tspan></text>\n    <g id=\"g31659\" ns0:jacobian_sqrt=\"0.479209\" inkscapeversion=\"0.92.4\" ns0:alignment=\"middle center\" ns0:scale=\"1.35838703176\" ns0:preamble=\"C:\\\\Users\\\\jmmau\\\\AppData\\\\Roaming\\\\inkscape\\\\extensions\\\\textext\\\\default_packages.tex\" ns0:text=\"$\\\\sf Q_{cap}$=\" ns0:pdfconverter=\"pdf2svg\" ns0:texconverter=\"pdflatex\" ns0:version=\"0.9.1\" transform=\"matrix(0.39884084,0,0,0.39884084,-21.100465,-37.92913)\">\n      <g id=\"g31657\">\n        <g id=\"g31643\" style=\"fill:#000000;fill-opacity:1\">\n          <path id=\"path31641\" transform=\"translate(148.712,134.765)\" d=\"m 5.3125,-0.328125 c 1.09375,-0.84375 1.453125,-2.0625 1.453125,-3.109375 0,-2.09375 -1.4375,-3.703125 -3.09375,-3.703125 -1.703125,0 -3.109375,1.625 -3.109375,3.703125 0,2.109375 1.46875,3.65625 3.09375,3.65625 0.15625,0 0.53125,-0.015625 0.953125,-0.171875 L 5.46875,1.25 H 6.5 Z m -1.078125,-0.1875 c -0.015625,0 -0.28125,0.09375 -0.5625,0.09375 -1.171875,0 -2.25,-1.15625 -2.25,-3.015625 C 1.421875,-5.296875 2.5,-6.5 3.65625,-6.5 c 1.203125,0 2.25,1.21875 2.25,3.0625 0,0.640625 -0.109375,1.734375 -1.015625,2.546875 L 4.109375,-1.9375 H 3.21875 Z m 0,0\" style=\"stroke:none;stroke-width:0\" inkscape:connector-curvature=\"0\"/>\n        </g>\n        <g id=\"g31651\" style=\"fill:#000000;fill-opacity:1\">\n          <path id=\"path31645\" transform=\"translate(156.046,136.259)\" d=\"M 3.03125,-0.765625 C 2.6875,-0.53125 2.3125,-0.40625 1.875,-0.40625 c -0.640625,0 -1.015625,-0.515625 -1.015625,-1.140625 0,-0.546875 0.28125,-1.171875 1.03125,-1.171875 0.484375,0 0.703125,0.09375 1.0625,0.328125 L 3.03125,-2.90625 C 2.625,-3.109375 2.4375,-3.203125 1.890625,-3.203125 c -1.046875,0 -1.640625,0.84375 -1.640625,1.65625 0,0.84375 0.671875,1.609375 1.625,1.609375 0.484375,0 0.90625,-0.140625 1.203125,-0.3125 z m 0,0\" style=\"stroke:none;stroke-width:0\" inkscape:connector-curvature=\"0\"/>\n          <path id=\"path31647\" transform=\"translate(159.33903,136.259)\" d=\"m 2.96875,-2 c 0,-0.71875 -0.546875,-1.203125 -1.234375,-1.203125 -0.4375,0 -0.765625,0.09375 -1.15625,0.296875 l 0.03125,0.515625 C 0.84375,-2.546875 1.1875,-2.75 1.734375,-2.75 c 0.3125,0 0.625,0.234375 0.625,0.75 v 0.28125 C 1.328125,-1.6875 0.3125,-1.46875 0.3125,-0.828125 0.3125,-0.46875 0.546875,0.0625 1.15625,0.0625 1.46875,0.0625 2.015625,0 2.390625,-0.265625 V 0 H 2.96875 Z m -0.609375,1.015625 c 0,0.140625 0,0.3125 -0.234375,0.46875 -0.234375,0.125 -0.5,0.125 -0.578125,0.125 -0.390625,0 -0.671875,-0.171875 -0.671875,-0.4375 0,-0.453125 1.171875,-0.484375 1.484375,-0.5 z m 0,0\" style=\"stroke:none;stroke-width:0\" inkscape:connector-curvature=\"0\"/>\n          <path id=\"path31649\" transform=\"translate(162.89846,136.259)\" d=\"M 1.203125,-0.328125 C 1.5625,0 1.96875,0.0625 2.203125,0.0625 2.9375,0.0625 3.5625,-0.640625 3.5625,-1.546875 c 0,-0.84375 -0.453125,-1.609375 -1.140625,-1.609375 -0.3125,0 -0.84375,0.078125 -1.25,0.390625 V -3.09375 H 0.59375 v 4.453125 h 0.609375 z m 0,-1.984375 c 0.15625,-0.203125 0.421875,-0.375 0.765625,-0.375 0.546875,0 1,0.515625 1,1.140625 0,0.6875 -0.53125,1.15625 -1.078125,1.15625 -0.09375,0 -0.28125,-0.015625 -0.453125,-0.15625 C 1.21875,-0.703125 1.203125,-0.8125 1.203125,-0.953125 Z m 0,0\" style=\"stroke:none;stroke-width:0\" inkscape:connector-curvature=\"0\"/>\n        </g>\n        <g id=\"g31655\" style=\"fill:#000000;fill-opacity:1\">\n          <path id=\"path31653\" transform=\"translate(167.223,134.765)\" d=\"m 6.84375,-3.265625 c 0.15625,0 0.34375,0 0.34375,-0.1875 C 7.1875,-3.65625 7,-3.65625 6.859375,-3.65625 h -5.96875 c -0.140625,0 -0.328125,0 -0.328125,0.203125 0,0.1875 0.1875,0.1875 0.328125,0.1875 z m 0.015625,1.9375 c 0.140625,0 0.328125,0 0.328125,-0.203125 0,-0.1875 -0.1875,-0.1875 -0.34375,-0.1875 H 0.890625 c -0.140625,0 -0.328125,0 -0.328125,0.1875 0,0.203125 0.1875,0.203125 0.328125,0.203125 z m 0,0\" style=\"stroke:none;stroke-width:0\" inkscape:connector-curvature=\"0\"/>\n        </g>\n      </g>\n    </g>\n    <path style=\"opacity:1;vector-effect:none;fill:none;fill-opacity:1;stroke:#000000;stroke-width:0.68431467;stroke-linecap:round;stroke-linejoin:round;stroke-miterlimit:4;stroke-dasharray:none;stroke-dashoffset:0;stroke-opacity:1\" d=\"m 73.907268,15.947546 v 8.563529\" id=\"path20686-1-3-1-0-8\" inkscape:connector-curvature=\"0\" inkscape:export-filename=\"C:\\Users\\Patricia\\Desktop\\bitmap.png\" inkscape:export-xdpi=\"300\" inkscape:export-ydpi=\"300\"/>\n  </g>\n</svg>"
      }
     },
     "9878a4edc1ca473d9372241f084b3ce2": {
      "model_module": "@jupyter-widgets/base",
      "model_module_version": "1.1.0",
      "model_name": "LayoutModel",
      "state": {}
     },
     "9baed84b198a4361a7bb4968c639305a": {
      "model_module": "@jupyter-widgets/base",
      "model_module_version": "1.1.0",
      "model_name": "LayoutModel",
      "state": {}
     },
     "9c78e004c196464797a785d6c07f9fd2": {
      "model_module": "@jupyter-widgets/controls",
      "model_module_version": "1.4.0",
      "model_name": "DescriptionStyleModel",
      "state": {
       "description_width": ""
      }
     },
     "9cbd290e97c44fee91f55767c252b843": {
      "model_module": "@jupyter-widgets/controls",
      "model_module_version": "1.4.0",
      "model_name": "VBoxModel",
      "state": {
       "children": [
        "IPY_MODEL_61725d18313c4db19155db152a071d1f",
        "IPY_MODEL_5a44465b7754434891786dc07c907338",
        "IPY_MODEL_f4d850b06c06476698b6a2d545a9b4ff",
        "IPY_MODEL_f4a3e11eb40d4868a782f451a60db559"
       ],
       "layout": "IPY_MODEL_c7cc473277bc4d089b3c54709456a665"
      }
     },
     "9e1fc83ad27c4059879c850b76e24ec2": {
      "model_module": "@jupyter-widgets/base",
      "model_module_version": "1.1.0",
      "model_name": "LayoutModel",
      "state": {}
     },
     "9ef8a0c685fc421b87b4e98aa260f169": {
      "model_module": "@jupyter-widgets/base",
      "model_module_version": "1.1.0",
      "model_name": "LayoutModel",
      "state": {}
     },
     "9f01feac871749f1ac8f46f3608ea44d": {
      "model_module": "@jupyter-widgets/controls",
      "model_module_version": "1.4.0",
      "model_name": "FloatTextModel",
      "state": {
       "description": "Ilinea} (A): ",
       "layout": "IPY_MODEL_5f37774b2cd34bb9895f7e524451c034",
       "step": null,
       "style": "IPY_MODEL_edecb0981ce144d58acfdec3739012be",
       "value": 7.5
      }
     },
     "a76fc466aef84e619d4880d23eaa017f": {
      "model_module": "@jupyter-widgets/controls",
      "model_module_version": "1.4.0",
      "model_name": "FloatTextModel",
      "state": {
       "description": "Pred (kW): ",
       "layout": "IPY_MODEL_a7b846dd04e34f26a718c676cb8bb390",
       "step": null,
       "style": "IPY_MODEL_768b4e67fe0b41ecab4c803ba4bf9ea2",
       "value": 7.5
      }
     },
     "a7ae3afc72254206879af02e3af16862": {
      "model_module": "@jupyter-widgets/base",
      "model_module_version": "1.1.0",
      "model_name": "LayoutModel",
      "state": {}
     },
     "a7b846dd04e34f26a718c676cb8bb390": {
      "model_module": "@jupyter-widgets/base",
      "model_module_version": "1.1.0",
      "model_name": "LayoutModel",
      "state": {}
     },
     "a837064693e84c3e8ab7a76880d79ecf": {
      "model_module": "@jupyter-widgets/base",
      "model_module_version": "1.1.0",
      "model_name": "LayoutModel",
      "state": {}
     },
     "a83d66e209944f248e9b8294318c2d9c": {
      "model_module": "@jupyter-widgets/controls",
      "model_module_version": "1.4.0",
      "model_name": "HBoxModel",
      "state": {
       "children": [
        "IPY_MODEL_92b7d28439294219afad3095581260cb",
        "IPY_MODEL_107976c4419c4527824110bc895b438c"
       ],
       "layout": "IPY_MODEL_0ad797c287e140adbdf296fde691ba10"
      }
     },
     "a84a4f13093e456aae328cef412ff054": {
      "model_module": "@jupyter-widgets/controls",
      "model_module_version": "1.4.0",
      "model_name": "HTMLMathModel",
      "state": {
       "layout": "IPY_MODEL_c5632efa790f46d3bd7f6fb0fdf1dd3e",
       "style": "IPY_MODEL_1f152b57a2424ca8a3926908b35a4e8c",
       "value": "<!-- Created with Inkscape (http://www.inkscape.org/) --><svg xmlns:ns0=\"http://www.iki.fi/pav/software/textext/\" xmlns:dc=\"http://purl.org/dc/elements/1.1/\" xmlns:cc=\"http://creativecommons.org/ns#\" xmlns:rdf=\"http://www.w3.org/1999/02/22-rdf-syntax-ns#\" xmlns:svg=\"http://www.w3.org/2000/svg\" xmlns=\"http://www.w3.org/2000/svg\" xmlns:sodipodi=\"http://sodipodi.sourceforge.net/DTD/sodipodi-0.dtd\" xmlns:inkscape=\"http://www.inkscape.org/namespaces/inkscape\" width=\"129.8232mm\" height=\"44.582893mm\" viewBox=\"0 0 129.8232 44.582894\" version=\"1.1\" id=\"svg19629\" inkscape:version=\"0.92.4 (5da689c313, 2019-01-14)\" sodipodi:docname=\"prueba.svg\">\n  <defs id=\"defs19623\">\n    <marker style=\"overflow:visible\" id=\"Arrow2Mend\" refX=\"0\" refY=\"0\" orient=\"auto\" inkscape:stockid=\"Arrow2Mend\">\n      <path d=\"M -5.5798962,-2.5815905 1.4126653,-0.01024849 -5.5798966,2.561093 c 1.117119,-1.518119 1.1106821,-3.5951692 4e-7,-5.1426835 z\" style=\"font-size:12px;fill-rule:evenodd;stroke-width:0.40000001;stroke-linejoin:round\" id=\"path8281\" inkscape:connector-curvature=\"0\"/>\n    </marker>\n    <marker style=\"overflow:visible\" id=\"marker7868\" refX=\"0\" refY=\"0\" orient=\"auto\" inkscape:stockid=\"Arrow2Mend\">\n      <path d=\"M -5.5798962,-2.5815905 1.4126653,-0.01024849 -5.5798966,2.561093 c 1.117119,-1.518119 1.1106821,-3.5951692 4e-7,-5.1426835 z\" style=\"font-size:12px;fill-rule:evenodd;stroke-width:0.40000001;stroke-linejoin:round\" id=\"path7870\" inkscape:connector-curvature=\"0\"/>\n    </marker>\n    <marker style=\"overflow:visible\" id=\"marker28173\" refX=\"0\" refY=\"0\" orient=\"auto\" inkscape:stockid=\"Arrow2Mend\">\n      <path d=\"M -5.5798962,-2.5815905 1.4126653,-0.01024849 -5.5798966,2.561093 c 1.117119,-1.518119 1.1106821,-3.5951692 4e-7,-5.1426835 z\" style=\"font-size:12px;fill-rule:evenodd;stroke-width:0.40000001;stroke-linejoin:round\" id=\"path28171\" inkscape:connector-curvature=\"0\"/>\n    </marker>\n    <marker style=\"overflow:visible\" id=\"marker28177\" refX=\"0\" refY=\"0\" orient=\"auto\" inkscape:stockid=\"Arrow2Mend\">\n      <path d=\"M -5.5798962,-2.5815905 1.4126653,-0.01024849 -5.5798966,2.561093 c 1.117119,-1.518119 1.1106821,-3.5951692 4e-7,-5.1426835 z\" style=\"font-size:12px;fill-rule:evenodd;stroke-width:0.40000001;stroke-linejoin:round\" id=\"path28175\" inkscape:connector-curvature=\"0\"/>\n    </marker>\n    <marker style=\"overflow:visible\" id=\"marker28181\" refX=\"0\" refY=\"0\" orient=\"auto\" inkscape:stockid=\"Arrow2Mend\">\n      <path d=\"M -5.5798962,-2.5815905 1.4126653,-0.01024849 -5.5798966,2.561093 c 1.117119,-1.518119 1.1106821,-3.5951692 4e-7,-5.1426835 z\" style=\"font-size:12px;fill-rule:evenodd;stroke-width:0.40000001;stroke-linejoin:round\" id=\"path28179\" inkscape:connector-curvature=\"0\"/>\n    </marker>\n    <marker style=\"overflow:visible\" id=\"marker7868-6\" refX=\"0\" refY=\"0\" orient=\"auto\" inkscape:stockid=\"Arrow2Mend\">\n      <path d=\"M -5.5798962,-2.5815905 1.4126653,-0.01024849 -5.5798966,2.561093 c 1.117119,-1.518119 1.1106821,-3.5951692 4e-7,-5.1426835 z\" style=\"font-size:12px;fill-rule:evenodd;stroke-width:0.40000001;stroke-linejoin:round\" id=\"path7870-8\" inkscape:connector-curvature=\"0\"/>\n    </marker>\n  </defs>\n  <sodipodi:namedview id=\"base\" pagecolor=\"#ffffff\" bordercolor=\"#666666\" borderopacity=\"1.0\" inkscape:pageopacity=\"0.0\" inkscape:pageshadow=\"2\" inkscape:zoom=\"2.8\" inkscape:cx=\"371.29664\" inkscape:cy=\"145.45547\" inkscape:document-units=\"mm\" inkscape:current-layer=\"layer1\" showgrid=\"false\" fit-margin-top=\"0\" fit-margin-left=\"0\" fit-margin-right=\"0\" fit-margin-bottom=\"0\" inkscape:window-width=\"3200\" inkscape:window-height=\"1668\" inkscape:window-x=\"-16\" inkscape:window-y=\"-16\" inkscape:window-maximized=\"1\" scale-x=\"2\" inkscape:snap-midpoints=\"true\"/>\n  <metadata id=\"metadata19626\">\n    <rdf:RDF>\n      <cc:Work rdf:about=\"\">\n        <dc:format>image/svg+xml</dc:format>\n        <dc:type rdf:resource=\"http://purl.org/dc/dcmitype/StillImage\"/>\n        <dc:title/>\n      </cc:Work>\n    </rdf:RDF>\n  </metadata>\n  <g inkscape:label=\"Layer 1\" inkscape:groupmode=\"layer\" id=\"layer1\" transform=\"translate(16.361311,19.624458)\">\n    <rect style=\"opacity:1;vector-effect:none;fill:#b3deb3;fill-opacity:0.99493671;fill-rule:evenodd;stroke:none;stroke-width:0.28229246;stroke-linecap:butt;stroke-linejoin:round;stroke-miterlimit:4;stroke-dasharray:none;stroke-dashoffset:0;stroke-opacity:1;marker:none\" id=\"rect31476\" width=\"49.373142\" height=\"16.536459\" x=\"34.429241\" y=\"8.5164728\"/>\n    <text xml:space=\"preserve\" style=\"font-style:normal;font-variant:normal;font-weight:normal;font-stretch:normal;font-size:4.61350441px;line-height:1.25;font-family:'Latin Modern Sans';-inkscape-font-specification:'Latin Modern Sans';text-align:center;letter-spacing:0px;word-spacing:0px;text-anchor:middle;fill:#000000;fill-opacity:1;stroke:none;stroke-width:0.70397568\" x=\"56.659267\" y=\"-2.2677231\" id=\"I_L\" inkscape:label=\"#text20176\"><tspan sodipodi:role=\"line\" x=\"56.659267\" y=\"-2.2677231\" style=\"font-style:normal;font-variant:normal;font-weight:normal;font-stretch:normal;font-family:Arial;-inkscape-font-specification:Arial;stroke-width:0.70397568\" id=\"tspan28562\">150 A</tspan></text>\n    <g transform=\"matrix(0.70397576,0,0,0.70397576,-400.1733,-140.79031)\" id=\"g16785-1\" inkscape:export-filename=\"C:\\Users\\Patricia\\Desktop\\bitmap.png\" inkscape:export-xdpi=\"300\" inkscape:export-ydpi=\"300\">\n      <g transform=\"translate(480,21.333327)\" id=\"g40949-7-7\">\n        <path inkscape:connector-curvature=\"0\" id=\"path4610-1-40\" d=\"m 69.333333,178.51966 h 5.333334\" style=\"fill:none;stroke:#000000;stroke-width:1.06666672px;stroke-linecap:butt;stroke-linejoin:miter;stroke-opacity:1\"/>\n        <path inkscape:connector-curvature=\"0\" id=\"path4612-5-9\" d=\"m 69.333333,167.85299 v 21.33334\" style=\"fill:none;stroke:#000000;stroke-width:2.13333344;stroke-linecap:butt;stroke-linejoin:miter;stroke-opacity:1\"/>\n      </g>\n    </g>\n    <g transform=\"matrix(0.70397576,0,0,0.70397576,-411.4369,-140.79031)\" id=\"g16779-4\" inkscape:export-filename=\"C:\\Users\\Patricia\\Desktop\\bitmap.png\" inkscape:export-xdpi=\"300\" inkscape:export-ydpi=\"300\">\n      <path inkscape:connector-curvature=\"0\" id=\"path70904-5-5-8-3-8\" style=\"display:inline;fill:none;stroke:#000000;stroke-width:1.06666672;stroke-linecap:round;stroke-linejoin:miter;stroke-miterlimit:6;stroke-dasharray:none;stroke-opacity:1\" d=\"m 584.53505,192.38633 c -4.12206,0 -7.46838,3.34297 -7.46838,7.46622 0,4.12326 3.34632,7.46711 7.46838,7.46711 4.12206,0 7.46495,-3.34385 7.46495,-7.46711 0,-4.12325 -3.34289,-7.46622 -7.46495,-7.46622\"/>\n      <path inkscape:connector-curvature=\"0\" id=\"path70904-5-5-8-6-9-82\" style=\"display:inline;fill:none;stroke:#000000;stroke-width:1.06666672;stroke-linecap:round;stroke-linejoin:miter;stroke-miterlimit:6;stroke-dasharray:none;stroke-opacity:1\" d=\"m 594.13505,192.38676 c -4.12206,0 -7.46838,3.34298 -7.46838,7.46623 0,4.12326 3.34632,7.46711 7.46838,7.46711 4.12206,0 7.46495,-3.34385 7.46495,-7.46711 0,-4.12325 -3.34289,-7.46623 -7.46495,-7.46623\"/>\n      <path style=\"fill:none;stroke:#000000;stroke-width:1.0666666px;stroke-linecap:butt;stroke-linejoin:miter;stroke-opacity:1\" d=\"m 570.66667,199.85299 h 6.4\" id=\"path4610-8-6-45\" inkscape:connector-curvature=\"0\"/>\n      <path style=\"fill:none;stroke:#000000;stroke-width:1.0666666px;stroke-linecap:butt;stroke-linejoin:miter;stroke-opacity:1\" d=\"M 601.6,199.85299 H 608\" id=\"path4610-8-4-4-51\" inkscape:connector-curvature=\"0\"/>\n    </g>\n    <g id=\"g16785-0-71\" transform=\"matrix(0.70397576,0,0,0.70397576,-366.38245,-140.79031)\" inkscape:export-filename=\"C:\\Users\\Patricia\\Desktop\\bitmap.png\" inkscape:export-xdpi=\"300\" inkscape:export-ydpi=\"300\">\n      <g transform=\"translate(480,21.333327)\" id=\"g40949-7-4-1\">\n        <path inkscape:connector-curvature=\"0\" id=\"path4610-1-1-5\" d=\"M 64,178.51966 H 74.666667\" style=\"fill:none;stroke:#000000;stroke-width:1.06666672px;stroke-linecap:butt;stroke-linejoin:miter;stroke-opacity:1\"/>\n        <path inkscape:connector-curvature=\"0\" id=\"path4612-5-5-2\" d=\"m 69.333333,167.85299 v 21.33334\" style=\"fill:none;stroke:#000000;stroke-width:2.13333344;stroke-linecap:butt;stroke-linejoin:miter;stroke-opacity:1\"/>\n      </g>\n    </g>\n    <text id=\"text20936-6-4\" y=\"-9.8604555\" x=\"-16.311684\" style=\"font-style:normal;font-weight:normal;font-size:7.69207573px;line-height:0%;font-family:arial;-inkscape-font-specification:arial;letter-spacing:0px;word-spacing:0px;fill:#000000;fill-opacity:1;stroke:none;stroke-width:0.64100635\" xml:space=\"preserve\" inkscape:export-filename=\"C:\\Users\\Patricia\\Desktop\\bitmap.png\" inkscape:export-xdpi=\"300\" inkscape:export-ydpi=\"300\"><tspan y=\"-9.8604555\" x=\"-16.311684\" id=\"tspan20938-6-23\" sodipodi:role=\"line\" style=\"font-size:5.1280508px;line-height:1.25;stroke-width:0.64100635\">B1</tspan></text>\n    <text id=\"text20936-9-22\" y=\"-8.5171785\" x=\"-6.0547891\" style=\"font-style:normal;font-variant:normal;font-weight:normal;font-stretch:normal;font-size:9.01089001px;line-height:0%;font-family:Arial;-inkscape-font-specification:Arial;letter-spacing:0px;word-spacing:0px;fill:#000000;fill-opacity:1;stroke:none;stroke-width:0.75090754\" xml:space=\"preserve\" inkscape:export-filename=\"C:\\Users\\Patricia\\Desktop\\bitmap.png\" inkscape:export-xdpi=\"300\" inkscape:export-ydpi=\"300\"><tspan style=\"font-size:4.505445px;line-height:1.25;stroke-width:0.75090754\" y=\"-8.5171785\" x=\"-6.0547891\" id=\"tspan20938-7-1\" sodipodi:role=\"line\">20/0,4 kV</tspan></text>\n    <path inkscape:connector-curvature=\"0\" id=\"path4612-2-8-3-9\" d=\"M 83.43224,-7.6077307 V 7.4104152\" style=\"fill:none;stroke:#000000;stroke-width:1.50181508;stroke-linecap:butt;stroke-linejoin:miter;stroke-opacity:1\" inkscape:export-filename=\"C:\\Users\\Patricia\\Desktop\\bitmap.png\" inkscape:export-xdpi=\"300\" inkscape:export-ydpi=\"300\"/>\n    <path inkscape:connector-curvature=\"0\" id=\"path16931-7-8-9-5\" d=\"M 33.475798,-0.09865347 H 27.843991\" style=\"fill:none;stroke:#000000;stroke-width:0.75090754px;stroke-linecap:butt;stroke-linejoin:miter;stroke-opacity:1\" inkscape:export-filename=\"C:\\Users\\Patricia\\Desktop\\bitmap.png\" inkscape:export-xdpi=\"300\" inkscape:export-ydpi=\"300\"/>\n    <path style=\"fill:none;stroke:#000000;stroke-width:0.75090742px;stroke-linecap:butt;stroke-linejoin:miter;stroke-opacity:1\" d=\"M 31.598507,-0.09865347 H 87.165634\" id=\"path20686-1-3-1\" inkscape:connector-curvature=\"0\" inkscape:export-filename=\"C:\\Users\\Patricia\\Desktop\\bitmap.png\" inkscape:export-xdpi=\"300\" inkscape:export-ydpi=\"300\"/>\n    <path inkscape:connector-curvature=\"0\" id=\"path20739-6-2\" d=\"M 27.843991,-0.09865347 H 24.089408\" style=\"fill:none;stroke:#000000;stroke-width:0.75090754px;stroke-linecap:butt;stroke-linejoin:miter;stroke-opacity:1\" inkscape:export-filename=\"C:\\Users\\Patricia\\Desktop\\bitmap.png\" inkscape:export-xdpi=\"300\" inkscape:export-ydpi=\"300\"/>\n    <g id=\"g8672\" transform=\"matrix(0.47063851,0,0,0.70397576,-36.535902,-80.431255)\" style=\"stroke-width:1.22306651;stroke-miterlimit:4;stroke-dasharray:none;stroke-linecap:round\">\n      <path style=\"fill:none;stroke:#000000;stroke-width:1.22306651;stroke-linecap:round;stroke-linejoin:miter;stroke-opacity:1;stroke-miterlimit:4;stroke-dasharray:none\" d=\"m 224,132.65299 h 21.33333\" id=\"path46037-1-7-3-6\" inkscape:connector-curvature=\"0\"/>\n      <path style=\"fill:none;stroke:#000000;stroke-width:1.22306651;stroke-linecap:round;stroke-linejoin:miter;stroke-opacity:1;stroke-miterlimit:4;stroke-dasharray:none\" d=\"m 224,136.90642 h 21.33333\" id=\"path46037-1-9-4-7-4\" inkscape:connector-curvature=\"0\"/>\n    </g>\n    <text id=\"text20936-6-4-4\" y=\"-9.8604555\" x=\"17.143641\" style=\"font-style:normal;font-variant:normal;font-weight:normal;font-stretch:normal;font-size:5.1280508px;line-height:1.25;font-family:arial;-inkscape-font-specification:arial;font-variant-ligatures:normal;font-variant-position:normal;font-variant-caps:normal;font-variant-numeric:normal;font-variant-alternates:normal;font-feature-settings:normal;text-indent:0;text-align:start;text-decoration:none;text-decoration-line:none;text-decoration-style:solid;text-decoration-color:#000000;letter-spacing:0px;word-spacing:0px;text-transform:none;writing-mode:lr-tb;direction:ltr;text-orientation:mixed;dominant-baseline:auto;baseline-shift:baseline;text-anchor:start;white-space:normal;shape-padding:0;opacity:1;vector-effect:none;fill:#000000;fill-opacity:1;stroke:none;stroke-width:0.64100635;stroke-linecap:butt;stroke-linejoin:miter;stroke-miterlimit:4;stroke-dasharray:none;stroke-dashoffset:0;stroke-opacity:1\" xml:space=\"preserve\" inkscape:export-filename=\"C:\\Users\\Patricia\\Desktop\\bitmap.png\" inkscape:export-xdpi=\"300\" inkscape:export-ydpi=\"300\"><tspan y=\"-9.8604555\" x=\"17.143641\" id=\"tspan20938-6-23-7\" sodipodi:role=\"line\" style=\"font-style:normal;font-variant:normal;font-weight:normal;font-stretch:normal;font-size:5.1280508px;line-height:1.25;font-family:arial;-inkscape-font-specification:arial;font-variant-ligatures:normal;font-variant-position:normal;font-variant-caps:normal;font-variant-numeric:normal;font-variant-alternates:normal;font-feature-settings:normal;text-indent:0;text-align:start;text-decoration:none;text-decoration-line:none;text-decoration-style:solid;text-decoration-color:#000000;letter-spacing:0px;word-spacing:0px;text-transform:none;writing-mode:lr-tb;direction:ltr;text-orientation:mixed;dominant-baseline:auto;baseline-shift:baseline;text-anchor:start;white-space:normal;shape-padding:0;vector-effect:none;fill:#000000;fill-opacity:1;stroke:none;stroke-width:0.64100635;stroke-linecap:butt;stroke-linejoin:miter;stroke-miterlimit:4;stroke-dasharray:none;stroke-dashoffset:0;stroke-opacity:1\">B2</tspan></text>\n    <text id=\"text20936-6-4-4-4\" y=\"-9.8604555\" x=\"80.222198\" style=\"font-style:normal;font-variant:normal;font-weight:normal;font-stretch:normal;font-size:5.1280508px;line-height:1.25;font-family:arial;-inkscape-font-specification:arial;font-variant-ligatures:normal;font-variant-position:normal;font-variant-caps:normal;font-variant-numeric:normal;font-variant-alternates:normal;font-feature-settings:normal;text-indent:0;text-align:start;text-decoration:none;text-decoration-line:none;text-decoration-style:solid;text-decoration-color:#000000;letter-spacing:0px;word-spacing:0px;text-transform:none;writing-mode:lr-tb;direction:ltr;text-orientation:mixed;dominant-baseline:auto;baseline-shift:baseline;text-anchor:start;white-space:normal;shape-padding:0;opacity:1;vector-effect:none;fill:#000000;fill-opacity:1;stroke:none;stroke-width:0.64100635;stroke-linecap:butt;stroke-linejoin:miter;stroke-miterlimit:4;stroke-dasharray:none;stroke-dashoffset:0;stroke-opacity:1\" xml:space=\"preserve\" inkscape:export-filename=\"C:\\Users\\Patricia\\Desktop\\bitmap.png\" inkscape:export-xdpi=\"300\" inkscape:export-ydpi=\"300\"><tspan y=\"-9.8604555\" x=\"80.222198\" id=\"tspan20938-6-23-7-2\" sodipodi:role=\"line\" style=\"font-style:normal;font-variant:normal;font-weight:normal;font-stretch:normal;font-size:5.1280508px;line-height:1.25;font-family:arial;-inkscape-font-specification:arial;font-variant-ligatures:normal;font-variant-position:normal;font-variant-caps:normal;font-variant-numeric:normal;font-variant-alternates:normal;font-feature-settings:normal;text-indent:0;text-align:start;text-decoration:none;text-decoration-line:none;text-decoration-style:solid;text-decoration-color:#000000;letter-spacing:0px;word-spacing:0px;text-transform:none;writing-mode:lr-tb;direction:ltr;text-orientation:mixed;dominant-baseline:auto;baseline-shift:baseline;text-anchor:start;white-space:normal;shape-padding:0;vector-effect:none;fill:#000000;fill-opacity:1;stroke:none;stroke-width:0.64100635;stroke-linecap:butt;stroke-linejoin:miter;stroke-miterlimit:4;stroke-dasharray:none;stroke-dashoffset:0;stroke-opacity:1\">B3</tspan></text>\n    <path inkscape:connector-curvature=\"0\" id=\"path4612-2-8-3-9-7\" d=\"M 99.180177,-7.6077307 V 7.4104154\" style=\"fill:none;stroke:#000000;stroke-width:1.50181508;stroke-linecap:butt;stroke-linejoin:miter;stroke-opacity:1\" inkscape:export-filename=\"C:\\Users\\Patricia\\Desktop\\bitmap.png\" inkscape:export-xdpi=\"300\" inkscape:export-ydpi=\"300\"/>\n    <path inkscape:connector-curvature=\"0\" id=\"path4704-5-8-2-7-8\" d=\"M 99.180177,-0.09865347 H 111.19472 V 11.164958\" style=\"fill:none;stroke:#000000;stroke-width:0.75090754px;stroke-linecap:butt;stroke-linejoin:round;stroke-opacity:1;marker-mid:none;marker-end:url(#marker7868-6)\" inkscape:export-filename=\"C:\\Users\\Patricia\\Desktop\\bitmap.png\" inkscape:export-xdpi=\"300\" inkscape:export-ydpi=\"300\"/>\n    <text id=\"text20936-6-4-4-4-1\" y=\"-9.8604555\" x=\"95.977646\" style=\"font-style:normal;font-variant:normal;font-weight:normal;font-stretch:normal;font-size:5.1280508px;line-height:1.25;font-family:arial;-inkscape-font-specification:arial;font-variant-ligatures:normal;font-variant-position:normal;font-variant-caps:normal;font-variant-numeric:normal;font-variant-alternates:normal;font-feature-settings:normal;text-indent:0;text-align:start;text-decoration:none;text-decoration-line:none;text-decoration-style:solid;text-decoration-color:#000000;letter-spacing:0px;word-spacing:0px;text-transform:none;writing-mode:lr-tb;direction:ltr;text-orientation:mixed;dominant-baseline:auto;baseline-shift:baseline;text-anchor:start;white-space:normal;shape-padding:0;opacity:1;vector-effect:none;fill:#000000;fill-opacity:1;stroke:none;stroke-width:0.64100635;stroke-linecap:butt;stroke-linejoin:miter;stroke-miterlimit:4;stroke-dasharray:none;stroke-dashoffset:0;stroke-opacity:1\" xml:space=\"preserve\" inkscape:export-filename=\"C:\\Users\\Patricia\\Desktop\\bitmap.png\" inkscape:export-xdpi=\"300\" inkscape:export-ydpi=\"300\"><tspan y=\"-9.8604555\" x=\"95.977646\" id=\"tspan20938-6-23-7-2-9\" sodipodi:role=\"line\" style=\"font-style:normal;font-variant:normal;font-weight:normal;font-stretch:normal;font-size:5.1280508px;line-height:1.25;font-family:arial;-inkscape-font-specification:arial;font-variant-ligatures:normal;font-variant-position:normal;font-variant-caps:normal;font-variant-numeric:normal;font-variant-alternates:normal;font-feature-settings:normal;text-indent:0;text-align:start;text-decoration:none;text-decoration-line:none;text-decoration-style:solid;text-decoration-color:#000000;letter-spacing:0px;word-spacing:0px;text-transform:none;writing-mode:lr-tb;direction:ltr;text-orientation:mixed;dominant-baseline:auto;baseline-shift:baseline;text-anchor:start;white-space:normal;shape-padding:0;vector-effect:none;fill:#000000;fill-opacity:1;stroke:none;stroke-width:0.64100635;stroke-linecap:butt;stroke-linejoin:miter;stroke-miterlimit:4;stroke-dasharray:none;stroke-dashoffset:0;stroke-opacity:1\">B4</tspan></text>\n    <path style=\"fill:none;stroke:#000000;stroke-width:0.75090742px;stroke-linecap:butt;stroke-linejoin:miter;stroke-opacity:1\" d=\"M 87.165634,-0.09865347 H 107.70996\" id=\"path20686-1-3-1-0\" inkscape:connector-curvature=\"0\" inkscape:export-filename=\"C:\\Users\\Patricia\\Desktop\\bitmap.png\" inkscape:export-xdpi=\"300\" inkscape:export-ydpi=\"300\"/>\n    <path style=\"fill:none;stroke:#000000;stroke-width:0.704;stroke-linecap:round;stroke-linejoin:round;stroke-miterlimit:4;stroke-dasharray:none;stroke-opacity:1\" d=\"M 73.90727,12.811049 V 3.9423447 h 9.25525\" id=\"path20686-1-3-1-0-3\" inkscape:connector-curvature=\"0\" inkscape:export-filename=\"C:\\Users\\Patricia\\Desktop\\bitmap.png\" inkscape:export-xdpi=\"300\" inkscape:export-ydpi=\"300\" sodipodi:nodetypes=\"ccc\"/>\n    <g id=\"g29464\" ns0:jacobian_sqrt=\"0.479209\" inkscapeversion=\"0.92.4\" ns0:alignment=\"middle center\" ns0:scale=\"1.35838708846\" ns0:preamble=\"C:\\\\Users\\\\jmmau\\\\AppData\\\\Roaming\\\\inkscape\\\\extensions\\\\textext\\\\default_packages.tex\" ns0:text=\"$\\\\sf I_{L} =$\" ns0:pdfconverter=\"pdf2svg\" ns0:texconverter=\"pdflatex\" ns0:version=\"0.9.1\" transform=\"matrix(0.479209,0,0,0.479209,-31.313663,-67.220139)\">\n      <g id=\"g29462\">\n        <g id=\"g29452\" style=\"fill:#000000;fill-opacity:1\">\n          <path id=\"path29450\" transform=\"translate(148.712,134.765)\" d=\"M 1.828125,-6.921875 H 0.9375 V 0 h 0.890625 z m 0,0\" style=\"stroke:none;stroke-width:0\" inkscape:connector-curvature=\"0\"/>\n        </g>\n        <g id=\"g29456\" style=\"fill:#000000;fill-opacity:1\">\n          <path id=\"path29454\" transform=\"translate(151.48,136.259)\" d=\"M 1.375,-4.84375 H 0.671875 V 0 H 3.71875 v -0.5 c -0.671875,0 -1.328125,0.015625 -1.984375,0.015625 H 1.375 Z m 0,0\" style=\"stroke:none;stroke-width:0\" inkscape:connector-curvature=\"0\"/>\n        </g>\n        <g id=\"g29460\" style=\"fill:#000000;fill-opacity:1\">\n          <path id=\"path29458\" transform=\"translate(158.777,134.765)\" d=\"m 6.84375,-3.265625 c 0.15625,0 0.34375,0 0.34375,-0.1875 C 7.1875,-3.65625 7,-3.65625 6.859375,-3.65625 h -5.96875 c -0.140625,0 -0.328125,0 -0.328125,0.203125 0,0.1875 0.1875,0.1875 0.328125,0.1875 z m 0.015625,1.9375 c 0.140625,0 0.328125,0 0.328125,-0.203125 0,-0.1875 -0.1875,-0.1875 -0.34375,-0.1875 H 0.890625 c -0.140625,0 -0.328125,0 -0.328125,0.1875 0,0.203125 0.1875,0.203125 0.328125,0.203125 z m 0,0\" style=\"stroke:none;stroke-width:0\" inkscape:connector-curvature=\"0\"/>\n        </g>\n      </g>\n    </g>\n    <text xml:space=\"preserve\" style=\"font-style:normal;font-variant:normal;font-weight:normal;font-stretch:normal;font-size:3.70974803px;line-height:1.25;font-family:'Latin Modern Sans';-inkscape-font-specification:'Latin Modern Sans';text-align:center;letter-spacing:0px;word-spacing:0px;text-anchor:middle;fill:#000000;fill-opacity:1;stroke:none;stroke-width:0.56607127\" x=\"56.370071\" y=\"21.179079\" id=\"I_cap\" inkscape:label=\"#text20176\"><tspan sodipodi:role=\"line\" x=\"56.370071\" y=\"21.179079\" style=\"font-style:normal;font-variant:normal;font-weight:normal;font-stretch:normal;font-family:'Lucida Console';-inkscape-font-specification:'Lucida Console';stroke-width:0.56607127\" id=\"tspan28562-6\">  6 A</tspan></text>\n    <text xml:space=\"preserve\" style=\"font-style:normal;font-variant:normal;font-weight:normal;font-stretch:normal;font-size:3.84299755px;line-height:1.25;font-family:'Latin Modern Sans';-inkscape-font-specification:'Latin Modern Sans';text-align:center;letter-spacing:0px;word-spacing:0px;text-anchor:middle;fill:#000000;fill-opacity:1;stroke:none;stroke-width:0.58640391\" x=\"45.325497\" y=\"5.750638\" id=\"Q_red\" inkscape:label=\"#text20176\"><tspan sodipodi:role=\"line\" x=\"45.325497\" y=\"5.750638\" style=\"font-style:normal;font-variant:normal;font-weight:normal;font-stretch:normal;font-family:'Lucida Console';-inkscape-font-specification:'Lucida Console';stroke-width:0.58640391\" id=\"tspan28562-0\"> 57 kvar $a_1$</tspan></text>\n    <g id=\"g30065\" ns0:jacobian_sqrt=\"0.479209\" inkscapeversion=\"0.92.4\" ns0:alignment=\"middle center\" ns0:scale=\"1.35838706011\" ns0:preamble=\"C:\\\\Users\\\\jmmau\\\\AppData\\\\Roaming\\\\inkscape\\\\extensions\\\\textext\\\\default_packages.tex\" ns0:text=\"$\\\\sf I_{cap}$=\" ns0:pdfconverter=\"pdf2svg\" ns0:texconverter=\"pdflatex\" ns0:version=\"0.9.1\" transform=\"matrix(0.44411589,0,0,0.44411589,-26.581474,-39.050629)\">\n      <g id=\"g30063\">\n        <g id=\"g30049\" style=\"fill:#000000;fill-opacity:1\">\n          <path id=\"path30047\" transform=\"translate(148.712,134.765)\" d=\"M 1.828125,-6.921875 H 0.9375 V 0 h 0.890625 z m 0,0\" style=\"stroke:none;stroke-width:0\" inkscape:connector-curvature=\"0\"/>\n        </g>\n        <g id=\"g30057\" style=\"fill:#000000;fill-opacity:1\">\n          <path id=\"path30051\" transform=\"translate(151.48,136.259)\" d=\"M 3.03125,-0.765625 C 2.6875,-0.53125 2.3125,-0.40625 1.875,-0.40625 c -0.640625,0 -1.015625,-0.515625 -1.015625,-1.140625 0,-0.546875 0.28125,-1.171875 1.03125,-1.171875 0.484375,0 0.703125,0.09375 1.0625,0.328125 L 3.03125,-2.90625 C 2.625,-3.109375 2.4375,-3.203125 1.890625,-3.203125 c -1.046875,0 -1.640625,0.84375 -1.640625,1.65625 0,0.84375 0.671875,1.609375 1.625,1.609375 0.484375,0 0.90625,-0.140625 1.203125,-0.3125 z m 0,0\" style=\"stroke:none;stroke-width:0\" inkscape:connector-curvature=\"0\"/>\n          <path id=\"path30053\" transform=\"translate(154.77303,136.259)\" d=\"m 2.96875,-2 c 0,-0.71875 -0.546875,-1.203125 -1.234375,-1.203125 -0.4375,0 -0.765625,0.09375 -1.15625,0.296875 l 0.03125,0.515625 C 0.84375,-2.546875 1.1875,-2.75 1.734375,-2.75 c 0.3125,0 0.625,0.234375 0.625,0.75 v 0.28125 C 1.328125,-1.6875 0.3125,-1.46875 0.3125,-0.828125 0.3125,-0.46875 0.546875,0.0625 1.15625,0.0625 1.46875,0.0625 2.015625,0 2.390625,-0.265625 V 0 H 2.96875 Z m -0.609375,1.015625 c 0,0.140625 0,0.3125 -0.234375,0.46875 -0.234375,0.125 -0.5,0.125 -0.578125,0.125 -0.390625,0 -0.671875,-0.171875 -0.671875,-0.4375 0,-0.453125 1.171875,-0.484375 1.484375,-0.5 z m 0,0\" style=\"stroke:none;stroke-width:0\" inkscape:connector-curvature=\"0\"/>\n          <path id=\"path30055\" transform=\"translate(158.33246,136.259)\" d=\"M 1.203125,-0.328125 C 1.5625,0 1.96875,0.0625 2.203125,0.0625 2.9375,0.0625 3.5625,-0.640625 3.5625,-1.546875 c 0,-0.84375 -0.453125,-1.609375 -1.140625,-1.609375 -0.3125,0 -0.84375,0.078125 -1.25,0.390625 V -3.09375 H 0.59375 v 4.453125 h 0.609375 z m 0,-1.984375 c 0.15625,-0.203125 0.421875,-0.375 0.765625,-0.375 0.546875,0 1,0.515625 1,1.140625 0,0.6875 -0.53125,1.15625 -1.078125,1.15625 -0.09375,0 -0.28125,-0.015625 -0.453125,-0.15625 C 1.21875,-0.703125 1.203125,-0.8125 1.203125,-0.953125 Z m 0,0\" style=\"stroke:none;stroke-width:0\" inkscape:connector-curvature=\"0\"/>\n        </g>\n        <g id=\"g30061\" style=\"fill:#000000;fill-opacity:1\">\n          <path id=\"path30059\" transform=\"translate(162.657,134.765)\" d=\"m 6.84375,-3.265625 c 0.15625,0 0.34375,0 0.34375,-0.1875 C 7.1875,-3.65625 7,-3.65625 6.859375,-3.65625 h -5.96875 c -0.140625,0 -0.328125,0 -0.328125,0.203125 0,0.1875 0.1875,0.1875 0.328125,0.1875 z m 0.015625,1.9375 c 0.140625,0 0.328125,0 0.328125,-0.203125 0,-0.1875 -0.1875,-0.1875 -0.34375,-0.1875 H 0.890625 c -0.140625,0 -0.328125,0 -0.328125,0.1875 0,0.203125 0.1875,0.203125 0.328125,0.203125 z m 0,0\" style=\"stroke:none;stroke-width:0\" inkscape:connector-curvature=\"0\"/>\n        </g>\n      </g>\n    </g>\n    <g id=\"g30176\" ns0:jacobian_sqrt=\"0.479209\" inkscapeversion=\"0.92.4\" ns0:alignment=\"middle center\" ns0:scale=\"1.35838708846\" ns0:preamble=\"C:\\\\Users\\\\jmmau\\\\AppData\\\\Roaming\\\\inkscape\\\\extensions\\\\textext\\\\default_packages.tex\" ns0:text=\"$\\\\sf Q_{red}$=\" ns0:pdfconverter=\"pdf2svg\" ns0:texconverter=\"pdflatex\" ns0:version=\"0.9.1\" transform=\"matrix(0.479209,0,0,0.479209,-48.464874,-58.75823)\">\n      <g id=\"surface1\">\n        <g id=\"g30161\" style=\"fill:#000000;fill-opacity:1\">\n          <path id=\"path30159\" transform=\"translate(148.712,134.765)\" d=\"m 5.3125,-0.328125 c 1.09375,-0.84375 1.453125,-2.0625 1.453125,-3.109375 0,-2.09375 -1.4375,-3.703125 -3.09375,-3.703125 -1.703125,0 -3.109375,1.625 -3.109375,3.703125 0,2.109375 1.46875,3.65625 3.09375,3.65625 0.15625,0 0.53125,-0.015625 0.953125,-0.171875 L 5.46875,1.25 H 6.5 Z m -1.078125,-0.1875 c -0.015625,0 -0.28125,0.09375 -0.5625,0.09375 -1.171875,0 -2.25,-1.15625 -2.25,-3.015625 C 1.421875,-5.296875 2.5,-6.5 3.65625,-6.5 c 1.203125,0 2.25,1.21875 2.25,3.0625 0,0.640625 -0.109375,1.734375 -1.015625,2.546875 L 4.109375,-1.9375 H 3.21875 Z m 0,0\" style=\"stroke:none;stroke-width:0\" inkscape:connector-curvature=\"0\"/>\n        </g>\n        <g id=\"g30169\" style=\"fill:#000000;fill-opacity:1\">\n          <path id=\"path30163\" transform=\"translate(156.046,136.259)\" d=\"m 1.171875,-1.484375 c 0,-0.75 0.640625,-1.15625 1.25,-1.15625 V -3.15625 C 1.828125,-3.15625 1.40625,-2.875 1.125,-2.5 V -3.140625 H 0.59375 V 0 h 0.578125 z m 0,0\" style=\"stroke:none;stroke-width:0\" inkscape:connector-curvature=\"0\"/>\n          <path id=\"path30165\" transform=\"translate(158.57679,136.259)\" d=\"m 3,-0.765625 c -0.390625,0.28125 -0.828125,0.375 -1.125,0.375 -0.609375,0 -1.078125,-0.5 -1.09375,-1.140625 H 3.0625 c 0,-0.3125 -0.03125,-0.78125 -0.296875,-1.171875 -0.25,-0.359375 -0.671875,-0.5 -1.015625,-0.5 -0.84375,0 -1.5,0.75 -1.5,1.640625 0,0.890625 0.6875,1.625 1.609375,1.625 0.40625,0 0.828125,-0.109375 1.171875,-0.328125 z M 0.828125,-1.9375 C 0.984375,-2.5 1.40625,-2.734375 1.75,-2.734375 c 0.3125,0 0.765625,0.140625 0.890625,0.796875 z m 0,0\" style=\"stroke:none;stroke-width:0\" inkscape:connector-curvature=\"0\"/>\n          <path id=\"path30167\" transform=\"translate(161.86982,136.259)\" d=\"M 3.21875,-4.84375 H 2.640625 v 2.046875 C 2.1875,-3.125 1.734375,-3.15625 1.546875,-3.15625 0.8125,-3.15625 0.25,-2.4375 0.25,-1.546875 0.25,-0.65625 0.796875,0.0625 1.515625,0.0625 c 0.4375,0 0.84375,-0.1875 1.109375,-0.421875 V 0 H 3.21875 Z M 2.625,-0.859375 c -0.171875,0.28125 -0.4375,0.46875 -0.78125,0.46875 -0.484375,0 -0.984375,-0.34375 -0.984375,-1.15625 0,-0.859375 0.59375,-1.15625 1.0625,-1.15625 0.28125,0 0.515625,0.125 0.703125,0.359375 z m 0,0\" style=\"stroke:none;stroke-width:0\" inkscape:connector-curvature=\"0\"/>\n        </g>\n        <g id=\"g30173\" style=\"fill:#000000;fill-opacity:1\">\n          <path id=\"path30171\" transform=\"translate(166.194,134.765)\" d=\"m 6.84375,-3.265625 c 0.15625,0 0.34375,0 0.34375,-0.1875 C 7.1875,-3.65625 7,-3.65625 6.859375,-3.65625 h -5.96875 c -0.140625,0 -0.328125,0 -0.328125,0.203125 0,0.1875 0.1875,0.1875 0.328125,0.1875 z m 0.015625,1.9375 c 0.140625,0 0.328125,0 0.328125,-0.203125 0,-0.1875 -0.1875,-0.1875 -0.34375,-0.1875 H 0.890625 c -0.140625,0 -0.328125,0 -0.328125,0.1875 0,0.203125 0.1875,0.203125 0.328125,0.203125 z m 0,0\" style=\"stroke:none;stroke-width:0\" inkscape:connector-curvature=\"0\"/>\n        </g>\n      </g>\n    </g>\n    <g id=\"g30332\" ns0:jacobian_sqrt=\"0.479209\" inkscapeversion=\"0.92.4\" ns0:alignment=\"middle center\" ns0:scale=\"1.35838703176\" ns0:preamble=\"C:\\\\Users\\\\jmmau\\\\AppData\\\\Roaming\\\\inkscape\\\\extensions\\\\textext\\\\default_packages.tex\" ns0:text=\"$\\\\sf U$=\" ns0:pdfconverter=\"pdf2svg\" ns0:texconverter=\"pdflatex\" ns0:version=\"0.9.1\" transform=\"matrix(0.479209,0,0,0.479209,18.767893,-80.846008)\">\n      <g id=\"g30330\">\n        <g id=\"g30324\" style=\"fill:#000000;fill-opacity:1\">\n          <path id=\"path30322\" transform=\"translate(148.712,134.765)\" d=\"M 5.90625,-6.921875 H 5.140625 V -2.3125 c 0,1.3125 -0.84375,1.96875 -1.6875,1.96875 -0.8125,0 -1.625,-0.625 -1.625,-1.96875 V -6.921875 H 0.9375 v 4.59375 c 0,1.453125 1.171875,2.546875 2.515625,2.546875 1.328125,0 2.453125,-1.09375 2.453125,-2.546875 z m 0,0\" style=\"stroke:none;stroke-width:0\" inkscape:connector-curvature=\"0\"/>\n        </g>\n        <g id=\"g30328\" style=\"fill:#000000;fill-opacity:1\">\n          <path id=\"path30326\" transform=\"translate(155.562,134.765)\" d=\"m 6.84375,-3.265625 c 0.15625,0 0.34375,0 0.34375,-0.1875 C 7.1875,-3.65625 7,-3.65625 6.859375,-3.65625 h -5.96875 c -0.140625,0 -0.328125,0 -0.328125,0.203125 0,0.1875 0.1875,0.1875 0.328125,0.1875 z m 0.015625,1.9375 c 0.140625,0 0.328125,0 0.328125,-0.203125 0,-0.1875 -0.1875,-0.1875 -0.34375,-0.1875 H 0.890625 c -0.140625,0 -0.328125,0 -0.328125,0.1875 0,0.203125 0.1875,0.203125 0.328125,0.203125 z m 0,0\" style=\"stroke:none;stroke-width:0\" inkscape:connector-curvature=\"0\"/>\n        </g>\n      </g>\n    </g>\n    <text xml:space=\"preserve\" style=\"font-style:normal;font-variant:normal;font-weight:normal;font-stretch:normal;font-size:4.61350441px;line-height:1.25;font-family:'Latin Modern Sans';-inkscape-font-specification:'Latin Modern Sans';text-align:center;letter-spacing:0px;word-spacing:0px;text-anchor:middle;fill:#000000;fill-opacity:1;stroke:none;stroke-width:0.70397568\" x=\"105.43847\" y=\"-16.308502\" id=\"U_carga\" inkscape:label=\"#text20176\"><tspan sodipodi:role=\"line\" x=\"105.43847\" y=\"-16.308502\" style=\"font-style:normal;font-variant:normal;font-weight:normal;font-stretch:normal;font-family:'Lucida Console';-inkscape-font-specification:'Lucida Console';stroke-width:0.70397568\" id=\"tspan28562-6-6\">394 V</tspan></text>\n    <text xml:space=\"preserve\" style=\"font-style:normal;font-variant:normal;font-weight:normal;font-stretch:normal;font-size:4.03235197px;line-height:1.25;font-family:'Latin Modern Sans';-inkscape-font-specification:'Latin Modern Sans';text-align:center;letter-spacing:0px;word-spacing:0px;text-anchor:middle;fill:#000000;fill-opacity:1;stroke:none;stroke-width:0.6152975\" x=\"11.44358\" y=\"20.908615\" id=\"P_perd\" inkscape:label=\"#text20176\"><tspan sodipodi:role=\"line\" x=\"11.443579\" y=\"20.908615\" style=\"font-style:normal;font-variant:normal;font-weight:normal;font-stretch:normal;font-family:'Lucida Console';-inkscape-font-specification:'Lucida Console';stroke-width:0.6152975\" id=\"tspan28562-6-2\">1.23 kW</tspan></text>\n    <g id=\"g31458\" ns0:jacobian_sqrt=\"0.479209\" inkscapeversion=\"0.92.4\" ns0:alignment=\"middle center\" ns0:scale=\"1.35838703176\" ns0:preamble=\"C:\\\\Users\\\\jmmau\\\\AppData\\\\Roaming\\\\inkscape\\\\extensions\\\\textext\\\\default_packages.tex\" ns0:text=\"$\\\\sf P_{perd}$=\" ns0:pdfconverter=\"pdf2svg\" ns0:texconverter=\"pdflatex\" ns0:version=\"0.9.1\" transform=\"matrix(0.479209,0.000000,0.000000,0.479209,-81.953302,-43.750013)\">\n      <g id=\"g31456\">\n        <g id=\"g31438\" style=\"fill:rgb(0%,0%,0%);fill-opacity:1;\">\n          <path id=\"path31436\" transform=\"translate(148.712,134.765)\" d=\"M 3.515625 -2.875 C 4.75 -2.875 5.796875 -3.78125 5.796875 -4.90625 C 5.796875 -5.96875 4.8125 -6.921875 3.4375 -6.921875 L 0.953125 -6.921875 L 0.953125 0 L 1.84375 0 L 1.84375 -2.875 Z M 3.21875 -6.359375 C 4.3125 -6.359375 5 -5.75 5 -4.90625 C 5 -4.109375 4.359375 -3.453125 3.21875 -3.453125 L 1.8125 -3.453125 L 1.8125 -6.359375 Z M 3.21875 -6.359375 \" style=\"stroke:none;stroke-width:0\"/>\n        </g>\n        <g id=\"g31442\" style=\"fill:rgb(0%,0%,0%);fill-opacity:1;\">\n          <path id=\"path31440\" transform=\"translate(155.077,136.259)\" d=\"M 1.203125 -0.328125 C 1.5625 0 1.96875 0.0625 2.203125 0.0625 C 2.9375 0.0625 3.5625 -0.640625 3.5625 -1.546875 C 3.5625 -2.390625 3.109375 -3.15625 2.421875 -3.15625 C 2.109375 -3.15625 1.578125 -3.078125 1.171875 -2.765625 L 1.171875 -3.09375 L 0.59375 -3.09375 L 0.59375 1.359375 L 1.203125 1.359375 Z M 1.203125 -2.3125 C 1.359375 -2.515625 1.625 -2.6875 1.96875 -2.6875 C 2.515625 -2.6875 2.96875 -2.171875 2.96875 -1.546875 C 2.96875 -0.859375 2.4375 -0.390625 1.890625 -0.390625 C 1.796875 -0.390625 1.609375 -0.40625 1.4375 -0.546875 C 1.21875 -0.703125 1.203125 -0.8125 1.203125 -0.953125 Z M 1.203125 -2.3125 \" style=\"stroke:none;stroke-width:0\"/>\n        </g>\n        <g id=\"g31450\" style=\"fill:rgb(0%,0%,0%);fill-opacity:1;\">\n          <path id=\"path31444\" transform=\"translate(159.112041,136.259)\" d=\"M 3 -0.765625 C 2.609375 -0.484375 2.171875 -0.390625 1.875 -0.390625 C 1.265625 -0.390625 0.796875 -0.890625 0.78125 -1.53125 L 3.0625 -1.53125 C 3.0625 -1.84375 3.03125 -2.3125 2.765625 -2.703125 C 2.515625 -3.0625 2.09375 -3.203125 1.75 -3.203125 C 0.90625 -3.203125 0.25 -2.453125 0.25 -1.5625 C 0.25 -0.671875 0.9375 0.0625 1.859375 0.0625 C 2.265625 0.0625 2.6875 -0.046875 3.03125 -0.265625 Z M 0.828125 -1.9375 C 0.984375 -2.5 1.40625 -2.734375 1.75 -2.734375 C 2.0625 -2.734375 2.515625 -2.59375 2.640625 -1.9375 Z M 0.828125 -1.9375 \" style=\"stroke:none;stroke-width:0\"/>\n          <path id=\"path31446\" transform=\"translate(162.405069,136.259)\" d=\"M 1.171875 -1.484375 C 1.171875 -2.234375 1.8125 -2.640625 2.421875 -2.640625 L 2.421875 -3.15625 C 1.828125 -3.15625 1.40625 -2.875 1.125 -2.5 L 1.125 -3.140625 L 0.59375 -3.140625 L 0.59375 0 L 1.171875 0 Z M 1.171875 -1.484375 \" style=\"stroke:none;stroke-width:0\"/>\n          <path id=\"path31448\" transform=\"translate(164.935861,136.259)\" d=\"M 3.21875 -4.84375 L 2.640625 -4.84375 L 2.640625 -2.796875 C 2.1875 -3.125 1.734375 -3.15625 1.546875 -3.15625 C 0.8125 -3.15625 0.25 -2.4375 0.25 -1.546875 C 0.25 -0.65625 0.796875 0.0625 1.515625 0.0625 C 1.953125 0.0625 2.359375 -0.125 2.625 -0.359375 L 2.625 0 L 3.21875 0 Z M 2.625 -0.859375 C 2.453125 -0.578125 2.1875 -0.390625 1.84375 -0.390625 C 1.359375 -0.390625 0.859375 -0.734375 0.859375 -1.546875 C 0.859375 -2.40625 1.453125 -2.703125 1.921875 -2.703125 C 2.203125 -2.703125 2.4375 -2.578125 2.625 -2.34375 Z M 2.625 -0.859375 \" style=\"stroke:none;stroke-width:0\"/>\n        </g>\n        <g id=\"g31454\" style=\"fill:rgb(0%,0%,0%);fill-opacity:1;\">\n          <path id=\"path31452\" transform=\"translate(169.257,134.765)\" d=\"M 6.84375 -3.265625 C 7 -3.265625 7.1875 -3.265625 7.1875 -3.453125 C 7.1875 -3.65625 7 -3.65625 6.859375 -3.65625 L 0.890625 -3.65625 C 0.75 -3.65625 0.5625 -3.65625 0.5625 -3.453125 C 0.5625 -3.265625 0.75 -3.265625 0.890625 -3.265625 Z M 6.859375 -1.328125 C 7 -1.328125 7.1875 -1.328125 7.1875 -1.53125 C 7.1875 -1.71875 7 -1.71875 6.84375 -1.71875 L 0.890625 -1.71875 C 0.75 -1.71875 0.5625 -1.71875 0.5625 -1.53125 C 0.5625 -1.328125 0.75 -1.328125 0.890625 -1.328125 Z M 6.859375 -1.328125 \" style=\"stroke:none;stroke-width:0\"/>\n        </g>\n      </g>\n    </g>\n    <text xml:space=\"preserve\" style=\"font-style:normal;font-variant:normal;font-weight:normal;font-stretch:normal;font-size:3.57188439px;line-height:1.25;font-family:'Latin Modern Sans';-inkscape-font-specification:'Latin Modern Sans';text-align:center;letter-spacing:0px;word-spacing:0px;text-anchor:middle;fill:#000000;fill-opacity:1;stroke:none;stroke-width:0.54503465\" x=\"58.586636\" y=\"15.915075\" id=\"Q_cap\" inkscape:label=\"#text20176\"><tspan sodipodi:role=\"line\" x=\"58.586636\" y=\"15.915075\" style=\"font-style:normal;font-variant:normal;font-weight:normal;font-stretch:normal;font-family:'Lucida Console';-inkscape-font-specification:'Lucida Console';stroke-width:0.54503465\" id=\"tspan28562-6-5\">  -4 kvar</tspan></text>\n    <g id=\"g31659\" ns0:jacobian_sqrt=\"0.479209\" inkscapeversion=\"0.92.4\" ns0:alignment=\"middle center\" ns0:scale=\"1.35838703176\" ns0:preamble=\"C:\\\\Users\\\\jmmau\\\\AppData\\\\Roaming\\\\inkscape\\\\extensions\\\\textext\\\\default_packages.tex\" ns0:text=\"$\\\\sf Q_{cap}$=\" ns0:pdfconverter=\"pdf2svg\" ns0:texconverter=\"pdflatex\" ns0:version=\"0.9.1\" transform=\"matrix(0.39884084,0,0,0.39884084,-21.100465,-37.92913)\">\n      <g id=\"g31657\">\n        <g id=\"g31643\" style=\"fill:#000000;fill-opacity:1\">\n          <path id=\"path31641\" transform=\"translate(148.712,134.765)\" d=\"m 5.3125,-0.328125 c 1.09375,-0.84375 1.453125,-2.0625 1.453125,-3.109375 0,-2.09375 -1.4375,-3.703125 -3.09375,-3.703125 -1.703125,0 -3.109375,1.625 -3.109375,3.703125 0,2.109375 1.46875,3.65625 3.09375,3.65625 0.15625,0 0.53125,-0.015625 0.953125,-0.171875 L 5.46875,1.25 H 6.5 Z m -1.078125,-0.1875 c -0.015625,0 -0.28125,0.09375 -0.5625,0.09375 -1.171875,0 -2.25,-1.15625 -2.25,-3.015625 C 1.421875,-5.296875 2.5,-6.5 3.65625,-6.5 c 1.203125,0 2.25,1.21875 2.25,3.0625 0,0.640625 -0.109375,1.734375 -1.015625,2.546875 L 4.109375,-1.9375 H 3.21875 Z m 0,0\" style=\"stroke:none;stroke-width:0\" inkscape:connector-curvature=\"0\"/>\n        </g>\n        <g id=\"g31651\" style=\"fill:#000000;fill-opacity:1\">\n          <path id=\"path31645\" transform=\"translate(156.046,136.259)\" d=\"M 3.03125,-0.765625 C 2.6875,-0.53125 2.3125,-0.40625 1.875,-0.40625 c -0.640625,0 -1.015625,-0.515625 -1.015625,-1.140625 0,-0.546875 0.28125,-1.171875 1.03125,-1.171875 0.484375,0 0.703125,0.09375 1.0625,0.328125 L 3.03125,-2.90625 C 2.625,-3.109375 2.4375,-3.203125 1.890625,-3.203125 c -1.046875,0 -1.640625,0.84375 -1.640625,1.65625 0,0.84375 0.671875,1.609375 1.625,1.609375 0.484375,0 0.90625,-0.140625 1.203125,-0.3125 z m 0,0\" style=\"stroke:none;stroke-width:0\" inkscape:connector-curvature=\"0\"/>\n          <path id=\"path31647\" transform=\"translate(159.33903,136.259)\" d=\"m 2.96875,-2 c 0,-0.71875 -0.546875,-1.203125 -1.234375,-1.203125 -0.4375,0 -0.765625,0.09375 -1.15625,0.296875 l 0.03125,0.515625 C 0.84375,-2.546875 1.1875,-2.75 1.734375,-2.75 c 0.3125,0 0.625,0.234375 0.625,0.75 v 0.28125 C 1.328125,-1.6875 0.3125,-1.46875 0.3125,-0.828125 0.3125,-0.46875 0.546875,0.0625 1.15625,0.0625 1.46875,0.0625 2.015625,0 2.390625,-0.265625 V 0 H 2.96875 Z m -0.609375,1.015625 c 0,0.140625 0,0.3125 -0.234375,0.46875 -0.234375,0.125 -0.5,0.125 -0.578125,0.125 -0.390625,0 -0.671875,-0.171875 -0.671875,-0.4375 0,-0.453125 1.171875,-0.484375 1.484375,-0.5 z m 0,0\" style=\"stroke:none;stroke-width:0\" inkscape:connector-curvature=\"0\"/>\n          <path id=\"path31649\" transform=\"translate(162.89846,136.259)\" d=\"M 1.203125,-0.328125 C 1.5625,0 1.96875,0.0625 2.203125,0.0625 2.9375,0.0625 3.5625,-0.640625 3.5625,-1.546875 c 0,-0.84375 -0.453125,-1.609375 -1.140625,-1.609375 -0.3125,0 -0.84375,0.078125 -1.25,0.390625 V -3.09375 H 0.59375 v 4.453125 h 0.609375 z m 0,-1.984375 c 0.15625,-0.203125 0.421875,-0.375 0.765625,-0.375 0.546875,0 1,0.515625 1,1.140625 0,0.6875 -0.53125,1.15625 -1.078125,1.15625 -0.09375,0 -0.28125,-0.015625 -0.453125,-0.15625 C 1.21875,-0.703125 1.203125,-0.8125 1.203125,-0.953125 Z m 0,0\" style=\"stroke:none;stroke-width:0\" inkscape:connector-curvature=\"0\"/>\n        </g>\n        <g id=\"g31655\" style=\"fill:#000000;fill-opacity:1\">\n          <path id=\"path31653\" transform=\"translate(167.223,134.765)\" d=\"m 6.84375,-3.265625 c 0.15625,0 0.34375,0 0.34375,-0.1875 C 7.1875,-3.65625 7,-3.65625 6.859375,-3.65625 h -5.96875 c -0.140625,0 -0.328125,0 -0.328125,0.203125 0,0.1875 0.1875,0.1875 0.328125,0.1875 z m 0.015625,1.9375 c 0.140625,0 0.328125,0 0.328125,-0.203125 0,-0.1875 -0.1875,-0.1875 -0.34375,-0.1875 H 0.890625 c -0.140625,0 -0.328125,0 -0.328125,0.1875 0,0.203125 0.1875,0.203125 0.328125,0.203125 z m 0,0\" style=\"stroke:none;stroke-width:0\" inkscape:connector-curvature=\"0\"/>\n        </g>\n      </g>\n    </g>\n    <path style=\"opacity:1;vector-effect:none;fill:none;fill-opacity:1;stroke:#000000;stroke-width:0.68431467;stroke-linecap:round;stroke-linejoin:round;stroke-miterlimit:4;stroke-dasharray:none;stroke-dashoffset:0;stroke-opacity:1\" d=\"m 73.907268,15.947546 v 8.563529\" id=\"path20686-1-3-1-0-8\" inkscape:connector-curvature=\"0\" inkscape:export-filename=\"C:\\Users\\Patricia\\Desktop\\bitmap.png\" inkscape:export-xdpi=\"300\" inkscape:export-ydpi=\"300\"/>\n  </g>\n</svg>"
      }
     },
     "a90c82fbefeb44ec87d5acb19ba36a91": {
      "model_module": "@jupyter-widgets/controls",
      "model_module_version": "1.4.0",
      "model_name": "FloatTextModel",
      "state": {
       "description": "Pred (kW): ",
       "layout": "IPY_MODEL_e4b7c509cc2f4a92bd39318409836c4b",
       "step": null,
       "style": "IPY_MODEL_b06fa07a43fb41d2bbd67c9e750a3478",
       "value": 86.23
      }
     },
     "ac29f2ac08414163955bc2607431fc50": {
      "model_module": "@jupyter-widgets/base",
      "model_module_version": "1.1.0",
      "model_name": "LayoutModel",
      "state": {}
     },
     "acb49146684646349e51e66af942fa95": {
      "model_module": "@jupyter-widgets/base",
      "model_module_version": "1.1.0",
      "model_name": "LayoutModel",
      "state": {}
     },
     "acc652d8586747758f193979d7c9c4d5": {
      "model_module": "@jupyter-widgets/controls",
      "model_module_version": "1.4.0",
      "model_name": "DescriptionStyleModel",
      "state": {
       "description_width": ""
      }
     },
     "b06fa07a43fb41d2bbd67c9e750a3478": {
      "model_module": "@jupyter-widgets/controls",
      "model_module_version": "1.4.0",
      "model_name": "DescriptionStyleModel",
      "state": {
       "description_width": ""
      }
     },
     "b083449d9be643a6b761bccd6459d34b": {
      "model_module": "@jupyter-widgets/base",
      "model_module_version": "1.1.0",
      "model_name": "LayoutModel",
      "state": {}
     },
     "b4106108b88c466c9cdf201be1eab6bd": {
      "model_module": "@jupyter-widgets/controls",
      "model_module_version": "1.4.0",
      "model_name": "HTMLMathModel",
      "state": {
       "layout": "IPY_MODEL_795445bae7e644b396007fe9f15244e4",
       "style": "IPY_MODEL_326a309f36ed46d48f383af79fea5728",
       "value": "<!-- Created with Inkscape (http://www.inkscape.org/) --><svg xmlns:ns0=\"http://www.iki.fi/pav/software/textext/\" xmlns:dc=\"http://purl.org/dc/elements/1.1/\" xmlns:cc=\"http://creativecommons.org/ns#\" xmlns:rdf=\"http://www.w3.org/1999/02/22-rdf-syntax-ns#\" xmlns:svg=\"http://www.w3.org/2000/svg\" xmlns=\"http://www.w3.org/2000/svg\" xmlns:sodipodi=\"http://sodipodi.sourceforge.net/DTD/sodipodi-0.dtd\" xmlns:inkscape=\"http://www.inkscape.org/namespaces/inkscape\" width=\"129.8232mm\" height=\"44.582893mm\" viewBox=\"0 0 129.8232 44.582894\" version=\"1.1\" id=\"svg19629\" inkscape:version=\"0.92.4 (5da689c313, 2019-01-14)\" sodipodi:docname=\"prueba.svg\">\n  <defs id=\"defs19623\">\n    <marker style=\"overflow:visible\" id=\"Arrow2Mend\" refX=\"0\" refY=\"0\" orient=\"auto\" inkscape:stockid=\"Arrow2Mend\">\n      <path d=\"M -5.5798962,-2.5815905 1.4126653,-0.01024849 -5.5798966,2.561093 c 1.117119,-1.518119 1.1106821,-3.5951692 4e-7,-5.1426835 z\" style=\"font-size:12px;fill-rule:evenodd;stroke-width:0.40000001;stroke-linejoin:round\" id=\"path8281\" inkscape:connector-curvature=\"0\"/>\n    </marker>\n    <marker style=\"overflow:visible\" id=\"marker7868\" refX=\"0\" refY=\"0\" orient=\"auto\" inkscape:stockid=\"Arrow2Mend\">\n      <path d=\"M -5.5798962,-2.5815905 1.4126653,-0.01024849 -5.5798966,2.561093 c 1.117119,-1.518119 1.1106821,-3.5951692 4e-7,-5.1426835 z\" style=\"font-size:12px;fill-rule:evenodd;stroke-width:0.40000001;stroke-linejoin:round\" id=\"path7870\" inkscape:connector-curvature=\"0\"/>\n    </marker>\n    <marker style=\"overflow:visible\" id=\"marker28173\" refX=\"0\" refY=\"0\" orient=\"auto\" inkscape:stockid=\"Arrow2Mend\">\n      <path d=\"M -5.5798962,-2.5815905 1.4126653,-0.01024849 -5.5798966,2.561093 c 1.117119,-1.518119 1.1106821,-3.5951692 4e-7,-5.1426835 z\" style=\"font-size:12px;fill-rule:evenodd;stroke-width:0.40000001;stroke-linejoin:round\" id=\"path28171\" inkscape:connector-curvature=\"0\"/>\n    </marker>\n    <marker style=\"overflow:visible\" id=\"marker28177\" refX=\"0\" refY=\"0\" orient=\"auto\" inkscape:stockid=\"Arrow2Mend\">\n      <path d=\"M -5.5798962,-2.5815905 1.4126653,-0.01024849 -5.5798966,2.561093 c 1.117119,-1.518119 1.1106821,-3.5951692 4e-7,-5.1426835 z\" style=\"font-size:12px;fill-rule:evenodd;stroke-width:0.40000001;stroke-linejoin:round\" id=\"path28175\" inkscape:connector-curvature=\"0\"/>\n    </marker>\n    <marker style=\"overflow:visible\" id=\"marker28181\" refX=\"0\" refY=\"0\" orient=\"auto\" inkscape:stockid=\"Arrow2Mend\">\n      <path d=\"M -5.5798962,-2.5815905 1.4126653,-0.01024849 -5.5798966,2.561093 c 1.117119,-1.518119 1.1106821,-3.5951692 4e-7,-5.1426835 z\" style=\"font-size:12px;fill-rule:evenodd;stroke-width:0.40000001;stroke-linejoin:round\" id=\"path28179\" inkscape:connector-curvature=\"0\"/>\n    </marker>\n    <marker style=\"overflow:visible\" id=\"marker7868-6\" refX=\"0\" refY=\"0\" orient=\"auto\" inkscape:stockid=\"Arrow2Mend\">\n      <path d=\"M -5.5798962,-2.5815905 1.4126653,-0.01024849 -5.5798966,2.561093 c 1.117119,-1.518119 1.1106821,-3.5951692 4e-7,-5.1426835 z\" style=\"font-size:12px;fill-rule:evenodd;stroke-width:0.40000001;stroke-linejoin:round\" id=\"path7870-8\" inkscape:connector-curvature=\"0\"/>\n    </marker>\n  </defs>\n  <sodipodi:namedview id=\"base\" pagecolor=\"#ffffff\" bordercolor=\"#666666\" borderopacity=\"1.0\" inkscape:pageopacity=\"0.0\" inkscape:pageshadow=\"2\" inkscape:zoom=\"2.8\" inkscape:cx=\"371.29664\" inkscape:cy=\"145.45547\" inkscape:document-units=\"mm\" inkscape:current-layer=\"layer1\" showgrid=\"false\" fit-margin-top=\"0\" fit-margin-left=\"0\" fit-margin-right=\"0\" fit-margin-bottom=\"0\" inkscape:window-width=\"3200\" inkscape:window-height=\"1668\" inkscape:window-x=\"-16\" inkscape:window-y=\"-16\" inkscape:window-maximized=\"1\" scale-x=\"2\" inkscape:snap-midpoints=\"true\"/>\n  <metadata id=\"metadata19626\">\n    <rdf:RDF>\n      <cc:Work rdf:about=\"\">\n        <dc:format>image/svg+xml</dc:format>\n        <dc:type rdf:resource=\"http://purl.org/dc/dcmitype/StillImage\"/>\n        <dc:title/>\n      </cc:Work>\n    </rdf:RDF>\n  </metadata>\n  <g inkscape:label=\"Layer 1\" inkscape:groupmode=\"layer\" id=\"layer1\" transform=\"translate(16.361311,19.624458)\">\n    <rect style=\"opacity:1;vector-effect:none;fill:#b3deb3;fill-opacity:0.99493671;fill-rule:evenodd;stroke:none;stroke-width:0.28229246;stroke-linecap:butt;stroke-linejoin:round;stroke-miterlimit:4;stroke-dasharray:none;stroke-dashoffset:0;stroke-opacity:1;marker:none\" id=\"rect31476\" width=\"49.373142\" height=\"16.536459\" x=\"34.429241\" y=\"8.5164728\"/>\n    <text xml:space=\"preserve\" style=\"font-style:normal;font-variant:normal;font-weight:normal;font-stretch:normal;font-size:4.61350441px;line-height:1.25;font-family:'Latin Modern Sans';-inkscape-font-specification:'Latin Modern Sans';text-align:center;letter-spacing:0px;word-spacing:0px;text-anchor:middle;fill:#000000;fill-opacity:1;stroke:none;stroke-width:0.70397568\" x=\"56.659267\" y=\"-2.2677231\" id=\"I_L\" inkscape:label=\"#text20176\"><tspan sodipodi:role=\"line\" x=\"56.659267\" y=\"-2.2677231\" style=\"font-style:normal;font-variant:normal;font-weight:normal;font-stretch:normal;font-family:Arial;-inkscape-font-specification:Arial;stroke-width:0.70397568\" id=\"tspan28562\">0.0</tspan></text>\n    <g transform=\"matrix(0.70397576,0,0,0.70397576,-400.1733,-140.79031)\" id=\"g16785-1\" inkscape:export-filename=\"C:\\Users\\Patricia\\Desktop\\bitmap.png\" inkscape:export-xdpi=\"300\" inkscape:export-ydpi=\"300\">\n      <g transform=\"translate(480,21.333327)\" id=\"g40949-7-7\">\n        <path inkscape:connector-curvature=\"0\" id=\"path4610-1-40\" d=\"m 69.333333,178.51966 h 5.333334\" style=\"fill:none;stroke:#000000;stroke-width:1.06666672px;stroke-linecap:butt;stroke-linejoin:miter;stroke-opacity:1\"/>\n        <path inkscape:connector-curvature=\"0\" id=\"path4612-5-9\" d=\"m 69.333333,167.85299 v 21.33334\" style=\"fill:none;stroke:#000000;stroke-width:2.13333344;stroke-linecap:butt;stroke-linejoin:miter;stroke-opacity:1\"/>\n      </g>\n    </g>\n    <g transform=\"matrix(0.70397576,0,0,0.70397576,-411.4369,-140.79031)\" id=\"g16779-4\" inkscape:export-filename=\"C:\\Users\\Patricia\\Desktop\\bitmap.png\" inkscape:export-xdpi=\"300\" inkscape:export-ydpi=\"300\">\n      <path inkscape:connector-curvature=\"0\" id=\"path70904-5-5-8-3-8\" style=\"display:inline;fill:none;stroke:#000000;stroke-width:1.06666672;stroke-linecap:round;stroke-linejoin:miter;stroke-miterlimit:6;stroke-dasharray:none;stroke-opacity:1\" d=\"m 584.53505,192.38633 c -4.12206,0 -7.46838,3.34297 -7.46838,7.46622 0,4.12326 3.34632,7.46711 7.46838,7.46711 4.12206,0 7.46495,-3.34385 7.46495,-7.46711 0,-4.12325 -3.34289,-7.46622 -7.46495,-7.46622\"/>\n      <path inkscape:connector-curvature=\"0\" id=\"path70904-5-5-8-6-9-82\" style=\"display:inline;fill:none;stroke:#000000;stroke-width:1.06666672;stroke-linecap:round;stroke-linejoin:miter;stroke-miterlimit:6;stroke-dasharray:none;stroke-opacity:1\" d=\"m 594.13505,192.38676 c -4.12206,0 -7.46838,3.34298 -7.46838,7.46623 0,4.12326 3.34632,7.46711 7.46838,7.46711 4.12206,0 7.46495,-3.34385 7.46495,-7.46711 0,-4.12325 -3.34289,-7.46623 -7.46495,-7.46623\"/>\n      <path style=\"fill:none;stroke:#000000;stroke-width:1.0666666px;stroke-linecap:butt;stroke-linejoin:miter;stroke-opacity:1\" d=\"m 570.66667,199.85299 h 6.4\" id=\"path4610-8-6-45\" inkscape:connector-curvature=\"0\"/>\n      <path style=\"fill:none;stroke:#000000;stroke-width:1.0666666px;stroke-linecap:butt;stroke-linejoin:miter;stroke-opacity:1\" d=\"M 601.6,199.85299 H 608\" id=\"path4610-8-4-4-51\" inkscape:connector-curvature=\"0\"/>\n    </g>\n    <g id=\"g16785-0-71\" transform=\"matrix(0.70397576,0,0,0.70397576,-366.38245,-140.79031)\" inkscape:export-filename=\"C:\\Users\\Patricia\\Desktop\\bitmap.png\" inkscape:export-xdpi=\"300\" inkscape:export-ydpi=\"300\">\n      <g transform=\"translate(480,21.333327)\" id=\"g40949-7-4-1\">\n        <path inkscape:connector-curvature=\"0\" id=\"path4610-1-1-5\" d=\"M 64,178.51966 H 74.666667\" style=\"fill:none;stroke:#000000;stroke-width:1.06666672px;stroke-linecap:butt;stroke-linejoin:miter;stroke-opacity:1\"/>\n        <path inkscape:connector-curvature=\"0\" id=\"path4612-5-5-2\" d=\"m 69.333333,167.85299 v 21.33334\" style=\"fill:none;stroke:#000000;stroke-width:2.13333344;stroke-linecap:butt;stroke-linejoin:miter;stroke-opacity:1\"/>\n      </g>\n    </g>\n    <text id=\"text20936-6-4\" y=\"-9.8604555\" x=\"-16.311684\" style=\"font-style:normal;font-weight:normal;font-size:7.69207573px;line-height:0%;font-family:arial;-inkscape-font-specification:arial;letter-spacing:0px;word-spacing:0px;fill:#000000;fill-opacity:1;stroke:none;stroke-width:0.64100635\" xml:space=\"preserve\" inkscape:export-filename=\"C:\\Users\\Patricia\\Desktop\\bitmap.png\" inkscape:export-xdpi=\"300\" inkscape:export-ydpi=\"300\"><tspan y=\"-9.8604555\" x=\"-16.311684\" id=\"tspan20938-6-23\" sodipodi:role=\"line\" style=\"font-size:5.1280508px;line-height:1.25;stroke-width:0.64100635\">B1</tspan></text>\n    <text id=\"text20936-9-22\" y=\"-8.5171785\" x=\"-6.0547891\" style=\"font-style:normal;font-variant:normal;font-weight:normal;font-stretch:normal;font-size:9.01089001px;line-height:0%;font-family:Arial;-inkscape-font-specification:Arial;letter-spacing:0px;word-spacing:0px;fill:#000000;fill-opacity:1;stroke:none;stroke-width:0.75090754\" xml:space=\"preserve\" inkscape:export-filename=\"C:\\Users\\Patricia\\Desktop\\bitmap.png\" inkscape:export-xdpi=\"300\" inkscape:export-ydpi=\"300\"><tspan style=\"font-size:4.505445px;line-height:1.25;stroke-width:0.75090754\" y=\"-8.5171785\" x=\"-6.0547891\" id=\"tspan20938-7-1\" sodipodi:role=\"line\">20/0,4 kV</tspan></text>\n    <path inkscape:connector-curvature=\"0\" id=\"path4612-2-8-3-9\" d=\"M 83.43224,-7.6077307 V 7.4104152\" style=\"fill:none;stroke:#000000;stroke-width:1.50181508;stroke-linecap:butt;stroke-linejoin:miter;stroke-opacity:1\" inkscape:export-filename=\"C:\\Users\\Patricia\\Desktop\\bitmap.png\" inkscape:export-xdpi=\"300\" inkscape:export-ydpi=\"300\"/>\n    <path inkscape:connector-curvature=\"0\" id=\"path16931-7-8-9-5\" d=\"M 33.475798,-0.09865347 H 27.843991\" style=\"fill:none;stroke:#000000;stroke-width:0.75090754px;stroke-linecap:butt;stroke-linejoin:miter;stroke-opacity:1\" inkscape:export-filename=\"C:\\Users\\Patricia\\Desktop\\bitmap.png\" inkscape:export-xdpi=\"300\" inkscape:export-ydpi=\"300\"/>\n    <path style=\"fill:none;stroke:#000000;stroke-width:0.75090742px;stroke-linecap:butt;stroke-linejoin:miter;stroke-opacity:1\" d=\"M 31.598507,-0.09865347 H 87.165634\" id=\"path20686-1-3-1\" inkscape:connector-curvature=\"0\" inkscape:export-filename=\"C:\\Users\\Patricia\\Desktop\\bitmap.png\" inkscape:export-xdpi=\"300\" inkscape:export-ydpi=\"300\"/>\n    <path inkscape:connector-curvature=\"0\" id=\"path20739-6-2\" d=\"M 27.843991,-0.09865347 H 24.089408\" style=\"fill:none;stroke:#000000;stroke-width:0.75090754px;stroke-linecap:butt;stroke-linejoin:miter;stroke-opacity:1\" inkscape:export-filename=\"C:\\Users\\Patricia\\Desktop\\bitmap.png\" inkscape:export-xdpi=\"300\" inkscape:export-ydpi=\"300\"/>\n    <g id=\"g8672\" transform=\"matrix(0.47063851,0,0,0.70397576,-36.535902,-80.431255)\" style=\"stroke-width:1.22306651;stroke-miterlimit:4;stroke-dasharray:none;stroke-linecap:round\">\n      <path style=\"fill:none;stroke:#000000;stroke-width:1.22306651;stroke-linecap:round;stroke-linejoin:miter;stroke-opacity:1;stroke-miterlimit:4;stroke-dasharray:none\" d=\"m 224,132.65299 h 21.33333\" id=\"path46037-1-7-3-6\" inkscape:connector-curvature=\"0\"/>\n      <path style=\"fill:none;stroke:#000000;stroke-width:1.22306651;stroke-linecap:round;stroke-linejoin:miter;stroke-opacity:1;stroke-miterlimit:4;stroke-dasharray:none\" d=\"m 224,136.90642 h 21.33333\" id=\"path46037-1-9-4-7-4\" inkscape:connector-curvature=\"0\"/>\n    </g>\n    <text id=\"text20936-6-4-4\" y=\"-9.8604555\" x=\"17.143641\" style=\"font-style:normal;font-variant:normal;font-weight:normal;font-stretch:normal;font-size:5.1280508px;line-height:1.25;font-family:arial;-inkscape-font-specification:arial;font-variant-ligatures:normal;font-variant-position:normal;font-variant-caps:normal;font-variant-numeric:normal;font-variant-alternates:normal;font-feature-settings:normal;text-indent:0;text-align:start;text-decoration:none;text-decoration-line:none;text-decoration-style:solid;text-decoration-color:#000000;letter-spacing:0px;word-spacing:0px;text-transform:none;writing-mode:lr-tb;direction:ltr;text-orientation:mixed;dominant-baseline:auto;baseline-shift:baseline;text-anchor:start;white-space:normal;shape-padding:0;opacity:1;vector-effect:none;fill:#000000;fill-opacity:1;stroke:none;stroke-width:0.64100635;stroke-linecap:butt;stroke-linejoin:miter;stroke-miterlimit:4;stroke-dasharray:none;stroke-dashoffset:0;stroke-opacity:1\" xml:space=\"preserve\" inkscape:export-filename=\"C:\\Users\\Patricia\\Desktop\\bitmap.png\" inkscape:export-xdpi=\"300\" inkscape:export-ydpi=\"300\"><tspan y=\"-9.8604555\" x=\"17.143641\" id=\"tspan20938-6-23-7\" sodipodi:role=\"line\" style=\"font-style:normal;font-variant:normal;font-weight:normal;font-stretch:normal;font-size:5.1280508px;line-height:1.25;font-family:arial;-inkscape-font-specification:arial;font-variant-ligatures:normal;font-variant-position:normal;font-variant-caps:normal;font-variant-numeric:normal;font-variant-alternates:normal;font-feature-settings:normal;text-indent:0;text-align:start;text-decoration:none;text-decoration-line:none;text-decoration-style:solid;text-decoration-color:#000000;letter-spacing:0px;word-spacing:0px;text-transform:none;writing-mode:lr-tb;direction:ltr;text-orientation:mixed;dominant-baseline:auto;baseline-shift:baseline;text-anchor:start;white-space:normal;shape-padding:0;vector-effect:none;fill:#000000;fill-opacity:1;stroke:none;stroke-width:0.64100635;stroke-linecap:butt;stroke-linejoin:miter;stroke-miterlimit:4;stroke-dasharray:none;stroke-dashoffset:0;stroke-opacity:1\">B2</tspan></text>\n    <text id=\"text20936-6-4-4-4\" y=\"-9.8604555\" x=\"80.222198\" style=\"font-style:normal;font-variant:normal;font-weight:normal;font-stretch:normal;font-size:5.1280508px;line-height:1.25;font-family:arial;-inkscape-font-specification:arial;font-variant-ligatures:normal;font-variant-position:normal;font-variant-caps:normal;font-variant-numeric:normal;font-variant-alternates:normal;font-feature-settings:normal;text-indent:0;text-align:start;text-decoration:none;text-decoration-line:none;text-decoration-style:solid;text-decoration-color:#000000;letter-spacing:0px;word-spacing:0px;text-transform:none;writing-mode:lr-tb;direction:ltr;text-orientation:mixed;dominant-baseline:auto;baseline-shift:baseline;text-anchor:start;white-space:normal;shape-padding:0;opacity:1;vector-effect:none;fill:#000000;fill-opacity:1;stroke:none;stroke-width:0.64100635;stroke-linecap:butt;stroke-linejoin:miter;stroke-miterlimit:4;stroke-dasharray:none;stroke-dashoffset:0;stroke-opacity:1\" xml:space=\"preserve\" inkscape:export-filename=\"C:\\Users\\Patricia\\Desktop\\bitmap.png\" inkscape:export-xdpi=\"300\" inkscape:export-ydpi=\"300\"><tspan y=\"-9.8604555\" x=\"80.222198\" id=\"tspan20938-6-23-7-2\" sodipodi:role=\"line\" style=\"font-style:normal;font-variant:normal;font-weight:normal;font-stretch:normal;font-size:5.1280508px;line-height:1.25;font-family:arial;-inkscape-font-specification:arial;font-variant-ligatures:normal;font-variant-position:normal;font-variant-caps:normal;font-variant-numeric:normal;font-variant-alternates:normal;font-feature-settings:normal;text-indent:0;text-align:start;text-decoration:none;text-decoration-line:none;text-decoration-style:solid;text-decoration-color:#000000;letter-spacing:0px;word-spacing:0px;text-transform:none;writing-mode:lr-tb;direction:ltr;text-orientation:mixed;dominant-baseline:auto;baseline-shift:baseline;text-anchor:start;white-space:normal;shape-padding:0;vector-effect:none;fill:#000000;fill-opacity:1;stroke:none;stroke-width:0.64100635;stroke-linecap:butt;stroke-linejoin:miter;stroke-miterlimit:4;stroke-dasharray:none;stroke-dashoffset:0;stroke-opacity:1\">B3</tspan></text>\n    <path inkscape:connector-curvature=\"0\" id=\"path4612-2-8-3-9-7\" d=\"M 99.180177,-7.6077307 V 7.4104154\" style=\"fill:none;stroke:#000000;stroke-width:1.50181508;stroke-linecap:butt;stroke-linejoin:miter;stroke-opacity:1\" inkscape:export-filename=\"C:\\Users\\Patricia\\Desktop\\bitmap.png\" inkscape:export-xdpi=\"300\" inkscape:export-ydpi=\"300\"/>\n    <path inkscape:connector-curvature=\"0\" id=\"path4704-5-8-2-7-8\" d=\"M 99.180177,-0.09865347 H 111.19472 V 11.164958\" style=\"fill:none;stroke:#000000;stroke-width:0.75090754px;stroke-linecap:butt;stroke-linejoin:round;stroke-opacity:1;marker-mid:none;marker-end:url(#marker7868-6)\" inkscape:export-filename=\"C:\\Users\\Patricia\\Desktop\\bitmap.png\" inkscape:export-xdpi=\"300\" inkscape:export-ydpi=\"300\"/>\n    <text id=\"text20936-6-4-4-4-1\" y=\"-9.8604555\" x=\"95.977646\" style=\"font-style:normal;font-variant:normal;font-weight:normal;font-stretch:normal;font-size:5.1280508px;line-height:1.25;font-family:arial;-inkscape-font-specification:arial;font-variant-ligatures:normal;font-variant-position:normal;font-variant-caps:normal;font-variant-numeric:normal;font-variant-alternates:normal;font-feature-settings:normal;text-indent:0;text-align:start;text-decoration:none;text-decoration-line:none;text-decoration-style:solid;text-decoration-color:#000000;letter-spacing:0px;word-spacing:0px;text-transform:none;writing-mode:lr-tb;direction:ltr;text-orientation:mixed;dominant-baseline:auto;baseline-shift:baseline;text-anchor:start;white-space:normal;shape-padding:0;opacity:1;vector-effect:none;fill:#000000;fill-opacity:1;stroke:none;stroke-width:0.64100635;stroke-linecap:butt;stroke-linejoin:miter;stroke-miterlimit:4;stroke-dasharray:none;stroke-dashoffset:0;stroke-opacity:1\" xml:space=\"preserve\" inkscape:export-filename=\"C:\\Users\\Patricia\\Desktop\\bitmap.png\" inkscape:export-xdpi=\"300\" inkscape:export-ydpi=\"300\"><tspan y=\"-9.8604555\" x=\"95.977646\" id=\"tspan20938-6-23-7-2-9\" sodipodi:role=\"line\" style=\"font-style:normal;font-variant:normal;font-weight:normal;font-stretch:normal;font-size:5.1280508px;line-height:1.25;font-family:arial;-inkscape-font-specification:arial;font-variant-ligatures:normal;font-variant-position:normal;font-variant-caps:normal;font-variant-numeric:normal;font-variant-alternates:normal;font-feature-settings:normal;text-indent:0;text-align:start;text-decoration:none;text-decoration-line:none;text-decoration-style:solid;text-decoration-color:#000000;letter-spacing:0px;word-spacing:0px;text-transform:none;writing-mode:lr-tb;direction:ltr;text-orientation:mixed;dominant-baseline:auto;baseline-shift:baseline;text-anchor:start;white-space:normal;shape-padding:0;vector-effect:none;fill:#000000;fill-opacity:1;stroke:none;stroke-width:0.64100635;stroke-linecap:butt;stroke-linejoin:miter;stroke-miterlimit:4;stroke-dasharray:none;stroke-dashoffset:0;stroke-opacity:1\">B4</tspan></text>\n    <path style=\"fill:none;stroke:#000000;stroke-width:0.75090742px;stroke-linecap:butt;stroke-linejoin:miter;stroke-opacity:1\" d=\"M 87.165634,-0.09865347 H 107.70996\" id=\"path20686-1-3-1-0\" inkscape:connector-curvature=\"0\" inkscape:export-filename=\"C:\\Users\\Patricia\\Desktop\\bitmap.png\" inkscape:export-xdpi=\"300\" inkscape:export-ydpi=\"300\"/>\n    <path style=\"fill:none;stroke:#000000;stroke-width:0.704;stroke-linecap:round;stroke-linejoin:round;stroke-miterlimit:4;stroke-dasharray:none;stroke-opacity:1\" d=\"M 73.90727,12.811049 V 3.9423447 h 9.25525\" id=\"path20686-1-3-1-0-3\" inkscape:connector-curvature=\"0\" inkscape:export-filename=\"C:\\Users\\Patricia\\Desktop\\bitmap.png\" inkscape:export-xdpi=\"300\" inkscape:export-ydpi=\"300\" sodipodi:nodetypes=\"ccc\"/>\n    <g id=\"g29464\" ns0:jacobian_sqrt=\"0.479209\" inkscapeversion=\"0.92.4\" ns0:alignment=\"middle center\" ns0:scale=\"1.35838708846\" ns0:preamble=\"C:\\\\Users\\\\jmmau\\\\AppData\\\\Roaming\\\\inkscape\\\\extensions\\\\textext\\\\default_packages.tex\" ns0:text=\"$\\\\sf I_{L} =$\" ns0:pdfconverter=\"pdf2svg\" ns0:texconverter=\"pdflatex\" ns0:version=\"0.9.1\" transform=\"matrix(0.479209,0,0,0.479209,-31.313663,-67.220139)\">\n      <g id=\"g29462\">\n        <g id=\"g29452\" style=\"fill:#000000;fill-opacity:1\">\n          <path id=\"path29450\" transform=\"translate(148.712,134.765)\" d=\"M 1.828125,-6.921875 H 0.9375 V 0 h 0.890625 z m 0,0\" style=\"stroke:none;stroke-width:0\" inkscape:connector-curvature=\"0\"/>\n        </g>\n        <g id=\"g29456\" style=\"fill:#000000;fill-opacity:1\">\n          <path id=\"path29454\" transform=\"translate(151.48,136.259)\" d=\"M 1.375,-4.84375 H 0.671875 V 0 H 3.71875 v -0.5 c -0.671875,0 -1.328125,0.015625 -1.984375,0.015625 H 1.375 Z m 0,0\" style=\"stroke:none;stroke-width:0\" inkscape:connector-curvature=\"0\"/>\n        </g>\n        <g id=\"g29460\" style=\"fill:#000000;fill-opacity:1\">\n          <path id=\"path29458\" transform=\"translate(158.777,134.765)\" d=\"m 6.84375,-3.265625 c 0.15625,0 0.34375,0 0.34375,-0.1875 C 7.1875,-3.65625 7,-3.65625 6.859375,-3.65625 h -5.96875 c -0.140625,0 -0.328125,0 -0.328125,0.203125 0,0.1875 0.1875,0.1875 0.328125,0.1875 z m 0.015625,1.9375 c 0.140625,0 0.328125,0 0.328125,-0.203125 0,-0.1875 -0.1875,-0.1875 -0.34375,-0.1875 H 0.890625 c -0.140625,0 -0.328125,0 -0.328125,0.1875 0,0.203125 0.1875,0.203125 0.328125,0.203125 z m 0,0\" style=\"stroke:none;stroke-width:0\" inkscape:connector-curvature=\"0\"/>\n        </g>\n      </g>\n    </g>\n    <text xml:space=\"preserve\" style=\"font-style:normal;font-variant:normal;font-weight:normal;font-stretch:normal;font-size:3.70974803px;line-height:1.25;font-family:'Latin Modern Sans';-inkscape-font-specification:'Latin Modern Sans';text-align:center;letter-spacing:0px;word-spacing:0px;text-anchor:middle;fill:#000000;fill-opacity:1;stroke:none;stroke-width:0.56607127\" x=\"56.370071\" y=\"21.179079\" id=\"I_cap\" inkscape:label=\"#text20176\"><tspan sodipodi:role=\"line\" x=\"56.370071\" y=\"21.179079\" style=\"font-style:normal;font-variant:normal;font-weight:normal;font-stretch:normal;font-family:'Lucida Console';-inkscape-font-specification:'Lucida Console';stroke-width:0.56607127\" id=\"tspan28562-6\">000 A</tspan></text>\n    <text xml:space=\"preserve\" style=\"font-style:normal;font-variant:normal;font-weight:normal;font-stretch:normal;font-size:3.84299755px;line-height:1.25;font-family:'Latin Modern Sans';-inkscape-font-specification:'Latin Modern Sans';text-align:center;letter-spacing:0px;word-spacing:0px;text-anchor:middle;fill:#000000;fill-opacity:1;stroke:none;stroke-width:0.58640391\" x=\"45.325497\" y=\"5.750638\" id=\"Q_red\" inkscape:label=\"#text20176\"><tspan sodipodi:role=\"line\" x=\"45.325497\" y=\"5.750638\" style=\"font-style:normal;font-variant:normal;font-weight:normal;font-stretch:normal;font-family:'Lucida Console';-inkscape-font-specification:'Lucida Console';stroke-width:0.58640391\" id=\"tspan28562-0\">-000 kvar</tspan></text>\n    <g id=\"g30065\" ns0:jacobian_sqrt=\"0.479209\" inkscapeversion=\"0.92.4\" ns0:alignment=\"middle center\" ns0:scale=\"1.35838706011\" ns0:preamble=\"C:\\\\Users\\\\jmmau\\\\AppData\\\\Roaming\\\\inkscape\\\\extensions\\\\textext\\\\default_packages.tex\" ns0:text=\"$\\\\sf I_{cap}$=\" ns0:pdfconverter=\"pdf2svg\" ns0:texconverter=\"pdflatex\" ns0:version=\"0.9.1\" transform=\"matrix(0.44411589,0,0,0.44411589,-26.581474,-39.050629)\">\n      <g id=\"g30063\">\n        <g id=\"g30049\" style=\"fill:#000000;fill-opacity:1\">\n          <path id=\"path30047\" transform=\"translate(148.712,134.765)\" d=\"M 1.828125,-6.921875 H 0.9375 V 0 h 0.890625 z m 0,0\" style=\"stroke:none;stroke-width:0\" inkscape:connector-curvature=\"0\"/>\n        </g>\n        <g id=\"g30057\" style=\"fill:#000000;fill-opacity:1\">\n          <path id=\"path30051\" transform=\"translate(151.48,136.259)\" d=\"M 3.03125,-0.765625 C 2.6875,-0.53125 2.3125,-0.40625 1.875,-0.40625 c -0.640625,0 -1.015625,-0.515625 -1.015625,-1.140625 0,-0.546875 0.28125,-1.171875 1.03125,-1.171875 0.484375,0 0.703125,0.09375 1.0625,0.328125 L 3.03125,-2.90625 C 2.625,-3.109375 2.4375,-3.203125 1.890625,-3.203125 c -1.046875,0 -1.640625,0.84375 -1.640625,1.65625 0,0.84375 0.671875,1.609375 1.625,1.609375 0.484375,0 0.90625,-0.140625 1.203125,-0.3125 z m 0,0\" style=\"stroke:none;stroke-width:0\" inkscape:connector-curvature=\"0\"/>\n          <path id=\"path30053\" transform=\"translate(154.77303,136.259)\" d=\"m 2.96875,-2 c 0,-0.71875 -0.546875,-1.203125 -1.234375,-1.203125 -0.4375,0 -0.765625,0.09375 -1.15625,0.296875 l 0.03125,0.515625 C 0.84375,-2.546875 1.1875,-2.75 1.734375,-2.75 c 0.3125,0 0.625,0.234375 0.625,0.75 v 0.28125 C 1.328125,-1.6875 0.3125,-1.46875 0.3125,-0.828125 0.3125,-0.46875 0.546875,0.0625 1.15625,0.0625 1.46875,0.0625 2.015625,0 2.390625,-0.265625 V 0 H 2.96875 Z m -0.609375,1.015625 c 0,0.140625 0,0.3125 -0.234375,0.46875 -0.234375,0.125 -0.5,0.125 -0.578125,0.125 -0.390625,0 -0.671875,-0.171875 -0.671875,-0.4375 0,-0.453125 1.171875,-0.484375 1.484375,-0.5 z m 0,0\" style=\"stroke:none;stroke-width:0\" inkscape:connector-curvature=\"0\"/>\n          <path id=\"path30055\" transform=\"translate(158.33246,136.259)\" d=\"M 1.203125,-0.328125 C 1.5625,0 1.96875,0.0625 2.203125,0.0625 2.9375,0.0625 3.5625,-0.640625 3.5625,-1.546875 c 0,-0.84375 -0.453125,-1.609375 -1.140625,-1.609375 -0.3125,0 -0.84375,0.078125 -1.25,0.390625 V -3.09375 H 0.59375 v 4.453125 h 0.609375 z m 0,-1.984375 c 0.15625,-0.203125 0.421875,-0.375 0.765625,-0.375 0.546875,0 1,0.515625 1,1.140625 0,0.6875 -0.53125,1.15625 -1.078125,1.15625 -0.09375,0 -0.28125,-0.015625 -0.453125,-0.15625 C 1.21875,-0.703125 1.203125,-0.8125 1.203125,-0.953125 Z m 0,0\" style=\"stroke:none;stroke-width:0\" inkscape:connector-curvature=\"0\"/>\n        </g>\n        <g id=\"g30061\" style=\"fill:#000000;fill-opacity:1\">\n          <path id=\"path30059\" transform=\"translate(162.657,134.765)\" d=\"m 6.84375,-3.265625 c 0.15625,0 0.34375,0 0.34375,-0.1875 C 7.1875,-3.65625 7,-3.65625 6.859375,-3.65625 h -5.96875 c -0.140625,0 -0.328125,0 -0.328125,0.203125 0,0.1875 0.1875,0.1875 0.328125,0.1875 z m 0.015625,1.9375 c 0.140625,0 0.328125,0 0.328125,-0.203125 0,-0.1875 -0.1875,-0.1875 -0.34375,-0.1875 H 0.890625 c -0.140625,0 -0.328125,0 -0.328125,0.1875 0,0.203125 0.1875,0.203125 0.328125,0.203125 z m 0,0\" style=\"stroke:none;stroke-width:0\" inkscape:connector-curvature=\"0\"/>\n        </g>\n      </g>\n    </g>\n    <g id=\"g30176\" ns0:jacobian_sqrt=\"0.479209\" inkscapeversion=\"0.92.4\" ns0:alignment=\"middle center\" ns0:scale=\"1.35838708846\" ns0:preamble=\"C:\\\\Users\\\\jmmau\\\\AppData\\\\Roaming\\\\inkscape\\\\extensions\\\\textext\\\\default_packages.tex\" ns0:text=\"$\\\\sf Q_{red}$=\" ns0:pdfconverter=\"pdf2svg\" ns0:texconverter=\"pdflatex\" ns0:version=\"0.9.1\" transform=\"matrix(0.479209,0,0,0.479209,-48.464874,-58.75823)\">\n      <g id=\"surface1\">\n        <g id=\"g30161\" style=\"fill:#000000;fill-opacity:1\">\n          <path id=\"path30159\" transform=\"translate(148.712,134.765)\" d=\"m 5.3125,-0.328125 c 1.09375,-0.84375 1.453125,-2.0625 1.453125,-3.109375 0,-2.09375 -1.4375,-3.703125 -3.09375,-3.703125 -1.703125,0 -3.109375,1.625 -3.109375,3.703125 0,2.109375 1.46875,3.65625 3.09375,3.65625 0.15625,0 0.53125,-0.015625 0.953125,-0.171875 L 5.46875,1.25 H 6.5 Z m -1.078125,-0.1875 c -0.015625,0 -0.28125,0.09375 -0.5625,0.09375 -1.171875,0 -2.25,-1.15625 -2.25,-3.015625 C 1.421875,-5.296875 2.5,-6.5 3.65625,-6.5 c 1.203125,0 2.25,1.21875 2.25,3.0625 0,0.640625 -0.109375,1.734375 -1.015625,2.546875 L 4.109375,-1.9375 H 3.21875 Z m 0,0\" style=\"stroke:none;stroke-width:0\" inkscape:connector-curvature=\"0\"/>\n        </g>\n        <g id=\"g30169\" style=\"fill:#000000;fill-opacity:1\">\n          <path id=\"path30163\" transform=\"translate(156.046,136.259)\" d=\"m 1.171875,-1.484375 c 0,-0.75 0.640625,-1.15625 1.25,-1.15625 V -3.15625 C 1.828125,-3.15625 1.40625,-2.875 1.125,-2.5 V -3.140625 H 0.59375 V 0 h 0.578125 z m 0,0\" style=\"stroke:none;stroke-width:0\" inkscape:connector-curvature=\"0\"/>\n          <path id=\"path30165\" transform=\"translate(158.57679,136.259)\" d=\"m 3,-0.765625 c -0.390625,0.28125 -0.828125,0.375 -1.125,0.375 -0.609375,0 -1.078125,-0.5 -1.09375,-1.140625 H 3.0625 c 0,-0.3125 -0.03125,-0.78125 -0.296875,-1.171875 -0.25,-0.359375 -0.671875,-0.5 -1.015625,-0.5 -0.84375,0 -1.5,0.75 -1.5,1.640625 0,0.890625 0.6875,1.625 1.609375,1.625 0.40625,0 0.828125,-0.109375 1.171875,-0.328125 z M 0.828125,-1.9375 C 0.984375,-2.5 1.40625,-2.734375 1.75,-2.734375 c 0.3125,0 0.765625,0.140625 0.890625,0.796875 z m 0,0\" style=\"stroke:none;stroke-width:0\" inkscape:connector-curvature=\"0\"/>\n          <path id=\"path30167\" transform=\"translate(161.86982,136.259)\" d=\"M 3.21875,-4.84375 H 2.640625 v 2.046875 C 2.1875,-3.125 1.734375,-3.15625 1.546875,-3.15625 0.8125,-3.15625 0.25,-2.4375 0.25,-1.546875 0.25,-0.65625 0.796875,0.0625 1.515625,0.0625 c 0.4375,0 0.84375,-0.1875 1.109375,-0.421875 V 0 H 3.21875 Z M 2.625,-0.859375 c -0.171875,0.28125 -0.4375,0.46875 -0.78125,0.46875 -0.484375,0 -0.984375,-0.34375 -0.984375,-1.15625 0,-0.859375 0.59375,-1.15625 1.0625,-1.15625 0.28125,0 0.515625,0.125 0.703125,0.359375 z m 0,0\" style=\"stroke:none;stroke-width:0\" inkscape:connector-curvature=\"0\"/>\n        </g>\n        <g id=\"g30173\" style=\"fill:#000000;fill-opacity:1\">\n          <path id=\"path30171\" transform=\"translate(166.194,134.765)\" d=\"m 6.84375,-3.265625 c 0.15625,0 0.34375,0 0.34375,-0.1875 C 7.1875,-3.65625 7,-3.65625 6.859375,-3.65625 h -5.96875 c -0.140625,0 -0.328125,0 -0.328125,0.203125 0,0.1875 0.1875,0.1875 0.328125,0.1875 z m 0.015625,1.9375 c 0.140625,0 0.328125,0 0.328125,-0.203125 0,-0.1875 -0.1875,-0.1875 -0.34375,-0.1875 H 0.890625 c -0.140625,0 -0.328125,0 -0.328125,0.1875 0,0.203125 0.1875,0.203125 0.328125,0.203125 z m 0,0\" style=\"stroke:none;stroke-width:0\" inkscape:connector-curvature=\"0\"/>\n        </g>\n      </g>\n    </g>\n    <g id=\"g30332\" ns0:jacobian_sqrt=\"0.479209\" inkscapeversion=\"0.92.4\" ns0:alignment=\"middle center\" ns0:scale=\"1.35838703176\" ns0:preamble=\"C:\\\\Users\\\\jmmau\\\\AppData\\\\Roaming\\\\inkscape\\\\extensions\\\\textext\\\\default_packages.tex\" ns0:text=\"$\\\\sf U$=\" ns0:pdfconverter=\"pdf2svg\" ns0:texconverter=\"pdflatex\" ns0:version=\"0.9.1\" transform=\"matrix(0.479209,0,0,0.479209,18.767893,-80.846008)\">\n      <g id=\"g30330\">\n        <g id=\"g30324\" style=\"fill:#000000;fill-opacity:1\">\n          <path id=\"path30322\" transform=\"translate(148.712,134.765)\" d=\"M 5.90625,-6.921875 H 5.140625 V -2.3125 c 0,1.3125 -0.84375,1.96875 -1.6875,1.96875 -0.8125,0 -1.625,-0.625 -1.625,-1.96875 V -6.921875 H 0.9375 v 4.59375 c 0,1.453125 1.171875,2.546875 2.515625,2.546875 1.328125,0 2.453125,-1.09375 2.453125,-2.546875 z m 0,0\" style=\"stroke:none;stroke-width:0\" inkscape:connector-curvature=\"0\"/>\n        </g>\n        <g id=\"g30328\" style=\"fill:#000000;fill-opacity:1\">\n          <path id=\"path30326\" transform=\"translate(155.562,134.765)\" d=\"m 6.84375,-3.265625 c 0.15625,0 0.34375,0 0.34375,-0.1875 C 7.1875,-3.65625 7,-3.65625 6.859375,-3.65625 h -5.96875 c -0.140625,0 -0.328125,0 -0.328125,0.203125 0,0.1875 0.1875,0.1875 0.328125,0.1875 z m 0.015625,1.9375 c 0.140625,0 0.328125,0 0.328125,-0.203125 0,-0.1875 -0.1875,-0.1875 -0.34375,-0.1875 H 0.890625 c -0.140625,0 -0.328125,0 -0.328125,0.1875 0,0.203125 0.1875,0.203125 0.328125,0.203125 z m 0,0\" style=\"stroke:none;stroke-width:0\" inkscape:connector-curvature=\"0\"/>\n        </g>\n      </g>\n    </g>\n    <text xml:space=\"preserve\" style=\"font-style:normal;font-variant:normal;font-weight:normal;font-stretch:normal;font-size:4.61350441px;line-height:1.25;font-family:'Latin Modern Sans';-inkscape-font-specification:'Latin Modern Sans';text-align:center;letter-spacing:0px;word-spacing:0px;text-anchor:middle;fill:#000000;fill-opacity:1;stroke:none;stroke-width:0.70397568\" x=\"105.43847\" y=\"-16.308502\" id=\"U_carga\" inkscape:label=\"#text20176\"><tspan sodipodi:role=\"line\" x=\"105.43847\" y=\"-16.308502\" style=\"font-style:normal;font-variant:normal;font-weight:normal;font-stretch:normal;font-family:'Lucida Console';-inkscape-font-specification:'Lucida Console';stroke-width:0.70397568\" id=\"tspan28562-6-6\">000 V</tspan></text>\n    <text xml:space=\"preserve\" style=\"font-style:normal;font-variant:normal;font-weight:normal;font-stretch:normal;font-size:4.03235197px;line-height:1.25;font-family:'Latin Modern Sans';-inkscape-font-specification:'Latin Modern Sans';text-align:center;letter-spacing:0px;word-spacing:0px;text-anchor:middle;fill:#000000;fill-opacity:1;stroke:none;stroke-width:0.6152975\" x=\"11.44358\" y=\"20.908615\" id=\"P_perd\" inkscape:label=\"#text20176\"><tspan sodipodi:role=\"line\" x=\"11.443579\" y=\"20.908615\" style=\"font-style:normal;font-variant:normal;font-weight:normal;font-stretch:normal;font-family:'Lucida Console';-inkscape-font-specification:'Lucida Console';stroke-width:0.6152975\" id=\"tspan28562-6-2\">00.0 kW</tspan></text>\n    <g id=\"g31458\" ns0:jacobian_sqrt=\"0.479209\" inkscapeversion=\"0.92.4\" ns0:alignment=\"middle center\" ns0:scale=\"1.35838703176\" ns0:preamble=\"C:\\\\Users\\\\jmmau\\\\AppData\\\\Roaming\\\\inkscape\\\\extensions\\\\textext\\\\default_packages.tex\" ns0:text=\"$\\\\sf P_{perd}$=\" ns0:pdfconverter=\"pdf2svg\" ns0:texconverter=\"pdflatex\" ns0:version=\"0.9.1\" transform=\"matrix(0.479209,0.000000,0.000000,0.479209,-81.953302,-43.750013)\">\n      <g id=\"g31456\">\n        <g id=\"g31438\" style=\"fill:rgb(0%,0%,0%);fill-opacity:1;\">\n          <path id=\"path31436\" transform=\"translate(148.712,134.765)\" d=\"M 3.515625 -2.875 C 4.75 -2.875 5.796875 -3.78125 5.796875 -4.90625 C 5.796875 -5.96875 4.8125 -6.921875 3.4375 -6.921875 L 0.953125 -6.921875 L 0.953125 0 L 1.84375 0 L 1.84375 -2.875 Z M 3.21875 -6.359375 C 4.3125 -6.359375 5 -5.75 5 -4.90625 C 5 -4.109375 4.359375 -3.453125 3.21875 -3.453125 L 1.8125 -3.453125 L 1.8125 -6.359375 Z M 3.21875 -6.359375 \" style=\"stroke:none;stroke-width:0\"/>\n        </g>\n        <g id=\"g31442\" style=\"fill:rgb(0%,0%,0%);fill-opacity:1;\">\n          <path id=\"path31440\" transform=\"translate(155.077,136.259)\" d=\"M 1.203125 -0.328125 C 1.5625 0 1.96875 0.0625 2.203125 0.0625 C 2.9375 0.0625 3.5625 -0.640625 3.5625 -1.546875 C 3.5625 -2.390625 3.109375 -3.15625 2.421875 -3.15625 C 2.109375 -3.15625 1.578125 -3.078125 1.171875 -2.765625 L 1.171875 -3.09375 L 0.59375 -3.09375 L 0.59375 1.359375 L 1.203125 1.359375 Z M 1.203125 -2.3125 C 1.359375 -2.515625 1.625 -2.6875 1.96875 -2.6875 C 2.515625 -2.6875 2.96875 -2.171875 2.96875 -1.546875 C 2.96875 -0.859375 2.4375 -0.390625 1.890625 -0.390625 C 1.796875 -0.390625 1.609375 -0.40625 1.4375 -0.546875 C 1.21875 -0.703125 1.203125 -0.8125 1.203125 -0.953125 Z M 1.203125 -2.3125 \" style=\"stroke:none;stroke-width:0\"/>\n        </g>\n        <g id=\"g31450\" style=\"fill:rgb(0%,0%,0%);fill-opacity:1;\">\n          <path id=\"path31444\" transform=\"translate(159.112041,136.259)\" d=\"M 3 -0.765625 C 2.609375 -0.484375 2.171875 -0.390625 1.875 -0.390625 C 1.265625 -0.390625 0.796875 -0.890625 0.78125 -1.53125 L 3.0625 -1.53125 C 3.0625 -1.84375 3.03125 -2.3125 2.765625 -2.703125 C 2.515625 -3.0625 2.09375 -3.203125 1.75 -3.203125 C 0.90625 -3.203125 0.25 -2.453125 0.25 -1.5625 C 0.25 -0.671875 0.9375 0.0625 1.859375 0.0625 C 2.265625 0.0625 2.6875 -0.046875 3.03125 -0.265625 Z M 0.828125 -1.9375 C 0.984375 -2.5 1.40625 -2.734375 1.75 -2.734375 C 2.0625 -2.734375 2.515625 -2.59375 2.640625 -1.9375 Z M 0.828125 -1.9375 \" style=\"stroke:none;stroke-width:0\"/>\n          <path id=\"path31446\" transform=\"translate(162.405069,136.259)\" d=\"M 1.171875 -1.484375 C 1.171875 -2.234375 1.8125 -2.640625 2.421875 -2.640625 L 2.421875 -3.15625 C 1.828125 -3.15625 1.40625 -2.875 1.125 -2.5 L 1.125 -3.140625 L 0.59375 -3.140625 L 0.59375 0 L 1.171875 0 Z M 1.171875 -1.484375 \" style=\"stroke:none;stroke-width:0\"/>\n          <path id=\"path31448\" transform=\"translate(164.935861,136.259)\" d=\"M 3.21875 -4.84375 L 2.640625 -4.84375 L 2.640625 -2.796875 C 2.1875 -3.125 1.734375 -3.15625 1.546875 -3.15625 C 0.8125 -3.15625 0.25 -2.4375 0.25 -1.546875 C 0.25 -0.65625 0.796875 0.0625 1.515625 0.0625 C 1.953125 0.0625 2.359375 -0.125 2.625 -0.359375 L 2.625 0 L 3.21875 0 Z M 2.625 -0.859375 C 2.453125 -0.578125 2.1875 -0.390625 1.84375 -0.390625 C 1.359375 -0.390625 0.859375 -0.734375 0.859375 -1.546875 C 0.859375 -2.40625 1.453125 -2.703125 1.921875 -2.703125 C 2.203125 -2.703125 2.4375 -2.578125 2.625 -2.34375 Z M 2.625 -0.859375 \" style=\"stroke:none;stroke-width:0\"/>\n        </g>\n        <g id=\"g31454\" style=\"fill:rgb(0%,0%,0%);fill-opacity:1;\">\n          <path id=\"path31452\" transform=\"translate(169.257,134.765)\" d=\"M 6.84375 -3.265625 C 7 -3.265625 7.1875 -3.265625 7.1875 -3.453125 C 7.1875 -3.65625 7 -3.65625 6.859375 -3.65625 L 0.890625 -3.65625 C 0.75 -3.65625 0.5625 -3.65625 0.5625 -3.453125 C 0.5625 -3.265625 0.75 -3.265625 0.890625 -3.265625 Z M 6.859375 -1.328125 C 7 -1.328125 7.1875 -1.328125 7.1875 -1.53125 C 7.1875 -1.71875 7 -1.71875 6.84375 -1.71875 L 0.890625 -1.71875 C 0.75 -1.71875 0.5625 -1.71875 0.5625 -1.53125 C 0.5625 -1.328125 0.75 -1.328125 0.890625 -1.328125 Z M 6.859375 -1.328125 \" style=\"stroke:none;stroke-width:0\"/>\n        </g>\n      </g>\n    </g>\n    <text xml:space=\"preserve\" style=\"font-style:normal;font-variant:normal;font-weight:normal;font-stretch:normal;font-size:3.57188439px;line-height:1.25;font-family:'Latin Modern Sans';-inkscape-font-specification:'Latin Modern Sans';text-align:center;letter-spacing:0px;word-spacing:0px;text-anchor:middle;fill:#000000;fill-opacity:1;stroke:none;stroke-width:0.54503465\" x=\"58.586636\" y=\"15.915075\" id=\"Q_cap\" inkscape:label=\"#text20176\"><tspan sodipodi:role=\"line\" x=\"58.586636\" y=\"15.915075\" style=\"font-style:normal;font-variant:normal;font-weight:normal;font-stretch:normal;font-family:'Lucida Console';-inkscape-font-specification:'Lucida Console';stroke-width:0.54503465\" id=\"tspan28562-6-5\"> -00 kvar</tspan></text>\n    <g id=\"g31659\" ns0:jacobian_sqrt=\"0.479209\" inkscapeversion=\"0.92.4\" ns0:alignment=\"middle center\" ns0:scale=\"1.35838703176\" ns0:preamble=\"C:\\\\Users\\\\jmmau\\\\AppData\\\\Roaming\\\\inkscape\\\\extensions\\\\textext\\\\default_packages.tex\" ns0:text=\"$\\\\sf Q_{cap}$=\" ns0:pdfconverter=\"pdf2svg\" ns0:texconverter=\"pdflatex\" ns0:version=\"0.9.1\" transform=\"matrix(0.39884084,0,0,0.39884084,-21.100465,-37.92913)\">\n      <g id=\"g31657\">\n        <g id=\"g31643\" style=\"fill:#000000;fill-opacity:1\">\n          <path id=\"path31641\" transform=\"translate(148.712,134.765)\" d=\"m 5.3125,-0.328125 c 1.09375,-0.84375 1.453125,-2.0625 1.453125,-3.109375 0,-2.09375 -1.4375,-3.703125 -3.09375,-3.703125 -1.703125,0 -3.109375,1.625 -3.109375,3.703125 0,2.109375 1.46875,3.65625 3.09375,3.65625 0.15625,0 0.53125,-0.015625 0.953125,-0.171875 L 5.46875,1.25 H 6.5 Z m -1.078125,-0.1875 c -0.015625,0 -0.28125,0.09375 -0.5625,0.09375 -1.171875,0 -2.25,-1.15625 -2.25,-3.015625 C 1.421875,-5.296875 2.5,-6.5 3.65625,-6.5 c 1.203125,0 2.25,1.21875 2.25,3.0625 0,0.640625 -0.109375,1.734375 -1.015625,2.546875 L 4.109375,-1.9375 H 3.21875 Z m 0,0\" style=\"stroke:none;stroke-width:0\" inkscape:connector-curvature=\"0\"/>\n        </g>\n        <g id=\"g31651\" style=\"fill:#000000;fill-opacity:1\">\n          <path id=\"path31645\" transform=\"translate(156.046,136.259)\" d=\"M 3.03125,-0.765625 C 2.6875,-0.53125 2.3125,-0.40625 1.875,-0.40625 c -0.640625,0 -1.015625,-0.515625 -1.015625,-1.140625 0,-0.546875 0.28125,-1.171875 1.03125,-1.171875 0.484375,0 0.703125,0.09375 1.0625,0.328125 L 3.03125,-2.90625 C 2.625,-3.109375 2.4375,-3.203125 1.890625,-3.203125 c -1.046875,0 -1.640625,0.84375 -1.640625,1.65625 0,0.84375 0.671875,1.609375 1.625,1.609375 0.484375,0 0.90625,-0.140625 1.203125,-0.3125 z m 0,0\" style=\"stroke:none;stroke-width:0\" inkscape:connector-curvature=\"0\"/>\n          <path id=\"path31647\" transform=\"translate(159.33903,136.259)\" d=\"m 2.96875,-2 c 0,-0.71875 -0.546875,-1.203125 -1.234375,-1.203125 -0.4375,0 -0.765625,0.09375 -1.15625,0.296875 l 0.03125,0.515625 C 0.84375,-2.546875 1.1875,-2.75 1.734375,-2.75 c 0.3125,0 0.625,0.234375 0.625,0.75 v 0.28125 C 1.328125,-1.6875 0.3125,-1.46875 0.3125,-0.828125 0.3125,-0.46875 0.546875,0.0625 1.15625,0.0625 1.46875,0.0625 2.015625,0 2.390625,-0.265625 V 0 H 2.96875 Z m -0.609375,1.015625 c 0,0.140625 0,0.3125 -0.234375,0.46875 -0.234375,0.125 -0.5,0.125 -0.578125,0.125 -0.390625,0 -0.671875,-0.171875 -0.671875,-0.4375 0,-0.453125 1.171875,-0.484375 1.484375,-0.5 z m 0,0\" style=\"stroke:none;stroke-width:0\" inkscape:connector-curvature=\"0\"/>\n          <path id=\"path31649\" transform=\"translate(162.89846,136.259)\" d=\"M 1.203125,-0.328125 C 1.5625,0 1.96875,0.0625 2.203125,0.0625 2.9375,0.0625 3.5625,-0.640625 3.5625,-1.546875 c 0,-0.84375 -0.453125,-1.609375 -1.140625,-1.609375 -0.3125,0 -0.84375,0.078125 -1.25,0.390625 V -3.09375 H 0.59375 v 4.453125 h 0.609375 z m 0,-1.984375 c 0.15625,-0.203125 0.421875,-0.375 0.765625,-0.375 0.546875,0 1,0.515625 1,1.140625 0,0.6875 -0.53125,1.15625 -1.078125,1.15625 -0.09375,0 -0.28125,-0.015625 -0.453125,-0.15625 C 1.21875,-0.703125 1.203125,-0.8125 1.203125,-0.953125 Z m 0,0\" style=\"stroke:none;stroke-width:0\" inkscape:connector-curvature=\"0\"/>\n        </g>\n        <g id=\"g31655\" style=\"fill:#000000;fill-opacity:1\">\n          <path id=\"path31653\" transform=\"translate(167.223,134.765)\" d=\"m 6.84375,-3.265625 c 0.15625,0 0.34375,0 0.34375,-0.1875 C 7.1875,-3.65625 7,-3.65625 6.859375,-3.65625 h -5.96875 c -0.140625,0 -0.328125,0 -0.328125,0.203125 0,0.1875 0.1875,0.1875 0.328125,0.1875 z m 0.015625,1.9375 c 0.140625,0 0.328125,0 0.328125,-0.203125 0,-0.1875 -0.1875,-0.1875 -0.34375,-0.1875 H 0.890625 c -0.140625,0 -0.328125,0 -0.328125,0.1875 0,0.203125 0.1875,0.203125 0.328125,0.203125 z m 0,0\" style=\"stroke:none;stroke-width:0\" inkscape:connector-curvature=\"0\"/>\n        </g>\n      </g>\n    </g>\n    <path style=\"opacity:1;vector-effect:none;fill:none;fill-opacity:1;stroke:#000000;stroke-width:0.68431467;stroke-linecap:round;stroke-linejoin:round;stroke-miterlimit:4;stroke-dasharray:none;stroke-dashoffset:0;stroke-opacity:1\" d=\"m 73.907268,15.947546 v 8.563529\" id=\"path20686-1-3-1-0-8\" inkscape:connector-curvature=\"0\" inkscape:export-filename=\"C:\\Users\\Patricia\\Desktop\\bitmap.png\" inkscape:export-xdpi=\"300\" inkscape:export-ydpi=\"300\"/>\n  </g>\n</svg>"
      }
     },
     "b6d6607f28364fcd96a138772b47d642": {
      "model_module": "@jupyter-widgets/controls",
      "model_module_version": "1.4.0",
      "model_name": "FloatTextModel",
      "state": {
       "description": "Qred (kvar): ",
       "layout": "IPY_MODEL_07a98e0c092c46098efdd68ac64cc957",
       "step": null,
       "style": "IPY_MODEL_ecec1451bb7d4b6a960baff9a182641e",
       "value": 7.5
      }
     },
     "b7a9984854ea4094982d046cee76e404": {
      "model_module": "@jupyter-widgets/controls",
      "model_module_version": "1.4.0",
      "model_name": "VBoxModel",
      "state": {
       "children": [
        "IPY_MODEL_867dacb6277f49948a365c872ab645ef",
        "IPY_MODEL_2985a253d96740539c0b3e8427ae6a3c",
        "IPY_MODEL_47f19515e6ba450fbf9c0ff525fde9f3",
        "IPY_MODEL_b4106108b88c466c9cdf201be1eab6bd"
       ],
       "layout": "IPY_MODEL_6575d6cfc0334a8abd2c01e4bb38ad1e"
      }
     },
     "bcdc7d209fd74688a35757cb60d48b88": {
      "model_module": "@jupyter-widgets/base",
      "model_module_version": "1.1.0",
      "model_name": "LayoutModel",
      "state": {}
     },
     "bdf871461ed24ff1a32a4f3a02c14c15": {
      "model_module": "@jupyter-widgets/controls",
      "model_module_version": "1.4.0",
      "model_name": "SliderStyleModel",
      "state": {
       "description_width": ""
      }
     },
     "bfc41dd8622946fb99badad63a2fc9e3": {
      "model_module": "@jupyter-widgets/controls",
      "model_module_version": "1.4.0",
      "model_name": "DescriptionStyleModel",
      "state": {
       "description_width": ""
      }
     },
     "c067495841bd429cb3ab660a11122ff5": {
      "model_module": "@jupyter-widgets/controls",
      "model_module_version": "1.4.0",
      "model_name": "FloatTextModel",
      "state": {
       "description": "Pred (kW): ",
       "layout": "IPY_MODEL_4887bce0b9a74757bb7e79d7a0cd6340",
       "step": null,
       "style": "IPY_MODEL_9c78e004c196464797a785d6c07f9fd2",
       "value": 7.5
      }
     },
     "c0fd2c0063564025930d55c15f056eef": {
      "model_module": "@jupyter-widgets/controls",
      "model_module_version": "1.4.0",
      "model_name": "FloatTextModel",
      "state": {
       "description": "Qred (kvar): ",
       "layout": "IPY_MODEL_cd4ce0a7f1a94b0296a53c3e752af23a",
       "step": null,
       "style": "IPY_MODEL_61f4ec8267204f6daea1d18013001e0d",
       "value": 7.5
      }
     },
     "c359ce213b2940c8992cf044909a7f97": {
      "model_module": "@jupyter-widgets/base",
      "model_module_version": "1.1.0",
      "model_name": "LayoutModel",
      "state": {}
     },
     "c45231a15e2d457e884da390d9b55ceb": {
      "model_module": "@jupyter-widgets/controls",
      "model_module_version": "1.4.0",
      "model_name": "FloatTextModel",
      "state": {
       "description": "Iₗᵢₙₑ (A): ",
       "layout": "IPY_MODEL_1a652f70552541b6a3a4f2d34ae88a31",
       "step": null,
       "style": "IPY_MODEL_fd15630a0bfb4aeea430ac10f9b1dd0c",
       "value": 7.5
      }
     },
     "c550836b4c0d476f86857e663fcc1e2a": {
      "model_module": "@jupyter-widgets/controls",
      "model_module_version": "1.4.0",
      "model_name": "DescriptionStyleModel",
      "state": {
       "description_width": ""
      }
     },
     "c5632efa790f46d3bd7f6fb0fdf1dd3e": {
      "model_module": "@jupyter-widgets/base",
      "model_module_version": "1.1.0",
      "model_name": "LayoutModel",
      "state": {}
     },
     "c5b443ee135848f6bb21d70bb573e923": {
      "model_module": "@jupyter-widgets/controls",
      "model_module_version": "1.4.0",
      "model_name": "HBoxModel",
      "state": {
       "children": [
        "IPY_MODEL_157ae4dca10947c39c2ae49228b43b03",
        "IPY_MODEL_b6d6607f28364fcd96a138772b47d642"
       ],
       "layout": "IPY_MODEL_5a041535f4e34918a5006c89052e8a9e"
      }
     },
     "c77a73f6c68a4ab09420faa347e769ef": {
      "model_module": "@jupyter-widgets/controls",
      "model_module_version": "1.4.0",
      "model_name": "FloatTextModel",
      "state": {
       "description": "Pperd (kW): ",
       "layout": "IPY_MODEL_d29c2422d19a465abb2dec4b5cebfb5a",
       "step": null,
       "style": "IPY_MODEL_01702ae0ee354b36aa67a93e0ab92e6f",
       "value": 7.5
      }
     },
     "c7cc473277bc4d089b3c54709456a665": {
      "model_module": "@jupyter-widgets/base",
      "model_module_version": "1.1.0",
      "model_name": "LayoutModel",
      "state": {}
     },
     "c8a9bd1a40da43458c48294fce6d72a6": {
      "model_module": "@jupyter-widgets/base",
      "model_module_version": "1.1.0",
      "model_name": "LayoutModel",
      "state": {}
     },
     "c9b9d9cce3834763a92c740d2f68a8e1": {
      "model_module": "@jupyter-widgets/base",
      "model_module_version": "1.1.0",
      "model_name": "LayoutModel",
      "state": {}
     },
     "cd4ce0a7f1a94b0296a53c3e752af23a": {
      "model_module": "@jupyter-widgets/base",
      "model_module_version": "1.1.0",
      "model_name": "LayoutModel",
      "state": {}
     },
     "ceb036a617844f1dbf54ba36fbd1f685": {
      "model_module": "@jupyter-widgets/controls",
      "model_module_version": "1.4.0",
      "model_name": "DescriptionStyleModel",
      "state": {
       "description_width": ""
      }
     },
     "cee0a2adcd03443c8e21a0bbcd0c292b": {
      "model_module": "@jupyter-widgets/base",
      "model_module_version": "1.1.0",
      "model_name": "LayoutModel",
      "state": {}
     },
     "cfd991a06e8b4f4986cd3182b189cb98": {
      "model_module": "@jupyter-widgets/controls",
      "model_module_version": "1.4.0",
      "model_name": "FloatTextModel",
      "state": {
       "description": "Uc (V): ",
       "layout": "IPY_MODEL_4bf24e3b1cb9448ab3d748045b9eb8de",
       "step": null,
       "style": "IPY_MODEL_e57dbc8ae99b4eb4b41070a590dca2a2",
       "value": 7.5
      }
     },
     "d142c16941b7489e97b8a1ce7561a82a": {
      "model_module": "@jupyter-widgets/controls",
      "model_module_version": "1.4.0",
      "model_name": "FloatTextModel",
      "state": {
       "description": "Uc (V): ",
       "layout": "IPY_MODEL_06772e9fa56e4776a11b43b2b3d28bbb",
       "step": null,
       "style": "IPY_MODEL_281dff61adca468590f3f314a71f8f75",
       "value": 7.5
      }
     },
     "d1611bf1ec574953b515f89719af482b": {
      "model_module": "@jupyter-widgets/base",
      "model_module_version": "1.1.0",
      "model_name": "LayoutModel",
      "state": {}
     },
     "d17eb3c35c8741afa3cf2d84d8f94d87": {
      "model_module": "@jupyter-widgets/controls",
      "model_module_version": "1.4.0",
      "model_name": "HTMLMathModel",
      "state": {
       "description": "Some HTML",
       "layout": "IPY_MODEL_3113d708e04e4e439b03c187537baf13",
       "placeholder": "Some HTML",
       "style": "IPY_MODEL_3923c21ef59b413c9a3e109156a9d3b9",
       "value": "Some math and <i>HTML</i>: \\(x^2\\) and $$\\frac{x+1}{x-1}$$"
      }
     },
     "d241d02cf1aa40379835f89b4e7ab9e1": {
      "model_module": "@jupyter-widgets/base",
      "model_module_version": "1.1.0",
      "model_name": "LayoutModel",
      "state": {}
     },
     "d29c2422d19a465abb2dec4b5cebfb5a": {
      "model_module": "@jupyter-widgets/base",
      "model_module_version": "1.1.0",
      "model_name": "LayoutModel",
      "state": {}
     },
     "d630b57e0e62404981cfd72528030015": {
      "model_module": "@jupyter-widgets/controls",
      "model_module_version": "1.4.0",
      "model_name": "DescriptionStyleModel",
      "state": {
       "description_width": ""
      }
     },
     "d8750b27249a4cb6821c6f549cc18dae": {
      "model_module": "@jupyter-widgets/base",
      "model_module_version": "1.1.0",
      "model_name": "LayoutModel",
      "state": {}
     },
     "dae511cad9654bf98de0d5301512e9a3": {
      "model_module": "@jupyter-widgets/controls",
      "model_module_version": "1.4.0",
      "model_name": "HBoxModel",
      "state": {
       "children": [
        "IPY_MODEL_90e9f7d5e508429384fcb0c04bd0704f",
        "IPY_MODEL_5a11a6a0769d4d33a31c00f3568fb9bd"
       ],
       "layout": "IPY_MODEL_55b3f1f1d384488c87c4374334a96b20"
      }
     },
     "dc88aa6755474ea0b207c47f8ec0e134": {
      "model_module": "@jupyter-widgets/controls",
      "model_module_version": "1.4.0",
      "model_name": "HTMLMathModel",
      "state": {
       "layout": "IPY_MODEL_acb49146684646349e51e66af942fa95",
       "style": "IPY_MODEL_96a4029b036146bb9d4dbcc9c459481b",
       "value": "<!-- Created with Inkscape (http://www.inkscape.org/) --><svg xmlns:ns0=\"http://www.iki.fi/pav/software/textext/\" xmlns:dc=\"http://purl.org/dc/elements/1.1/\" xmlns:cc=\"http://creativecommons.org/ns#\" xmlns:rdf=\"http://www.w3.org/1999/02/22-rdf-syntax-ns#\" xmlns:svg=\"http://www.w3.org/2000/svg\" xmlns=\"http://www.w3.org/2000/svg\" xmlns:sodipodi=\"http://sodipodi.sourceforge.net/DTD/sodipodi-0.dtd\" xmlns:inkscape=\"http://www.inkscape.org/namespaces/inkscape\" width=\"129.8232mm\" height=\"44.582893mm\" viewBox=\"0 0 129.8232 44.582894\" version=\"1.1\" id=\"svg19629\" inkscape:version=\"0.92.4 (5da689c313, 2019-01-14)\" sodipodi:docname=\"prueba.svg\">\n  <defs id=\"defs19623\">\n    <marker style=\"overflow:visible\" id=\"Arrow2Mend\" refX=\"0\" refY=\"0\" orient=\"auto\" inkscape:stockid=\"Arrow2Mend\">\n      <path d=\"M -5.5798962,-2.5815905 1.4126653,-0.01024849 -5.5798966,2.561093 c 1.117119,-1.518119 1.1106821,-3.5951692 4e-7,-5.1426835 z\" style=\"font-size:12px;fill-rule:evenodd;stroke-width:0.40000001;stroke-linejoin:round\" id=\"path8281\" inkscape:connector-curvature=\"0\"/>\n    </marker>\n    <marker style=\"overflow:visible\" id=\"marker7868\" refX=\"0\" refY=\"0\" orient=\"auto\" inkscape:stockid=\"Arrow2Mend\">\n      <path d=\"M -5.5798962,-2.5815905 1.4126653,-0.01024849 -5.5798966,2.561093 c 1.117119,-1.518119 1.1106821,-3.5951692 4e-7,-5.1426835 z\" style=\"font-size:12px;fill-rule:evenodd;stroke-width:0.40000001;stroke-linejoin:round\" id=\"path7870\" inkscape:connector-curvature=\"0\"/>\n    </marker>\n    <marker style=\"overflow:visible\" id=\"marker28173\" refX=\"0\" refY=\"0\" orient=\"auto\" inkscape:stockid=\"Arrow2Mend\">\n      <path d=\"M -5.5798962,-2.5815905 1.4126653,-0.01024849 -5.5798966,2.561093 c 1.117119,-1.518119 1.1106821,-3.5951692 4e-7,-5.1426835 z\" style=\"font-size:12px;fill-rule:evenodd;stroke-width:0.40000001;stroke-linejoin:round\" id=\"path28171\" inkscape:connector-curvature=\"0\"/>\n    </marker>\n    <marker style=\"overflow:visible\" id=\"marker28177\" refX=\"0\" refY=\"0\" orient=\"auto\" inkscape:stockid=\"Arrow2Mend\">\n      <path d=\"M -5.5798962,-2.5815905 1.4126653,-0.01024849 -5.5798966,2.561093 c 1.117119,-1.518119 1.1106821,-3.5951692 4e-7,-5.1426835 z\" style=\"font-size:12px;fill-rule:evenodd;stroke-width:0.40000001;stroke-linejoin:round\" id=\"path28175\" inkscape:connector-curvature=\"0\"/>\n    </marker>\n    <marker style=\"overflow:visible\" id=\"marker28181\" refX=\"0\" refY=\"0\" orient=\"auto\" inkscape:stockid=\"Arrow2Mend\">\n      <path d=\"M -5.5798962,-2.5815905 1.4126653,-0.01024849 -5.5798966,2.561093 c 1.117119,-1.518119 1.1106821,-3.5951692 4e-7,-5.1426835 z\" style=\"font-size:12px;fill-rule:evenodd;stroke-width:0.40000001;stroke-linejoin:round\" id=\"path28179\" inkscape:connector-curvature=\"0\"/>\n    </marker>\n    <marker style=\"overflow:visible\" id=\"marker7868-6\" refX=\"0\" refY=\"0\" orient=\"auto\" inkscape:stockid=\"Arrow2Mend\">\n      <path d=\"M -5.5798962,-2.5815905 1.4126653,-0.01024849 -5.5798966,2.561093 c 1.117119,-1.518119 1.1106821,-3.5951692 4e-7,-5.1426835 z\" style=\"font-size:12px;fill-rule:evenodd;stroke-width:0.40000001;stroke-linejoin:round\" id=\"path7870-8\" inkscape:connector-curvature=\"0\"/>\n    </marker>\n  </defs>\n  <sodipodi:namedview id=\"base\" pagecolor=\"#ffffff\" bordercolor=\"#666666\" borderopacity=\"1.0\" inkscape:pageopacity=\"0.0\" inkscape:pageshadow=\"2\" inkscape:zoom=\"2.8\" inkscape:cx=\"371.29664\" inkscape:cy=\"145.45547\" inkscape:document-units=\"mm\" inkscape:current-layer=\"layer1\" showgrid=\"false\" fit-margin-top=\"0\" fit-margin-left=\"0\" fit-margin-right=\"0\" fit-margin-bottom=\"0\" inkscape:window-width=\"3200\" inkscape:window-height=\"1668\" inkscape:window-x=\"-16\" inkscape:window-y=\"-16\" inkscape:window-maximized=\"1\" scale-x=\"2\" inkscape:snap-midpoints=\"true\"/>\n  <metadata id=\"metadata19626\">\n    <rdf:RDF>\n      <cc:Work rdf:about=\"\">\n        <dc:format>image/svg+xml</dc:format>\n        <dc:type rdf:resource=\"http://purl.org/dc/dcmitype/StillImage\"/>\n        <dc:title/>\n      </cc:Work>\n    </rdf:RDF>\n  </metadata>\n  <g inkscape:label=\"Layer 1\" inkscape:groupmode=\"layer\" id=\"layer1\" transform=\"translate(16.361311,19.624458)\">\n    <rect style=\"opacity:1;vector-effect:none;fill:#b3deb3;fill-opacity:0.99493671;fill-rule:evenodd;stroke:none;stroke-width:0.28229246;stroke-linecap:butt;stroke-linejoin:round;stroke-miterlimit:4;stroke-dasharray:none;stroke-dashoffset:0;stroke-opacity:1;marker:none\" id=\"rect31476\" width=\"49.373142\" height=\"16.536459\" x=\"34.429241\" y=\"8.5164728\"/>\n    <text xml:space=\"preserve\" style=\"font-style:normal;font-variant:normal;font-weight:normal;font-stretch:normal;font-size:4.61350441px;line-height:1.25;font-family:'Latin Modern Sans';-inkscape-font-specification:'Latin Modern Sans';text-align:center;letter-spacing:0px;word-spacing:0px;text-anchor:middle;fill:#000000;fill-opacity:1;stroke:none;stroke-width:0.70397568\" x=\"56.659267\" y=\"-2.2677231\" id=\"I_L\" inkscape:label=\"#text20176\"><tspan sodipodi:role=\"line\" x=\"56.659267\" y=\"-2.2677231\" style=\"font-style:normal;font-variant:normal;font-weight:normal;font-stretch:normal;font-family:Arial;-inkscape-font-specification:Arial;stroke-width:0.70397568\" id=\"tspan28562\">0.0</tspan></text>\n    <g transform=\"matrix(0.70397576,0,0,0.70397576,-400.1733,-140.79031)\" id=\"g16785-1\" inkscape:export-filename=\"C:\\Users\\Patricia\\Desktop\\bitmap.png\" inkscape:export-xdpi=\"300\" inkscape:export-ydpi=\"300\">\n      <g transform=\"translate(480,21.333327)\" id=\"g40949-7-7\">\n        <path inkscape:connector-curvature=\"0\" id=\"path4610-1-40\" d=\"m 69.333333,178.51966 h 5.333334\" style=\"fill:none;stroke:#000000;stroke-width:1.06666672px;stroke-linecap:butt;stroke-linejoin:miter;stroke-opacity:1\"/>\n        <path inkscape:connector-curvature=\"0\" id=\"path4612-5-9\" d=\"m 69.333333,167.85299 v 21.33334\" style=\"fill:none;stroke:#000000;stroke-width:2.13333344;stroke-linecap:butt;stroke-linejoin:miter;stroke-opacity:1\"/>\n      </g>\n    </g>\n    <g transform=\"matrix(0.70397576,0,0,0.70397576,-411.4369,-140.79031)\" id=\"g16779-4\" inkscape:export-filename=\"C:\\Users\\Patricia\\Desktop\\bitmap.png\" inkscape:export-xdpi=\"300\" inkscape:export-ydpi=\"300\">\n      <path inkscape:connector-curvature=\"0\" id=\"path70904-5-5-8-3-8\" style=\"display:inline;fill:none;stroke:#000000;stroke-width:1.06666672;stroke-linecap:round;stroke-linejoin:miter;stroke-miterlimit:6;stroke-dasharray:none;stroke-opacity:1\" d=\"m 584.53505,192.38633 c -4.12206,0 -7.46838,3.34297 -7.46838,7.46622 0,4.12326 3.34632,7.46711 7.46838,7.46711 4.12206,0 7.46495,-3.34385 7.46495,-7.46711 0,-4.12325 -3.34289,-7.46622 -7.46495,-7.46622\"/>\n      <path inkscape:connector-curvature=\"0\" id=\"path70904-5-5-8-6-9-82\" style=\"display:inline;fill:none;stroke:#000000;stroke-width:1.06666672;stroke-linecap:round;stroke-linejoin:miter;stroke-miterlimit:6;stroke-dasharray:none;stroke-opacity:1\" d=\"m 594.13505,192.38676 c -4.12206,0 -7.46838,3.34298 -7.46838,7.46623 0,4.12326 3.34632,7.46711 7.46838,7.46711 4.12206,0 7.46495,-3.34385 7.46495,-7.46711 0,-4.12325 -3.34289,-7.46623 -7.46495,-7.46623\"/>\n      <path style=\"fill:none;stroke:#000000;stroke-width:1.0666666px;stroke-linecap:butt;stroke-linejoin:miter;stroke-opacity:1\" d=\"m 570.66667,199.85299 h 6.4\" id=\"path4610-8-6-45\" inkscape:connector-curvature=\"0\"/>\n      <path style=\"fill:none;stroke:#000000;stroke-width:1.0666666px;stroke-linecap:butt;stroke-linejoin:miter;stroke-opacity:1\" d=\"M 601.6,199.85299 H 608\" id=\"path4610-8-4-4-51\" inkscape:connector-curvature=\"0\"/>\n    </g>\n    <g id=\"g16785-0-71\" transform=\"matrix(0.70397576,0,0,0.70397576,-366.38245,-140.79031)\" inkscape:export-filename=\"C:\\Users\\Patricia\\Desktop\\bitmap.png\" inkscape:export-xdpi=\"300\" inkscape:export-ydpi=\"300\">\n      <g transform=\"translate(480,21.333327)\" id=\"g40949-7-4-1\">\n        <path inkscape:connector-curvature=\"0\" id=\"path4610-1-1-5\" d=\"M 64,178.51966 H 74.666667\" style=\"fill:none;stroke:#000000;stroke-width:1.06666672px;stroke-linecap:butt;stroke-linejoin:miter;stroke-opacity:1\"/>\n        <path inkscape:connector-curvature=\"0\" id=\"path4612-5-5-2\" d=\"m 69.333333,167.85299 v 21.33334\" style=\"fill:none;stroke:#000000;stroke-width:2.13333344;stroke-linecap:butt;stroke-linejoin:miter;stroke-opacity:1\"/>\n      </g>\n    </g>\n    <text id=\"text20936-6-4\" y=\"-9.8604555\" x=\"-16.311684\" style=\"font-style:normal;font-weight:normal;font-size:7.69207573px;line-height:0%;font-family:arial;-inkscape-font-specification:arial;letter-spacing:0px;word-spacing:0px;fill:#000000;fill-opacity:1;stroke:none;stroke-width:0.64100635\" xml:space=\"preserve\" inkscape:export-filename=\"C:\\Users\\Patricia\\Desktop\\bitmap.png\" inkscape:export-xdpi=\"300\" inkscape:export-ydpi=\"300\"><tspan y=\"-9.8604555\" x=\"-16.311684\" id=\"tspan20938-6-23\" sodipodi:role=\"line\" style=\"font-size:5.1280508px;line-height:1.25;stroke-width:0.64100635\">B1</tspan></text>\n    <text id=\"text20936-9-22\" y=\"-8.5171785\" x=\"-6.0547891\" style=\"font-style:normal;font-variant:normal;font-weight:normal;font-stretch:normal;font-size:9.01089001px;line-height:0%;font-family:Arial;-inkscape-font-specification:Arial;letter-spacing:0px;word-spacing:0px;fill:#000000;fill-opacity:1;stroke:none;stroke-width:0.75090754\" xml:space=\"preserve\" inkscape:export-filename=\"C:\\Users\\Patricia\\Desktop\\bitmap.png\" inkscape:export-xdpi=\"300\" inkscape:export-ydpi=\"300\"><tspan style=\"font-size:4.505445px;line-height:1.25;stroke-width:0.75090754\" y=\"-8.5171785\" x=\"-6.0547891\" id=\"tspan20938-7-1\" sodipodi:role=\"line\">20/0,4 kV</tspan></text>\n    <path inkscape:connector-curvature=\"0\" id=\"path4612-2-8-3-9\" d=\"M 83.43224,-7.6077307 V 7.4104152\" style=\"fill:none;stroke:#000000;stroke-width:1.50181508;stroke-linecap:butt;stroke-linejoin:miter;stroke-opacity:1\" inkscape:export-filename=\"C:\\Users\\Patricia\\Desktop\\bitmap.png\" inkscape:export-xdpi=\"300\" inkscape:export-ydpi=\"300\"/>\n    <path inkscape:connector-curvature=\"0\" id=\"path16931-7-8-9-5\" d=\"M 33.475798,-0.09865347 H 27.843991\" style=\"fill:none;stroke:#000000;stroke-width:0.75090754px;stroke-linecap:butt;stroke-linejoin:miter;stroke-opacity:1\" inkscape:export-filename=\"C:\\Users\\Patricia\\Desktop\\bitmap.png\" inkscape:export-xdpi=\"300\" inkscape:export-ydpi=\"300\"/>\n    <path style=\"fill:none;stroke:#000000;stroke-width:0.75090742px;stroke-linecap:butt;stroke-linejoin:miter;stroke-opacity:1\" d=\"M 31.598507,-0.09865347 H 87.165634\" id=\"path20686-1-3-1\" inkscape:connector-curvature=\"0\" inkscape:export-filename=\"C:\\Users\\Patricia\\Desktop\\bitmap.png\" inkscape:export-xdpi=\"300\" inkscape:export-ydpi=\"300\"/>\n    <path inkscape:connector-curvature=\"0\" id=\"path20739-6-2\" d=\"M 27.843991,-0.09865347 H 24.089408\" style=\"fill:none;stroke:#000000;stroke-width:0.75090754px;stroke-linecap:butt;stroke-linejoin:miter;stroke-opacity:1\" inkscape:export-filename=\"C:\\Users\\Patricia\\Desktop\\bitmap.png\" inkscape:export-xdpi=\"300\" inkscape:export-ydpi=\"300\"/>\n    <g id=\"g8672\" transform=\"matrix(0.47063851,0,0,0.70397576,-36.535902,-80.431255)\" style=\"stroke-width:1.22306651;stroke-miterlimit:4;stroke-dasharray:none;stroke-linecap:round\">\n      <path style=\"fill:none;stroke:#000000;stroke-width:1.22306651;stroke-linecap:round;stroke-linejoin:miter;stroke-opacity:1;stroke-miterlimit:4;stroke-dasharray:none\" d=\"m 224,132.65299 h 21.33333\" id=\"path46037-1-7-3-6\" inkscape:connector-curvature=\"0\"/>\n      <path style=\"fill:none;stroke:#000000;stroke-width:1.22306651;stroke-linecap:round;stroke-linejoin:miter;stroke-opacity:1;stroke-miterlimit:4;stroke-dasharray:none\" d=\"m 224,136.90642 h 21.33333\" id=\"path46037-1-9-4-7-4\" inkscape:connector-curvature=\"0\"/>\n    </g>\n    <text id=\"text20936-6-4-4\" y=\"-9.8604555\" x=\"17.143641\" style=\"font-style:normal;font-variant:normal;font-weight:normal;font-stretch:normal;font-size:5.1280508px;line-height:1.25;font-family:arial;-inkscape-font-specification:arial;font-variant-ligatures:normal;font-variant-position:normal;font-variant-caps:normal;font-variant-numeric:normal;font-variant-alternates:normal;font-feature-settings:normal;text-indent:0;text-align:start;text-decoration:none;text-decoration-line:none;text-decoration-style:solid;text-decoration-color:#000000;letter-spacing:0px;word-spacing:0px;text-transform:none;writing-mode:lr-tb;direction:ltr;text-orientation:mixed;dominant-baseline:auto;baseline-shift:baseline;text-anchor:start;white-space:normal;shape-padding:0;opacity:1;vector-effect:none;fill:#000000;fill-opacity:1;stroke:none;stroke-width:0.64100635;stroke-linecap:butt;stroke-linejoin:miter;stroke-miterlimit:4;stroke-dasharray:none;stroke-dashoffset:0;stroke-opacity:1\" xml:space=\"preserve\" inkscape:export-filename=\"C:\\Users\\Patricia\\Desktop\\bitmap.png\" inkscape:export-xdpi=\"300\" inkscape:export-ydpi=\"300\"><tspan y=\"-9.8604555\" x=\"17.143641\" id=\"tspan20938-6-23-7\" sodipodi:role=\"line\" style=\"font-style:normal;font-variant:normal;font-weight:normal;font-stretch:normal;font-size:5.1280508px;line-height:1.25;font-family:arial;-inkscape-font-specification:arial;font-variant-ligatures:normal;font-variant-position:normal;font-variant-caps:normal;font-variant-numeric:normal;font-variant-alternates:normal;font-feature-settings:normal;text-indent:0;text-align:start;text-decoration:none;text-decoration-line:none;text-decoration-style:solid;text-decoration-color:#000000;letter-spacing:0px;word-spacing:0px;text-transform:none;writing-mode:lr-tb;direction:ltr;text-orientation:mixed;dominant-baseline:auto;baseline-shift:baseline;text-anchor:start;white-space:normal;shape-padding:0;vector-effect:none;fill:#000000;fill-opacity:1;stroke:none;stroke-width:0.64100635;stroke-linecap:butt;stroke-linejoin:miter;stroke-miterlimit:4;stroke-dasharray:none;stroke-dashoffset:0;stroke-opacity:1\">B2</tspan></text>\n    <text id=\"text20936-6-4-4-4\" y=\"-9.8604555\" x=\"80.222198\" style=\"font-style:normal;font-variant:normal;font-weight:normal;font-stretch:normal;font-size:5.1280508px;line-height:1.25;font-family:arial;-inkscape-font-specification:arial;font-variant-ligatures:normal;font-variant-position:normal;font-variant-caps:normal;font-variant-numeric:normal;font-variant-alternates:normal;font-feature-settings:normal;text-indent:0;text-align:start;text-decoration:none;text-decoration-line:none;text-decoration-style:solid;text-decoration-color:#000000;letter-spacing:0px;word-spacing:0px;text-transform:none;writing-mode:lr-tb;direction:ltr;text-orientation:mixed;dominant-baseline:auto;baseline-shift:baseline;text-anchor:start;white-space:normal;shape-padding:0;opacity:1;vector-effect:none;fill:#000000;fill-opacity:1;stroke:none;stroke-width:0.64100635;stroke-linecap:butt;stroke-linejoin:miter;stroke-miterlimit:4;stroke-dasharray:none;stroke-dashoffset:0;stroke-opacity:1\" xml:space=\"preserve\" inkscape:export-filename=\"C:\\Users\\Patricia\\Desktop\\bitmap.png\" inkscape:export-xdpi=\"300\" inkscape:export-ydpi=\"300\"><tspan y=\"-9.8604555\" x=\"80.222198\" id=\"tspan20938-6-23-7-2\" sodipodi:role=\"line\" style=\"font-style:normal;font-variant:normal;font-weight:normal;font-stretch:normal;font-size:5.1280508px;line-height:1.25;font-family:arial;-inkscape-font-specification:arial;font-variant-ligatures:normal;font-variant-position:normal;font-variant-caps:normal;font-variant-numeric:normal;font-variant-alternates:normal;font-feature-settings:normal;text-indent:0;text-align:start;text-decoration:none;text-decoration-line:none;text-decoration-style:solid;text-decoration-color:#000000;letter-spacing:0px;word-spacing:0px;text-transform:none;writing-mode:lr-tb;direction:ltr;text-orientation:mixed;dominant-baseline:auto;baseline-shift:baseline;text-anchor:start;white-space:normal;shape-padding:0;vector-effect:none;fill:#000000;fill-opacity:1;stroke:none;stroke-width:0.64100635;stroke-linecap:butt;stroke-linejoin:miter;stroke-miterlimit:4;stroke-dasharray:none;stroke-dashoffset:0;stroke-opacity:1\">B3</tspan></text>\n    <path inkscape:connector-curvature=\"0\" id=\"path4612-2-8-3-9-7\" d=\"M 99.180177,-7.6077307 V 7.4104154\" style=\"fill:none;stroke:#000000;stroke-width:1.50181508;stroke-linecap:butt;stroke-linejoin:miter;stroke-opacity:1\" inkscape:export-filename=\"C:\\Users\\Patricia\\Desktop\\bitmap.png\" inkscape:export-xdpi=\"300\" inkscape:export-ydpi=\"300\"/>\n    <path inkscape:connector-curvature=\"0\" id=\"path4704-5-8-2-7-8\" d=\"M 99.180177,-0.09865347 H 111.19472 V 11.164958\" style=\"fill:none;stroke:#000000;stroke-width:0.75090754px;stroke-linecap:butt;stroke-linejoin:round;stroke-opacity:1;marker-mid:none;marker-end:url(#marker7868-6)\" inkscape:export-filename=\"C:\\Users\\Patricia\\Desktop\\bitmap.png\" inkscape:export-xdpi=\"300\" inkscape:export-ydpi=\"300\"/>\n    <text id=\"text20936-6-4-4-4-1\" y=\"-9.8604555\" x=\"95.977646\" style=\"font-style:normal;font-variant:normal;font-weight:normal;font-stretch:normal;font-size:5.1280508px;line-height:1.25;font-family:arial;-inkscape-font-specification:arial;font-variant-ligatures:normal;font-variant-position:normal;font-variant-caps:normal;font-variant-numeric:normal;font-variant-alternates:normal;font-feature-settings:normal;text-indent:0;text-align:start;text-decoration:none;text-decoration-line:none;text-decoration-style:solid;text-decoration-color:#000000;letter-spacing:0px;word-spacing:0px;text-transform:none;writing-mode:lr-tb;direction:ltr;text-orientation:mixed;dominant-baseline:auto;baseline-shift:baseline;text-anchor:start;white-space:normal;shape-padding:0;opacity:1;vector-effect:none;fill:#000000;fill-opacity:1;stroke:none;stroke-width:0.64100635;stroke-linecap:butt;stroke-linejoin:miter;stroke-miterlimit:4;stroke-dasharray:none;stroke-dashoffset:0;stroke-opacity:1\" xml:space=\"preserve\" inkscape:export-filename=\"C:\\Users\\Patricia\\Desktop\\bitmap.png\" inkscape:export-xdpi=\"300\" inkscape:export-ydpi=\"300\"><tspan y=\"-9.8604555\" x=\"95.977646\" id=\"tspan20938-6-23-7-2-9\" sodipodi:role=\"line\" style=\"font-style:normal;font-variant:normal;font-weight:normal;font-stretch:normal;font-size:5.1280508px;line-height:1.25;font-family:arial;-inkscape-font-specification:arial;font-variant-ligatures:normal;font-variant-position:normal;font-variant-caps:normal;font-variant-numeric:normal;font-variant-alternates:normal;font-feature-settings:normal;text-indent:0;text-align:start;text-decoration:none;text-decoration-line:none;text-decoration-style:solid;text-decoration-color:#000000;letter-spacing:0px;word-spacing:0px;text-transform:none;writing-mode:lr-tb;direction:ltr;text-orientation:mixed;dominant-baseline:auto;baseline-shift:baseline;text-anchor:start;white-space:normal;shape-padding:0;vector-effect:none;fill:#000000;fill-opacity:1;stroke:none;stroke-width:0.64100635;stroke-linecap:butt;stroke-linejoin:miter;stroke-miterlimit:4;stroke-dasharray:none;stroke-dashoffset:0;stroke-opacity:1\">B4</tspan></text>\n    <path style=\"fill:none;stroke:#000000;stroke-width:0.75090742px;stroke-linecap:butt;stroke-linejoin:miter;stroke-opacity:1\" d=\"M 87.165634,-0.09865347 H 107.70996\" id=\"path20686-1-3-1-0\" inkscape:connector-curvature=\"0\" inkscape:export-filename=\"C:\\Users\\Patricia\\Desktop\\bitmap.png\" inkscape:export-xdpi=\"300\" inkscape:export-ydpi=\"300\"/>\n    <path style=\"fill:none;stroke:#000000;stroke-width:0.704;stroke-linecap:round;stroke-linejoin:round;stroke-miterlimit:4;stroke-dasharray:none;stroke-opacity:1\" d=\"M 73.90727,12.811049 V 3.9423447 h 9.25525\" id=\"path20686-1-3-1-0-3\" inkscape:connector-curvature=\"0\" inkscape:export-filename=\"C:\\Users\\Patricia\\Desktop\\bitmap.png\" inkscape:export-xdpi=\"300\" inkscape:export-ydpi=\"300\" sodipodi:nodetypes=\"ccc\"/>\n    <g id=\"g29464\" ns0:jacobian_sqrt=\"0.479209\" inkscapeversion=\"0.92.4\" ns0:alignment=\"middle center\" ns0:scale=\"1.35838708846\" ns0:preamble=\"C:\\\\Users\\\\jmmau\\\\AppData\\\\Roaming\\\\inkscape\\\\extensions\\\\textext\\\\default_packages.tex\" ns0:text=\"$\\\\sf I_{L} =$\" ns0:pdfconverter=\"pdf2svg\" ns0:texconverter=\"pdflatex\" ns0:version=\"0.9.1\" transform=\"matrix(0.479209,0,0,0.479209,-31.313663,-67.220139)\">\n      <g id=\"g29462\">\n        <g id=\"g29452\" style=\"fill:#000000;fill-opacity:1\">\n          <path id=\"path29450\" transform=\"translate(148.712,134.765)\" d=\"M 1.828125,-6.921875 H 0.9375 V 0 h 0.890625 z m 0,0\" style=\"stroke:none;stroke-width:0\" inkscape:connector-curvature=\"0\"/>\n        </g>\n        <g id=\"g29456\" style=\"fill:#000000;fill-opacity:1\">\n          <path id=\"path29454\" transform=\"translate(151.48,136.259)\" d=\"M 1.375,-4.84375 H 0.671875 V 0 H 3.71875 v -0.5 c -0.671875,0 -1.328125,0.015625 -1.984375,0.015625 H 1.375 Z m 0,0\" style=\"stroke:none;stroke-width:0\" inkscape:connector-curvature=\"0\"/>\n        </g>\n        <g id=\"g29460\" style=\"fill:#000000;fill-opacity:1\">\n          <path id=\"path29458\" transform=\"translate(158.777,134.765)\" d=\"m 6.84375,-3.265625 c 0.15625,0 0.34375,0 0.34375,-0.1875 C 7.1875,-3.65625 7,-3.65625 6.859375,-3.65625 h -5.96875 c -0.140625,0 -0.328125,0 -0.328125,0.203125 0,0.1875 0.1875,0.1875 0.328125,0.1875 z m 0.015625,1.9375 c 0.140625,0 0.328125,0 0.328125,-0.203125 0,-0.1875 -0.1875,-0.1875 -0.34375,-0.1875 H 0.890625 c -0.140625,0 -0.328125,0 -0.328125,0.1875 0,0.203125 0.1875,0.203125 0.328125,0.203125 z m 0,0\" style=\"stroke:none;stroke-width:0\" inkscape:connector-curvature=\"0\"/>\n        </g>\n      </g>\n    </g>\n    <text xml:space=\"preserve\" style=\"font-style:normal;font-variant:normal;font-weight:normal;font-stretch:normal;font-size:3.70974803px;line-height:1.25;font-family:'Latin Modern Sans';-inkscape-font-specification:'Latin Modern Sans';text-align:center;letter-spacing:0px;word-spacing:0px;text-anchor:middle;fill:#000000;fill-opacity:1;stroke:none;stroke-width:0.56607127\" x=\"56.370071\" y=\"21.179079\" id=\"I_cap\" inkscape:label=\"#text20176\"><tspan sodipodi:role=\"line\" x=\"56.370071\" y=\"21.179079\" style=\"font-style:normal;font-variant:normal;font-weight:normal;font-stretch:normal;font-family:'Lucida Console';-inkscape-font-specification:'Lucida Console';stroke-width:0.56607127\" id=\"tspan28562-6\">000 A</tspan></text>\n    <text xml:space=\"preserve\" style=\"font-style:normal;font-variant:normal;font-weight:normal;font-stretch:normal;font-size:3.84299755px;line-height:1.25;font-family:'Latin Modern Sans';-inkscape-font-specification:'Latin Modern Sans';text-align:center;letter-spacing:0px;word-spacing:0px;text-anchor:middle;fill:#000000;fill-opacity:1;stroke:none;stroke-width:0.58640391\" x=\"45.325497\" y=\"5.750638\" id=\"Q_red\" inkscape:label=\"#text20176\"><tspan sodipodi:role=\"line\" x=\"45.325497\" y=\"5.750638\" style=\"font-style:normal;font-variant:normal;font-weight:normal;font-stretch:normal;font-family:'Lucida Console';-inkscape-font-specification:'Lucida Console';stroke-width:0.58640391\" id=\"tspan28562-0\">-000 kvar</tspan></text>\n    <g id=\"g30065\" ns0:jacobian_sqrt=\"0.479209\" inkscapeversion=\"0.92.4\" ns0:alignment=\"middle center\" ns0:scale=\"1.35838706011\" ns0:preamble=\"C:\\\\Users\\\\jmmau\\\\AppData\\\\Roaming\\\\inkscape\\\\extensions\\\\textext\\\\default_packages.tex\" ns0:text=\"$\\\\sf I_{cap}$=\" ns0:pdfconverter=\"pdf2svg\" ns0:texconverter=\"pdflatex\" ns0:version=\"0.9.1\" transform=\"matrix(0.44411589,0,0,0.44411589,-26.581474,-39.050629)\">\n      <g id=\"g30063\">\n        <g id=\"g30049\" style=\"fill:#000000;fill-opacity:1\">\n          <path id=\"path30047\" transform=\"translate(148.712,134.765)\" d=\"M 1.828125,-6.921875 H 0.9375 V 0 h 0.890625 z m 0,0\" style=\"stroke:none;stroke-width:0\" inkscape:connector-curvature=\"0\"/>\n        </g>\n        <g id=\"g30057\" style=\"fill:#000000;fill-opacity:1\">\n          <path id=\"path30051\" transform=\"translate(151.48,136.259)\" d=\"M 3.03125,-0.765625 C 2.6875,-0.53125 2.3125,-0.40625 1.875,-0.40625 c -0.640625,0 -1.015625,-0.515625 -1.015625,-1.140625 0,-0.546875 0.28125,-1.171875 1.03125,-1.171875 0.484375,0 0.703125,0.09375 1.0625,0.328125 L 3.03125,-2.90625 C 2.625,-3.109375 2.4375,-3.203125 1.890625,-3.203125 c -1.046875,0 -1.640625,0.84375 -1.640625,1.65625 0,0.84375 0.671875,1.609375 1.625,1.609375 0.484375,0 0.90625,-0.140625 1.203125,-0.3125 z m 0,0\" style=\"stroke:none;stroke-width:0\" inkscape:connector-curvature=\"0\"/>\n          <path id=\"path30053\" transform=\"translate(154.77303,136.259)\" d=\"m 2.96875,-2 c 0,-0.71875 -0.546875,-1.203125 -1.234375,-1.203125 -0.4375,0 -0.765625,0.09375 -1.15625,0.296875 l 0.03125,0.515625 C 0.84375,-2.546875 1.1875,-2.75 1.734375,-2.75 c 0.3125,0 0.625,0.234375 0.625,0.75 v 0.28125 C 1.328125,-1.6875 0.3125,-1.46875 0.3125,-0.828125 0.3125,-0.46875 0.546875,0.0625 1.15625,0.0625 1.46875,0.0625 2.015625,0 2.390625,-0.265625 V 0 H 2.96875 Z m -0.609375,1.015625 c 0,0.140625 0,0.3125 -0.234375,0.46875 -0.234375,0.125 -0.5,0.125 -0.578125,0.125 -0.390625,0 -0.671875,-0.171875 -0.671875,-0.4375 0,-0.453125 1.171875,-0.484375 1.484375,-0.5 z m 0,0\" style=\"stroke:none;stroke-width:0\" inkscape:connector-curvature=\"0\"/>\n          <path id=\"path30055\" transform=\"translate(158.33246,136.259)\" d=\"M 1.203125,-0.328125 C 1.5625,0 1.96875,0.0625 2.203125,0.0625 2.9375,0.0625 3.5625,-0.640625 3.5625,-1.546875 c 0,-0.84375 -0.453125,-1.609375 -1.140625,-1.609375 -0.3125,0 -0.84375,0.078125 -1.25,0.390625 V -3.09375 H 0.59375 v 4.453125 h 0.609375 z m 0,-1.984375 c 0.15625,-0.203125 0.421875,-0.375 0.765625,-0.375 0.546875,0 1,0.515625 1,1.140625 0,0.6875 -0.53125,1.15625 -1.078125,1.15625 -0.09375,0 -0.28125,-0.015625 -0.453125,-0.15625 C 1.21875,-0.703125 1.203125,-0.8125 1.203125,-0.953125 Z m 0,0\" style=\"stroke:none;stroke-width:0\" inkscape:connector-curvature=\"0\"/>\n        </g>\n        <g id=\"g30061\" style=\"fill:#000000;fill-opacity:1\">\n          <path id=\"path30059\" transform=\"translate(162.657,134.765)\" d=\"m 6.84375,-3.265625 c 0.15625,0 0.34375,0 0.34375,-0.1875 C 7.1875,-3.65625 7,-3.65625 6.859375,-3.65625 h -5.96875 c -0.140625,0 -0.328125,0 -0.328125,0.203125 0,0.1875 0.1875,0.1875 0.328125,0.1875 z m 0.015625,1.9375 c 0.140625,0 0.328125,0 0.328125,-0.203125 0,-0.1875 -0.1875,-0.1875 -0.34375,-0.1875 H 0.890625 c -0.140625,0 -0.328125,0 -0.328125,0.1875 0,0.203125 0.1875,0.203125 0.328125,0.203125 z m 0,0\" style=\"stroke:none;stroke-width:0\" inkscape:connector-curvature=\"0\"/>\n        </g>\n      </g>\n    </g>\n    <g id=\"g30176\" ns0:jacobian_sqrt=\"0.479209\" inkscapeversion=\"0.92.4\" ns0:alignment=\"middle center\" ns0:scale=\"1.35838708846\" ns0:preamble=\"C:\\\\Users\\\\jmmau\\\\AppData\\\\Roaming\\\\inkscape\\\\extensions\\\\textext\\\\default_packages.tex\" ns0:text=\"$\\\\sf Q_{red}$=\" ns0:pdfconverter=\"pdf2svg\" ns0:texconverter=\"pdflatex\" ns0:version=\"0.9.1\" transform=\"matrix(0.479209,0,0,0.479209,-48.464874,-58.75823)\">\n      <g id=\"surface1\">\n        <g id=\"g30161\" style=\"fill:#000000;fill-opacity:1\">\n          <path id=\"path30159\" transform=\"translate(148.712,134.765)\" d=\"m 5.3125,-0.328125 c 1.09375,-0.84375 1.453125,-2.0625 1.453125,-3.109375 0,-2.09375 -1.4375,-3.703125 -3.09375,-3.703125 -1.703125,0 -3.109375,1.625 -3.109375,3.703125 0,2.109375 1.46875,3.65625 3.09375,3.65625 0.15625,0 0.53125,-0.015625 0.953125,-0.171875 L 5.46875,1.25 H 6.5 Z m -1.078125,-0.1875 c -0.015625,0 -0.28125,0.09375 -0.5625,0.09375 -1.171875,0 -2.25,-1.15625 -2.25,-3.015625 C 1.421875,-5.296875 2.5,-6.5 3.65625,-6.5 c 1.203125,0 2.25,1.21875 2.25,3.0625 0,0.640625 -0.109375,1.734375 -1.015625,2.546875 L 4.109375,-1.9375 H 3.21875 Z m 0,0\" style=\"stroke:none;stroke-width:0\" inkscape:connector-curvature=\"0\"/>\n        </g>\n        <g id=\"g30169\" style=\"fill:#000000;fill-opacity:1\">\n          <path id=\"path30163\" transform=\"translate(156.046,136.259)\" d=\"m 1.171875,-1.484375 c 0,-0.75 0.640625,-1.15625 1.25,-1.15625 V -3.15625 C 1.828125,-3.15625 1.40625,-2.875 1.125,-2.5 V -3.140625 H 0.59375 V 0 h 0.578125 z m 0,0\" style=\"stroke:none;stroke-width:0\" inkscape:connector-curvature=\"0\"/>\n          <path id=\"path30165\" transform=\"translate(158.57679,136.259)\" d=\"m 3,-0.765625 c -0.390625,0.28125 -0.828125,0.375 -1.125,0.375 -0.609375,0 -1.078125,-0.5 -1.09375,-1.140625 H 3.0625 c 0,-0.3125 -0.03125,-0.78125 -0.296875,-1.171875 -0.25,-0.359375 -0.671875,-0.5 -1.015625,-0.5 -0.84375,0 -1.5,0.75 -1.5,1.640625 0,0.890625 0.6875,1.625 1.609375,1.625 0.40625,0 0.828125,-0.109375 1.171875,-0.328125 z M 0.828125,-1.9375 C 0.984375,-2.5 1.40625,-2.734375 1.75,-2.734375 c 0.3125,0 0.765625,0.140625 0.890625,0.796875 z m 0,0\" style=\"stroke:none;stroke-width:0\" inkscape:connector-curvature=\"0\"/>\n          <path id=\"path30167\" transform=\"translate(161.86982,136.259)\" d=\"M 3.21875,-4.84375 H 2.640625 v 2.046875 C 2.1875,-3.125 1.734375,-3.15625 1.546875,-3.15625 0.8125,-3.15625 0.25,-2.4375 0.25,-1.546875 0.25,-0.65625 0.796875,0.0625 1.515625,0.0625 c 0.4375,0 0.84375,-0.1875 1.109375,-0.421875 V 0 H 3.21875 Z M 2.625,-0.859375 c -0.171875,0.28125 -0.4375,0.46875 -0.78125,0.46875 -0.484375,0 -0.984375,-0.34375 -0.984375,-1.15625 0,-0.859375 0.59375,-1.15625 1.0625,-1.15625 0.28125,0 0.515625,0.125 0.703125,0.359375 z m 0,0\" style=\"stroke:none;stroke-width:0\" inkscape:connector-curvature=\"0\"/>\n        </g>\n        <g id=\"g30173\" style=\"fill:#000000;fill-opacity:1\">\n          <path id=\"path30171\" transform=\"translate(166.194,134.765)\" d=\"m 6.84375,-3.265625 c 0.15625,0 0.34375,0 0.34375,-0.1875 C 7.1875,-3.65625 7,-3.65625 6.859375,-3.65625 h -5.96875 c -0.140625,0 -0.328125,0 -0.328125,0.203125 0,0.1875 0.1875,0.1875 0.328125,0.1875 z m 0.015625,1.9375 c 0.140625,0 0.328125,0 0.328125,-0.203125 0,-0.1875 -0.1875,-0.1875 -0.34375,-0.1875 H 0.890625 c -0.140625,0 -0.328125,0 -0.328125,0.1875 0,0.203125 0.1875,0.203125 0.328125,0.203125 z m 0,0\" style=\"stroke:none;stroke-width:0\" inkscape:connector-curvature=\"0\"/>\n        </g>\n      </g>\n    </g>\n    <g id=\"g30332\" ns0:jacobian_sqrt=\"0.479209\" inkscapeversion=\"0.92.4\" ns0:alignment=\"middle center\" ns0:scale=\"1.35838703176\" ns0:preamble=\"C:\\\\Users\\\\jmmau\\\\AppData\\\\Roaming\\\\inkscape\\\\extensions\\\\textext\\\\default_packages.tex\" ns0:text=\"$\\\\sf U$=\" ns0:pdfconverter=\"pdf2svg\" ns0:texconverter=\"pdflatex\" ns0:version=\"0.9.1\" transform=\"matrix(0.479209,0,0,0.479209,18.767893,-80.846008)\">\n      <g id=\"g30330\">\n        <g id=\"g30324\" style=\"fill:#000000;fill-opacity:1\">\n          <path id=\"path30322\" transform=\"translate(148.712,134.765)\" d=\"M 5.90625,-6.921875 H 5.140625 V -2.3125 c 0,1.3125 -0.84375,1.96875 -1.6875,1.96875 -0.8125,0 -1.625,-0.625 -1.625,-1.96875 V -6.921875 H 0.9375 v 4.59375 c 0,1.453125 1.171875,2.546875 2.515625,2.546875 1.328125,0 2.453125,-1.09375 2.453125,-2.546875 z m 0,0\" style=\"stroke:none;stroke-width:0\" inkscape:connector-curvature=\"0\"/>\n        </g>\n        <g id=\"g30328\" style=\"fill:#000000;fill-opacity:1\">\n          <path id=\"path30326\" transform=\"translate(155.562,134.765)\" d=\"m 6.84375,-3.265625 c 0.15625,0 0.34375,0 0.34375,-0.1875 C 7.1875,-3.65625 7,-3.65625 6.859375,-3.65625 h -5.96875 c -0.140625,0 -0.328125,0 -0.328125,0.203125 0,0.1875 0.1875,0.1875 0.328125,0.1875 z m 0.015625,1.9375 c 0.140625,0 0.328125,0 0.328125,-0.203125 0,-0.1875 -0.1875,-0.1875 -0.34375,-0.1875 H 0.890625 c -0.140625,0 -0.328125,0 -0.328125,0.1875 0,0.203125 0.1875,0.203125 0.328125,0.203125 z m 0,0\" style=\"stroke:none;stroke-width:0\" inkscape:connector-curvature=\"0\"/>\n        </g>\n      </g>\n    </g>\n    <text xml:space=\"preserve\" style=\"font-style:normal;font-variant:normal;font-weight:normal;font-stretch:normal;font-size:4.61350441px;line-height:1.25;font-family:'Latin Modern Sans';-inkscape-font-specification:'Latin Modern Sans';text-align:center;letter-spacing:0px;word-spacing:0px;text-anchor:middle;fill:#000000;fill-opacity:1;stroke:none;stroke-width:0.70397568\" x=\"105.43847\" y=\"-16.308502\" id=\"U_carga\" inkscape:label=\"#text20176\"><tspan sodipodi:role=\"line\" x=\"105.43847\" y=\"-16.308502\" style=\"font-style:normal;font-variant:normal;font-weight:normal;font-stretch:normal;font-family:'Lucida Console';-inkscape-font-specification:'Lucida Console';stroke-width:0.70397568\" id=\"tspan28562-6-6\">000 V</tspan></text>\n    <text xml:space=\"preserve\" style=\"font-style:normal;font-variant:normal;font-weight:normal;font-stretch:normal;font-size:4.03235197px;line-height:1.25;font-family:'Latin Modern Sans';-inkscape-font-specification:'Latin Modern Sans';text-align:center;letter-spacing:0px;word-spacing:0px;text-anchor:middle;fill:#000000;fill-opacity:1;stroke:none;stroke-width:0.6152975\" x=\"11.44358\" y=\"20.908615\" id=\"P_perd\" inkscape:label=\"#text20176\"><tspan sodipodi:role=\"line\" x=\"11.443579\" y=\"20.908615\" style=\"font-style:normal;font-variant:normal;font-weight:normal;font-stretch:normal;font-family:'Lucida Console';-inkscape-font-specification:'Lucida Console';stroke-width:0.6152975\" id=\"tspan28562-6-2\">00.0 kW</tspan></text>\n    <g id=\"g31458\" ns0:jacobian_sqrt=\"0.479209\" inkscapeversion=\"0.92.4\" ns0:alignment=\"middle center\" ns0:scale=\"1.35838703176\" ns0:preamble=\"C:\\\\Users\\\\jmmau\\\\AppData\\\\Roaming\\\\inkscape\\\\extensions\\\\textext\\\\default_packages.tex\" ns0:text=\"$\\\\sf P_{perd}$=\" ns0:pdfconverter=\"pdf2svg\" ns0:texconverter=\"pdflatex\" ns0:version=\"0.9.1\" transform=\"matrix(0.479209,0.000000,0.000000,0.479209,-81.953302,-43.750013)\">\n      <g id=\"g31456\">\n        <g id=\"g31438\" style=\"fill:rgb(0%,0%,0%);fill-opacity:1;\">\n          <path id=\"path31436\" transform=\"translate(148.712,134.765)\" d=\"M 3.515625 -2.875 C 4.75 -2.875 5.796875 -3.78125 5.796875 -4.90625 C 5.796875 -5.96875 4.8125 -6.921875 3.4375 -6.921875 L 0.953125 -6.921875 L 0.953125 0 L 1.84375 0 L 1.84375 -2.875 Z M 3.21875 -6.359375 C 4.3125 -6.359375 5 -5.75 5 -4.90625 C 5 -4.109375 4.359375 -3.453125 3.21875 -3.453125 L 1.8125 -3.453125 L 1.8125 -6.359375 Z M 3.21875 -6.359375 \" style=\"stroke:none;stroke-width:0\"/>\n        </g>\n        <g id=\"g31442\" style=\"fill:rgb(0%,0%,0%);fill-opacity:1;\">\n          <path id=\"path31440\" transform=\"translate(155.077,136.259)\" d=\"M 1.203125 -0.328125 C 1.5625 0 1.96875 0.0625 2.203125 0.0625 C 2.9375 0.0625 3.5625 -0.640625 3.5625 -1.546875 C 3.5625 -2.390625 3.109375 -3.15625 2.421875 -3.15625 C 2.109375 -3.15625 1.578125 -3.078125 1.171875 -2.765625 L 1.171875 -3.09375 L 0.59375 -3.09375 L 0.59375 1.359375 L 1.203125 1.359375 Z M 1.203125 -2.3125 C 1.359375 -2.515625 1.625 -2.6875 1.96875 -2.6875 C 2.515625 -2.6875 2.96875 -2.171875 2.96875 -1.546875 C 2.96875 -0.859375 2.4375 -0.390625 1.890625 -0.390625 C 1.796875 -0.390625 1.609375 -0.40625 1.4375 -0.546875 C 1.21875 -0.703125 1.203125 -0.8125 1.203125 -0.953125 Z M 1.203125 -2.3125 \" style=\"stroke:none;stroke-width:0\"/>\n        </g>\n        <g id=\"g31450\" style=\"fill:rgb(0%,0%,0%);fill-opacity:1;\">\n          <path id=\"path31444\" transform=\"translate(159.112041,136.259)\" d=\"M 3 -0.765625 C 2.609375 -0.484375 2.171875 -0.390625 1.875 -0.390625 C 1.265625 -0.390625 0.796875 -0.890625 0.78125 -1.53125 L 3.0625 -1.53125 C 3.0625 -1.84375 3.03125 -2.3125 2.765625 -2.703125 C 2.515625 -3.0625 2.09375 -3.203125 1.75 -3.203125 C 0.90625 -3.203125 0.25 -2.453125 0.25 -1.5625 C 0.25 -0.671875 0.9375 0.0625 1.859375 0.0625 C 2.265625 0.0625 2.6875 -0.046875 3.03125 -0.265625 Z M 0.828125 -1.9375 C 0.984375 -2.5 1.40625 -2.734375 1.75 -2.734375 C 2.0625 -2.734375 2.515625 -2.59375 2.640625 -1.9375 Z M 0.828125 -1.9375 \" style=\"stroke:none;stroke-width:0\"/>\n          <path id=\"path31446\" transform=\"translate(162.405069,136.259)\" d=\"M 1.171875 -1.484375 C 1.171875 -2.234375 1.8125 -2.640625 2.421875 -2.640625 L 2.421875 -3.15625 C 1.828125 -3.15625 1.40625 -2.875 1.125 -2.5 L 1.125 -3.140625 L 0.59375 -3.140625 L 0.59375 0 L 1.171875 0 Z M 1.171875 -1.484375 \" style=\"stroke:none;stroke-width:0\"/>\n          <path id=\"path31448\" transform=\"translate(164.935861,136.259)\" d=\"M 3.21875 -4.84375 L 2.640625 -4.84375 L 2.640625 -2.796875 C 2.1875 -3.125 1.734375 -3.15625 1.546875 -3.15625 C 0.8125 -3.15625 0.25 -2.4375 0.25 -1.546875 C 0.25 -0.65625 0.796875 0.0625 1.515625 0.0625 C 1.953125 0.0625 2.359375 -0.125 2.625 -0.359375 L 2.625 0 L 3.21875 0 Z M 2.625 -0.859375 C 2.453125 -0.578125 2.1875 -0.390625 1.84375 -0.390625 C 1.359375 -0.390625 0.859375 -0.734375 0.859375 -1.546875 C 0.859375 -2.40625 1.453125 -2.703125 1.921875 -2.703125 C 2.203125 -2.703125 2.4375 -2.578125 2.625 -2.34375 Z M 2.625 -0.859375 \" style=\"stroke:none;stroke-width:0\"/>\n        </g>\n        <g id=\"g31454\" style=\"fill:rgb(0%,0%,0%);fill-opacity:1;\">\n          <path id=\"path31452\" transform=\"translate(169.257,134.765)\" d=\"M 6.84375 -3.265625 C 7 -3.265625 7.1875 -3.265625 7.1875 -3.453125 C 7.1875 -3.65625 7 -3.65625 6.859375 -3.65625 L 0.890625 -3.65625 C 0.75 -3.65625 0.5625 -3.65625 0.5625 -3.453125 C 0.5625 -3.265625 0.75 -3.265625 0.890625 -3.265625 Z M 6.859375 -1.328125 C 7 -1.328125 7.1875 -1.328125 7.1875 -1.53125 C 7.1875 -1.71875 7 -1.71875 6.84375 -1.71875 L 0.890625 -1.71875 C 0.75 -1.71875 0.5625 -1.71875 0.5625 -1.53125 C 0.5625 -1.328125 0.75 -1.328125 0.890625 -1.328125 Z M 6.859375 -1.328125 \" style=\"stroke:none;stroke-width:0\"/>\n        </g>\n      </g>\n    </g>\n    <text xml:space=\"preserve\" style=\"font-style:normal;font-variant:normal;font-weight:normal;font-stretch:normal;font-size:3.57188439px;line-height:1.25;font-family:'Latin Modern Sans';-inkscape-font-specification:'Latin Modern Sans';text-align:center;letter-spacing:0px;word-spacing:0px;text-anchor:middle;fill:#000000;fill-opacity:1;stroke:none;stroke-width:0.54503465\" x=\"58.586636\" y=\"15.915075\" id=\"Q_cap\" inkscape:label=\"#text20176\"><tspan sodipodi:role=\"line\" x=\"58.586636\" y=\"15.915075\" style=\"font-style:normal;font-variant:normal;font-weight:normal;font-stretch:normal;font-family:'Lucida Console';-inkscape-font-specification:'Lucida Console';stroke-width:0.54503465\" id=\"tspan28562-6-5\"> -00 kvar</tspan></text>\n    <g id=\"g31659\" ns0:jacobian_sqrt=\"0.479209\" inkscapeversion=\"0.92.4\" ns0:alignment=\"middle center\" ns0:scale=\"1.35838703176\" ns0:preamble=\"C:\\\\Users\\\\jmmau\\\\AppData\\\\Roaming\\\\inkscape\\\\extensions\\\\textext\\\\default_packages.tex\" ns0:text=\"$\\\\sf Q_{cap}$=\" ns0:pdfconverter=\"pdf2svg\" ns0:texconverter=\"pdflatex\" ns0:version=\"0.9.1\" transform=\"matrix(0.39884084,0,0,0.39884084,-21.100465,-37.92913)\">\n      <g id=\"g31657\">\n        <g id=\"g31643\" style=\"fill:#000000;fill-opacity:1\">\n          <path id=\"path31641\" transform=\"translate(148.712,134.765)\" d=\"m 5.3125,-0.328125 c 1.09375,-0.84375 1.453125,-2.0625 1.453125,-3.109375 0,-2.09375 -1.4375,-3.703125 -3.09375,-3.703125 -1.703125,0 -3.109375,1.625 -3.109375,3.703125 0,2.109375 1.46875,3.65625 3.09375,3.65625 0.15625,0 0.53125,-0.015625 0.953125,-0.171875 L 5.46875,1.25 H 6.5 Z m -1.078125,-0.1875 c -0.015625,0 -0.28125,0.09375 -0.5625,0.09375 -1.171875,0 -2.25,-1.15625 -2.25,-3.015625 C 1.421875,-5.296875 2.5,-6.5 3.65625,-6.5 c 1.203125,0 2.25,1.21875 2.25,3.0625 0,0.640625 -0.109375,1.734375 -1.015625,2.546875 L 4.109375,-1.9375 H 3.21875 Z m 0,0\" style=\"stroke:none;stroke-width:0\" inkscape:connector-curvature=\"0\"/>\n        </g>\n        <g id=\"g31651\" style=\"fill:#000000;fill-opacity:1\">\n          <path id=\"path31645\" transform=\"translate(156.046,136.259)\" d=\"M 3.03125,-0.765625 C 2.6875,-0.53125 2.3125,-0.40625 1.875,-0.40625 c -0.640625,0 -1.015625,-0.515625 -1.015625,-1.140625 0,-0.546875 0.28125,-1.171875 1.03125,-1.171875 0.484375,0 0.703125,0.09375 1.0625,0.328125 L 3.03125,-2.90625 C 2.625,-3.109375 2.4375,-3.203125 1.890625,-3.203125 c -1.046875,0 -1.640625,0.84375 -1.640625,1.65625 0,0.84375 0.671875,1.609375 1.625,1.609375 0.484375,0 0.90625,-0.140625 1.203125,-0.3125 z m 0,0\" style=\"stroke:none;stroke-width:0\" inkscape:connector-curvature=\"0\"/>\n          <path id=\"path31647\" transform=\"translate(159.33903,136.259)\" d=\"m 2.96875,-2 c 0,-0.71875 -0.546875,-1.203125 -1.234375,-1.203125 -0.4375,0 -0.765625,0.09375 -1.15625,0.296875 l 0.03125,0.515625 C 0.84375,-2.546875 1.1875,-2.75 1.734375,-2.75 c 0.3125,0 0.625,0.234375 0.625,0.75 v 0.28125 C 1.328125,-1.6875 0.3125,-1.46875 0.3125,-0.828125 0.3125,-0.46875 0.546875,0.0625 1.15625,0.0625 1.46875,0.0625 2.015625,0 2.390625,-0.265625 V 0 H 2.96875 Z m -0.609375,1.015625 c 0,0.140625 0,0.3125 -0.234375,0.46875 -0.234375,0.125 -0.5,0.125 -0.578125,0.125 -0.390625,0 -0.671875,-0.171875 -0.671875,-0.4375 0,-0.453125 1.171875,-0.484375 1.484375,-0.5 z m 0,0\" style=\"stroke:none;stroke-width:0\" inkscape:connector-curvature=\"0\"/>\n          <path id=\"path31649\" transform=\"translate(162.89846,136.259)\" d=\"M 1.203125,-0.328125 C 1.5625,0 1.96875,0.0625 2.203125,0.0625 2.9375,0.0625 3.5625,-0.640625 3.5625,-1.546875 c 0,-0.84375 -0.453125,-1.609375 -1.140625,-1.609375 -0.3125,0 -0.84375,0.078125 -1.25,0.390625 V -3.09375 H 0.59375 v 4.453125 h 0.609375 z m 0,-1.984375 c 0.15625,-0.203125 0.421875,-0.375 0.765625,-0.375 0.546875,0 1,0.515625 1,1.140625 0,0.6875 -0.53125,1.15625 -1.078125,1.15625 -0.09375,0 -0.28125,-0.015625 -0.453125,-0.15625 C 1.21875,-0.703125 1.203125,-0.8125 1.203125,-0.953125 Z m 0,0\" style=\"stroke:none;stroke-width:0\" inkscape:connector-curvature=\"0\"/>\n        </g>\n        <g id=\"g31655\" style=\"fill:#000000;fill-opacity:1\">\n          <path id=\"path31653\" transform=\"translate(167.223,134.765)\" d=\"m 6.84375,-3.265625 c 0.15625,0 0.34375,0 0.34375,-0.1875 C 7.1875,-3.65625 7,-3.65625 6.859375,-3.65625 h -5.96875 c -0.140625,0 -0.328125,0 -0.328125,0.203125 0,0.1875 0.1875,0.1875 0.328125,0.1875 z m 0.015625,1.9375 c 0.140625,0 0.328125,0 0.328125,-0.203125 0,-0.1875 -0.1875,-0.1875 -0.34375,-0.1875 H 0.890625 c -0.140625,0 -0.328125,0 -0.328125,0.1875 0,0.203125 0.1875,0.203125 0.328125,0.203125 z m 0,0\" style=\"stroke:none;stroke-width:0\" inkscape:connector-curvature=\"0\"/>\n        </g>\n      </g>\n    </g>\n    <path style=\"opacity:1;vector-effect:none;fill:none;fill-opacity:1;stroke:#000000;stroke-width:0.68431467;stroke-linecap:round;stroke-linejoin:round;stroke-miterlimit:4;stroke-dasharray:none;stroke-dashoffset:0;stroke-opacity:1\" d=\"m 73.907268,15.947546 v 8.563529\" id=\"path20686-1-3-1-0-8\" inkscape:connector-curvature=\"0\" inkscape:export-filename=\"C:\\Users\\Patricia\\Desktop\\bitmap.png\" inkscape:export-xdpi=\"300\" inkscape:export-ydpi=\"300\"/>\n  </g>\n</svg>"
      }
     },
     "df0a85b0cc3f4fff88a12183753c4203": {
      "model_module": "@jupyter-widgets/controls",
      "model_module_version": "1.4.0",
      "model_name": "SliderStyleModel",
      "state": {
       "description_width": ""
      }
     },
     "e080329f22714a4a9a039ee6f46328e2": {
      "model_module": "@jupyter-widgets/controls",
      "model_module_version": "1.4.0",
      "model_name": "FloatSliderModel",
      "state": {
       "description": "Qcap (kvar):",
       "layout": "IPY_MODEL_40fcad9609714ff782a0fe08aaf624d8",
       "max": 150,
       "min": -150,
       "readout_format": ".1f",
       "style": "IPY_MODEL_4f8976c9f06341ad85f068cf187c1e31",
       "value": 7.5
      }
     },
     "e1727a0b1f234f94976252342081de2d": {
      "model_module": "@jupyter-widgets/base",
      "model_module_version": "1.1.0",
      "model_name": "LayoutModel",
      "state": {}
     },
     "e2cbefd0799945ec8b7ab77619ecbf89": {
      "model_module": "@jupyter-widgets/base",
      "model_module_version": "1.1.0",
      "model_name": "LayoutModel",
      "state": {}
     },
     "e2d3ccbac2f040dab75c7d32cee501e3": {
      "model_module": "@jupyter-widgets/base",
      "model_module_version": "1.1.0",
      "model_name": "LayoutModel",
      "state": {}
     },
     "e4b151923ede4ab39275235dd87efb7f": {
      "model_module": "@jupyter-widgets/controls",
      "model_module_version": "1.4.0",
      "model_name": "FloatTextModel",
      "state": {
       "description": "Pperd (kW): ",
       "layout": "IPY_MODEL_876b58dad6f848b0ac033fd0bd65611a",
       "step": null,
       "style": "IPY_MODEL_bfc41dd8622946fb99badad63a2fc9e3",
       "value": 7.5
      }
     },
     "e4b7c509cc2f4a92bd39318409836c4b": {
      "model_module": "@jupyter-widgets/base",
      "model_module_version": "1.1.0",
      "model_name": "LayoutModel",
      "state": {}
     },
     "e57dbc8ae99b4eb4b41070a590dca2a2": {
      "model_module": "@jupyter-widgets/controls",
      "model_module_version": "1.4.0",
      "model_name": "DescriptionStyleModel",
      "state": {
       "description_width": ""
      }
     },
     "e629a1b1bdf64fd4b7677362fc28a247": {
      "model_module": "@jupyter-widgets/controls",
      "model_module_version": "1.4.0",
      "model_name": "FloatTextModel",
      "state": {
       "description": "Pperd (kW): ",
       "layout": "IPY_MODEL_ac29f2ac08414163955bc2607431fc50",
       "step": null,
       "style": "IPY_MODEL_acc652d8586747758f193979d7c9c4d5",
       "value": 7.5
      }
     },
     "e9ce6ac678c94d64b9a2a6de459ce62a": {
      "model_module": "@jupyter-widgets/controls",
      "model_module_version": "1.4.0",
      "model_name": "DescriptionStyleModel",
      "state": {
       "description_width": ""
      }
     },
     "ecec1451bb7d4b6a960baff9a182641e": {
      "model_module": "@jupyter-widgets/controls",
      "model_module_version": "1.4.0",
      "model_name": "DescriptionStyleModel",
      "state": {
       "description_width": ""
      }
     },
     "edecb0981ce144d58acfdec3739012be": {
      "model_module": "@jupyter-widgets/controls",
      "model_module_version": "1.4.0",
      "model_name": "DescriptionStyleModel",
      "state": {
       "description_width": ""
      }
     },
     "f084d2fce12e4a9db46b667876562b80": {
      "model_module": "@jupyter-widgets/base",
      "model_module_version": "1.1.0",
      "model_name": "LayoutModel",
      "state": {}
     },
     "f2dfe3aadda246f49ee6152379681c9e": {
      "model_module": "@jupyter-widgets/controls",
      "model_module_version": "1.4.0",
      "model_name": "DescriptionStyleModel",
      "state": {
       "description_width": ""
      }
     },
     "f4a3e11eb40d4868a782f451a60db559": {
      "model_module": "@jupyter-widgets/controls",
      "model_module_version": "1.4.0",
      "model_name": "HTMLMathModel",
      "state": {
       "layout": "IPY_MODEL_fa75a71447e248e38032e21b223bd2dc",
       "style": "IPY_MODEL_ceb036a617844f1dbf54ba36fbd1f685",
       "value": "<!-- Created with Inkscape (http://www.inkscape.org/) --><svg xmlns:ns0=\"http://www.iki.fi/pav/software/textext/\" xmlns:dc=\"http://purl.org/dc/elements/1.1/\" xmlns:cc=\"http://creativecommons.org/ns#\" xmlns:rdf=\"http://www.w3.org/1999/02/22-rdf-syntax-ns#\" xmlns:svg=\"http://www.w3.org/2000/svg\" xmlns=\"http://www.w3.org/2000/svg\" xmlns:sodipodi=\"http://sodipodi.sourceforge.net/DTD/sodipodi-0.dtd\" xmlns:inkscape=\"http://www.inkscape.org/namespaces/inkscape\" width=\"129.8232mm\" height=\"44.582893mm\" viewBox=\"0 0 129.8232 44.582894\" version=\"1.1\" id=\"svg19629\" inkscape:version=\"0.92.4 (5da689c313, 2019-01-14)\" sodipodi:docname=\"prueba.svg\">\n  <defs id=\"defs19623\">\n    <marker style=\"overflow:visible\" id=\"Arrow2Mend\" refX=\"0\" refY=\"0\" orient=\"auto\" inkscape:stockid=\"Arrow2Mend\">\n      <path d=\"M -5.5798962,-2.5815905 1.4126653,-0.01024849 -5.5798966,2.561093 c 1.117119,-1.518119 1.1106821,-3.5951692 4e-7,-5.1426835 z\" style=\"font-size:12px;fill-rule:evenodd;stroke-width:0.40000001;stroke-linejoin:round\" id=\"path8281\" inkscape:connector-curvature=\"0\"/>\n    </marker>\n    <marker style=\"overflow:visible\" id=\"marker7868\" refX=\"0\" refY=\"0\" orient=\"auto\" inkscape:stockid=\"Arrow2Mend\">\n      <path d=\"M -5.5798962,-2.5815905 1.4126653,-0.01024849 -5.5798966,2.561093 c 1.117119,-1.518119 1.1106821,-3.5951692 4e-7,-5.1426835 z\" style=\"font-size:12px;fill-rule:evenodd;stroke-width:0.40000001;stroke-linejoin:round\" id=\"path7870\" inkscape:connector-curvature=\"0\"/>\n    </marker>\n    <marker style=\"overflow:visible\" id=\"marker28173\" refX=\"0\" refY=\"0\" orient=\"auto\" inkscape:stockid=\"Arrow2Mend\">\n      <path d=\"M -5.5798962,-2.5815905 1.4126653,-0.01024849 -5.5798966,2.561093 c 1.117119,-1.518119 1.1106821,-3.5951692 4e-7,-5.1426835 z\" style=\"font-size:12px;fill-rule:evenodd;stroke-width:0.40000001;stroke-linejoin:round\" id=\"path28171\" inkscape:connector-curvature=\"0\"/>\n    </marker>\n    <marker style=\"overflow:visible\" id=\"marker28177\" refX=\"0\" refY=\"0\" orient=\"auto\" inkscape:stockid=\"Arrow2Mend\">\n      <path d=\"M -5.5798962,-2.5815905 1.4126653,-0.01024849 -5.5798966,2.561093 c 1.117119,-1.518119 1.1106821,-3.5951692 4e-7,-5.1426835 z\" style=\"font-size:12px;fill-rule:evenodd;stroke-width:0.40000001;stroke-linejoin:round\" id=\"path28175\" inkscape:connector-curvature=\"0\"/>\n    </marker>\n    <marker style=\"overflow:visible\" id=\"marker28181\" refX=\"0\" refY=\"0\" orient=\"auto\" inkscape:stockid=\"Arrow2Mend\">\n      <path d=\"M -5.5798962,-2.5815905 1.4126653,-0.01024849 -5.5798966,2.561093 c 1.117119,-1.518119 1.1106821,-3.5951692 4e-7,-5.1426835 z\" style=\"font-size:12px;fill-rule:evenodd;stroke-width:0.40000001;stroke-linejoin:round\" id=\"path28179\" inkscape:connector-curvature=\"0\"/>\n    </marker>\n    <marker style=\"overflow:visible\" id=\"marker7868-6\" refX=\"0\" refY=\"0\" orient=\"auto\" inkscape:stockid=\"Arrow2Mend\">\n      <path d=\"M -5.5798962,-2.5815905 1.4126653,-0.01024849 -5.5798966,2.561093 c 1.117119,-1.518119 1.1106821,-3.5951692 4e-7,-5.1426835 z\" style=\"font-size:12px;fill-rule:evenodd;stroke-width:0.40000001;stroke-linejoin:round\" id=\"path7870-8\" inkscape:connector-curvature=\"0\"/>\n    </marker>\n  </defs>\n  <sodipodi:namedview id=\"base\" pagecolor=\"#ffffff\" bordercolor=\"#666666\" borderopacity=\"1.0\" inkscape:pageopacity=\"0.0\" inkscape:pageshadow=\"2\" inkscape:zoom=\"2.8\" inkscape:cx=\"371.29664\" inkscape:cy=\"145.45547\" inkscape:document-units=\"mm\" inkscape:current-layer=\"layer1\" showgrid=\"false\" fit-margin-top=\"0\" fit-margin-left=\"0\" fit-margin-right=\"0\" fit-margin-bottom=\"0\" inkscape:window-width=\"3200\" inkscape:window-height=\"1668\" inkscape:window-x=\"-16\" inkscape:window-y=\"-16\" inkscape:window-maximized=\"1\" scale-x=\"2\" inkscape:snap-midpoints=\"true\"/>\n  <metadata id=\"metadata19626\">\n    <rdf:RDF>\n      <cc:Work rdf:about=\"\">\n        <dc:format>image/svg+xml</dc:format>\n        <dc:type rdf:resource=\"http://purl.org/dc/dcmitype/StillImage\"/>\n        <dc:title/>\n      </cc:Work>\n    </rdf:RDF>\n  </metadata>\n  <g inkscape:label=\"Layer 1\" inkscape:groupmode=\"layer\" id=\"layer1\" transform=\"translate(16.361311,19.624458)\">\n    <rect style=\"opacity:1;vector-effect:none;fill:#b3deb3;fill-opacity:0.99493671;fill-rule:evenodd;stroke:none;stroke-width:0.28229246;stroke-linecap:butt;stroke-linejoin:round;stroke-miterlimit:4;stroke-dasharray:none;stroke-dashoffset:0;stroke-opacity:1;marker:none\" id=\"rect31476\" width=\"49.373142\" height=\"16.536459\" x=\"34.429241\" y=\"8.5164728\"/>\n    <text xml:space=\"preserve\" style=\"font-style:normal;font-variant:normal;font-weight:normal;font-stretch:normal;font-size:4.61350441px;line-height:1.25;font-family:'Latin Modern Sans';-inkscape-font-specification:'Latin Modern Sans';text-align:center;letter-spacing:0px;word-spacing:0px;text-anchor:middle;fill:#000000;fill-opacity:1;stroke:none;stroke-width:0.70397568\" x=\"56.659267\" y=\"-2.2677231\" id=\"I_L\" inkscape:label=\"#text20176\"><tspan sodipodi:role=\"line\" x=\"56.659267\" y=\"-2.2677231\" style=\"font-style:normal;font-variant:normal;font-weight:normal;font-stretch:normal;font-family:Arial;-inkscape-font-specification:Arial;stroke-width:0.70397568\" id=\"tspan28562\">0.0</tspan></text>\n    <g transform=\"matrix(0.70397576,0,0,0.70397576,-400.1733,-140.79031)\" id=\"g16785-1\" inkscape:export-filename=\"C:\\Users\\Patricia\\Desktop\\bitmap.png\" inkscape:export-xdpi=\"300\" inkscape:export-ydpi=\"300\">\n      <g transform=\"translate(480,21.333327)\" id=\"g40949-7-7\">\n        <path inkscape:connector-curvature=\"0\" id=\"path4610-1-40\" d=\"m 69.333333,178.51966 h 5.333334\" style=\"fill:none;stroke:#000000;stroke-width:1.06666672px;stroke-linecap:butt;stroke-linejoin:miter;stroke-opacity:1\"/>\n        <path inkscape:connector-curvature=\"0\" id=\"path4612-5-9\" d=\"m 69.333333,167.85299 v 21.33334\" style=\"fill:none;stroke:#000000;stroke-width:2.13333344;stroke-linecap:butt;stroke-linejoin:miter;stroke-opacity:1\"/>\n      </g>\n    </g>\n    <g transform=\"matrix(0.70397576,0,0,0.70397576,-411.4369,-140.79031)\" id=\"g16779-4\" inkscape:export-filename=\"C:\\Users\\Patricia\\Desktop\\bitmap.png\" inkscape:export-xdpi=\"300\" inkscape:export-ydpi=\"300\">\n      <path inkscape:connector-curvature=\"0\" id=\"path70904-5-5-8-3-8\" style=\"display:inline;fill:none;stroke:#000000;stroke-width:1.06666672;stroke-linecap:round;stroke-linejoin:miter;stroke-miterlimit:6;stroke-dasharray:none;stroke-opacity:1\" d=\"m 584.53505,192.38633 c -4.12206,0 -7.46838,3.34297 -7.46838,7.46622 0,4.12326 3.34632,7.46711 7.46838,7.46711 4.12206,0 7.46495,-3.34385 7.46495,-7.46711 0,-4.12325 -3.34289,-7.46622 -7.46495,-7.46622\"/>\n      <path inkscape:connector-curvature=\"0\" id=\"path70904-5-5-8-6-9-82\" style=\"display:inline;fill:none;stroke:#000000;stroke-width:1.06666672;stroke-linecap:round;stroke-linejoin:miter;stroke-miterlimit:6;stroke-dasharray:none;stroke-opacity:1\" d=\"m 594.13505,192.38676 c -4.12206,0 -7.46838,3.34298 -7.46838,7.46623 0,4.12326 3.34632,7.46711 7.46838,7.46711 4.12206,0 7.46495,-3.34385 7.46495,-7.46711 0,-4.12325 -3.34289,-7.46623 -7.46495,-7.46623\"/>\n      <path style=\"fill:none;stroke:#000000;stroke-width:1.0666666px;stroke-linecap:butt;stroke-linejoin:miter;stroke-opacity:1\" d=\"m 570.66667,199.85299 h 6.4\" id=\"path4610-8-6-45\" inkscape:connector-curvature=\"0\"/>\n      <path style=\"fill:none;stroke:#000000;stroke-width:1.0666666px;stroke-linecap:butt;stroke-linejoin:miter;stroke-opacity:1\" d=\"M 601.6,199.85299 H 608\" id=\"path4610-8-4-4-51\" inkscape:connector-curvature=\"0\"/>\n    </g>\n    <g id=\"g16785-0-71\" transform=\"matrix(0.70397576,0,0,0.70397576,-366.38245,-140.79031)\" inkscape:export-filename=\"C:\\Users\\Patricia\\Desktop\\bitmap.png\" inkscape:export-xdpi=\"300\" inkscape:export-ydpi=\"300\">\n      <g transform=\"translate(480,21.333327)\" id=\"g40949-7-4-1\">\n        <path inkscape:connector-curvature=\"0\" id=\"path4610-1-1-5\" d=\"M 64,178.51966 H 74.666667\" style=\"fill:none;stroke:#000000;stroke-width:1.06666672px;stroke-linecap:butt;stroke-linejoin:miter;stroke-opacity:1\"/>\n        <path inkscape:connector-curvature=\"0\" id=\"path4612-5-5-2\" d=\"m 69.333333,167.85299 v 21.33334\" style=\"fill:none;stroke:#000000;stroke-width:2.13333344;stroke-linecap:butt;stroke-linejoin:miter;stroke-opacity:1\"/>\n      </g>\n    </g>\n    <text id=\"text20936-6-4\" y=\"-9.8604555\" x=\"-16.311684\" style=\"font-style:normal;font-weight:normal;font-size:7.69207573px;line-height:0%;font-family:arial;-inkscape-font-specification:arial;letter-spacing:0px;word-spacing:0px;fill:#000000;fill-opacity:1;stroke:none;stroke-width:0.64100635\" xml:space=\"preserve\" inkscape:export-filename=\"C:\\Users\\Patricia\\Desktop\\bitmap.png\" inkscape:export-xdpi=\"300\" inkscape:export-ydpi=\"300\"><tspan y=\"-9.8604555\" x=\"-16.311684\" id=\"tspan20938-6-23\" sodipodi:role=\"line\" style=\"font-size:5.1280508px;line-height:1.25;stroke-width:0.64100635\">B1</tspan></text>\n    <text id=\"text20936-9-22\" y=\"-8.5171785\" x=\"-6.0547891\" style=\"font-style:normal;font-variant:normal;font-weight:normal;font-stretch:normal;font-size:9.01089001px;line-height:0%;font-family:Arial;-inkscape-font-specification:Arial;letter-spacing:0px;word-spacing:0px;fill:#000000;fill-opacity:1;stroke:none;stroke-width:0.75090754\" xml:space=\"preserve\" inkscape:export-filename=\"C:\\Users\\Patricia\\Desktop\\bitmap.png\" inkscape:export-xdpi=\"300\" inkscape:export-ydpi=\"300\"><tspan style=\"font-size:4.505445px;line-height:1.25;stroke-width:0.75090754\" y=\"-8.5171785\" x=\"-6.0547891\" id=\"tspan20938-7-1\" sodipodi:role=\"line\">20/0,4 kV</tspan></text>\n    <path inkscape:connector-curvature=\"0\" id=\"path4612-2-8-3-9\" d=\"M 83.43224,-7.6077307 V 7.4104152\" style=\"fill:none;stroke:#000000;stroke-width:1.50181508;stroke-linecap:butt;stroke-linejoin:miter;stroke-opacity:1\" inkscape:export-filename=\"C:\\Users\\Patricia\\Desktop\\bitmap.png\" inkscape:export-xdpi=\"300\" inkscape:export-ydpi=\"300\"/>\n    <path inkscape:connector-curvature=\"0\" id=\"path16931-7-8-9-5\" d=\"M 33.475798,-0.09865347 H 27.843991\" style=\"fill:none;stroke:#000000;stroke-width:0.75090754px;stroke-linecap:butt;stroke-linejoin:miter;stroke-opacity:1\" inkscape:export-filename=\"C:\\Users\\Patricia\\Desktop\\bitmap.png\" inkscape:export-xdpi=\"300\" inkscape:export-ydpi=\"300\"/>\n    <path style=\"fill:none;stroke:#000000;stroke-width:0.75090742px;stroke-linecap:butt;stroke-linejoin:miter;stroke-opacity:1\" d=\"M 31.598507,-0.09865347 H 87.165634\" id=\"path20686-1-3-1\" inkscape:connector-curvature=\"0\" inkscape:export-filename=\"C:\\Users\\Patricia\\Desktop\\bitmap.png\" inkscape:export-xdpi=\"300\" inkscape:export-ydpi=\"300\"/>\n    <path inkscape:connector-curvature=\"0\" id=\"path20739-6-2\" d=\"M 27.843991,-0.09865347 H 24.089408\" style=\"fill:none;stroke:#000000;stroke-width:0.75090754px;stroke-linecap:butt;stroke-linejoin:miter;stroke-opacity:1\" inkscape:export-filename=\"C:\\Users\\Patricia\\Desktop\\bitmap.png\" inkscape:export-xdpi=\"300\" inkscape:export-ydpi=\"300\"/>\n    <g id=\"g8672\" transform=\"matrix(0.47063851,0,0,0.70397576,-36.535902,-80.431255)\" style=\"stroke-width:1.22306651;stroke-miterlimit:4;stroke-dasharray:none;stroke-linecap:round\">\n      <path style=\"fill:none;stroke:#000000;stroke-width:1.22306651;stroke-linecap:round;stroke-linejoin:miter;stroke-opacity:1;stroke-miterlimit:4;stroke-dasharray:none\" d=\"m 224,132.65299 h 21.33333\" id=\"path46037-1-7-3-6\" inkscape:connector-curvature=\"0\"/>\n      <path style=\"fill:none;stroke:#000000;stroke-width:1.22306651;stroke-linecap:round;stroke-linejoin:miter;stroke-opacity:1;stroke-miterlimit:4;stroke-dasharray:none\" d=\"m 224,136.90642 h 21.33333\" id=\"path46037-1-9-4-7-4\" inkscape:connector-curvature=\"0\"/>\n    </g>\n    <text id=\"text20936-6-4-4\" y=\"-9.8604555\" x=\"17.143641\" style=\"font-style:normal;font-variant:normal;font-weight:normal;font-stretch:normal;font-size:5.1280508px;line-height:1.25;font-family:arial;-inkscape-font-specification:arial;font-variant-ligatures:normal;font-variant-position:normal;font-variant-caps:normal;font-variant-numeric:normal;font-variant-alternates:normal;font-feature-settings:normal;text-indent:0;text-align:start;text-decoration:none;text-decoration-line:none;text-decoration-style:solid;text-decoration-color:#000000;letter-spacing:0px;word-spacing:0px;text-transform:none;writing-mode:lr-tb;direction:ltr;text-orientation:mixed;dominant-baseline:auto;baseline-shift:baseline;text-anchor:start;white-space:normal;shape-padding:0;opacity:1;vector-effect:none;fill:#000000;fill-opacity:1;stroke:none;stroke-width:0.64100635;stroke-linecap:butt;stroke-linejoin:miter;stroke-miterlimit:4;stroke-dasharray:none;stroke-dashoffset:0;stroke-opacity:1\" xml:space=\"preserve\" inkscape:export-filename=\"C:\\Users\\Patricia\\Desktop\\bitmap.png\" inkscape:export-xdpi=\"300\" inkscape:export-ydpi=\"300\"><tspan y=\"-9.8604555\" x=\"17.143641\" id=\"tspan20938-6-23-7\" sodipodi:role=\"line\" style=\"font-style:normal;font-variant:normal;font-weight:normal;font-stretch:normal;font-size:5.1280508px;line-height:1.25;font-family:arial;-inkscape-font-specification:arial;font-variant-ligatures:normal;font-variant-position:normal;font-variant-caps:normal;font-variant-numeric:normal;font-variant-alternates:normal;font-feature-settings:normal;text-indent:0;text-align:start;text-decoration:none;text-decoration-line:none;text-decoration-style:solid;text-decoration-color:#000000;letter-spacing:0px;word-spacing:0px;text-transform:none;writing-mode:lr-tb;direction:ltr;text-orientation:mixed;dominant-baseline:auto;baseline-shift:baseline;text-anchor:start;white-space:normal;shape-padding:0;vector-effect:none;fill:#000000;fill-opacity:1;stroke:none;stroke-width:0.64100635;stroke-linecap:butt;stroke-linejoin:miter;stroke-miterlimit:4;stroke-dasharray:none;stroke-dashoffset:0;stroke-opacity:1\">B2</tspan></text>\n    <text id=\"text20936-6-4-4-4\" y=\"-9.8604555\" x=\"80.222198\" style=\"font-style:normal;font-variant:normal;font-weight:normal;font-stretch:normal;font-size:5.1280508px;line-height:1.25;font-family:arial;-inkscape-font-specification:arial;font-variant-ligatures:normal;font-variant-position:normal;font-variant-caps:normal;font-variant-numeric:normal;font-variant-alternates:normal;font-feature-settings:normal;text-indent:0;text-align:start;text-decoration:none;text-decoration-line:none;text-decoration-style:solid;text-decoration-color:#000000;letter-spacing:0px;word-spacing:0px;text-transform:none;writing-mode:lr-tb;direction:ltr;text-orientation:mixed;dominant-baseline:auto;baseline-shift:baseline;text-anchor:start;white-space:normal;shape-padding:0;opacity:1;vector-effect:none;fill:#000000;fill-opacity:1;stroke:none;stroke-width:0.64100635;stroke-linecap:butt;stroke-linejoin:miter;stroke-miterlimit:4;stroke-dasharray:none;stroke-dashoffset:0;stroke-opacity:1\" xml:space=\"preserve\" inkscape:export-filename=\"C:\\Users\\Patricia\\Desktop\\bitmap.png\" inkscape:export-xdpi=\"300\" inkscape:export-ydpi=\"300\"><tspan y=\"-9.8604555\" x=\"80.222198\" id=\"tspan20938-6-23-7-2\" sodipodi:role=\"line\" style=\"font-style:normal;font-variant:normal;font-weight:normal;font-stretch:normal;font-size:5.1280508px;line-height:1.25;font-family:arial;-inkscape-font-specification:arial;font-variant-ligatures:normal;font-variant-position:normal;font-variant-caps:normal;font-variant-numeric:normal;font-variant-alternates:normal;font-feature-settings:normal;text-indent:0;text-align:start;text-decoration:none;text-decoration-line:none;text-decoration-style:solid;text-decoration-color:#000000;letter-spacing:0px;word-spacing:0px;text-transform:none;writing-mode:lr-tb;direction:ltr;text-orientation:mixed;dominant-baseline:auto;baseline-shift:baseline;text-anchor:start;white-space:normal;shape-padding:0;vector-effect:none;fill:#000000;fill-opacity:1;stroke:none;stroke-width:0.64100635;stroke-linecap:butt;stroke-linejoin:miter;stroke-miterlimit:4;stroke-dasharray:none;stroke-dashoffset:0;stroke-opacity:1\">B3</tspan></text>\n    <path inkscape:connector-curvature=\"0\" id=\"path4612-2-8-3-9-7\" d=\"M 99.180177,-7.6077307 V 7.4104154\" style=\"fill:none;stroke:#000000;stroke-width:1.50181508;stroke-linecap:butt;stroke-linejoin:miter;stroke-opacity:1\" inkscape:export-filename=\"C:\\Users\\Patricia\\Desktop\\bitmap.png\" inkscape:export-xdpi=\"300\" inkscape:export-ydpi=\"300\"/>\n    <path inkscape:connector-curvature=\"0\" id=\"path4704-5-8-2-7-8\" d=\"M 99.180177,-0.09865347 H 111.19472 V 11.164958\" style=\"fill:none;stroke:#000000;stroke-width:0.75090754px;stroke-linecap:butt;stroke-linejoin:round;stroke-opacity:1;marker-mid:none;marker-end:url(#marker7868-6)\" inkscape:export-filename=\"C:\\Users\\Patricia\\Desktop\\bitmap.png\" inkscape:export-xdpi=\"300\" inkscape:export-ydpi=\"300\"/>\n    <text id=\"text20936-6-4-4-4-1\" y=\"-9.8604555\" x=\"95.977646\" style=\"font-style:normal;font-variant:normal;font-weight:normal;font-stretch:normal;font-size:5.1280508px;line-height:1.25;font-family:arial;-inkscape-font-specification:arial;font-variant-ligatures:normal;font-variant-position:normal;font-variant-caps:normal;font-variant-numeric:normal;font-variant-alternates:normal;font-feature-settings:normal;text-indent:0;text-align:start;text-decoration:none;text-decoration-line:none;text-decoration-style:solid;text-decoration-color:#000000;letter-spacing:0px;word-spacing:0px;text-transform:none;writing-mode:lr-tb;direction:ltr;text-orientation:mixed;dominant-baseline:auto;baseline-shift:baseline;text-anchor:start;white-space:normal;shape-padding:0;opacity:1;vector-effect:none;fill:#000000;fill-opacity:1;stroke:none;stroke-width:0.64100635;stroke-linecap:butt;stroke-linejoin:miter;stroke-miterlimit:4;stroke-dasharray:none;stroke-dashoffset:0;stroke-opacity:1\" xml:space=\"preserve\" inkscape:export-filename=\"C:\\Users\\Patricia\\Desktop\\bitmap.png\" inkscape:export-xdpi=\"300\" inkscape:export-ydpi=\"300\"><tspan y=\"-9.8604555\" x=\"95.977646\" id=\"tspan20938-6-23-7-2-9\" sodipodi:role=\"line\" style=\"font-style:normal;font-variant:normal;font-weight:normal;font-stretch:normal;font-size:5.1280508px;line-height:1.25;font-family:arial;-inkscape-font-specification:arial;font-variant-ligatures:normal;font-variant-position:normal;font-variant-caps:normal;font-variant-numeric:normal;font-variant-alternates:normal;font-feature-settings:normal;text-indent:0;text-align:start;text-decoration:none;text-decoration-line:none;text-decoration-style:solid;text-decoration-color:#000000;letter-spacing:0px;word-spacing:0px;text-transform:none;writing-mode:lr-tb;direction:ltr;text-orientation:mixed;dominant-baseline:auto;baseline-shift:baseline;text-anchor:start;white-space:normal;shape-padding:0;vector-effect:none;fill:#000000;fill-opacity:1;stroke:none;stroke-width:0.64100635;stroke-linecap:butt;stroke-linejoin:miter;stroke-miterlimit:4;stroke-dasharray:none;stroke-dashoffset:0;stroke-opacity:1\">B4</tspan></text>\n    <path style=\"fill:none;stroke:#000000;stroke-width:0.75090742px;stroke-linecap:butt;stroke-linejoin:miter;stroke-opacity:1\" d=\"M 87.165634,-0.09865347 H 107.70996\" id=\"path20686-1-3-1-0\" inkscape:connector-curvature=\"0\" inkscape:export-filename=\"C:\\Users\\Patricia\\Desktop\\bitmap.png\" inkscape:export-xdpi=\"300\" inkscape:export-ydpi=\"300\"/>\n    <path style=\"fill:none;stroke:#000000;stroke-width:0.704;stroke-linecap:round;stroke-linejoin:round;stroke-miterlimit:4;stroke-dasharray:none;stroke-opacity:1\" d=\"M 73.90727,12.811049 V 3.9423447 h 9.25525\" id=\"path20686-1-3-1-0-3\" inkscape:connector-curvature=\"0\" inkscape:export-filename=\"C:\\Users\\Patricia\\Desktop\\bitmap.png\" inkscape:export-xdpi=\"300\" inkscape:export-ydpi=\"300\" sodipodi:nodetypes=\"ccc\"/>\n    <g id=\"g29464\" ns0:jacobian_sqrt=\"0.479209\" inkscapeversion=\"0.92.4\" ns0:alignment=\"middle center\" ns0:scale=\"1.35838708846\" ns0:preamble=\"C:\\\\Users\\\\jmmau\\\\AppData\\\\Roaming\\\\inkscape\\\\extensions\\\\textext\\\\default_packages.tex\" ns0:text=\"$\\\\sf I_{L} =$\" ns0:pdfconverter=\"pdf2svg\" ns0:texconverter=\"pdflatex\" ns0:version=\"0.9.1\" transform=\"matrix(0.479209,0,0,0.479209,-31.313663,-67.220139)\">\n      <g id=\"g29462\">\n        <g id=\"g29452\" style=\"fill:#000000;fill-opacity:1\">\n          <path id=\"path29450\" transform=\"translate(148.712,134.765)\" d=\"M 1.828125,-6.921875 H 0.9375 V 0 h 0.890625 z m 0,0\" style=\"stroke:none;stroke-width:0\" inkscape:connector-curvature=\"0\"/>\n        </g>\n        <g id=\"g29456\" style=\"fill:#000000;fill-opacity:1\">\n          <path id=\"path29454\" transform=\"translate(151.48,136.259)\" d=\"M 1.375,-4.84375 H 0.671875 V 0 H 3.71875 v -0.5 c -0.671875,0 -1.328125,0.015625 -1.984375,0.015625 H 1.375 Z m 0,0\" style=\"stroke:none;stroke-width:0\" inkscape:connector-curvature=\"0\"/>\n        </g>\n        <g id=\"g29460\" style=\"fill:#000000;fill-opacity:1\">\n          <path id=\"path29458\" transform=\"translate(158.777,134.765)\" d=\"m 6.84375,-3.265625 c 0.15625,0 0.34375,0 0.34375,-0.1875 C 7.1875,-3.65625 7,-3.65625 6.859375,-3.65625 h -5.96875 c -0.140625,0 -0.328125,0 -0.328125,0.203125 0,0.1875 0.1875,0.1875 0.328125,0.1875 z m 0.015625,1.9375 c 0.140625,0 0.328125,0 0.328125,-0.203125 0,-0.1875 -0.1875,-0.1875 -0.34375,-0.1875 H 0.890625 c -0.140625,0 -0.328125,0 -0.328125,0.1875 0,0.203125 0.1875,0.203125 0.328125,0.203125 z m 0,0\" style=\"stroke:none;stroke-width:0\" inkscape:connector-curvature=\"0\"/>\n        </g>\n      </g>\n    </g>\n    <text xml:space=\"preserve\" style=\"font-style:normal;font-variant:normal;font-weight:normal;font-stretch:normal;font-size:3.70974803px;line-height:1.25;font-family:'Latin Modern Sans';-inkscape-font-specification:'Latin Modern Sans';text-align:center;letter-spacing:0px;word-spacing:0px;text-anchor:middle;fill:#000000;fill-opacity:1;stroke:none;stroke-width:0.56607127\" x=\"56.370071\" y=\"21.179079\" id=\"I_cap\" inkscape:label=\"#text20176\"><tspan sodipodi:role=\"line\" x=\"56.370071\" y=\"21.179079\" style=\"font-style:normal;font-variant:normal;font-weight:normal;font-stretch:normal;font-family:'Lucida Console';-inkscape-font-specification:'Lucida Console';stroke-width:0.56607127\" id=\"tspan28562-6\">000 A</tspan></text>\n    <text xml:space=\"preserve\" style=\"font-style:normal;font-variant:normal;font-weight:normal;font-stretch:normal;font-size:3.84299755px;line-height:1.25;font-family:'Latin Modern Sans';-inkscape-font-specification:'Latin Modern Sans';text-align:center;letter-spacing:0px;word-spacing:0px;text-anchor:middle;fill:#000000;fill-opacity:1;stroke:none;stroke-width:0.58640391\" x=\"45.325497\" y=\"5.750638\" id=\"Q_red\" inkscape:label=\"#text20176\"><tspan sodipodi:role=\"line\" x=\"45.325497\" y=\"5.750638\" style=\"font-style:normal;font-variant:normal;font-weight:normal;font-stretch:normal;font-family:'Lucida Console';-inkscape-font-specification:'Lucida Console';stroke-width:0.58640391\" id=\"tspan28562-0\">-000 kvar</tspan></text>\n    <g id=\"g30065\" ns0:jacobian_sqrt=\"0.479209\" inkscapeversion=\"0.92.4\" ns0:alignment=\"middle center\" ns0:scale=\"1.35838706011\" ns0:preamble=\"C:\\\\Users\\\\jmmau\\\\AppData\\\\Roaming\\\\inkscape\\\\extensions\\\\textext\\\\default_packages.tex\" ns0:text=\"$\\\\sf I_{cap}$=\" ns0:pdfconverter=\"pdf2svg\" ns0:texconverter=\"pdflatex\" ns0:version=\"0.9.1\" transform=\"matrix(0.44411589,0,0,0.44411589,-26.581474,-39.050629)\">\n      <g id=\"g30063\">\n        <g id=\"g30049\" style=\"fill:#000000;fill-opacity:1\">\n          <path id=\"path30047\" transform=\"translate(148.712,134.765)\" d=\"M 1.828125,-6.921875 H 0.9375 V 0 h 0.890625 z m 0,0\" style=\"stroke:none;stroke-width:0\" inkscape:connector-curvature=\"0\"/>\n        </g>\n        <g id=\"g30057\" style=\"fill:#000000;fill-opacity:1\">\n          <path id=\"path30051\" transform=\"translate(151.48,136.259)\" d=\"M 3.03125,-0.765625 C 2.6875,-0.53125 2.3125,-0.40625 1.875,-0.40625 c -0.640625,0 -1.015625,-0.515625 -1.015625,-1.140625 0,-0.546875 0.28125,-1.171875 1.03125,-1.171875 0.484375,0 0.703125,0.09375 1.0625,0.328125 L 3.03125,-2.90625 C 2.625,-3.109375 2.4375,-3.203125 1.890625,-3.203125 c -1.046875,0 -1.640625,0.84375 -1.640625,1.65625 0,0.84375 0.671875,1.609375 1.625,1.609375 0.484375,0 0.90625,-0.140625 1.203125,-0.3125 z m 0,0\" style=\"stroke:none;stroke-width:0\" inkscape:connector-curvature=\"0\"/>\n          <path id=\"path30053\" transform=\"translate(154.77303,136.259)\" d=\"m 2.96875,-2 c 0,-0.71875 -0.546875,-1.203125 -1.234375,-1.203125 -0.4375,0 -0.765625,0.09375 -1.15625,0.296875 l 0.03125,0.515625 C 0.84375,-2.546875 1.1875,-2.75 1.734375,-2.75 c 0.3125,0 0.625,0.234375 0.625,0.75 v 0.28125 C 1.328125,-1.6875 0.3125,-1.46875 0.3125,-0.828125 0.3125,-0.46875 0.546875,0.0625 1.15625,0.0625 1.46875,0.0625 2.015625,0 2.390625,-0.265625 V 0 H 2.96875 Z m -0.609375,1.015625 c 0,0.140625 0,0.3125 -0.234375,0.46875 -0.234375,0.125 -0.5,0.125 -0.578125,0.125 -0.390625,0 -0.671875,-0.171875 -0.671875,-0.4375 0,-0.453125 1.171875,-0.484375 1.484375,-0.5 z m 0,0\" style=\"stroke:none;stroke-width:0\" inkscape:connector-curvature=\"0\"/>\n          <path id=\"path30055\" transform=\"translate(158.33246,136.259)\" d=\"M 1.203125,-0.328125 C 1.5625,0 1.96875,0.0625 2.203125,0.0625 2.9375,0.0625 3.5625,-0.640625 3.5625,-1.546875 c 0,-0.84375 -0.453125,-1.609375 -1.140625,-1.609375 -0.3125,0 -0.84375,0.078125 -1.25,0.390625 V -3.09375 H 0.59375 v 4.453125 h 0.609375 z m 0,-1.984375 c 0.15625,-0.203125 0.421875,-0.375 0.765625,-0.375 0.546875,0 1,0.515625 1,1.140625 0,0.6875 -0.53125,1.15625 -1.078125,1.15625 -0.09375,0 -0.28125,-0.015625 -0.453125,-0.15625 C 1.21875,-0.703125 1.203125,-0.8125 1.203125,-0.953125 Z m 0,0\" style=\"stroke:none;stroke-width:0\" inkscape:connector-curvature=\"0\"/>\n        </g>\n        <g id=\"g30061\" style=\"fill:#000000;fill-opacity:1\">\n          <path id=\"path30059\" transform=\"translate(162.657,134.765)\" d=\"m 6.84375,-3.265625 c 0.15625,0 0.34375,0 0.34375,-0.1875 C 7.1875,-3.65625 7,-3.65625 6.859375,-3.65625 h -5.96875 c -0.140625,0 -0.328125,0 -0.328125,0.203125 0,0.1875 0.1875,0.1875 0.328125,0.1875 z m 0.015625,1.9375 c 0.140625,0 0.328125,0 0.328125,-0.203125 0,-0.1875 -0.1875,-0.1875 -0.34375,-0.1875 H 0.890625 c -0.140625,0 -0.328125,0 -0.328125,0.1875 0,0.203125 0.1875,0.203125 0.328125,0.203125 z m 0,0\" style=\"stroke:none;stroke-width:0\" inkscape:connector-curvature=\"0\"/>\n        </g>\n      </g>\n    </g>\n    <g id=\"g30176\" ns0:jacobian_sqrt=\"0.479209\" inkscapeversion=\"0.92.4\" ns0:alignment=\"middle center\" ns0:scale=\"1.35838708846\" ns0:preamble=\"C:\\\\Users\\\\jmmau\\\\AppData\\\\Roaming\\\\inkscape\\\\extensions\\\\textext\\\\default_packages.tex\" ns0:text=\"$\\\\sf Q_{red}$=\" ns0:pdfconverter=\"pdf2svg\" ns0:texconverter=\"pdflatex\" ns0:version=\"0.9.1\" transform=\"matrix(0.479209,0,0,0.479209,-48.464874,-58.75823)\">\n      <g id=\"surface1\">\n        <g id=\"g30161\" style=\"fill:#000000;fill-opacity:1\">\n          <path id=\"path30159\" transform=\"translate(148.712,134.765)\" d=\"m 5.3125,-0.328125 c 1.09375,-0.84375 1.453125,-2.0625 1.453125,-3.109375 0,-2.09375 -1.4375,-3.703125 -3.09375,-3.703125 -1.703125,0 -3.109375,1.625 -3.109375,3.703125 0,2.109375 1.46875,3.65625 3.09375,3.65625 0.15625,0 0.53125,-0.015625 0.953125,-0.171875 L 5.46875,1.25 H 6.5 Z m -1.078125,-0.1875 c -0.015625,0 -0.28125,0.09375 -0.5625,0.09375 -1.171875,0 -2.25,-1.15625 -2.25,-3.015625 C 1.421875,-5.296875 2.5,-6.5 3.65625,-6.5 c 1.203125,0 2.25,1.21875 2.25,3.0625 0,0.640625 -0.109375,1.734375 -1.015625,2.546875 L 4.109375,-1.9375 H 3.21875 Z m 0,0\" style=\"stroke:none;stroke-width:0\" inkscape:connector-curvature=\"0\"/>\n        </g>\n        <g id=\"g30169\" style=\"fill:#000000;fill-opacity:1\">\n          <path id=\"path30163\" transform=\"translate(156.046,136.259)\" d=\"m 1.171875,-1.484375 c 0,-0.75 0.640625,-1.15625 1.25,-1.15625 V -3.15625 C 1.828125,-3.15625 1.40625,-2.875 1.125,-2.5 V -3.140625 H 0.59375 V 0 h 0.578125 z m 0,0\" style=\"stroke:none;stroke-width:0\" inkscape:connector-curvature=\"0\"/>\n          <path id=\"path30165\" transform=\"translate(158.57679,136.259)\" d=\"m 3,-0.765625 c -0.390625,0.28125 -0.828125,0.375 -1.125,0.375 -0.609375,0 -1.078125,-0.5 -1.09375,-1.140625 H 3.0625 c 0,-0.3125 -0.03125,-0.78125 -0.296875,-1.171875 -0.25,-0.359375 -0.671875,-0.5 -1.015625,-0.5 -0.84375,0 -1.5,0.75 -1.5,1.640625 0,0.890625 0.6875,1.625 1.609375,1.625 0.40625,0 0.828125,-0.109375 1.171875,-0.328125 z M 0.828125,-1.9375 C 0.984375,-2.5 1.40625,-2.734375 1.75,-2.734375 c 0.3125,0 0.765625,0.140625 0.890625,0.796875 z m 0,0\" style=\"stroke:none;stroke-width:0\" inkscape:connector-curvature=\"0\"/>\n          <path id=\"path30167\" transform=\"translate(161.86982,136.259)\" d=\"M 3.21875,-4.84375 H 2.640625 v 2.046875 C 2.1875,-3.125 1.734375,-3.15625 1.546875,-3.15625 0.8125,-3.15625 0.25,-2.4375 0.25,-1.546875 0.25,-0.65625 0.796875,0.0625 1.515625,0.0625 c 0.4375,0 0.84375,-0.1875 1.109375,-0.421875 V 0 H 3.21875 Z M 2.625,-0.859375 c -0.171875,0.28125 -0.4375,0.46875 -0.78125,0.46875 -0.484375,0 -0.984375,-0.34375 -0.984375,-1.15625 0,-0.859375 0.59375,-1.15625 1.0625,-1.15625 0.28125,0 0.515625,0.125 0.703125,0.359375 z m 0,0\" style=\"stroke:none;stroke-width:0\" inkscape:connector-curvature=\"0\"/>\n        </g>\n        <g id=\"g30173\" style=\"fill:#000000;fill-opacity:1\">\n          <path id=\"path30171\" transform=\"translate(166.194,134.765)\" d=\"m 6.84375,-3.265625 c 0.15625,0 0.34375,0 0.34375,-0.1875 C 7.1875,-3.65625 7,-3.65625 6.859375,-3.65625 h -5.96875 c -0.140625,0 -0.328125,0 -0.328125,0.203125 0,0.1875 0.1875,0.1875 0.328125,0.1875 z m 0.015625,1.9375 c 0.140625,0 0.328125,0 0.328125,-0.203125 0,-0.1875 -0.1875,-0.1875 -0.34375,-0.1875 H 0.890625 c -0.140625,0 -0.328125,0 -0.328125,0.1875 0,0.203125 0.1875,0.203125 0.328125,0.203125 z m 0,0\" style=\"stroke:none;stroke-width:0\" inkscape:connector-curvature=\"0\"/>\n        </g>\n      </g>\n    </g>\n    <g id=\"g30332\" ns0:jacobian_sqrt=\"0.479209\" inkscapeversion=\"0.92.4\" ns0:alignment=\"middle center\" ns0:scale=\"1.35838703176\" ns0:preamble=\"C:\\\\Users\\\\jmmau\\\\AppData\\\\Roaming\\\\inkscape\\\\extensions\\\\textext\\\\default_packages.tex\" ns0:text=\"$\\\\sf U$=\" ns0:pdfconverter=\"pdf2svg\" ns0:texconverter=\"pdflatex\" ns0:version=\"0.9.1\" transform=\"matrix(0.479209,0,0,0.479209,18.767893,-80.846008)\">\n      <g id=\"g30330\">\n        <g id=\"g30324\" style=\"fill:#000000;fill-opacity:1\">\n          <path id=\"path30322\" transform=\"translate(148.712,134.765)\" d=\"M 5.90625,-6.921875 H 5.140625 V -2.3125 c 0,1.3125 -0.84375,1.96875 -1.6875,1.96875 -0.8125,0 -1.625,-0.625 -1.625,-1.96875 V -6.921875 H 0.9375 v 4.59375 c 0,1.453125 1.171875,2.546875 2.515625,2.546875 1.328125,0 2.453125,-1.09375 2.453125,-2.546875 z m 0,0\" style=\"stroke:none;stroke-width:0\" inkscape:connector-curvature=\"0\"/>\n        </g>\n        <g id=\"g30328\" style=\"fill:#000000;fill-opacity:1\">\n          <path id=\"path30326\" transform=\"translate(155.562,134.765)\" d=\"m 6.84375,-3.265625 c 0.15625,0 0.34375,0 0.34375,-0.1875 C 7.1875,-3.65625 7,-3.65625 6.859375,-3.65625 h -5.96875 c -0.140625,0 -0.328125,0 -0.328125,0.203125 0,0.1875 0.1875,0.1875 0.328125,0.1875 z m 0.015625,1.9375 c 0.140625,0 0.328125,0 0.328125,-0.203125 0,-0.1875 -0.1875,-0.1875 -0.34375,-0.1875 H 0.890625 c -0.140625,0 -0.328125,0 -0.328125,0.1875 0,0.203125 0.1875,0.203125 0.328125,0.203125 z m 0,0\" style=\"stroke:none;stroke-width:0\" inkscape:connector-curvature=\"0\"/>\n        </g>\n      </g>\n    </g>\n    <text xml:space=\"preserve\" style=\"font-style:normal;font-variant:normal;font-weight:normal;font-stretch:normal;font-size:4.61350441px;line-height:1.25;font-family:'Latin Modern Sans';-inkscape-font-specification:'Latin Modern Sans';text-align:center;letter-spacing:0px;word-spacing:0px;text-anchor:middle;fill:#000000;fill-opacity:1;stroke:none;stroke-width:0.70397568\" x=\"105.43847\" y=\"-16.308502\" id=\"U_carga\" inkscape:label=\"#text20176\"><tspan sodipodi:role=\"line\" x=\"105.43847\" y=\"-16.308502\" style=\"font-style:normal;font-variant:normal;font-weight:normal;font-stretch:normal;font-family:'Lucida Console';-inkscape-font-specification:'Lucida Console';stroke-width:0.70397568\" id=\"tspan28562-6-6\">000 V</tspan></text>\n    <text xml:space=\"preserve\" style=\"font-style:normal;font-variant:normal;font-weight:normal;font-stretch:normal;font-size:4.03235197px;line-height:1.25;font-family:'Latin Modern Sans';-inkscape-font-specification:'Latin Modern Sans';text-align:center;letter-spacing:0px;word-spacing:0px;text-anchor:middle;fill:#000000;fill-opacity:1;stroke:none;stroke-width:0.6152975\" x=\"11.44358\" y=\"20.908615\" id=\"P_perd\" inkscape:label=\"#text20176\"><tspan sodipodi:role=\"line\" x=\"11.443579\" y=\"20.908615\" style=\"font-style:normal;font-variant:normal;font-weight:normal;font-stretch:normal;font-family:'Lucida Console';-inkscape-font-specification:'Lucida Console';stroke-width:0.6152975\" id=\"tspan28562-6-2\">00.0 kW</tspan></text>\n    <g id=\"g31458\" ns0:jacobian_sqrt=\"0.479209\" inkscapeversion=\"0.92.4\" ns0:alignment=\"middle center\" ns0:scale=\"1.35838703176\" ns0:preamble=\"C:\\\\Users\\\\jmmau\\\\AppData\\\\Roaming\\\\inkscape\\\\extensions\\\\textext\\\\default_packages.tex\" ns0:text=\"$\\\\sf P_{perd}$=\" ns0:pdfconverter=\"pdf2svg\" ns0:texconverter=\"pdflatex\" ns0:version=\"0.9.1\" transform=\"matrix(0.479209,0.000000,0.000000,0.479209,-81.953302,-43.750013)\">\n      <g id=\"g31456\">\n        <g id=\"g31438\" style=\"fill:rgb(0%,0%,0%);fill-opacity:1;\">\n          <path id=\"path31436\" transform=\"translate(148.712,134.765)\" d=\"M 3.515625 -2.875 C 4.75 -2.875 5.796875 -3.78125 5.796875 -4.90625 C 5.796875 -5.96875 4.8125 -6.921875 3.4375 -6.921875 L 0.953125 -6.921875 L 0.953125 0 L 1.84375 0 L 1.84375 -2.875 Z M 3.21875 -6.359375 C 4.3125 -6.359375 5 -5.75 5 -4.90625 C 5 -4.109375 4.359375 -3.453125 3.21875 -3.453125 L 1.8125 -3.453125 L 1.8125 -6.359375 Z M 3.21875 -6.359375 \" style=\"stroke:none;stroke-width:0\"/>\n        </g>\n        <g id=\"g31442\" style=\"fill:rgb(0%,0%,0%);fill-opacity:1;\">\n          <path id=\"path31440\" transform=\"translate(155.077,136.259)\" d=\"M 1.203125 -0.328125 C 1.5625 0 1.96875 0.0625 2.203125 0.0625 C 2.9375 0.0625 3.5625 -0.640625 3.5625 -1.546875 C 3.5625 -2.390625 3.109375 -3.15625 2.421875 -3.15625 C 2.109375 -3.15625 1.578125 -3.078125 1.171875 -2.765625 L 1.171875 -3.09375 L 0.59375 -3.09375 L 0.59375 1.359375 L 1.203125 1.359375 Z M 1.203125 -2.3125 C 1.359375 -2.515625 1.625 -2.6875 1.96875 -2.6875 C 2.515625 -2.6875 2.96875 -2.171875 2.96875 -1.546875 C 2.96875 -0.859375 2.4375 -0.390625 1.890625 -0.390625 C 1.796875 -0.390625 1.609375 -0.40625 1.4375 -0.546875 C 1.21875 -0.703125 1.203125 -0.8125 1.203125 -0.953125 Z M 1.203125 -2.3125 \" style=\"stroke:none;stroke-width:0\"/>\n        </g>\n        <g id=\"g31450\" style=\"fill:rgb(0%,0%,0%);fill-opacity:1;\">\n          <path id=\"path31444\" transform=\"translate(159.112041,136.259)\" d=\"M 3 -0.765625 C 2.609375 -0.484375 2.171875 -0.390625 1.875 -0.390625 C 1.265625 -0.390625 0.796875 -0.890625 0.78125 -1.53125 L 3.0625 -1.53125 C 3.0625 -1.84375 3.03125 -2.3125 2.765625 -2.703125 C 2.515625 -3.0625 2.09375 -3.203125 1.75 -3.203125 C 0.90625 -3.203125 0.25 -2.453125 0.25 -1.5625 C 0.25 -0.671875 0.9375 0.0625 1.859375 0.0625 C 2.265625 0.0625 2.6875 -0.046875 3.03125 -0.265625 Z M 0.828125 -1.9375 C 0.984375 -2.5 1.40625 -2.734375 1.75 -2.734375 C 2.0625 -2.734375 2.515625 -2.59375 2.640625 -1.9375 Z M 0.828125 -1.9375 \" style=\"stroke:none;stroke-width:0\"/>\n          <path id=\"path31446\" transform=\"translate(162.405069,136.259)\" d=\"M 1.171875 -1.484375 C 1.171875 -2.234375 1.8125 -2.640625 2.421875 -2.640625 L 2.421875 -3.15625 C 1.828125 -3.15625 1.40625 -2.875 1.125 -2.5 L 1.125 -3.140625 L 0.59375 -3.140625 L 0.59375 0 L 1.171875 0 Z M 1.171875 -1.484375 \" style=\"stroke:none;stroke-width:0\"/>\n          <path id=\"path31448\" transform=\"translate(164.935861,136.259)\" d=\"M 3.21875 -4.84375 L 2.640625 -4.84375 L 2.640625 -2.796875 C 2.1875 -3.125 1.734375 -3.15625 1.546875 -3.15625 C 0.8125 -3.15625 0.25 -2.4375 0.25 -1.546875 C 0.25 -0.65625 0.796875 0.0625 1.515625 0.0625 C 1.953125 0.0625 2.359375 -0.125 2.625 -0.359375 L 2.625 0 L 3.21875 0 Z M 2.625 -0.859375 C 2.453125 -0.578125 2.1875 -0.390625 1.84375 -0.390625 C 1.359375 -0.390625 0.859375 -0.734375 0.859375 -1.546875 C 0.859375 -2.40625 1.453125 -2.703125 1.921875 -2.703125 C 2.203125 -2.703125 2.4375 -2.578125 2.625 -2.34375 Z M 2.625 -0.859375 \" style=\"stroke:none;stroke-width:0\"/>\n        </g>\n        <g id=\"g31454\" style=\"fill:rgb(0%,0%,0%);fill-opacity:1;\">\n          <path id=\"path31452\" transform=\"translate(169.257,134.765)\" d=\"M 6.84375 -3.265625 C 7 -3.265625 7.1875 -3.265625 7.1875 -3.453125 C 7.1875 -3.65625 7 -3.65625 6.859375 -3.65625 L 0.890625 -3.65625 C 0.75 -3.65625 0.5625 -3.65625 0.5625 -3.453125 C 0.5625 -3.265625 0.75 -3.265625 0.890625 -3.265625 Z M 6.859375 -1.328125 C 7 -1.328125 7.1875 -1.328125 7.1875 -1.53125 C 7.1875 -1.71875 7 -1.71875 6.84375 -1.71875 L 0.890625 -1.71875 C 0.75 -1.71875 0.5625 -1.71875 0.5625 -1.53125 C 0.5625 -1.328125 0.75 -1.328125 0.890625 -1.328125 Z M 6.859375 -1.328125 \" style=\"stroke:none;stroke-width:0\"/>\n        </g>\n      </g>\n    </g>\n    <text xml:space=\"preserve\" style=\"font-style:normal;font-variant:normal;font-weight:normal;font-stretch:normal;font-size:3.57188439px;line-height:1.25;font-family:'Latin Modern Sans';-inkscape-font-specification:'Latin Modern Sans';text-align:center;letter-spacing:0px;word-spacing:0px;text-anchor:middle;fill:#000000;fill-opacity:1;stroke:none;stroke-width:0.54503465\" x=\"58.586636\" y=\"15.915075\" id=\"Q_cap\" inkscape:label=\"#text20176\"><tspan sodipodi:role=\"line\" x=\"58.586636\" y=\"15.915075\" style=\"font-style:normal;font-variant:normal;font-weight:normal;font-stretch:normal;font-family:'Lucida Console';-inkscape-font-specification:'Lucida Console';stroke-width:0.54503465\" id=\"tspan28562-6-5\"> -00 kvar</tspan></text>\n    <g id=\"g31659\" ns0:jacobian_sqrt=\"0.479209\" inkscapeversion=\"0.92.4\" ns0:alignment=\"middle center\" ns0:scale=\"1.35838703176\" ns0:preamble=\"C:\\\\Users\\\\jmmau\\\\AppData\\\\Roaming\\\\inkscape\\\\extensions\\\\textext\\\\default_packages.tex\" ns0:text=\"$\\\\sf Q_{cap}$=\" ns0:pdfconverter=\"pdf2svg\" ns0:texconverter=\"pdflatex\" ns0:version=\"0.9.1\" transform=\"matrix(0.39884084,0,0,0.39884084,-21.100465,-37.92913)\">\n      <g id=\"g31657\">\n        <g id=\"g31643\" style=\"fill:#000000;fill-opacity:1\">\n          <path id=\"path31641\" transform=\"translate(148.712,134.765)\" d=\"m 5.3125,-0.328125 c 1.09375,-0.84375 1.453125,-2.0625 1.453125,-3.109375 0,-2.09375 -1.4375,-3.703125 -3.09375,-3.703125 -1.703125,0 -3.109375,1.625 -3.109375,3.703125 0,2.109375 1.46875,3.65625 3.09375,3.65625 0.15625,0 0.53125,-0.015625 0.953125,-0.171875 L 5.46875,1.25 H 6.5 Z m -1.078125,-0.1875 c -0.015625,0 -0.28125,0.09375 -0.5625,0.09375 -1.171875,0 -2.25,-1.15625 -2.25,-3.015625 C 1.421875,-5.296875 2.5,-6.5 3.65625,-6.5 c 1.203125,0 2.25,1.21875 2.25,3.0625 0,0.640625 -0.109375,1.734375 -1.015625,2.546875 L 4.109375,-1.9375 H 3.21875 Z m 0,0\" style=\"stroke:none;stroke-width:0\" inkscape:connector-curvature=\"0\"/>\n        </g>\n        <g id=\"g31651\" style=\"fill:#000000;fill-opacity:1\">\n          <path id=\"path31645\" transform=\"translate(156.046,136.259)\" d=\"M 3.03125,-0.765625 C 2.6875,-0.53125 2.3125,-0.40625 1.875,-0.40625 c -0.640625,0 -1.015625,-0.515625 -1.015625,-1.140625 0,-0.546875 0.28125,-1.171875 1.03125,-1.171875 0.484375,0 0.703125,0.09375 1.0625,0.328125 L 3.03125,-2.90625 C 2.625,-3.109375 2.4375,-3.203125 1.890625,-3.203125 c -1.046875,0 -1.640625,0.84375 -1.640625,1.65625 0,0.84375 0.671875,1.609375 1.625,1.609375 0.484375,0 0.90625,-0.140625 1.203125,-0.3125 z m 0,0\" style=\"stroke:none;stroke-width:0\" inkscape:connector-curvature=\"0\"/>\n          <path id=\"path31647\" transform=\"translate(159.33903,136.259)\" d=\"m 2.96875,-2 c 0,-0.71875 -0.546875,-1.203125 -1.234375,-1.203125 -0.4375,0 -0.765625,0.09375 -1.15625,0.296875 l 0.03125,0.515625 C 0.84375,-2.546875 1.1875,-2.75 1.734375,-2.75 c 0.3125,0 0.625,0.234375 0.625,0.75 v 0.28125 C 1.328125,-1.6875 0.3125,-1.46875 0.3125,-0.828125 0.3125,-0.46875 0.546875,0.0625 1.15625,0.0625 1.46875,0.0625 2.015625,0 2.390625,-0.265625 V 0 H 2.96875 Z m -0.609375,1.015625 c 0,0.140625 0,0.3125 -0.234375,0.46875 -0.234375,0.125 -0.5,0.125 -0.578125,0.125 -0.390625,0 -0.671875,-0.171875 -0.671875,-0.4375 0,-0.453125 1.171875,-0.484375 1.484375,-0.5 z m 0,0\" style=\"stroke:none;stroke-width:0\" inkscape:connector-curvature=\"0\"/>\n          <path id=\"path31649\" transform=\"translate(162.89846,136.259)\" d=\"M 1.203125,-0.328125 C 1.5625,0 1.96875,0.0625 2.203125,0.0625 2.9375,0.0625 3.5625,-0.640625 3.5625,-1.546875 c 0,-0.84375 -0.453125,-1.609375 -1.140625,-1.609375 -0.3125,0 -0.84375,0.078125 -1.25,0.390625 V -3.09375 H 0.59375 v 4.453125 h 0.609375 z m 0,-1.984375 c 0.15625,-0.203125 0.421875,-0.375 0.765625,-0.375 0.546875,0 1,0.515625 1,1.140625 0,0.6875 -0.53125,1.15625 -1.078125,1.15625 -0.09375,0 -0.28125,-0.015625 -0.453125,-0.15625 C 1.21875,-0.703125 1.203125,-0.8125 1.203125,-0.953125 Z m 0,0\" style=\"stroke:none;stroke-width:0\" inkscape:connector-curvature=\"0\"/>\n        </g>\n        <g id=\"g31655\" style=\"fill:#000000;fill-opacity:1\">\n          <path id=\"path31653\" transform=\"translate(167.223,134.765)\" d=\"m 6.84375,-3.265625 c 0.15625,0 0.34375,0 0.34375,-0.1875 C 7.1875,-3.65625 7,-3.65625 6.859375,-3.65625 h -5.96875 c -0.140625,0 -0.328125,0 -0.328125,0.203125 0,0.1875 0.1875,0.1875 0.328125,0.1875 z m 0.015625,1.9375 c 0.140625,0 0.328125,0 0.328125,-0.203125 0,-0.1875 -0.1875,-0.1875 -0.34375,-0.1875 H 0.890625 c -0.140625,0 -0.328125,0 -0.328125,0.1875 0,0.203125 0.1875,0.203125 0.328125,0.203125 z m 0,0\" style=\"stroke:none;stroke-width:0\" inkscape:connector-curvature=\"0\"/>\n        </g>\n      </g>\n    </g>\n    <path style=\"opacity:1;vector-effect:none;fill:none;fill-opacity:1;stroke:#000000;stroke-width:0.68431467;stroke-linecap:round;stroke-linejoin:round;stroke-miterlimit:4;stroke-dasharray:none;stroke-dashoffset:0;stroke-opacity:1\" d=\"m 73.907268,15.947546 v 8.563529\" id=\"path20686-1-3-1-0-8\" inkscape:connector-curvature=\"0\" inkscape:export-filename=\"C:\\Users\\Patricia\\Desktop\\bitmap.png\" inkscape:export-xdpi=\"300\" inkscape:export-ydpi=\"300\"/>\n  </g>\n</svg>"
      }
     },
     "f4d850b06c06476698b6a2d545a9b4ff": {
      "model_module": "@jupyter-widgets/controls",
      "model_module_version": "1.4.0",
      "model_name": "HBoxModel",
      "state": {
       "children": [
        "IPY_MODEL_9f01feac871749f1ac8f46f3608ea44d",
        "IPY_MODEL_cfd991a06e8b4f4986cd3182b189cb98"
       ],
       "layout": "IPY_MODEL_9ef8a0c685fc421b87b4e98aa260f169"
      }
     },
     "f6f82d40dbf048609629223931683d34": {
      "model_module": "@jupyter-widgets/controls",
      "model_module_version": "1.4.0",
      "model_name": "VBoxModel",
      "state": {
       "children": [
        "IPY_MODEL_75828bd1bff54ff1a20ccd32e4644eb3",
        "IPY_MODEL_7f42be0cea25407dadfa899b2b065e25",
        "IPY_MODEL_774f6521701d4894ade1610d82f03bc2",
        "IPY_MODEL_419d31ea6ff9484cabc32f0ec92dde41"
       ],
       "layout": "IPY_MODEL_a7ae3afc72254206879af02e3af16862"
      }
     },
     "f7890aaa495d455db9da0560134b12df": {
      "model_module": "@jupyter-widgets/base",
      "model_module_version": "1.1.0",
      "model_name": "LayoutModel",
      "state": {}
     },
     "fa75a71447e248e38032e21b223bd2dc": {
      "model_module": "@jupyter-widgets/base",
      "model_module_version": "1.1.0",
      "model_name": "LayoutModel",
      "state": {}
     },
     "fd15630a0bfb4aeea430ac10f9b1dd0c": {
      "model_module": "@jupyter-widgets/controls",
      "model_module_version": "1.4.0",
      "model_name": "DescriptionStyleModel",
      "state": {
       "description_width": ""
      }
     }
    },
    "version_major": 2,
    "version_minor": 0
   }
  }
 },
 "nbformat": 4,
 "nbformat_minor": 1
}
